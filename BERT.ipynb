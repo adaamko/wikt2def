{
 "cells": [
  {
   "cell_type": "code",
   "execution_count": 26,
   "metadata": {},
   "outputs": [],
   "source": [
    "from dotenv import load_dotenv \n",
    "load_dotenv()\n",
    "\n",
    "from fourlang.text_to_4lang import TextTo4lang\n",
    "from fourlang.lexicon import Lexicon\n",
    "from graphviz import Source\n",
    "from scripts.parse_data import read_sherliic, build_graph\n",
    "from scripts.similarity import Similarity\n",
    "\n",
    "from tqdm import tqdm\n",
    "preds = []\n",
    "data = read_sherliic(\"data/test.csv\", ud_path=\"data/relation_index.tsv\", keep_context=True)\n",
    "data_frame = build_graph(data)"
   ]
  },
  {
   "cell_type": "code",
   "execution_count": 27,
   "metadata": {},
   "outputs": [],
   "source": [
    "data_frame[\"examples_A\"] = data[\"examples_A\"]\n",
    "data_frame[\"examples_B\"] = data[\"examples_B\"]"
   ]
  },
  {
   "cell_type": "code",
   "execution_count": 28,
   "metadata": {},
   "outputs": [],
   "source": [
    "data[\"prem_end\"] = data[\"prem_end\"].fillna('')\n",
    "data[\"hypo_end\"] = data[\"hypo_end\"].fillna('')\n",
    "data['premise_text'] = data[\"prem_argleft\"] + \" \" + data[\"premise\"].apply(lambda x: x.strip()) + \" \" + data[\"prem_argright\"] + data[\"prem_end\"]\n",
    "data['hyp_text'] = data[\"hypo_argleft\"] + \" \" + data[\"hypothesis\"].apply(lambda x: x.strip()) + \" \" + data[\"hypo_argright\"] + data[\"hypo_end\"]"
   ]
  },
  {
   "cell_type": "code",
   "execution_count": 29,
   "metadata": {},
   "outputs": [],
   "source": [
    "premise_texts = []\n",
    "hyp_texts = []\n",
    "\n",
    "for i, prem_text in enumerate(data[\"premise_text\"]):\n",
    "    example_A = data.iloc[i][\"examples_A\"].split(\"/\")[0].strip()\n",
    "    text = prem_text.replace(\"A\", example_A)\n",
    "    example_B = data.iloc[i][\"examples_B\"].split(\"/\")[0].strip()\n",
    "    text = text.replace(\"B\", example_B)\n",
    "    premise_texts.append(text)\n",
    "    \n",
    "for i, prem_text in enumerate(data[\"hyp_text\"]):\n",
    "    example_A = data.iloc[i][\"examples_A\"].split(\"/\")[0].strip()\n",
    "    text = prem_text.replace(\"A\", example_A)\n",
    "    example_B = data.iloc[i][\"examples_B\"].split(\"/\")[0].strip()\n",
    "    text = text.replace(\"B\", example_B)\n",
    "    hyp_texts.append(text)"
   ]
  },
  {
   "cell_type": "code",
   "execution_count": 30,
   "metadata": {},
   "outputs": [],
   "source": [
    "data[\"premise_text\"] = premise_texts\n",
    "data[\"hyp_text\"] = hyp_texts"
   ]
  },
  {
   "cell_type": "code",
   "execution_count": 31,
   "metadata": {},
   "outputs": [
    {
     "name": "stderr",
     "output_type": "stream",
     "text": [
      "Using cache found in /home/adaamko/.cache/torch/hub/pytorch_fairseq_master\n"
     ]
    },
    {
     "data": {
      "text/plain": [
       "RobertaHubInterface(\n",
       "  (model): RobertaModel(\n",
       "    (encoder): RobertaEncoder(\n",
       "      (sentence_encoder): TransformerSentenceEncoder(\n",
       "        (dropout_module): FairseqDropout()\n",
       "        (embed_tokens): Embedding(50265, 1024, padding_idx=1)\n",
       "        (embed_positions): LearnedPositionalEmbedding(514, 1024, padding_idx=1)\n",
       "        (layers): ModuleList(\n",
       "          (0): TransformerSentenceEncoderLayer(\n",
       "            (dropout_module): FairseqDropout()\n",
       "            (activation_dropout_module): FairseqDropout()\n",
       "            (self_attn): MultiheadAttention(\n",
       "              (dropout_module): FairseqDropout()\n",
       "              (k_proj): Linear(in_features=1024, out_features=1024, bias=True)\n",
       "              (v_proj): Linear(in_features=1024, out_features=1024, bias=True)\n",
       "              (q_proj): Linear(in_features=1024, out_features=1024, bias=True)\n",
       "              (out_proj): Linear(in_features=1024, out_features=1024, bias=True)\n",
       "            )\n",
       "            (self_attn_layer_norm): LayerNorm((1024,), eps=1e-05, elementwise_affine=True)\n",
       "            (fc1): Linear(in_features=1024, out_features=4096, bias=True)\n",
       "            (fc2): Linear(in_features=4096, out_features=1024, bias=True)\n",
       "            (final_layer_norm): LayerNorm((1024,), eps=1e-05, elementwise_affine=True)\n",
       "          )\n",
       "          (1): TransformerSentenceEncoderLayer(\n",
       "            (dropout_module): FairseqDropout()\n",
       "            (activation_dropout_module): FairseqDropout()\n",
       "            (self_attn): MultiheadAttention(\n",
       "              (dropout_module): FairseqDropout()\n",
       "              (k_proj): Linear(in_features=1024, out_features=1024, bias=True)\n",
       "              (v_proj): Linear(in_features=1024, out_features=1024, bias=True)\n",
       "              (q_proj): Linear(in_features=1024, out_features=1024, bias=True)\n",
       "              (out_proj): Linear(in_features=1024, out_features=1024, bias=True)\n",
       "            )\n",
       "            (self_attn_layer_norm): LayerNorm((1024,), eps=1e-05, elementwise_affine=True)\n",
       "            (fc1): Linear(in_features=1024, out_features=4096, bias=True)\n",
       "            (fc2): Linear(in_features=4096, out_features=1024, bias=True)\n",
       "            (final_layer_norm): LayerNorm((1024,), eps=1e-05, elementwise_affine=True)\n",
       "          )\n",
       "          (2): TransformerSentenceEncoderLayer(\n",
       "            (dropout_module): FairseqDropout()\n",
       "            (activation_dropout_module): FairseqDropout()\n",
       "            (self_attn): MultiheadAttention(\n",
       "              (dropout_module): FairseqDropout()\n",
       "              (k_proj): Linear(in_features=1024, out_features=1024, bias=True)\n",
       "              (v_proj): Linear(in_features=1024, out_features=1024, bias=True)\n",
       "              (q_proj): Linear(in_features=1024, out_features=1024, bias=True)\n",
       "              (out_proj): Linear(in_features=1024, out_features=1024, bias=True)\n",
       "            )\n",
       "            (self_attn_layer_norm): LayerNorm((1024,), eps=1e-05, elementwise_affine=True)\n",
       "            (fc1): Linear(in_features=1024, out_features=4096, bias=True)\n",
       "            (fc2): Linear(in_features=4096, out_features=1024, bias=True)\n",
       "            (final_layer_norm): LayerNorm((1024,), eps=1e-05, elementwise_affine=True)\n",
       "          )\n",
       "          (3): TransformerSentenceEncoderLayer(\n",
       "            (dropout_module): FairseqDropout()\n",
       "            (activation_dropout_module): FairseqDropout()\n",
       "            (self_attn): MultiheadAttention(\n",
       "              (dropout_module): FairseqDropout()\n",
       "              (k_proj): Linear(in_features=1024, out_features=1024, bias=True)\n",
       "              (v_proj): Linear(in_features=1024, out_features=1024, bias=True)\n",
       "              (q_proj): Linear(in_features=1024, out_features=1024, bias=True)\n",
       "              (out_proj): Linear(in_features=1024, out_features=1024, bias=True)\n",
       "            )\n",
       "            (self_attn_layer_norm): LayerNorm((1024,), eps=1e-05, elementwise_affine=True)\n",
       "            (fc1): Linear(in_features=1024, out_features=4096, bias=True)\n",
       "            (fc2): Linear(in_features=4096, out_features=1024, bias=True)\n",
       "            (final_layer_norm): LayerNorm((1024,), eps=1e-05, elementwise_affine=True)\n",
       "          )\n",
       "          (4): TransformerSentenceEncoderLayer(\n",
       "            (dropout_module): FairseqDropout()\n",
       "            (activation_dropout_module): FairseqDropout()\n",
       "            (self_attn): MultiheadAttention(\n",
       "              (dropout_module): FairseqDropout()\n",
       "              (k_proj): Linear(in_features=1024, out_features=1024, bias=True)\n",
       "              (v_proj): Linear(in_features=1024, out_features=1024, bias=True)\n",
       "              (q_proj): Linear(in_features=1024, out_features=1024, bias=True)\n",
       "              (out_proj): Linear(in_features=1024, out_features=1024, bias=True)\n",
       "            )\n",
       "            (self_attn_layer_norm): LayerNorm((1024,), eps=1e-05, elementwise_affine=True)\n",
       "            (fc1): Linear(in_features=1024, out_features=4096, bias=True)\n",
       "            (fc2): Linear(in_features=4096, out_features=1024, bias=True)\n",
       "            (final_layer_norm): LayerNorm((1024,), eps=1e-05, elementwise_affine=True)\n",
       "          )\n",
       "          (5): TransformerSentenceEncoderLayer(\n",
       "            (dropout_module): FairseqDropout()\n",
       "            (activation_dropout_module): FairseqDropout()\n",
       "            (self_attn): MultiheadAttention(\n",
       "              (dropout_module): FairseqDropout()\n",
       "              (k_proj): Linear(in_features=1024, out_features=1024, bias=True)\n",
       "              (v_proj): Linear(in_features=1024, out_features=1024, bias=True)\n",
       "              (q_proj): Linear(in_features=1024, out_features=1024, bias=True)\n",
       "              (out_proj): Linear(in_features=1024, out_features=1024, bias=True)\n",
       "            )\n",
       "            (self_attn_layer_norm): LayerNorm((1024,), eps=1e-05, elementwise_affine=True)\n",
       "            (fc1): Linear(in_features=1024, out_features=4096, bias=True)\n",
       "            (fc2): Linear(in_features=4096, out_features=1024, bias=True)\n",
       "            (final_layer_norm): LayerNorm((1024,), eps=1e-05, elementwise_affine=True)\n",
       "          )\n",
       "          (6): TransformerSentenceEncoderLayer(\n",
       "            (dropout_module): FairseqDropout()\n",
       "            (activation_dropout_module): FairseqDropout()\n",
       "            (self_attn): MultiheadAttention(\n",
       "              (dropout_module): FairseqDropout()\n",
       "              (k_proj): Linear(in_features=1024, out_features=1024, bias=True)\n",
       "              (v_proj): Linear(in_features=1024, out_features=1024, bias=True)\n",
       "              (q_proj): Linear(in_features=1024, out_features=1024, bias=True)\n",
       "              (out_proj): Linear(in_features=1024, out_features=1024, bias=True)\n",
       "            )\n",
       "            (self_attn_layer_norm): LayerNorm((1024,), eps=1e-05, elementwise_affine=True)\n",
       "            (fc1): Linear(in_features=1024, out_features=4096, bias=True)\n",
       "            (fc2): Linear(in_features=4096, out_features=1024, bias=True)\n",
       "            (final_layer_norm): LayerNorm((1024,), eps=1e-05, elementwise_affine=True)\n",
       "          )\n",
       "          (7): TransformerSentenceEncoderLayer(\n",
       "            (dropout_module): FairseqDropout()\n",
       "            (activation_dropout_module): FairseqDropout()\n",
       "            (self_attn): MultiheadAttention(\n",
       "              (dropout_module): FairseqDropout()\n",
       "              (k_proj): Linear(in_features=1024, out_features=1024, bias=True)\n",
       "              (v_proj): Linear(in_features=1024, out_features=1024, bias=True)\n",
       "              (q_proj): Linear(in_features=1024, out_features=1024, bias=True)\n",
       "              (out_proj): Linear(in_features=1024, out_features=1024, bias=True)\n",
       "            )\n",
       "            (self_attn_layer_norm): LayerNorm((1024,), eps=1e-05, elementwise_affine=True)\n",
       "            (fc1): Linear(in_features=1024, out_features=4096, bias=True)\n",
       "            (fc2): Linear(in_features=4096, out_features=1024, bias=True)\n",
       "            (final_layer_norm): LayerNorm((1024,), eps=1e-05, elementwise_affine=True)\n",
       "          )\n",
       "          (8): TransformerSentenceEncoderLayer(\n",
       "            (dropout_module): FairseqDropout()\n",
       "            (activation_dropout_module): FairseqDropout()\n",
       "            (self_attn): MultiheadAttention(\n",
       "              (dropout_module): FairseqDropout()\n",
       "              (k_proj): Linear(in_features=1024, out_features=1024, bias=True)\n",
       "              (v_proj): Linear(in_features=1024, out_features=1024, bias=True)\n",
       "              (q_proj): Linear(in_features=1024, out_features=1024, bias=True)\n",
       "              (out_proj): Linear(in_features=1024, out_features=1024, bias=True)\n",
       "            )\n",
       "            (self_attn_layer_norm): LayerNorm((1024,), eps=1e-05, elementwise_affine=True)\n",
       "            (fc1): Linear(in_features=1024, out_features=4096, bias=True)\n",
       "            (fc2): Linear(in_features=4096, out_features=1024, bias=True)\n",
       "            (final_layer_norm): LayerNorm((1024,), eps=1e-05, elementwise_affine=True)\n",
       "          )\n",
       "          (9): TransformerSentenceEncoderLayer(\n",
       "            (dropout_module): FairseqDropout()\n",
       "            (activation_dropout_module): FairseqDropout()\n",
       "            (self_attn): MultiheadAttention(\n",
       "              (dropout_module): FairseqDropout()\n",
       "              (k_proj): Linear(in_features=1024, out_features=1024, bias=True)\n",
       "              (v_proj): Linear(in_features=1024, out_features=1024, bias=True)\n",
       "              (q_proj): Linear(in_features=1024, out_features=1024, bias=True)\n",
       "              (out_proj): Linear(in_features=1024, out_features=1024, bias=True)\n",
       "            )\n",
       "            (self_attn_layer_norm): LayerNorm((1024,), eps=1e-05, elementwise_affine=True)\n",
       "            (fc1): Linear(in_features=1024, out_features=4096, bias=True)\n",
       "            (fc2): Linear(in_features=4096, out_features=1024, bias=True)\n",
       "            (final_layer_norm): LayerNorm((1024,), eps=1e-05, elementwise_affine=True)\n",
       "          )\n",
       "          (10): TransformerSentenceEncoderLayer(\n",
       "            (dropout_module): FairseqDropout()\n",
       "            (activation_dropout_module): FairseqDropout()\n",
       "            (self_attn): MultiheadAttention(\n",
       "              (dropout_module): FairseqDropout()\n",
       "              (k_proj): Linear(in_features=1024, out_features=1024, bias=True)\n",
       "              (v_proj): Linear(in_features=1024, out_features=1024, bias=True)\n",
       "              (q_proj): Linear(in_features=1024, out_features=1024, bias=True)\n",
       "              (out_proj): Linear(in_features=1024, out_features=1024, bias=True)\n",
       "            )\n",
       "            (self_attn_layer_norm): LayerNorm((1024,), eps=1e-05, elementwise_affine=True)\n",
       "            (fc1): Linear(in_features=1024, out_features=4096, bias=True)\n",
       "            (fc2): Linear(in_features=4096, out_features=1024, bias=True)\n",
       "            (final_layer_norm): LayerNorm((1024,), eps=1e-05, elementwise_affine=True)\n",
       "          )\n",
       "          (11): TransformerSentenceEncoderLayer(\n",
       "            (dropout_module): FairseqDropout()\n",
       "            (activation_dropout_module): FairseqDropout()\n",
       "            (self_attn): MultiheadAttention(\n",
       "              (dropout_module): FairseqDropout()\n",
       "              (k_proj): Linear(in_features=1024, out_features=1024, bias=True)\n",
       "              (v_proj): Linear(in_features=1024, out_features=1024, bias=True)\n",
       "              (q_proj): Linear(in_features=1024, out_features=1024, bias=True)\n",
       "              (out_proj): Linear(in_features=1024, out_features=1024, bias=True)\n",
       "            )\n",
       "            (self_attn_layer_norm): LayerNorm((1024,), eps=1e-05, elementwise_affine=True)\n",
       "            (fc1): Linear(in_features=1024, out_features=4096, bias=True)\n",
       "            (fc2): Linear(in_features=4096, out_features=1024, bias=True)\n",
       "            (final_layer_norm): LayerNorm((1024,), eps=1e-05, elementwise_affine=True)\n",
       "          )\n",
       "          (12): TransformerSentenceEncoderLayer(\n",
       "            (dropout_module): FairseqDropout()\n",
       "            (activation_dropout_module): FairseqDropout()\n",
       "            (self_attn): MultiheadAttention(\n",
       "              (dropout_module): FairseqDropout()\n",
       "              (k_proj): Linear(in_features=1024, out_features=1024, bias=True)\n",
       "              (v_proj): Linear(in_features=1024, out_features=1024, bias=True)\n",
       "              (q_proj): Linear(in_features=1024, out_features=1024, bias=True)\n",
       "              (out_proj): Linear(in_features=1024, out_features=1024, bias=True)\n",
       "            )\n",
       "            (self_attn_layer_norm): LayerNorm((1024,), eps=1e-05, elementwise_affine=True)\n",
       "            (fc1): Linear(in_features=1024, out_features=4096, bias=True)\n",
       "            (fc2): Linear(in_features=4096, out_features=1024, bias=True)\n",
       "            (final_layer_norm): LayerNorm((1024,), eps=1e-05, elementwise_affine=True)\n",
       "          )\n",
       "          (13): TransformerSentenceEncoderLayer(\n",
       "            (dropout_module): FairseqDropout()\n",
       "            (activation_dropout_module): FairseqDropout()\n",
       "            (self_attn): MultiheadAttention(\n",
       "              (dropout_module): FairseqDropout()\n",
       "              (k_proj): Linear(in_features=1024, out_features=1024, bias=True)\n",
       "              (v_proj): Linear(in_features=1024, out_features=1024, bias=True)\n",
       "              (q_proj): Linear(in_features=1024, out_features=1024, bias=True)\n",
       "              (out_proj): Linear(in_features=1024, out_features=1024, bias=True)\n",
       "            )\n",
       "            (self_attn_layer_norm): LayerNorm((1024,), eps=1e-05, elementwise_affine=True)\n",
       "            (fc1): Linear(in_features=1024, out_features=4096, bias=True)\n",
       "            (fc2): Linear(in_features=4096, out_features=1024, bias=True)\n",
       "            (final_layer_norm): LayerNorm((1024,), eps=1e-05, elementwise_affine=True)\n",
       "          )\n",
       "          (14): TransformerSentenceEncoderLayer(\n",
       "            (dropout_module): FairseqDropout()\n",
       "            (activation_dropout_module): FairseqDropout()\n",
       "            (self_attn): MultiheadAttention(\n",
       "              (dropout_module): FairseqDropout()\n",
       "              (k_proj): Linear(in_features=1024, out_features=1024, bias=True)\n",
       "              (v_proj): Linear(in_features=1024, out_features=1024, bias=True)\n",
       "              (q_proj): Linear(in_features=1024, out_features=1024, bias=True)\n",
       "              (out_proj): Linear(in_features=1024, out_features=1024, bias=True)\n",
       "            )\n",
       "            (self_attn_layer_norm): LayerNorm((1024,), eps=1e-05, elementwise_affine=True)\n",
       "            (fc1): Linear(in_features=1024, out_features=4096, bias=True)\n",
       "            (fc2): Linear(in_features=4096, out_features=1024, bias=True)\n",
       "            (final_layer_norm): LayerNorm((1024,), eps=1e-05, elementwise_affine=True)\n",
       "          )\n",
       "          (15): TransformerSentenceEncoderLayer(\n",
       "            (dropout_module): FairseqDropout()\n",
       "            (activation_dropout_module): FairseqDropout()\n",
       "            (self_attn): MultiheadAttention(\n",
       "              (dropout_module): FairseqDropout()\n",
       "              (k_proj): Linear(in_features=1024, out_features=1024, bias=True)\n",
       "              (v_proj): Linear(in_features=1024, out_features=1024, bias=True)\n",
       "              (q_proj): Linear(in_features=1024, out_features=1024, bias=True)\n",
       "              (out_proj): Linear(in_features=1024, out_features=1024, bias=True)\n",
       "            )\n",
       "            (self_attn_layer_norm): LayerNorm((1024,), eps=1e-05, elementwise_affine=True)\n",
       "            (fc1): Linear(in_features=1024, out_features=4096, bias=True)\n",
       "            (fc2): Linear(in_features=4096, out_features=1024, bias=True)\n",
       "            (final_layer_norm): LayerNorm((1024,), eps=1e-05, elementwise_affine=True)\n",
       "          )\n",
       "          (16): TransformerSentenceEncoderLayer(\n",
       "            (dropout_module): FairseqDropout()\n",
       "            (activation_dropout_module): FairseqDropout()\n",
       "            (self_attn): MultiheadAttention(\n",
       "              (dropout_module): FairseqDropout()\n",
       "              (k_proj): Linear(in_features=1024, out_features=1024, bias=True)\n",
       "              (v_proj): Linear(in_features=1024, out_features=1024, bias=True)\n",
       "              (q_proj): Linear(in_features=1024, out_features=1024, bias=True)\n",
       "              (out_proj): Linear(in_features=1024, out_features=1024, bias=True)\n",
       "            )\n",
       "            (self_attn_layer_norm): LayerNorm((1024,), eps=1e-05, elementwise_affine=True)\n",
       "            (fc1): Linear(in_features=1024, out_features=4096, bias=True)\n",
       "            (fc2): Linear(in_features=4096, out_features=1024, bias=True)\n",
       "            (final_layer_norm): LayerNorm((1024,), eps=1e-05, elementwise_affine=True)\n",
       "          )\n",
       "          (17): TransformerSentenceEncoderLayer(\n",
       "            (dropout_module): FairseqDropout()\n",
       "            (activation_dropout_module): FairseqDropout()\n",
       "            (self_attn): MultiheadAttention(\n",
       "              (dropout_module): FairseqDropout()\n",
       "              (k_proj): Linear(in_features=1024, out_features=1024, bias=True)\n",
       "              (v_proj): Linear(in_features=1024, out_features=1024, bias=True)\n",
       "              (q_proj): Linear(in_features=1024, out_features=1024, bias=True)\n",
       "              (out_proj): Linear(in_features=1024, out_features=1024, bias=True)\n",
       "            )\n",
       "            (self_attn_layer_norm): LayerNorm((1024,), eps=1e-05, elementwise_affine=True)\n",
       "            (fc1): Linear(in_features=1024, out_features=4096, bias=True)\n",
       "            (fc2): Linear(in_features=4096, out_features=1024, bias=True)\n",
       "            (final_layer_norm): LayerNorm((1024,), eps=1e-05, elementwise_affine=True)\n",
       "          )\n",
       "          (18): TransformerSentenceEncoderLayer(\n",
       "            (dropout_module): FairseqDropout()\n",
       "            (activation_dropout_module): FairseqDropout()\n",
       "            (self_attn): MultiheadAttention(\n",
       "              (dropout_module): FairseqDropout()\n",
       "              (k_proj): Linear(in_features=1024, out_features=1024, bias=True)\n",
       "              (v_proj): Linear(in_features=1024, out_features=1024, bias=True)\n",
       "              (q_proj): Linear(in_features=1024, out_features=1024, bias=True)\n",
       "              (out_proj): Linear(in_features=1024, out_features=1024, bias=True)\n",
       "            )\n",
       "            (self_attn_layer_norm): LayerNorm((1024,), eps=1e-05, elementwise_affine=True)\n",
       "            (fc1): Linear(in_features=1024, out_features=4096, bias=True)\n",
       "            (fc2): Linear(in_features=4096, out_features=1024, bias=True)\n",
       "            (final_layer_norm): LayerNorm((1024,), eps=1e-05, elementwise_affine=True)\n",
       "          )\n",
       "          (19): TransformerSentenceEncoderLayer(\n",
       "            (dropout_module): FairseqDropout()\n",
       "            (activation_dropout_module): FairseqDropout()\n",
       "            (self_attn): MultiheadAttention(\n",
       "              (dropout_module): FairseqDropout()\n",
       "              (k_proj): Linear(in_features=1024, out_features=1024, bias=True)\n",
       "              (v_proj): Linear(in_features=1024, out_features=1024, bias=True)\n",
       "              (q_proj): Linear(in_features=1024, out_features=1024, bias=True)\n",
       "              (out_proj): Linear(in_features=1024, out_features=1024, bias=True)\n",
       "            )\n",
       "            (self_attn_layer_norm): LayerNorm((1024,), eps=1e-05, elementwise_affine=True)\n",
       "            (fc1): Linear(in_features=1024, out_features=4096, bias=True)\n",
       "            (fc2): Linear(in_features=4096, out_features=1024, bias=True)\n",
       "            (final_layer_norm): LayerNorm((1024,), eps=1e-05, elementwise_affine=True)\n",
       "          )\n",
       "          (20): TransformerSentenceEncoderLayer(\n",
       "            (dropout_module): FairseqDropout()\n",
       "            (activation_dropout_module): FairseqDropout()\n",
       "            (self_attn): MultiheadAttention(\n",
       "              (dropout_module): FairseqDropout()\n",
       "              (k_proj): Linear(in_features=1024, out_features=1024, bias=True)\n",
       "              (v_proj): Linear(in_features=1024, out_features=1024, bias=True)\n",
       "              (q_proj): Linear(in_features=1024, out_features=1024, bias=True)\n",
       "              (out_proj): Linear(in_features=1024, out_features=1024, bias=True)\n",
       "            )\n",
       "            (self_attn_layer_norm): LayerNorm((1024,), eps=1e-05, elementwise_affine=True)\n",
       "            (fc1): Linear(in_features=1024, out_features=4096, bias=True)\n",
       "            (fc2): Linear(in_features=4096, out_features=1024, bias=True)\n",
       "            (final_layer_norm): LayerNorm((1024,), eps=1e-05, elementwise_affine=True)\n",
       "          )\n",
       "          (21): TransformerSentenceEncoderLayer(\n",
       "            (dropout_module): FairseqDropout()\n",
       "            (activation_dropout_module): FairseqDropout()\n",
       "            (self_attn): MultiheadAttention(\n",
       "              (dropout_module): FairseqDropout()\n",
       "              (k_proj): Linear(in_features=1024, out_features=1024, bias=True)\n",
       "              (v_proj): Linear(in_features=1024, out_features=1024, bias=True)\n",
       "              (q_proj): Linear(in_features=1024, out_features=1024, bias=True)\n",
       "              (out_proj): Linear(in_features=1024, out_features=1024, bias=True)\n",
       "            )\n",
       "            (self_attn_layer_norm): LayerNorm((1024,), eps=1e-05, elementwise_affine=True)\n",
       "            (fc1): Linear(in_features=1024, out_features=4096, bias=True)\n",
       "            (fc2): Linear(in_features=4096, out_features=1024, bias=True)\n",
       "            (final_layer_norm): LayerNorm((1024,), eps=1e-05, elementwise_affine=True)\n",
       "          )\n",
       "          (22): TransformerSentenceEncoderLayer(\n",
       "            (dropout_module): FairseqDropout()\n",
       "            (activation_dropout_module): FairseqDropout()\n",
       "            (self_attn): MultiheadAttention(\n",
       "              (dropout_module): FairseqDropout()\n",
       "              (k_proj): Linear(in_features=1024, out_features=1024, bias=True)\n",
       "              (v_proj): Linear(in_features=1024, out_features=1024, bias=True)\n",
       "              (q_proj): Linear(in_features=1024, out_features=1024, bias=True)\n",
       "              (out_proj): Linear(in_features=1024, out_features=1024, bias=True)\n",
       "            )\n",
       "            (self_attn_layer_norm): LayerNorm((1024,), eps=1e-05, elementwise_affine=True)\n",
       "            (fc1): Linear(in_features=1024, out_features=4096, bias=True)\n",
       "            (fc2): Linear(in_features=4096, out_features=1024, bias=True)\n",
       "            (final_layer_norm): LayerNorm((1024,), eps=1e-05, elementwise_affine=True)\n",
       "          )\n",
       "          (23): TransformerSentenceEncoderLayer(\n",
       "            (dropout_module): FairseqDropout()\n",
       "            (activation_dropout_module): FairseqDropout()\n",
       "            (self_attn): MultiheadAttention(\n",
       "              (dropout_module): FairseqDropout()\n",
       "              (k_proj): Linear(in_features=1024, out_features=1024, bias=True)\n",
       "              (v_proj): Linear(in_features=1024, out_features=1024, bias=True)\n",
       "              (q_proj): Linear(in_features=1024, out_features=1024, bias=True)\n",
       "              (out_proj): Linear(in_features=1024, out_features=1024, bias=True)\n",
       "            )\n",
       "            (self_attn_layer_norm): LayerNorm((1024,), eps=1e-05, elementwise_affine=True)\n",
       "            (fc1): Linear(in_features=1024, out_features=4096, bias=True)\n",
       "            (fc2): Linear(in_features=4096, out_features=1024, bias=True)\n",
       "            (final_layer_norm): LayerNorm((1024,), eps=1e-05, elementwise_affine=True)\n",
       "          )\n",
       "        )\n",
       "        (emb_layer_norm): LayerNorm((1024,), eps=1e-05, elementwise_affine=True)\n",
       "      )\n",
       "      (lm_head): RobertaLMHead(\n",
       "        (dense): Linear(in_features=1024, out_features=1024, bias=True)\n",
       "        (layer_norm): LayerNorm((1024,), eps=1e-05, elementwise_affine=True)\n",
       "      )\n",
       "    )\n",
       "    (classification_heads): ModuleDict(\n",
       "      (mnli): RobertaClassificationHead(\n",
       "        (dense): Linear(in_features=1024, out_features=1024, bias=True)\n",
       "        (dropout): Dropout(p=0.3, inplace=False)\n",
       "        (out_proj): Linear(in_features=1024, out_features=3, bias=True)\n",
       "      )\n",
       "    )\n",
       "  )\n",
       ")"
      ]
     },
     "execution_count": 31,
     "metadata": {},
     "output_type": "execute_result"
    }
   ],
   "source": [
    "import torch\n",
    "from fairseq.data.data_utils import collate_tokens\n",
    "roberta = torch.hub.load('pytorch/fairseq', 'roberta.large.mnli')\n",
    "roberta.eval()"
   ]
  },
  {
   "cell_type": "code",
   "execution_count": 7,
   "metadata": {},
   "outputs": [],
   "source": [
    "batch_of_pairs = []\n",
    "\n",
    "for i, text in enumerate(premise_texts):\n",
    "    batch_of_pairs.append([text, hyp_texts[i]])"
   ]
  },
  {
   "cell_type": "code",
   "execution_count": 40,
   "metadata": {},
   "outputs": [],
   "source": [
    "batch_of_pairs = [\n",
    "    [\"A is granting to B\", \"A is giving to B\"],\n",
    "    [\"A is supporter of B\", \"A is backing B\"],\n",
    "    [\"A is president of B\",\"A is representing B\"],\n",
    "    [\"A is interviewing B\", \"A is asking B\"],\n",
    "    [\"A claims B\", \"A is wanting B\"]\n",
    "]"
   ]
  },
  {
   "cell_type": "code",
   "execution_count": 41,
   "metadata": {},
   "outputs": [
    {
     "name": "stdout",
     "output_type": "stream",
     "text": [
      "tensor([[-5.0970, -4.4486, -0.0180],\n",
      "        [-5.6310, -4.6256, -0.0135],\n",
      "        [-6.1340, -2.8906, -0.0594],\n",
      "        [-3.4675, -3.2651, -0.0719],\n",
      "        [-4.4199, -0.8968, -0.5446]])\n"
     ]
    }
   ],
   "source": [
    "with torch.no_grad():\n",
    "\n",
    "    batch = collate_tokens(\n",
    "        [roberta.encode(pair[0], pair[1]) for pair in batch_of_pairs], pad_idx=1\n",
    "    )\n",
    "\n",
    "    logprobs = roberta.predict('mnli', batch)\n",
    "    print(logprobs)\n",
    "    guesses = logprobs.max(dim=1)\n",
    "    # tensor([0, 2, 1, 0])"
   ]
  },
  {
   "cell_type": "code",
   "execution_count": 42,
   "metadata": {},
   "outputs": [],
   "source": [
    "import numpy as np\n",
    "\n",
    "guesses_probs = logprobs.max(dim=1)\n",
    "guesses = logprobs.argmax(dim=1)"
   ]
  },
  {
   "cell_type": "code",
   "execution_count": 43,
   "metadata": {},
   "outputs": [],
   "source": [
    "guesses_probs = np.exp(guesses_probs[0].detach().numpy())"
   ]
  },
  {
   "cell_type": "code",
   "execution_count": 46,
   "metadata": {},
   "outputs": [],
   "source": [
    "preds = []\n",
    "\n",
    "for guess, prob in zip(guesses, guesses_probs):\n",
    "    if guess == 2 and prob >= 0.8:\n",
    "        preds.append(1)\n",
    "    else:\n",
    "        preds.append(0)"
   ]
  },
  {
   "cell_type": "code",
   "execution_count": 47,
   "metadata": {},
   "outputs": [
    {
     "data": {
      "text/plain": [
       "[1, 1, 1, 1, 0]"
      ]
     },
     "execution_count": 47,
     "metadata": {},
     "output_type": "execute_result"
    }
   ],
   "source": [
    "preds"
   ]
  },
  {
   "cell_type": "code",
   "execution_count": 12,
   "metadata": {},
   "outputs": [],
   "source": [
    "gold = data_frame.score.tolist()"
   ]
  },
  {
   "cell_type": "code",
   "execution_count": 13,
   "metadata": {},
   "outputs": [
    {
     "name": "stdout",
     "output_type": "stream",
     "text": [
      "Precision: 0.7001845018450185\n",
      "Recall: 0.7635814889336016\n",
      "Fscore: 0.7305101058710299\n",
      "[1995  994]\n"
     ]
    }
   ],
   "source": [
    "from sklearn.metrics import precision_recall_fscore_support as pr\n",
    "#bPrecis, bRecall, bFscore, bSupport = pr(data_frame.score.tolist(), [1 if i>=1.0 else 0 for i in guesses])\n",
    "bPrecis, bRecall, bFscore, bSupport = pr(gold, preds)\n",
    "\n",
    "print(\"Precision: \" +  str(bPrecis[1]))\n",
    "print(\"Recall: \" +  str(bRecall[1]))\n",
    "print(\"Fscore: \" +  str(bFscore[1]))\n",
    "print(bSupport)"
   ]
  },
  {
   "cell_type": "code",
   "execution_count": 201,
   "metadata": {},
   "outputs": [
    {
     "name": "stdout",
     "output_type": "stream",
     "text": [
      "Precision: 0.3715651135005974\n",
      "Recall: 0.6257545271629779\n",
      "Fscore: 0.4662668665667167\n",
      "[1995  994]\n"
     ]
    }
   ],
   "source": [
    "from sklearn.metrics import precision_recall_fscore_support as pr\n",
    "#bPrecis, bRecall, bFscore, bSupport = pr(data_frame.score.tolist(), [1 if i>=1.0 else 0 for i in guesses])\n",
    "bPrecis, bRecall, bFscore, bSupport = pr(gold, all_rules)\n",
    "\n",
    "print(\"Precision: \" +  str(bPrecis[1]))\n",
    "print(\"Recall: \" +  str(bRecall[1]))\n",
    "print(\"Fscore: \" +  str(bFscore[1]))\n",
    "print(bSupport)"
   ]
  },
  {
   "cell_type": "code",
   "execution_count": 25,
   "metadata": {},
   "outputs": [
    {
     "name": "stdout",
     "output_type": "stream",
     "text": [
      "Precision: 0.8640776699029126\n",
      "Recall: 0.08953722334004025\n",
      "Fscore: 0.16226071103008205\n",
      "[1995  994]\n"
     ]
    }
   ],
   "source": [
    "from sklearn.metrics import precision_recall_fscore_support as pr\n",
    "#bPrecis, bRecall, bFscore, bSupport = pr(data_frame.score.tolist(), [1 if i>=1.0 else 0 for i in guesses])\n",
    "bPrecis, bRecall, bFscore, bSupport = pr(gold, fourlang_preds)\n",
    "\n",
    "print(\"Precision: \" +  str(bPrecis[1]))\n",
    "print(\"Recall: \" +  str(bRecall[1]))\n",
    "print(\"Fscore: \" +  str(bFscore[1]))\n",
    "print(bSupport)"
   ]
  },
  {
   "cell_type": "code",
   "execution_count": 24,
   "metadata": {},
   "outputs": [],
   "source": [
    "fourlang_guesses = []\n",
    "\n",
    "with open(\"fourlang_guesses_nofilt_nomulti_zero\", \"r+\") as f:\n",
    "    for line in f:\n",
    "        fourlang_guesses.append(float(line.strip()))\n",
    "        \n",
    "fourlang_preds = [1 if i>=0.8 else 0 for i in fourlang_guesses]"
   ]
  },
  {
   "cell_type": "code",
   "execution_count": 199,
   "metadata": {},
   "outputs": [],
   "source": [
    "all_rules = []\n",
    "\n",
    "with open(\"results/wordnet+all_rules.csv\", \"r+\") as f:\n",
    "    for line in f:\n",
    "        line = line.split()\n",
    "        p = int(line[-1].strip())\n",
    "        all_rules.append(p)\n",
    "        \n",
    "all_rules = all_rules[:2989]"
   ]
  },
  {
   "cell_type": "code",
   "execution_count": 203,
   "metadata": {},
   "outputs": [],
   "source": [
    "combined_preds = []\n",
    "\n",
    "for i, pred in enumerate(preds):\n",
    "    if pred == 1 or fourlang_preds[i] == 1:\n",
    "        combined_preds.append(1)\n",
    "    else:\n",
    "        combined_preds.append(0)"
   ]
  },
  {
   "cell_type": "code",
   "execution_count": null,
   "metadata": {},
   "outputs": [],
   "source": [
    "new_positives = []\n",
    "\n",
    "for i, pred in enumerate(combined_preds):\n",
    "    if pred == 1 and gold[i] == 1 and preds[i] == 0:\n",
    "        new_positives.append(i)\n",
    "        \n",
    "new_positives"
   ]
  },
  {
   "cell_type": "code",
   "execution_count": null,
   "metadata": {},
   "outputs": [],
   "source": [
    "set(fourlang_true_pos) & set(alberta_false_neg)"
   ]
  },
  {
   "cell_type": "code",
   "execution_count": null,
   "metadata": {},
   "outputs": [],
   "source": [
    "index = 5\n",
    "print(premise_texts[false_negatives[index]])\n",
    "print(hyp_texts[false_negatives[index]])"
   ]
  },
  {
   "cell_type": "code",
   "execution_count": 14,
   "metadata": {},
   "outputs": [
    {
     "name": "stderr",
     "output_type": "stream",
     "text": [
      "Downloading https://raw.githubusercontent.com/stanfordnlp/stanza-resources/master/resources_1.1.0.json: 122kB [00:00, 29.1MB/s]                    \n",
      "2020-12-18 14:45:09 INFO: Downloading default packages for language: en (English)...\n",
      "INFO:stanza:Downloading default packages for language: en (English)...\n",
      "2020-12-18 14:45:09 INFO: File exists: /home/adaamko/stanza_resources/en/default.zip.\n",
      "INFO:stanza:File exists: /home/adaamko/stanza_resources/en/default.zip.\n",
      "2020-12-18 14:45:13 INFO: Finished downloading models and saved to /home/adaamko/stanza_resources.\n",
      "INFO:stanza:Finished downloading models and saved to /home/adaamko/stanza_resources.\n",
      "2020-12-18 14:45:13 INFO: Loading these models for language: en (English):\n",
      "=========================\n",
      "| Processor | Package   |\n",
      "-------------------------\n",
      "| tokenize  | ewt       |\n",
      "| pos       | ewt       |\n",
      "| lemma     | ewt       |\n",
      "| depparse  | ewt       |\n",
      "| sentiment | sstplus   |\n",
      "| ner       | ontonotes |\n",
      "=========================\n",
      "\n",
      "INFO:stanza:Loading these models for language: en (English):\n",
      "=========================\n",
      "| Processor | Package   |\n",
      "-------------------------\n",
      "| tokenize  | ewt       |\n",
      "| pos       | ewt       |\n",
      "| lemma     | ewt       |\n",
      "| depparse  | ewt       |\n",
      "| sentiment | sstplus   |\n",
      "| ner       | ontonotes |\n",
      "=========================\n",
      "\n",
      "2020-12-18 14:45:13 INFO: Use device: gpu\n",
      "INFO:stanza:Use device: gpu\n",
      "2020-12-18 14:45:13 INFO: Loading: tokenize\n",
      "INFO:stanza:Loading: tokenize\n",
      "2020-12-18 14:45:14 INFO: Loading: pos\n",
      "INFO:stanza:Loading: pos\n",
      "2020-12-18 14:45:15 INFO: Loading: lemma\n",
      "INFO:stanza:Loading: lemma\n",
      "2020-12-18 14:45:15 INFO: Loading: depparse\n",
      "INFO:stanza:Loading: depparse\n",
      "2020-12-18 14:45:16 INFO: Loading: sentiment\n",
      "INFO:stanza:Loading: sentiment\n",
      "2020-12-18 14:45:17 INFO: Loading: ner\n",
      "INFO:stanza:Loading: ner\n",
      "2020-12-18 14:45:17 INFO: Done loading processors!\n",
      "INFO:stanza:Done loading processors!\n",
      "WARNING:root:loading cache from file: cache/UD_Fourlang.json\n",
      "WARNING:root:loaded cache from cache/UD_Fourlang.json with interpretations: ['fourlang', 'ud']\n"
     ]
    }
   ],
   "source": [
    "text_to_4lang = TextTo4lang(lang=\"en\")"
   ]
  },
  {
   "cell_type": "code",
   "execution_count": 15,
   "metadata": {},
   "outputs": [],
   "source": [
    "import networkx as nx\n",
    "from networkx import algorithms\n",
    "\n",
    "import re\n",
    "def clear_node(node):\n",
    "    \"\"\"\n",
    "    Clears the node from the 4lang id parts\n",
    "    :param node: the text to clear\n",
    "    :return: the cleared text\n",
    "    \"\"\"\n",
    "    node = re.sub(r'_[0-9][0-9]*', '', node)\n",
    "    #if node in stopwords:\n",
    "    #    node = \"STOPWORD\"\n",
    "    return node\n",
    "\n",
    "def whitelisting(graph, from_node):\n",
    "    whitelist = []\n",
    "    zero_graph = nx.MultiDiGraph()\n",
    "    zero_graph.add_node(from_node)\n",
    "    delete_list = []\n",
    "    for edge in graph.G.edges(data=True):\n",
    "        if not edge[2][\"color\"]:\n",
    "            zero_graph.add_edge(edge[0], edge[1])\n",
    "            \n",
    "    for node in zero_graph.nodes():\n",
    "        if algorithms.has_path(zero_graph, from_node, node):\n",
    "            if node != from_node:\n",
    "                whitelist.append(node)\n",
    "    \n",
    "    \"\"\"\n",
    "    for edge in zero_graph.edges(data=True):\n",
    "        if edge[0] == from_node:\n",
    "            whitelist.append(edge[1])\n",
    "    \"\"\"\n",
    "    \n",
    "    return whitelist"
   ]
  },
  {
   "cell_type": "code",
   "execution_count": null,
   "metadata": {},
   "outputs": [],
   "source": [
    "graph_test = text_to_4lang.process_text(\"A is colonizing B\", method=\"expand\", depth=1, blacklist=[\"in\", \"on\", \"of\"], filt=False, black_or_white=\"black\", multi_definition=False, apply_from_depth=2)\n",
    "print(graph_test.root)"
   ]
  },
  {
   "cell_type": "code",
   "execution_count": null,
   "metadata": {},
   "outputs": [],
   "source": [
    "whitelisting(graph_test, graph_test.root)"
   ]
  },
  {
   "cell_type": "code",
   "execution_count": 16,
   "metadata": {},
   "outputs": [],
   "source": [
    "from graphviz import Source\n",
    "from tqdm import tqdm"
   ]
  },
  {
   "cell_type": "code",
   "execution_count": 17,
   "metadata": {},
   "outputs": [
    {
     "name": "stderr",
     "output_type": "stream",
     "text": [
      "WARNING:root:alto error\n",
      "WARNING:root:loaded cache from cache/UD_Fourlang.json with interpretations: ['fourlang', 'ud']\n",
      "WARNING:root:updated cache in cache/UD_Fourlang.json\n",
      "WARNING:root:alto error\n",
      "WARNING:root:loaded cache from cache/UD_Fourlang.json with interpretations: ['fourlang', 'ud']\n",
      "WARNING:root:updated cache in cache/UD_Fourlang.json\n",
      "WARNING:root:loaded cache from cache/UD_Fourlang.json with interpretations: ['fourlang', 'ud']\n",
      "WARNING:root:updated cache in cache/UD_Fourlang.json\n",
      "WARNING:root:alto error\n",
      "WARNING:root:loaded cache from cache/UD_Fourlang.json with interpretations: ['fourlang', 'ud']\n",
      "WARNING:root:updated cache in cache/UD_Fourlang.json\n",
      "WARNING:root:loaded cache from cache/UD_Fourlang.json with interpretations: ['fourlang', 'ud']\n",
      "WARNING:root:updated cache in cache/UD_Fourlang.json\n"
     ]
    },
    {
     "name": "stdout",
     "output_type": "stream",
     "text": [
      "[['Indiana Pacers is follow George W. Bush', 'George W. Bush is losing to Indiana Pacers'], ['Indiana Pacers is tail George W. Bush', 'George W. Bush is losing to Indiana Pacers'], ['Indiana Pacers is behind George W. Bush', 'George W. Bush is losing to Indiana Pacers']]\n",
      "Indiana Pacers is trailing George W. Bush\n",
      "reduced: tensor([2, 2, 0])\n",
      "True found..\n"
     ]
    },
    {
     "name": "stderr",
     "output_type": "stream",
     "text": [
      "WARNING:root:loaded cache from cache/UD_Fourlang.json with interpretations: ['fourlang', 'ud']\n",
      "WARNING:root:updated cache in cache/UD_Fourlang.json\n",
      "WARNING:root:loaded cache from cache/UD_Fourlang.json with interpretations: ['fourlang', 'ud']\n",
      "WARNING:root:updated cache in cache/UD_Fourlang.json\n",
      "WARNING:root:alto error\n",
      "WARNING:root:loaded cache from cache/UD_Fourlang.json with interpretations: ['fourlang', 'ud']\n",
      "WARNING:root:updated cache in cache/UD_Fourlang.json\n",
      "WARNING:root:alto error\n",
      "WARNING:root:loaded cache from cache/UD_Fourlang.json with interpretations: ['fourlang', 'ud']\n",
      "WARNING:root:updated cache in cache/UD_Fourlang.json\n",
      "WARNING:root:alto error\n",
      "WARNING:root:loaded cache from cache/UD_Fourlang.json with interpretations: ['fourlang', 'ud']\n",
      "WARNING:root:updated cache in cache/UD_Fourlang.json\n",
      "WARNING:root:alto error\n",
      "WARNING:root:loaded cache from cache/UD_Fourlang.json with interpretations: ['fourlang', 'ud']\n",
      "WARNING:root:updated cache in cache/UD_Fourlang.json\n",
      "WARNING:root:alto error\n",
      "WARNING:root:loaded cache from cache/UD_Fourlang.json with interpretations: ['fourlang', 'ud']\n",
      "WARNING:root:updated cache in cache/UD_Fourlang.json\n"
     ]
    },
    {
     "name": "stdout",
     "output_type": "stream",
     "text": [
      "True found..\n"
     ]
    },
    {
     "name": "stderr",
     "output_type": "stream",
     "text": [
      "WARNING:root:loaded cache from cache/UD_Fourlang.json with interpretations: ['fourlang', 'ud']\n",
      "WARNING:root:updated cache in cache/UD_Fourlang.json\n",
      "WARNING:root:loaded cache from cache/UD_Fourlang.json with interpretations: ['fourlang', 'ud']\n",
      "WARNING:root:updated cache in cache/UD_Fourlang.json\n",
      "WARNING:root:alto error\n",
      "WARNING:root:loaded cache from cache/UD_Fourlang.json with interpretations: ['fourlang', 'ud']\n",
      "WARNING:root:updated cache in cache/UD_Fourlang.json\n",
      "WARNING:root:loaded cache from cache/UD_Fourlang.json with interpretations: ['fourlang', 'ud']\n",
      "WARNING:root:updated cache in cache/UD_Fourlang.json\n"
     ]
    },
    {
     "name": "stdout",
     "output_type": "stream",
     "text": [
      "True found..\n",
      "True found..\n"
     ]
    },
    {
     "name": "stderr",
     "output_type": "stream",
     "text": [
      "WARNING:root:loaded cache from cache/UD_Fourlang.json with interpretations: ['fourlang', 'ud']\n",
      "WARNING:root:updated cache in cache/UD_Fourlang.json\n",
      "WARNING:root:loaded cache from cache/UD_Fourlang.json with interpretations: ['fourlang', 'ud']\n",
      "WARNING:root:updated cache in cache/UD_Fourlang.json\n",
      "WARNING:root:alto error\n",
      "WARNING:root:loaded cache from cache/UD_Fourlang.json with interpretations: ['fourlang', 'ud']\n",
      "WARNING:root:updated cache in cache/UD_Fourlang.json\n",
      "WARNING:root:alto error\n",
      "WARNING:root:loaded cache from cache/UD_Fourlang.json with interpretations: ['fourlang', 'ud']\n",
      "WARNING:root:updated cache in cache/UD_Fourlang.json\n",
      "WARNING:root:alto error\n",
      "WARNING:root:loaded cache from cache/UD_Fourlang.json with interpretations: ['fourlang', 'ud']\n",
      "WARNING:root:updated cache in cache/UD_Fourlang.json\n",
      "WARNING:root:loaded cache from cache/UD_Fourlang.json with interpretations: ['fourlang', 'ud']\n",
      "WARNING:root:updated cache in cache/UD_Fourlang.json\n",
      "WARNING:root:alto error\n",
      "WARNING:root:loaded cache from cache/UD_Fourlang.json with interpretations: ['fourlang', 'ud']\n",
      "WARNING:root:updated cache in cache/UD_Fourlang.json\n",
      "WARNING:root:alto error\n",
      "WARNING:root:loaded cache from cache/UD_Fourlang.json with interpretations: ['fourlang', 'ud']\n",
      "WARNING:root:updated cache in cache/UD_Fourlang.json\n",
      "WARNING:root:loaded cache from cache/UD_Fourlang.json with interpretations: ['fourlang', 'ud']\n",
      "WARNING:root:updated cache in cache/UD_Fourlang.json\n"
     ]
    },
    {
     "name": "stdout",
     "output_type": "stream",
     "text": [
      "True found..\n",
      "True found..\n"
     ]
    },
    {
     "name": "stderr",
     "output_type": "stream",
     "text": [
      "WARNING:root:loaded cache from cache/UD_Fourlang.json with interpretations: ['fourlang', 'ud']\n",
      "WARNING:root:updated cache in cache/UD_Fourlang.json\n",
      "WARNING:root:loaded cache from cache/UD_Fourlang.json with interpretations: ['fourlang', 'ud']\n",
      "WARNING:root:updated cache in cache/UD_Fourlang.json\n"
     ]
    },
    {
     "name": "stdout",
     "output_type": "stream",
     "text": [
      "True found..\n",
      "True found..\n"
     ]
    },
    {
     "name": "stderr",
     "output_type": "stream",
     "text": [
      "WARNING:root:loaded cache from cache/UD_Fourlang.json with interpretations: ['fourlang', 'ud']\n",
      "WARNING:root:updated cache in cache/UD_Fourlang.json\n",
      "WARNING:root:loaded cache from cache/UD_Fourlang.json with interpretations: ['fourlang', 'ud']\n",
      "WARNING:root:updated cache in cache/UD_Fourlang.json\n",
      "WARNING:root:loaded cache from cache/UD_Fourlang.json with interpretations: ['fourlang', 'ud']\n",
      "WARNING:root:updated cache in cache/UD_Fourlang.json\n",
      "WARNING:root:loaded cache from cache/UD_Fourlang.json with interpretations: ['fourlang', 'ud']\n",
      "WARNING:root:updated cache in cache/UD_Fourlang.json\n"
     ]
    },
    {
     "name": "stdout",
     "output_type": "stream",
     "text": [
      "True found..\n",
      "True found..\n"
     ]
    },
    {
     "name": "stderr",
     "output_type": "stream",
     "text": [
      "WARNING:root:alto error\n",
      "WARNING:root:loaded cache from cache/UD_Fourlang.json with interpretations: ['fourlang', 'ud']\n",
      "WARNING:root:updated cache in cache/UD_Fourlang.json\n",
      "WARNING:root:loaded cache from cache/UD_Fourlang.json with interpretations: ['fourlang', 'ud']\n",
      "WARNING:root:updated cache in cache/UD_Fourlang.json\n",
      "WARNING:root:loaded cache from cache/UD_Fourlang.json with interpretations: ['fourlang', 'ud']\n",
      "WARNING:root:updated cache in cache/UD_Fourlang.json\n",
      "WARNING:root:alto error\n",
      "WARNING:root:loaded cache from cache/UD_Fourlang.json with interpretations: ['fourlang', 'ud']\n",
      "WARNING:root:updated cache in cache/UD_Fourlang.json\n",
      "WARNING:root:loaded cache from cache/UD_Fourlang.json with interpretations: ['fourlang', 'ud']\n",
      "WARNING:root:updated cache in cache/UD_Fourlang.json\n",
      "WARNING:root:loaded cache from cache/UD_Fourlang.json with interpretations: ['fourlang', 'ud']\n",
      "WARNING:root:updated cache in cache/UD_Fourlang.json\n",
      "WARNING:root:alto error\n",
      "WARNING:root:loaded cache from cache/UD_Fourlang.json with interpretations: ['fourlang', 'ud']\n",
      "WARNING:root:updated cache in cache/UD_Fourlang.json\n"
     ]
    },
    {
     "name": "stdout",
     "output_type": "stream",
     "text": [
      "[['Arthur Greiser is imply to Alexander Hamilton', 'Arthur Greiser is writing to Alexander Hamilton'], ['Arthur Greiser is QUOTEs to Alexander Hamilton', 'Arthur Greiser is writing to Alexander Hamilton']]\n",
      "Arthur Greiser is suggesting to Alexander Hamilton\n",
      "reduced: tensor([2, 2])\n"
     ]
    },
    {
     "name": "stderr",
     "output_type": "stream",
     "text": [
      "WARNING:root:loaded cache from cache/UD_Fourlang.json with interpretations: ['fourlang', 'ud']\n",
      "WARNING:root:updated cache in cache/UD_Fourlang.json\n",
      "WARNING:root:loaded cache from cache/UD_Fourlang.json with interpretations: ['fourlang', 'ud']\n",
      "WARNING:root:updated cache in cache/UD_Fourlang.json\n",
      "WARNING:root:loaded cache from cache/UD_Fourlang.json with interpretations: ['fourlang', 'ud']\n",
      "WARNING:root:updated cache in cache/UD_Fourlang.json\n",
      "WARNING:root:loaded cache from cache/UD_Fourlang.json with interpretations: ['fourlang', 'ud']\n",
      "WARNING:root:updated cache in cache/UD_Fourlang.json\n"
     ]
    },
    {
     "name": "stdout",
     "output_type": "stream",
     "text": [
      "True found..\n",
      "True found..\n"
     ]
    },
    {
     "name": "stderr",
     "output_type": "stream",
     "text": [
      "WARNING:root:loaded cache from cache/UD_Fourlang.json with interpretations: ['fourlang', 'ud']\n",
      "WARNING:root:updated cache in cache/UD_Fourlang.json\n"
     ]
    },
    {
     "name": "stdout",
     "output_type": "stream",
     "text": [
      "True found..\n"
     ]
    },
    {
     "name": "stderr",
     "output_type": "stream",
     "text": [
      "WARNING:root:alto error\n",
      "WARNING:root:loaded cache from cache/UD_Fourlang.json with interpretations: ['fourlang', 'ud']\n",
      "WARNING:root:updated cache in cache/UD_Fourlang.json\n"
     ]
    },
    {
     "name": "stdout",
     "output_type": "stream",
     "text": [
      "True found..\n"
     ]
    },
    {
     "name": "stderr",
     "output_type": "stream",
     "text": [
      "WARNING:root:loaded cache from cache/UD_Fourlang.json with interpretations: ['fourlang', 'ud']\n",
      "WARNING:root:updated cache in cache/UD_Fourlang.json\n",
      "WARNING:root:alto error\n",
      "WARNING:root:loaded cache from cache/UD_Fourlang.json with interpretations: ['fourlang', 'ud']\n",
      "WARNING:root:updated cache in cache/UD_Fourlang.json\n"
     ]
    },
    {
     "name": "stdout",
     "output_type": "stream",
     "text": [
      "True found..\n"
     ]
    },
    {
     "name": "stderr",
     "output_type": "stream",
     "text": [
      "WARNING:root:loaded cache from cache/UD_Fourlang.json with interpretations: ['fourlang', 'ud']\n",
      "WARNING:root:updated cache in cache/UD_Fourlang.json\n",
      "WARNING:root:loaded cache from cache/UD_Fourlang.json with interpretations: ['fourlang', 'ud']\n",
      "WARNING:root:updated cache in cache/UD_Fourlang.json\n",
      "WARNING:root:alto error\n",
      "WARNING:root:loaded cache from cache/UD_Fourlang.json with interpretations: ['fourlang', 'ud']\n",
      "WARNING:root:updated cache in cache/UD_Fourlang.json\n",
      "WARNING:root:loaded cache from cache/UD_Fourlang.json with interpretations: ['fourlang', 'ud']\n",
      "WARNING:root:updated cache in cache/UD_Fourlang.json\n",
      "WARNING:root:loaded cache from cache/UD_Fourlang.json with interpretations: ['fourlang', 'ud']\n",
      "WARNING:root:updated cache in cache/UD_Fourlang.json\n",
      "WARNING:root:loaded cache from cache/UD_Fourlang.json with interpretations: ['fourlang', 'ud']\n",
      "WARNING:root:updated cache in cache/UD_Fourlang.json\n",
      "WARNING:root:loaded cache from cache/UD_Fourlang.json with interpretations: ['fourlang', 'ud']\n",
      "WARNING:root:updated cache in cache/UD_Fourlang.json\n",
      "WARNING:root:loaded cache from cache/UD_Fourlang.json with interpretations: ['fourlang', 'ud']\n",
      "WARNING:root:updated cache in cache/UD_Fourlang.json\n",
      "WARNING:root:loaded cache from cache/UD_Fourlang.json with interpretations: ['fourlang', 'ud']\n",
      "WARNING:root:updated cache in cache/UD_Fourlang.json\n"
     ]
    },
    {
     "name": "stdout",
     "output_type": "stream",
     "text": [
      "True found..\n"
     ]
    },
    {
     "name": "stderr",
     "output_type": "stream",
     "text": [
      "WARNING:root:loaded cache from cache/UD_Fourlang.json with interpretations: ['fourlang', 'ud']\n",
      "WARNING:root:updated cache in cache/UD_Fourlang.json\n",
      "WARNING:root:alto error\n",
      "WARNING:root:loaded cache from cache/UD_Fourlang.json with interpretations: ['fourlang', 'ud']\n",
      "WARNING:root:updated cache in cache/UD_Fourlang.json\n"
     ]
    },
    {
     "name": "stdout",
     "output_type": "stream",
     "text": [
      "True found..\n"
     ]
    },
    {
     "name": "stderr",
     "output_type": "stream",
     "text": [
      "WARNING:root:loaded cache from cache/UD_Fourlang.json with interpretations: ['fourlang', 'ud']\n",
      "WARNING:root:updated cache in cache/UD_Fourlang.json\n",
      "WARNING:root:loaded cache from cache/UD_Fourlang.json with interpretations: ['fourlang', 'ud']\n",
      "WARNING:root:updated cache in cache/UD_Fourlang.json\n",
      "WARNING:root:loaded cache from cache/UD_Fourlang.json with interpretations: ['fourlang', 'ud']\n",
      "WARNING:root:updated cache in cache/UD_Fourlang.json\n",
      "WARNING:root:alto error\n",
      "WARNING:root:loaded cache from cache/UD_Fourlang.json with interpretations: ['fourlang', 'ud']\n",
      "WARNING:root:updated cache in cache/UD_Fourlang.json\n",
      "WARNING:root:loaded cache from cache/UD_Fourlang.json with interpretations: ['fourlang', 'ud']\n",
      "WARNING:root:updated cache in cache/UD_Fourlang.json\n"
     ]
    },
    {
     "name": "stdout",
     "output_type": "stream",
     "text": [
      "True found..\n",
      "True found..\n"
     ]
    },
    {
     "name": "stderr",
     "output_type": "stream",
     "text": [
      "WARNING:root:alto error\n",
      "WARNING:root:loaded cache from cache/UD_Fourlang.json with interpretations: ['fourlang', 'ud']\n",
      "WARNING:root:updated cache in cache/UD_Fourlang.json\n",
      "WARNING:root:loaded cache from cache/UD_Fourlang.json with interpretations: ['fourlang', 'ud']\n",
      "WARNING:root:updated cache in cache/UD_Fourlang.json\n"
     ]
    },
    {
     "name": "stdout",
     "output_type": "stream",
     "text": [
      "True found..\n",
      "True found..\n",
      "True found..\n"
     ]
    },
    {
     "name": "stderr",
     "output_type": "stream",
     "text": [
      "WARNING:root:loaded cache from cache/UD_Fourlang.json with interpretations: ['fourlang', 'ud']\n",
      "WARNING:root:updated cache in cache/UD_Fourlang.json\n",
      "WARNING:root:alto error\n",
      "WARNING:root:loaded cache from cache/UD_Fourlang.json with interpretations: ['fourlang', 'ud']\n",
      "WARNING:root:updated cache in cache/UD_Fourlang.json\n",
      "WARNING:root:alto error\n",
      "WARNING:root:loaded cache from cache/UD_Fourlang.json with interpretations: ['fourlang', 'ud']\n",
      "WARNING:root:updated cache in cache/UD_Fourlang.json\n",
      "WARNING:root:alto error\n",
      "WARNING:root:loaded cache from cache/UD_Fourlang.json with interpretations: ['fourlang', 'ud']\n",
      "WARNING:root:updated cache in cache/UD_Fourlang.json\n",
      "WARNING:root:alto error\n",
      "WARNING:root:loaded cache from cache/UD_Fourlang.json with interpretations: ['fourlang', 'ud']\n",
      "WARNING:root:updated cache in cache/UD_Fourlang.json\n",
      "WARNING:root:alto error\n",
      "WARNING:root:loaded cache from cache/UD_Fourlang.json with interpretations: ['fourlang', 'ud']\n",
      "WARNING:root:updated cache in cache/UD_Fourlang.json\n"
     ]
    },
    {
     "name": "stdout",
     "output_type": "stream",
     "text": [
      "True found..\n"
     ]
    },
    {
     "name": "stderr",
     "output_type": "stream",
     "text": [
      "WARNING:root:loaded cache from cache/UD_Fourlang.json with interpretations: ['fourlang', 'ud']\n",
      "WARNING:root:updated cache in cache/UD_Fourlang.json\n",
      "WARNING:root:loaded cache from cache/UD_Fourlang.json with interpretations: ['fourlang', 'ud']\n",
      "WARNING:root:updated cache in cache/UD_Fourlang.json\n",
      "WARNING:root:alto error\n",
      "WARNING:root:loaded cache from cache/UD_Fourlang.json with interpretations: ['fourlang', 'ud']\n",
      "WARNING:root:updated cache in cache/UD_Fourlang.json\n",
      "WARNING:root:loaded cache from cache/UD_Fourlang.json with interpretations: ['fourlang', 'ud']\n",
      "WARNING:root:updated cache in cache/UD_Fourlang.json\n",
      "WARNING:root:alto error\n",
      "WARNING:root:loaded cache from cache/UD_Fourlang.json with interpretations: ['fourlang', 'ud']\n",
      "WARNING:root:updated cache in cache/UD_Fourlang.json\n",
      "WARNING:root:loaded cache from cache/UD_Fourlang.json with interpretations: ['fourlang', 'ud']\n",
      "WARNING:root:updated cache in cache/UD_Fourlang.json\n"
     ]
    },
    {
     "name": "stdout",
     "output_type": "stream",
     "text": [
      "True found..\n"
     ]
    },
    {
     "name": "stderr",
     "output_type": "stream",
     "text": [
      "WARNING:root:loaded cache from cache/UD_Fourlang.json with interpretations: ['fourlang', 'ud']\n",
      "WARNING:root:updated cache in cache/UD_Fourlang.json\n",
      "WARNING:root:loaded cache from cache/UD_Fourlang.json with interpretations: ['fourlang', 'ud']\n",
      "WARNING:root:updated cache in cache/UD_Fourlang.json\n",
      "WARNING:root:loaded cache from cache/UD_Fourlang.json with interpretations: ['fourlang', 'ud']\n",
      "WARNING:root:updated cache in cache/UD_Fourlang.json\n",
      "WARNING:root:loaded cache from cache/UD_Fourlang.json with interpretations: ['fourlang', 'ud']\n",
      "WARNING:root:updated cache in cache/UD_Fourlang.json\n",
      "WARNING:root:loaded cache from cache/UD_Fourlang.json with interpretations: ['fourlang', 'ud']\n",
      "WARNING:root:updated cache in cache/UD_Fourlang.json\n",
      "WARNING:root:loaded cache from cache/UD_Fourlang.json with interpretations: ['fourlang', 'ud']\n",
      "WARNING:root:updated cache in cache/UD_Fourlang.json\n",
      "WARNING:root:loaded cache from cache/UD_Fourlang.json with interpretations: ['fourlang', 'ud']\n",
      "WARNING:root:updated cache in cache/UD_Fourlang.json\n",
      "WARNING:root:loaded cache from cache/UD_Fourlang.json with interpretations: ['fourlang', 'ud']\n",
      "WARNING:root:updated cache in cache/UD_Fourlang.json\n",
      "WARNING:root:loaded cache from cache/UD_Fourlang.json with interpretations: ['fourlang', 'ud']\n",
      "WARNING:root:updated cache in cache/UD_Fourlang.json\n",
      "WARNING:root:alto error\n",
      "WARNING:root:loaded cache from cache/UD_Fourlang.json with interpretations: ['fourlang', 'ud']\n",
      "WARNING:root:updated cache in cache/UD_Fourlang.json\n"
     ]
    },
    {
     "name": "stdout",
     "output_type": "stream",
     "text": [
      "True found..\n"
     ]
    },
    {
     "name": "stderr",
     "output_type": "stream",
     "text": [
      "WARNING:root:loaded cache from cache/UD_Fourlang.json with interpretations: ['fourlang', 'ud']\n",
      "WARNING:root:updated cache in cache/UD_Fourlang.json\n",
      "WARNING:root:loaded cache from cache/UD_Fourlang.json with interpretations: ['fourlang', 'ud']\n",
      "WARNING:root:updated cache in cache/UD_Fourlang.json\n",
      "WARNING:root:alto error\n",
      "WARNING:root:loaded cache from cache/UD_Fourlang.json with interpretations: ['fourlang', 'ud']\n",
      "WARNING:root:updated cache in cache/UD_Fourlang.json\n",
      "WARNING:root:loaded cache from cache/UD_Fourlang.json with interpretations: ['fourlang', 'ud']\n",
      "WARNING:root:updated cache in cache/UD_Fourlang.json\n",
      "WARNING:root:loaded cache from cache/UD_Fourlang.json with interpretations: ['fourlang', 'ud']\n",
      "WARNING:root:updated cache in cache/UD_Fourlang.json\n",
      "WARNING:root:loaded cache from cache/UD_Fourlang.json with interpretations: ['fourlang', 'ud']\n",
      "WARNING:root:updated cache in cache/UD_Fourlang.json\n",
      "WARNING:root:loaded cache from cache/UD_Fourlang.json with interpretations: ['fourlang', 'ud']\n",
      "WARNING:root:updated cache in cache/UD_Fourlang.json\n",
      "WARNING:root:loaded cache from cache/UD_Fourlang.json with interpretations: ['fourlang', 'ud']\n",
      "WARNING:root:updated cache in cache/UD_Fourlang.json\n",
      "WARNING:root:loaded cache from cache/UD_Fourlang.json with interpretations: ['fourlang', 'ud']\n",
      "WARNING:root:updated cache in cache/UD_Fourlang.json\n"
     ]
    },
    {
     "name": "stdout",
     "output_type": "stream",
     "text": [
      "True found..\n",
      "True found..\n"
     ]
    },
    {
     "name": "stderr",
     "output_type": "stream",
     "text": [
      "WARNING:root:loaded cache from cache/UD_Fourlang.json with interpretations: ['fourlang', 'ud']\n",
      "WARNING:root:updated cache in cache/UD_Fourlang.json\n"
     ]
    },
    {
     "name": "stdout",
     "output_type": "stream",
     "text": [
      "True found..\n"
     ]
    },
    {
     "name": "stderr",
     "output_type": "stream",
     "text": [
      "WARNING:root:loaded cache from cache/UD_Fourlang.json with interpretations: ['fourlang', 'ud']\n",
      "WARNING:root:updated cache in cache/UD_Fourlang.json\n",
      "WARNING:root:loaded cache from cache/UD_Fourlang.json with interpretations: ['fourlang', 'ud']\n",
      "WARNING:root:updated cache in cache/UD_Fourlang.json\n"
     ]
    },
    {
     "name": "stdout",
     "output_type": "stream",
     "text": [
      "True found..\n",
      "True found..\n"
     ]
    },
    {
     "name": "stderr",
     "output_type": "stream",
     "text": [
      "WARNING:root:loaded cache from cache/UD_Fourlang.json with interpretations: ['fourlang', 'ud']\n",
      "WARNING:root:updated cache in cache/UD_Fourlang.json\n",
      "WARNING:root:alto error\n",
      "WARNING:root:loaded cache from cache/UD_Fourlang.json with interpretations: ['fourlang', 'ud']\n",
      "WARNING:root:updated cache in cache/UD_Fourlang.json\n",
      "WARNING:root:alto error\n",
      "WARNING:root:loaded cache from cache/UD_Fourlang.json with interpretations: ['fourlang', 'ud']\n",
      "WARNING:root:updated cache in cache/UD_Fourlang.json\n",
      "WARNING:root:loaded cache from cache/UD_Fourlang.json with interpretations: ['fourlang', 'ud']\n",
      "WARNING:root:updated cache in cache/UD_Fourlang.json\n"
     ]
    },
    {
     "name": "stdout",
     "output_type": "stream",
     "text": [
      "True found..\n",
      "True found..\n"
     ]
    },
    {
     "name": "stderr",
     "output_type": "stream",
     "text": [
      "WARNING:root:loaded cache from cache/UD_Fourlang.json with interpretations: ['fourlang', 'ud']\n",
      "WARNING:root:updated cache in cache/UD_Fourlang.json\n",
      "WARNING:root:loaded cache from cache/UD_Fourlang.json with interpretations: ['fourlang', 'ud']\n",
      "WARNING:root:updated cache in cache/UD_Fourlang.json\n"
     ]
    },
    {
     "name": "stdout",
     "output_type": "stream",
     "text": [
      "[['India is follow in Japan', 'India is wanting Japan'], ['India is letter in Japan', 'India is wanting Japan'], ['India is come in Japan', 'India is wanting Japan'], ['India is take in Japan', 'India is wanting Japan'], ['India is after in Japan', 'India is wanting Japan'], ['India is hence in Japan', 'India is wanting Japan'], ['India is next in Japan', 'India is wanting Japan'], ['India is alphabet in Japan', 'India is wanting Japan'], ['India is I in Japan', 'India is wanting Japan']]\n",
      "India is succeeding in Japan\n",
      "reduced: tensor([2, 1, 2, 2, 2, 2, 2, 1, 1])\n",
      "True found..\n"
     ]
    },
    {
     "name": "stderr",
     "output_type": "stream",
     "text": [
      "WARNING:root:loaded cache from cache/UD_Fourlang.json with interpretations: ['fourlang', 'ud']\n",
      "WARNING:root:updated cache in cache/UD_Fourlang.json\n",
      "WARNING:root:loaded cache from cache/UD_Fourlang.json with interpretations: ['fourlang', 'ud']\n",
      "WARNING:root:updated cache in cache/UD_Fourlang.json\n",
      "WARNING:root:loaded cache from cache/UD_Fourlang.json with interpretations: ['fourlang', 'ud']\n",
      "WARNING:root:updated cache in cache/UD_Fourlang.json\n",
      "WARNING:root:loaded cache from cache/UD_Fourlang.json with interpretations: ['fourlang', 'ud']\n",
      "WARNING:root:updated cache in cache/UD_Fourlang.json\n",
      "WARNING:root:loaded cache from cache/UD_Fourlang.json with interpretations: ['fourlang', 'ud']\n",
      "WARNING:root:updated cache in cache/UD_Fourlang.json\n",
      "WARNING:root:loaded cache from cache/UD_Fourlang.json with interpretations: ['fourlang', 'ud']\n",
      "WARNING:root:updated cache in cache/UD_Fourlang.json\n",
      "WARNING:root:alto error\n",
      "WARNING:root:loaded cache from cache/UD_Fourlang.json with interpretations: ['fourlang', 'ud']\n",
      "WARNING:root:updated cache in cache/UD_Fourlang.json\n",
      "WARNING:root:loaded cache from cache/UD_Fourlang.json with interpretations: ['fourlang', 'ud']\n",
      "WARNING:root:updated cache in cache/UD_Fourlang.json\n",
      "WARNING:root:alto error\n",
      "WARNING:root:loaded cache from cache/UD_Fourlang.json with interpretations: ['fourlang', 'ud']\n",
      "WARNING:root:updated cache in cache/UD_Fourlang.json\n",
      "WARNING:root:alto error\n",
      "WARNING:root:loaded cache from cache/UD_Fourlang.json with interpretations: ['fourlang', 'ud']\n",
      "WARNING:root:updated cache in cache/UD_Fourlang.json\n",
      "WARNING:root:alto error\n",
      "WARNING:root:loaded cache from cache/UD_Fourlang.json with interpretations: ['fourlang', 'ud']\n",
      "WARNING:root:updated cache in cache/UD_Fourlang.json\n",
      "WARNING:root:loaded cache from cache/UD_Fourlang.json with interpretations: ['fourlang', 'ud']\n",
      "WARNING:root:updated cache in cache/UD_Fourlang.json\n",
      "WARNING:root:alto error\n",
      "WARNING:root:loaded cache from cache/UD_Fourlang.json with interpretations: ['fourlang', 'ud']\n",
      "WARNING:root:updated cache in cache/UD_Fourlang.json\n",
      "WARNING:root:loaded cache from cache/UD_Fourlang.json with interpretations: ['fourlang', 'ud']\n",
      "WARNING:root:updated cache in cache/UD_Fourlang.json\n",
      "WARNING:root:alto error\n",
      "WARNING:root:loaded cache from cache/UD_Fourlang.json with interpretations: ['fourlang', 'ud']\n",
      "WARNING:root:updated cache in cache/UD_Fourlang.json\n",
      "WARNING:root:loaded cache from cache/UD_Fourlang.json with interpretations: ['fourlang', 'ud']\n",
      "WARNING:root:updated cache in cache/UD_Fourlang.json\n",
      "WARNING:root:loaded cache from cache/UD_Fourlang.json with interpretations: ['fourlang', 'ud']\n",
      "WARNING:root:updated cache in cache/UD_Fourlang.json\n",
      "WARNING:root:loaded cache from cache/UD_Fourlang.json with interpretations: ['fourlang', 'ud']\n",
      "WARNING:root:updated cache in cache/UD_Fourlang.json\n",
      "WARNING:root:loaded cache from cache/UD_Fourlang.json with interpretations: ['fourlang', 'ud']\n",
      "WARNING:root:updated cache in cache/UD_Fourlang.json\n",
      "WARNING:root:alto error\n",
      "WARNING:root:loaded cache from cache/UD_Fourlang.json with interpretations: ['fourlang', 'ud']\n",
      "WARNING:root:updated cache in cache/UD_Fourlang.json\n",
      "WARNING:root:alto error\n",
      "WARNING:root:loaded cache from cache/UD_Fourlang.json with interpretations: ['fourlang', 'ud']\n",
      "WARNING:root:updated cache in cache/UD_Fourlang.json\n",
      "WARNING:root:alto error\n",
      "WARNING:root:loaded cache from cache/UD_Fourlang.json with interpretations: ['fourlang', 'ud']\n",
      "WARNING:root:updated cache in cache/UD_Fourlang.json\n",
      "WARNING:root:loaded cache from cache/UD_Fourlang.json with interpretations: ['fourlang', 'ud']\n",
      "WARNING:root:updated cache in cache/UD_Fourlang.json\n",
      "WARNING:root:loaded cache from cache/UD_Fourlang.json with interpretations: ['fourlang', 'ud']\n",
      "WARNING:root:updated cache in cache/UD_Fourlang.json\n",
      "WARNING:root:loaded cache from cache/UD_Fourlang.json with interpretations: ['fourlang', 'ud']\n",
      "WARNING:root:updated cache in cache/UD_Fourlang.json\n"
     ]
    },
    {
     "name": "stdout",
     "output_type": "stream",
     "text": [
      "True found..\n",
      "True found..\n",
      "True found..\n"
     ]
    },
    {
     "name": "stderr",
     "output_type": "stream",
     "text": [
      "WARNING:root:loaded cache from cache/UD_Fourlang.json with interpretations: ['fourlang', 'ud']\n",
      "WARNING:root:updated cache in cache/UD_Fourlang.json\n"
     ]
    },
    {
     "name": "stdout",
     "output_type": "stream",
     "text": [
      "True found..\n",
      "True found..\n"
     ]
    },
    {
     "name": "stderr",
     "output_type": "stream",
     "text": [
      "WARNING:root:alto error\n",
      "WARNING:root:loaded cache from cache/UD_Fourlang.json with interpretations: ['fourlang', 'ud']\n",
      "WARNING:root:updated cache in cache/UD_Fourlang.json\n"
     ]
    },
    {
     "name": "stdout",
     "output_type": "stream",
     "text": [
      "True found..\n",
      "True found..\n"
     ]
    },
    {
     "name": "stderr",
     "output_type": "stream",
     "text": [
      "WARNING:root:loaded cache from cache/UD_Fourlang.json with interpretations: ['fourlang', 'ud']\n",
      "WARNING:root:updated cache in cache/UD_Fourlang.json\n",
      "WARNING:root:loaded cache from cache/UD_Fourlang.json with interpretations: ['fourlang', 'ud']\n",
      "WARNING:root:updated cache in cache/UD_Fourlang.json\n"
     ]
    },
    {
     "name": "stdout",
     "output_type": "stream",
     "text": [
      "True found..\n",
      "True found..\n"
     ]
    },
    {
     "name": "stderr",
     "output_type": "stream",
     "text": [
      "WARNING:root:loaded cache from cache/UD_Fourlang.json with interpretations: ['fourlang', 'ud']\n",
      "WARNING:root:updated cache in cache/UD_Fourlang.json\n",
      "WARNING:root:loaded cache from cache/UD_Fourlang.json with interpretations: ['fourlang', 'ud']\n",
      "WARNING:root:updated cache in cache/UD_Fourlang.json\n",
      "WARNING:root:loaded cache from cache/UD_Fourlang.json with interpretations: ['fourlang', 'ud']\n",
      "WARNING:root:updated cache in cache/UD_Fourlang.json\n",
      "WARNING:root:loaded cache from cache/UD_Fourlang.json with interpretations: ['fourlang', 'ud']\n",
      "WARNING:root:updated cache in cache/UD_Fourlang.json\n"
     ]
    },
    {
     "name": "stdout",
     "output_type": "stream",
     "text": [
      "True found..\n"
     ]
    },
    {
     "name": "stderr",
     "output_type": "stream",
     "text": [
      "WARNING:root:loaded cache from cache/UD_Fourlang.json with interpretations: ['fourlang', 'ud']\n",
      "WARNING:root:updated cache in cache/UD_Fourlang.json\n",
      "WARNING:root:loaded cache from cache/UD_Fourlang.json with interpretations: ['fourlang', 'ud']\n",
      "WARNING:root:updated cache in cache/UD_Fourlang.json\n",
      "WARNING:root:loaded cache from cache/UD_Fourlang.json with interpretations: ['fourlang', 'ud']\n",
      "WARNING:root:updated cache in cache/UD_Fourlang.json\n"
     ]
    },
    {
     "name": "stdout",
     "output_type": "stream",
     "text": [
      "[['Morgan Freeman is act a Wolverine', 'Morgan Freeman is playing Wolverine'], ['Morgan Freeman is c a Wolverine', 'Morgan Freeman is playing Wolverine'], ['Morgan Freeman is select a Wolverine', 'Morgan Freeman is playing Wolverine']]\n",
      "Morgan Freeman is casting a Wolverine\n",
      "reduced: tensor([2, 2, 2])\n"
     ]
    },
    {
     "name": "stderr",
     "output_type": "stream",
     "text": [
      "WARNING:root:loaded cache from cache/UD_Fourlang.json with interpretations: ['fourlang', 'ud']\n",
      "WARNING:root:updated cache in cache/UD_Fourlang.json\n"
     ]
    },
    {
     "name": "stdout",
     "output_type": "stream",
     "text": [
      "True found..\n",
      "True found..\n",
      "True found..\n"
     ]
    },
    {
     "name": "stderr",
     "output_type": "stream",
     "text": [
      "WARNING:root:loaded cache from cache/UD_Fourlang.json with interpretations: ['fourlang', 'ud']\n",
      "WARNING:root:updated cache in cache/UD_Fourlang.json\n",
      "WARNING:root:loaded cache from cache/UD_Fourlang.json with interpretations: ['fourlang', 'ud']\n",
      "WARNING:root:updated cache in cache/UD_Fourlang.json\n",
      "WARNING:root:loaded cache from cache/UD_Fourlang.json with interpretations: ['fourlang', 'ud']\n",
      "WARNING:root:updated cache in cache/UD_Fourlang.json\n",
      "WARNING:root:loaded cache from cache/UD_Fourlang.json with interpretations: ['fourlang', 'ud']\n",
      "WARNING:root:updated cache in cache/UD_Fourlang.json\n",
      "WARNING:root:loaded cache from cache/UD_Fourlang.json with interpretations: ['fourlang', 'ud']\n",
      "WARNING:root:updated cache in cache/UD_Fourlang.json\n",
      "WARNING:root:alto error\n",
      "WARNING:root:loaded cache from cache/UD_Fourlang.json with interpretations: ['fourlang', 'ud']\n",
      "WARNING:root:updated cache in cache/UD_Fourlang.json\n",
      "WARNING:root:alto error\n",
      "WARNING:root:loaded cache from cache/UD_Fourlang.json with interpretations: ['fourlang', 'ud']\n",
      "WARNING:root:updated cache in cache/UD_Fourlang.json\n"
     ]
    },
    {
     "name": "stdout",
     "output_type": "stream",
     "text": [
      "True found..\n",
      "True found..\n",
      "True found..\n"
     ]
    },
    {
     "name": "stderr",
     "output_type": "stream",
     "text": [
      "WARNING:root:loaded cache from cache/UD_Fourlang.json with interpretations: ['fourlang', 'ud']\n",
      "WARNING:root:updated cache in cache/UD_Fourlang.json\n"
     ]
    },
    {
     "name": "stdout",
     "output_type": "stream",
     "text": [
      "[['United States of America is give United States of America', 'United States of America is giving United States of America'], ['United States of America is State United States of America', 'United States of America is giving United States of America'], ['United States of America is Q30 United States of America', 'United States of America is giving United States of America']]\n",
      "United States of America is abandoning United States of America\n",
      "reduced: tensor([2, 2, 2])\n",
      "True found..\n"
     ]
    },
    {
     "name": "stderr",
     "output_type": "stream",
     "text": [
      "WARNING:root:loaded cache from cache/UD_Fourlang.json with interpretations: ['fourlang', 'ud']\n",
      "WARNING:root:updated cache in cache/UD_Fourlang.json\n",
      "WARNING:root:loaded cache from cache/UD_Fourlang.json with interpretations: ['fourlang', 'ud']\n",
      "WARNING:root:updated cache in cache/UD_Fourlang.json\n",
      "WARNING:root:loaded cache from cache/UD_Fourlang.json with interpretations: ['fourlang', 'ud']\n",
      "WARNING:root:updated cache in cache/UD_Fourlang.json\n",
      "WARNING:root:alto error\n",
      "WARNING:root:loaded cache from cache/UD_Fourlang.json with interpretations: ['fourlang', 'ud']\n",
      "WARNING:root:updated cache in cache/UD_Fourlang.json\n",
      "WARNING:root:loaded cache from cache/UD_Fourlang.json with interpretations: ['fourlang', 'ud']\n",
      "WARNING:root:updated cache in cache/UD_Fourlang.json\n",
      "WARNING:root:loaded cache from cache/UD_Fourlang.json with interpretations: ['fourlang', 'ud']\n",
      "WARNING:root:updated cache in cache/UD_Fourlang.json\n"
     ]
    },
    {
     "name": "stdout",
     "output_type": "stream",
     "text": [
      "True found..\n"
     ]
    },
    {
     "name": "stderr",
     "output_type": "stream",
     "text": [
      "WARNING:root:loaded cache from cache/UD_Fourlang.json with interpretations: ['fourlang', 'ud']\n",
      "WARNING:root:updated cache in cache/UD_Fourlang.json\n",
      "WARNING:root:loaded cache from cache/UD_Fourlang.json with interpretations: ['fourlang', 'ud']\n",
      "WARNING:root:updated cache in cache/UD_Fourlang.json\n",
      "WARNING:root:loaded cache from cache/UD_Fourlang.json with interpretations: ['fourlang', 'ud']\n",
      "WARNING:root:updated cache in cache/UD_Fourlang.json\n"
     ]
    },
    {
     "name": "stdout",
     "output_type": "stream",
     "text": [
      "True found..\n",
      "True found..\n",
      "True found..\n",
      "True found..\n",
      "True found..\n"
     ]
    },
    {
     "name": "stderr",
     "output_type": "stream",
     "text": [
      "WARNING:root:loaded cache from cache/UD_Fourlang.json with interpretations: ['fourlang', 'ud']\n",
      "WARNING:root:updated cache in cache/UD_Fourlang.json\n"
     ]
    },
    {
     "name": "stdout",
     "output_type": "stream",
     "text": [
      "[['Japan is follow in United States of America', 'Japan is coming to United States of America'], ['Japan is q17 in United States of America', 'Japan is coming to United States of America'], ['Japan is come in United States of America', 'Japan is coming to United States of America'], ['Japan is take in United States of America', 'Japan is coming to United States of America'], ['Japan is after in United States of America', 'Japan is coming to United States of America'], ['Japan is hence in United States of America', 'Japan is coming to United States of America'], ['Japan is next in United States of America', 'Japan is coming to United States of America'], ['Japan is locate in United States of America', 'Japan is coming to United States of America']]\n",
      "Japan is succeeding in United States of America\n",
      "reduced: tensor([2, 2, 2, 2, 2, 2, 2, 1])\n",
      "True found..\n"
     ]
    },
    {
     "name": "stderr",
     "output_type": "stream",
     "text": [
      "WARNING:root:loaded cache from cache/UD_Fourlang.json with interpretations: ['fourlang', 'ud']\n",
      "WARNING:root:updated cache in cache/UD_Fourlang.json\n",
      "WARNING:root:loaded cache from cache/UD_Fourlang.json with interpretations: ['fourlang', 'ud']\n",
      "WARNING:root:updated cache in cache/UD_Fourlang.json\n",
      "WARNING:root:loaded cache from cache/UD_Fourlang.json with interpretations: ['fourlang', 'ud']\n",
      "WARNING:root:updated cache in cache/UD_Fourlang.json\n",
      "WARNING:root:alto error\n",
      "WARNING:root:loaded cache from cache/UD_Fourlang.json with interpretations: ['fourlang', 'ud']\n",
      "WARNING:root:updated cache in cache/UD_Fourlang.json\n"
     ]
    },
    {
     "name": "stdout",
     "output_type": "stream",
     "text": [
      "True found..\n",
      "True found..\n"
     ]
    },
    {
     "name": "stderr",
     "output_type": "stream",
     "text": [
      "WARNING:root:loaded cache from cache/UD_Fourlang.json with interpretations: ['fourlang', 'ud']\n",
      "WARNING:root:updated cache in cache/UD_Fourlang.json\n"
     ]
    },
    {
     "name": "stdout",
     "output_type": "stream",
     "text": [
      "True found..\n",
      "True found..\n"
     ]
    },
    {
     "name": "stderr",
     "output_type": "stream",
     "text": [
      "WARNING:root:loaded cache from cache/UD_Fourlang.json with interpretations: ['fourlang', 'ud']\n",
      "WARNING:root:updated cache in cache/UD_Fourlang.json\n"
     ]
    },
    {
     "name": "stdout",
     "output_type": "stream",
     "text": [
      "True found..\n",
      "True found..\n",
      "True found..\n",
      "True found..\n"
     ]
    },
    {
     "name": "stderr",
     "output_type": "stream",
     "text": [
      "WARNING:root:loaded cache from cache/UD_Fourlang.json with interpretations: ['fourlang', 'ud']\n",
      "WARNING:root:updated cache in cache/UD_Fourlang.json\n",
      "WARNING:root:loaded cache from cache/UD_Fourlang.json with interpretations: ['fourlang', 'ud']\n",
      "WARNING:root:updated cache in cache/UD_Fourlang.json\n"
     ]
    },
    {
     "name": "stdout",
     "output_type": "stream",
     "text": [
      "True found..\n",
      "True found..\n"
     ]
    },
    {
     "name": "stderr",
     "output_type": "stream",
     "text": [
      "WARNING:root:loaded cache from cache/UD_Fourlang.json with interpretations: ['fourlang', 'ud']\n",
      "WARNING:root:updated cache in cache/UD_Fourlang.json\n",
      "WARNING:root:loaded cache from cache/UD_Fourlang.json with interpretations: ['fourlang', 'ud']\n",
      "WARNING:root:updated cache in cache/UD_Fourlang.json\n"
     ]
    },
    {
     "name": "stdout",
     "output_type": "stream",
     "text": [
      "True found..\n",
      "True found..\n",
      "True found..\n"
     ]
    },
    {
     "name": "stderr",
     "output_type": "stream",
     "text": [
      "WARNING:root:loaded cache from cache/UD_Fourlang.json with interpretations: ['fourlang', 'ud']\n",
      "WARNING:root:updated cache in cache/UD_Fourlang.json\n",
      "WARNING:root:loaded cache from cache/UD_Fourlang.json with interpretations: ['fourlang', 'ud']\n",
      "WARNING:root:updated cache in cache/UD_Fourlang.json\n",
      "WARNING:root:loaded cache from cache/UD_Fourlang.json with interpretations: ['fourlang', 'ud']\n",
      "WARNING:root:updated cache in cache/UD_Fourlang.json\n",
      "WARNING:root:alto error\n",
      "WARNING:root:loaded cache from cache/UD_Fourlang.json with interpretations: ['fourlang', 'ud']\n",
      "WARNING:root:updated cache in cache/UD_Fourlang.json\n",
      "WARNING:root:loaded cache from cache/UD_Fourlang.json with interpretations: ['fourlang', 'ud']\n",
      "WARNING:root:updated cache in cache/UD_Fourlang.json\n"
     ]
    },
    {
     "name": "stdout",
     "output_type": "stream",
     "text": [
      "True found..\n",
      "True found..\n",
      "True found..\n",
      "True found..\n",
      "True found..\n"
     ]
    },
    {
     "name": "stderr",
     "output_type": "stream",
     "text": [
      "WARNING:root:loaded cache from cache/UD_Fourlang.json with interpretations: ['fourlang', 'ud']\n",
      "WARNING:root:updated cache in cache/UD_Fourlang.json\n",
      "WARNING:root:loaded cache from cache/UD_Fourlang.json with interpretations: ['fourlang', 'ud']\n",
      "WARNING:root:updated cache in cache/UD_Fourlang.json\n",
      "WARNING:root:loaded cache from cache/UD_Fourlang.json with interpretations: ['fourlang', 'ud']\n",
      "WARNING:root:updated cache in cache/UD_Fourlang.json\n",
      "WARNING:root:alto error\n",
      "WARNING:root:loaded cache from cache/UD_Fourlang.json with interpretations: ['fourlang', 'ud']\n",
      "WARNING:root:updated cache in cache/UD_Fourlang.json\n",
      "WARNING:root:alto error\n",
      "WARNING:root:loaded cache from cache/UD_Fourlang.json with interpretations: ['fourlang', 'ud']\n",
      "WARNING:root:updated cache in cache/UD_Fourlang.json\n"
     ]
    },
    {
     "name": "stdout",
     "output_type": "stream",
     "text": [
      "True found..\n",
      "True found..\n",
      "True found..\n",
      "True found..\n",
      "True found..\n",
      "True found..\n"
     ]
    },
    {
     "name": "stderr",
     "output_type": "stream",
     "text": [
      "WARNING:root:loaded cache from cache/UD_Fourlang.json with interpretations: ['fourlang', 'ud']\n",
      "WARNING:root:updated cache in cache/UD_Fourlang.json\n",
      "WARNING:root:loaded cache from cache/UD_Fourlang.json with interpretations: ['fourlang', 'ud']\n",
      "WARNING:root:updated cache in cache/UD_Fourlang.json\n",
      "WARNING:root:alto error\n",
      "WARNING:root:loaded cache from cache/UD_Fourlang.json with interpretations: ['fourlang', 'ud']\n",
      "WARNING:root:updated cache in cache/UD_Fourlang.json\n",
      "WARNING:root:loaded cache from cache/UD_Fourlang.json with interpretations: ['fourlang', 'ud']\n",
      "WARNING:root:updated cache in cache/UD_Fourlang.json\n",
      "WARNING:root:alto error\n",
      "WARNING:root:loaded cache from cache/UD_Fourlang.json with interpretations: ['fourlang', 'ud']\n",
      "WARNING:root:updated cache in cache/UD_Fourlang.json\n",
      "WARNING:root:loaded cache from cache/UD_Fourlang.json with interpretations: ['fourlang', 'ud']\n",
      "WARNING:root:updated cache in cache/UD_Fourlang.json\n",
      "WARNING:root:alto error\n",
      "WARNING:root:loaded cache from cache/UD_Fourlang.json with interpretations: ['fourlang', 'ud']\n",
      "WARNING:root:updated cache in cache/UD_Fourlang.json\n",
      "WARNING:root:alto error\n",
      "WARNING:root:loaded cache from cache/UD_Fourlang.json with interpretations: ['fourlang', 'ud']\n",
      "WARNING:root:updated cache in cache/UD_Fourlang.json\n",
      "WARNING:root:loaded cache from cache/UD_Fourlang.json with interpretations: ['fourlang', 'ud']\n",
      "WARNING:root:updated cache in cache/UD_Fourlang.json\n"
     ]
    },
    {
     "name": "stdout",
     "output_type": "stream",
     "text": [
      "True found..\n",
      "True found..\n"
     ]
    },
    {
     "name": "stderr",
     "output_type": "stream",
     "text": [
      "WARNING:root:loaded cache from cache/UD_Fourlang.json with interpretations: ['fourlang', 'ud']\n",
      "WARNING:root:updated cache in cache/UD_Fourlang.json\n",
      "WARNING:root:loaded cache from cache/UD_Fourlang.json with interpretations: ['fourlang', 'ud']\n",
      "WARNING:root:updated cache in cache/UD_Fourlang.json\n",
      "WARNING:root:loaded cache from cache/UD_Fourlang.json with interpretations: ['fourlang', 'ud']\n",
      "WARNING:root:updated cache in cache/UD_Fourlang.json\n"
     ]
    },
    {
     "name": "stdout",
     "output_type": "stream",
     "text": [
      "True found..\n",
      "True found..\n",
      "True found..\n",
      "True found..\n",
      "True found..\n"
     ]
    },
    {
     "name": "stderr",
     "output_type": "stream",
     "text": [
      "WARNING:root:loaded cache from cache/UD_Fourlang.json with interpretations: ['fourlang', 'ud']\n",
      "WARNING:root:updated cache in cache/UD_Fourlang.json\n",
      "WARNING:root:loaded cache from cache/UD_Fourlang.json with interpretations: ['fourlang', 'ud']\n",
      "WARNING:root:updated cache in cache/UD_Fourlang.json\n",
      "WARNING:root:alto error\n",
      "WARNING:root:loaded cache from cache/UD_Fourlang.json with interpretations: ['fourlang', 'ud']\n",
      "WARNING:root:updated cache in cache/UD_Fourlang.json\n",
      "WARNING:root:loaded cache from cache/UD_Fourlang.json with interpretations: ['fourlang', 'ud']\n",
      "WARNING:root:updated cache in cache/UD_Fourlang.json\n",
      "WARNING:root:loaded cache from cache/UD_Fourlang.json with interpretations: ['fourlang', 'ud']\n",
      "WARNING:root:updated cache in cache/UD_Fourlang.json\n",
      "WARNING:root:loaded cache from cache/UD_Fourlang.json with interpretations: ['fourlang', 'ud']\n",
      "WARNING:root:updated cache in cache/UD_Fourlang.json\n"
     ]
    },
    {
     "name": "stdout",
     "output_type": "stream",
     "text": [
      "True found..\n"
     ]
    },
    {
     "name": "stderr",
     "output_type": "stream",
     "text": [
      "WARNING:root:loaded cache from cache/UD_Fourlang.json with interpretations: ['fourlang', 'ud']\n",
      "WARNING:root:updated cache in cache/UD_Fourlang.json\n"
     ]
    },
    {
     "name": "stdout",
     "output_type": "stream",
     "text": [
      "True found..\n",
      "True found..\n",
      "True found..\n"
     ]
    },
    {
     "name": "stderr",
     "output_type": "stream",
     "text": [
      "WARNING:root:loaded cache from cache/UD_Fourlang.json with interpretations: ['fourlang', 'ud']\n",
      "WARNING:root:updated cache in cache/UD_Fourlang.json\n"
     ]
    },
    {
     "name": "stdout",
     "output_type": "stream",
     "text": [
      "True found..\n"
     ]
    },
    {
     "name": "stderr",
     "output_type": "stream",
     "text": [
      "WARNING:root:loaded cache from cache/UD_Fourlang.json with interpretations: ['fourlang', 'ud']\n",
      "WARNING:root:updated cache in cache/UD_Fourlang.json\n",
      "WARNING:root:loaded cache from cache/UD_Fourlang.json with interpretations: ['fourlang', 'ud']\n",
      "WARNING:root:updated cache in cache/UD_Fourlang.json\n",
      "WARNING:root:loaded cache from cache/UD_Fourlang.json with interpretations: ['fourlang', 'ud']\n",
      "WARNING:root:updated cache in cache/UD_Fourlang.json\n",
      "WARNING:root:loaded cache from cache/UD_Fourlang.json with interpretations: ['fourlang', 'ud']\n",
      "WARNING:root:updated cache in cache/UD_Fourlang.json\n"
     ]
    },
    {
     "name": "stdout",
     "output_type": "stream",
     "text": [
      "True found..\n"
     ]
    },
    {
     "name": "stderr",
     "output_type": "stream",
     "text": [
      "WARNING:root:loaded cache from cache/UD_Fourlang.json with interpretations: ['fourlang', 'ud']\n",
      "WARNING:root:updated cache in cache/UD_Fourlang.json\n",
      "WARNING:root:loaded cache from cache/UD_Fourlang.json with interpretations: ['fourlang', 'ud']\n",
      "WARNING:root:updated cache in cache/UD_Fourlang.json\n",
      "WARNING:root:alto error\n",
      "WARNING:root:loaded cache from cache/UD_Fourlang.json with interpretations: ['fourlang', 'ud']\n",
      "WARNING:root:updated cache in cache/UD_Fourlang.json\n",
      "WARNING:root:loaded cache from cache/UD_Fourlang.json with interpretations: ['fourlang', 'ud']\n",
      "WARNING:root:updated cache in cache/UD_Fourlang.json\n",
      "WARNING:root:alto error\n",
      "WARNING:root:loaded cache from cache/UD_Fourlang.json with interpretations: ['fourlang', 'ud']\n",
      "WARNING:root:updated cache in cache/UD_Fourlang.json\n",
      "WARNING:root:loaded cache from cache/UD_Fourlang.json with interpretations: ['fourlang', 'ud']\n",
      "WARNING:root:updated cache in cache/UD_Fourlang.json\n",
      "WARNING:root:loaded cache from cache/UD_Fourlang.json with interpretations: ['fourlang', 'ud']\n",
      "WARNING:root:updated cache in cache/UD_Fourlang.json\n"
     ]
    },
    {
     "name": "stdout",
     "output_type": "stream",
     "text": [
      "[['United Kingdom is person in Spain', 'Spain is taking United Kingdom'], ['United Kingdom is Q29cont in Spain', 'Spain is taking United Kingdom'], ['United Kingdom is realm in Spain', 'Spain is taking United Kingdom'], ['United Kingdom is invest in Spain', 'Spain is taking United Kingdom'], ['United Kingdom is make in Spain', 'Spain is taking United Kingdom'], ['United Kingdom is most in Spain', 'Spain is taking United Kingdom'], ['United Kingdom is peninsula in Spain', 'Spain is taking United Kingdom'], ['United Kingdom is have in Spain', 'Spain is taking United Kingdom']]\n",
      "United Kingdom is investor in Spain\n",
      "reduced: tensor([2, 2, 2, 0, 2, 2, 2, 2])\n"
     ]
    },
    {
     "name": "stderr",
     "output_type": "stream",
     "text": [
      "WARNING:root:loaded cache from cache/UD_Fourlang.json with interpretations: ['fourlang', 'ud']\n",
      "WARNING:root:updated cache in cache/UD_Fourlang.json\n",
      "WARNING:root:loaded cache from cache/UD_Fourlang.json with interpretations: ['fourlang', 'ud']\n",
      "WARNING:root:updated cache in cache/UD_Fourlang.json\n",
      "WARNING:root:alto error\n",
      "WARNING:root:loaded cache from cache/UD_Fourlang.json with interpretations: ['fourlang', 'ud']\n",
      "WARNING:root:updated cache in cache/UD_Fourlang.json\n",
      "WARNING:root:loaded cache from cache/UD_Fourlang.json with interpretations: ['fourlang', 'ud']\n",
      "WARNING:root:updated cache in cache/UD_Fourlang.json\n",
      "WARNING:root:loaded cache from cache/UD_Fourlang.json with interpretations: ['fourlang', 'ud']\n",
      "WARNING:root:updated cache in cache/UD_Fourlang.json\n",
      "WARNING:root:alto error\n",
      "WARNING:root:loaded cache from cache/UD_Fourlang.json with interpretations: ['fourlang', 'ud']\n",
      "WARNING:root:updated cache in cache/UD_Fourlang.json\n",
      "WARNING:root:loaded cache from cache/UD_Fourlang.json with interpretations: ['fourlang', 'ud']\n",
      "WARNING:root:updated cache in cache/UD_Fourlang.json\n",
      "WARNING:root:loaded cache from cache/UD_Fourlang.json with interpretations: ['fourlang', 'ud']\n",
      "WARNING:root:updated cache in cache/UD_Fourlang.json\n",
      "WARNING:root:loaded cache from cache/UD_Fourlang.json with interpretations: ['fourlang', 'ud']\n",
      "WARNING:root:updated cache in cache/UD_Fourlang.json\n"
     ]
    },
    {
     "name": "stdout",
     "output_type": "stream",
     "text": [
      "True found..\n"
     ]
    },
    {
     "name": "stderr",
     "output_type": "stream",
     "text": [
      "WARNING:root:loaded cache from cache/UD_Fourlang.json with interpretations: ['fourlang', 'ud']\n",
      "WARNING:root:updated cache in cache/UD_Fourlang.json\n",
      "WARNING:root:loaded cache from cache/UD_Fourlang.json with interpretations: ['fourlang', 'ud']\n",
      "WARNING:root:updated cache in cache/UD_Fourlang.json\n",
      "WARNING:root:loaded cache from cache/UD_Fourlang.json with interpretations: ['fourlang', 'ud']\n",
      "WARNING:root:updated cache in cache/UD_Fourlang.json\n"
     ]
    },
    {
     "name": "stdout",
     "output_type": "stream",
     "text": [
      "True found..\n"
     ]
    },
    {
     "name": "stderr",
     "output_type": "stream",
     "text": [
      "WARNING:root:loaded cache from cache/UD_Fourlang.json with interpretations: ['fourlang', 'ud']\n",
      "WARNING:root:updated cache in cache/UD_Fourlang.json\n"
     ]
    },
    {
     "name": "stdout",
     "output_type": "stream",
     "text": [
      "True found..\n"
     ]
    },
    {
     "name": "stderr",
     "output_type": "stream",
     "text": [
      "WARNING:root:alto error\n",
      "WARNING:root:loaded cache from cache/UD_Fourlang.json with interpretations: ['fourlang', 'ud']\n",
      "WARNING:root:updated cache in cache/UD_Fourlang.json\n"
     ]
    },
    {
     "name": "stdout",
     "output_type": "stream",
     "text": [
      "True found..\n",
      "True found..\n",
      "True found..\n"
     ]
    },
    {
     "name": "stderr",
     "output_type": "stream",
     "text": [
      "WARNING:root:loaded cache from cache/UD_Fourlang.json with interpretations: ['fourlang', 'ud']\n",
      "WARNING:root:updated cache in cache/UD_Fourlang.json\n",
      "WARNING:root:alto error\n",
      "WARNING:root:loaded cache from cache/UD_Fourlang.json with interpretations: ['fourlang', 'ud']\n",
      "WARNING:root:updated cache in cache/UD_Fourlang.json\n",
      "WARNING:root:alto error\n",
      "WARNING:root:loaded cache from cache/UD_Fourlang.json with interpretations: ['fourlang', 'ud']\n",
      "WARNING:root:updated cache in cache/UD_Fourlang.json\n",
      "WARNING:root:loaded cache from cache/UD_Fourlang.json with interpretations: ['fourlang', 'ud']\n",
      "WARNING:root:updated cache in cache/UD_Fourlang.json\n"
     ]
    },
    {
     "name": "stdout",
     "output_type": "stream",
     "text": [
      "True found..\n"
     ]
    },
    {
     "name": "stderr",
     "output_type": "stream",
     "text": [
      "WARNING:root:loaded cache from cache/UD_Fourlang.json with interpretations: ['fourlang', 'ud']\n",
      "WARNING:root:updated cache in cache/UD_Fourlang.json\n",
      "WARNING:root:loaded cache from cache/UD_Fourlang.json with interpretations: ['fourlang', 'ud']\n",
      "WARNING:root:updated cache in cache/UD_Fourlang.json\n",
      "WARNING:root:loaded cache from cache/UD_Fourlang.json with interpretations: ['fourlang', 'ud']\n",
      "WARNING:root:updated cache in cache/UD_Fourlang.json\n"
     ]
    },
    {
     "name": "stdout",
     "output_type": "stream",
     "text": [
      "True found..\n",
      "True found..\n"
     ]
    },
    {
     "name": "stderr",
     "output_type": "stream",
     "text": [
      "WARNING:root:loaded cache from cache/UD_Fourlang.json with interpretations: ['fourlang', 'ud']\n",
      "WARNING:root:updated cache in cache/UD_Fourlang.json\n",
      "WARNING:root:loaded cache from cache/UD_Fourlang.json with interpretations: ['fourlang', 'ud']\n",
      "WARNING:root:updated cache in cache/UD_Fourlang.json\n",
      "WARNING:root:loaded cache from cache/UD_Fourlang.json with interpretations: ['fourlang', 'ud']\n",
      "WARNING:root:updated cache in cache/UD_Fourlang.json\n",
      "WARNING:root:loaded cache from cache/UD_Fourlang.json with interpretations: ['fourlang', 'ud']\n",
      "WARNING:root:updated cache in cache/UD_Fourlang.json\n",
      "WARNING:root:loaded cache from cache/UD_Fourlang.json with interpretations: ['fourlang', 'ud']\n",
      "WARNING:root:updated cache in cache/UD_Fourlang.json\n",
      "WARNING:root:loaded cache from cache/UD_Fourlang.json with interpretations: ['fourlang', 'ud']\n",
      "WARNING:root:updated cache in cache/UD_Fourlang.json\n",
      "WARNING:root:alto error\n",
      "WARNING:root:loaded cache from cache/UD_Fourlang.json with interpretations: ['fourlang', 'ud']\n",
      "WARNING:root:updated cache in cache/UD_Fourlang.json\n",
      "WARNING:root:loaded cache from cache/UD_Fourlang.json with interpretations: ['fourlang', 'ud']\n",
      "WARNING:root:updated cache in cache/UD_Fourlang.json\n",
      "WARNING:root:loaded cache from cache/UD_Fourlang.json with interpretations: ['fourlang', 'ud']\n",
      "WARNING:root:updated cache in cache/UD_Fourlang.json\n",
      "WARNING:root:loaded cache from cache/UD_Fourlang.json with interpretations: ['fourlang', 'ud']\n",
      "WARNING:root:updated cache in cache/UD_Fourlang.json\n"
     ]
    },
    {
     "name": "stdout",
     "output_type": "stream",
     "text": [
      "True found..\n",
      "True found..\n",
      "True found..\n",
      "True found..\n",
      "True found..\n"
     ]
    },
    {
     "name": "stderr",
     "output_type": "stream",
     "text": [
      "WARNING:root:loaded cache from cache/UD_Fourlang.json with interpretations: ['fourlang', 'ud']\n",
      "WARNING:root:updated cache in cache/UD_Fourlang.json\n"
     ]
    },
    {
     "name": "stdout",
     "output_type": "stream",
     "text": [
      "True found..\n"
     ]
    },
    {
     "name": "stderr",
     "output_type": "stream",
     "text": [
      "WARNING:root:loaded cache from cache/UD_Fourlang.json with interpretations: ['fourlang', 'ud']\n",
      "WARNING:root:updated cache in cache/UD_Fourlang.json\n"
     ]
    },
    {
     "name": "stdout",
     "output_type": "stream",
     "text": [
      "[['Melbourne is bigger of Tamil Nadu', 'Melbourne is capital of state of Tamil Nadu'], ['Melbourne is c of Tamil Nadu', 'Melbourne is capital of state of Tamil Nadu'], ['Melbourne is settlement of Tamil Nadu', 'Melbourne is capital of state of Tamil Nadu'], ['Melbourne is large of Tamil Nadu', 'Melbourne is capital of state of Tamil Nadu']]\n",
      "Melbourne is city of Tamil Nadu\n",
      "reduced: tensor([1, 2, 2, 1])\n"
     ]
    },
    {
     "name": "stderr",
     "output_type": "stream",
     "text": [
      "WARNING:root:loaded cache from cache/UD_Fourlang.json with interpretations: ['fourlang', 'ud']\n",
      "WARNING:root:updated cache in cache/UD_Fourlang.json\n",
      "WARNING:root:loaded cache from cache/UD_Fourlang.json with interpretations: ['fourlang', 'ud']\n",
      "WARNING:root:updated cache in cache/UD_Fourlang.json\n"
     ]
    },
    {
     "name": "stdout",
     "output_type": "stream",
     "text": [
      "True found..\n",
      "True found..\n"
     ]
    },
    {
     "name": "stderr",
     "output_type": "stream",
     "text": [
      "WARNING:root:loaded cache from cache/UD_Fourlang.json with interpretations: ['fourlang', 'ud']\n",
      "WARNING:root:updated cache in cache/UD_Fourlang.json\n"
     ]
    },
    {
     "name": "stdout",
     "output_type": "stream",
     "text": [
      "True found..\n"
     ]
    },
    {
     "name": "stderr",
     "output_type": "stream",
     "text": [
      "WARNING:root:loaded cache from cache/UD_Fourlang.json with interpretations: ['fourlang', 'ud']\n",
      "WARNING:root:updated cache in cache/UD_Fourlang.json\n",
      "WARNING:root:loaded cache from cache/UD_Fourlang.json with interpretations: ['fourlang', 'ud']\n",
      "WARNING:root:updated cache in cache/UD_Fourlang.json\n"
     ]
    },
    {
     "name": "stdout",
     "output_type": "stream",
     "text": [
      "True found..\n"
     ]
    },
    {
     "name": "stderr",
     "output_type": "stream",
     "text": [
      "WARNING:root:loaded cache from cache/UD_Fourlang.json with interpretations: ['fourlang', 'ud']\n",
      "WARNING:root:updated cache in cache/UD_Fourlang.json\n",
      "WARNING:root:loaded cache from cache/UD_Fourlang.json with interpretations: ['fourlang', 'ud']\n",
      "WARNING:root:updated cache in cache/UD_Fourlang.json\n",
      "WARNING:root:loaded cache from cache/UD_Fourlang.json with interpretations: ['fourlang', 'ud']\n",
      "WARNING:root:updated cache in cache/UD_Fourlang.json\n",
      "WARNING:root:alto error\n",
      "WARNING:root:loaded cache from cache/UD_Fourlang.json with interpretations: ['fourlang', 'ud']\n",
      "WARNING:root:updated cache in cache/UD_Fourlang.json\n",
      "WARNING:root:loaded cache from cache/UD_Fourlang.json with interpretations: ['fourlang', 'ud']\n",
      "WARNING:root:updated cache in cache/UD_Fourlang.json\n"
     ]
    },
    {
     "name": "stdout",
     "output_type": "stream",
     "text": [
      "True found..\n",
      "True found..\n"
     ]
    },
    {
     "name": "stderr",
     "output_type": "stream",
     "text": [
      "WARNING:root:loaded cache from cache/UD_Fourlang.json with interpretations: ['fourlang', 'ud']\n",
      "WARNING:root:updated cache in cache/UD_Fourlang.json\n",
      "WARNING:root:loaded cache from cache/UD_Fourlang.json with interpretations: ['fourlang', 'ud']\n",
      "WARNING:root:updated cache in cache/UD_Fourlang.json\n"
     ]
    },
    {
     "name": "stdout",
     "output_type": "stream",
     "text": [
      "True found..\n",
      "True found..\n",
      "True found..\n",
      "True found..\n"
     ]
    },
    {
     "name": "stderr",
     "output_type": "stream",
     "text": [
      "WARNING:root:loaded cache from cache/UD_Fourlang.json with interpretations: ['fourlang', 'ud']\n",
      "WARNING:root:updated cache in cache/UD_Fourlang.json\n",
      "WARNING:root:loaded cache from cache/UD_Fourlang.json with interpretations: ['fourlang', 'ud']\n",
      "WARNING:root:updated cache in cache/UD_Fourlang.json\n",
      "WARNING:root:loaded cache from cache/UD_Fourlang.json with interpretations: ['fourlang', 'ud']\n",
      "WARNING:root:updated cache in cache/UD_Fourlang.json\n",
      "WARNING:root:alto error\n",
      "WARNING:root:loaded cache from cache/UD_Fourlang.json with interpretations: ['fourlang', 'ud']\n",
      "WARNING:root:updated cache in cache/UD_Fourlang.json\n",
      "WARNING:root:loaded cache from cache/UD_Fourlang.json with interpretations: ['fourlang', 'ud']\n",
      "WARNING:root:updated cache in cache/UD_Fourlang.json\n"
     ]
    },
    {
     "name": "stdout",
     "output_type": "stream",
     "text": [
      "True found..\n",
      "True found..\n"
     ]
    },
    {
     "name": "stderr",
     "output_type": "stream",
     "text": [
      "WARNING:root:loaded cache from cache/UD_Fourlang.json with interpretations: ['fourlang', 'ud']\n",
      "WARNING:root:updated cache in cache/UD_Fourlang.json\n"
     ]
    },
    {
     "name": "stdout",
     "output_type": "stream",
     "text": [
      "True found..\n",
      "True found..\n"
     ]
    },
    {
     "name": "stderr",
     "output_type": "stream",
     "text": [
      "WARNING:root:loaded cache from cache/UD_Fourlang.json with interpretations: ['fourlang', 'ud']\n",
      "WARNING:root:updated cache in cache/UD_Fourlang.json\n"
     ]
    },
    {
     "name": "stdout",
     "output_type": "stream",
     "text": [
      "True found..\n"
     ]
    },
    {
     "name": "stderr",
     "output_type": "stream",
     "text": [
      "WARNING:root:loaded cache from cache/UD_Fourlang.json with interpretations: ['fourlang', 'ud']\n",
      "WARNING:root:updated cache in cache/UD_Fourlang.json\n",
      "WARNING:root:alto error\n",
      "WARNING:root:loaded cache from cache/UD_Fourlang.json with interpretations: ['fourlang', 'ud']\n",
      "WARNING:root:updated cache in cache/UD_Fourlang.json\n"
     ]
    },
    {
     "name": "stdout",
     "output_type": "stream",
     "text": [
      "True found..\n"
     ]
    },
    {
     "name": "stderr",
     "output_type": "stream",
     "text": [
      "WARNING:root:loaded cache from cache/UD_Fourlang.json with interpretations: ['fourlang', 'ud']\n",
      "WARNING:root:updated cache in cache/UD_Fourlang.json\n",
      "WARNING:root:loaded cache from cache/UD_Fourlang.json with interpretations: ['fourlang', 'ud']\n",
      "WARNING:root:updated cache in cache/UD_Fourlang.json\n"
     ]
    },
    {
     "name": "stdout",
     "output_type": "stream",
     "text": [
      "True found..\n"
     ]
    },
    {
     "name": "stderr",
     "output_type": "stream",
     "text": [
      "WARNING:root:loaded cache from cache/UD_Fourlang.json with interpretations: ['fourlang', 'ud']\n",
      "WARNING:root:updated cache in cache/UD_Fourlang.json\n",
      "WARNING:root:alto error\n",
      "WARNING:root:loaded cache from cache/UD_Fourlang.json with interpretations: ['fourlang', 'ud']\n",
      "WARNING:root:updated cache in cache/UD_Fourlang.json\n"
     ]
    },
    {
     "name": "stdout",
     "output_type": "stream",
     "text": [
      "True found..\n"
     ]
    },
    {
     "name": "stderr",
     "output_type": "stream",
     "text": [
      "WARNING:root:loaded cache from cache/UD_Fourlang.json with interpretations: ['fourlang', 'ud']\n",
      "WARNING:root:updated cache in cache/UD_Fourlang.json\n",
      "WARNING:root:loaded cache from cache/UD_Fourlang.json with interpretations: ['fourlang', 'ud']\n",
      "WARNING:root:updated cache in cache/UD_Fourlang.json\n",
      "WARNING:root:loaded cache from cache/UD_Fourlang.json with interpretations: ['fourlang', 'ud']\n",
      "WARNING:root:updated cache in cache/UD_Fourlang.json\n",
      "WARNING:root:loaded cache from cache/UD_Fourlang.json with interpretations: ['fourlang', 'ud']\n",
      "WARNING:root:updated cache in cache/UD_Fourlang.json\n",
      "WARNING:root:loaded cache from cache/UD_Fourlang.json with interpretations: ['fourlang', 'ud']\n",
      "WARNING:root:updated cache in cache/UD_Fourlang.json\n",
      "WARNING:root:alto error\n",
      "WARNING:root:loaded cache from cache/UD_Fourlang.json with interpretations: ['fourlang', 'ud']\n",
      "WARNING:root:updated cache in cache/UD_Fourlang.json\n",
      "WARNING:root:alto error\n",
      "WARNING:root:loaded cache from cache/UD_Fourlang.json with interpretations: ['fourlang', 'ud']\n",
      "WARNING:root:updated cache in cache/UD_Fourlang.json\n"
     ]
    },
    {
     "name": "stdout",
     "output_type": "stream",
     "text": [
      "True found..\n",
      "True found..\n"
     ]
    },
    {
     "name": "stderr",
     "output_type": "stream",
     "text": [
      "WARNING:root:loaded cache from cache/UD_Fourlang.json with interpretations: ['fourlang', 'ud']\n",
      "WARNING:root:updated cache in cache/UD_Fourlang.json\n",
      "WARNING:root:loaded cache from cache/UD_Fourlang.json with interpretations: ['fourlang', 'ud']\n",
      "WARNING:root:updated cache in cache/UD_Fourlang.json\n",
      "WARNING:root:loaded cache from cache/UD_Fourlang.json with interpretations: ['fourlang', 'ud']\n",
      "WARNING:root:updated cache in cache/UD_Fourlang.json\n",
      "WARNING:root:loaded cache from cache/UD_Fourlang.json with interpretations: ['fourlang', 'ud']\n",
      "WARNING:root:updated cache in cache/UD_Fourlang.json\n",
      "WARNING:root:loaded cache from cache/UD_Fourlang.json with interpretations: ['fourlang', 'ud']\n",
      "WARNING:root:updated cache in cache/UD_Fourlang.json\n",
      "WARNING:root:alto error\n",
      "WARNING:root:loaded cache from cache/UD_Fourlang.json with interpretations: ['fourlang', 'ud']\n",
      "WARNING:root:updated cache in cache/UD_Fourlang.json\n",
      "WARNING:root:alto error\n",
      "WARNING:root:loaded cache from cache/UD_Fourlang.json with interpretations: ['fourlang', 'ud']\n",
      "WARNING:root:updated cache in cache/UD_Fourlang.json\n",
      "WARNING:root:alto error\n",
      "WARNING:root:loaded cache from cache/UD_Fourlang.json with interpretations: ['fourlang', 'ud']\n",
      "WARNING:root:updated cache in cache/UD_Fourlang.json\n",
      "WARNING:root:alto error\n",
      "WARNING:root:loaded cache from cache/UD_Fourlang.json with interpretations: ['fourlang', 'ud']\n",
      "WARNING:root:updated cache in cache/UD_Fourlang.json\n",
      "WARNING:root:alto error\n",
      "WARNING:root:loaded cache from cache/UD_Fourlang.json with interpretations: ['fourlang', 'ud']\n",
      "WARNING:root:updated cache in cache/UD_Fourlang.json\n",
      "WARNING:root:alto error\n",
      "WARNING:root:loaded cache from cache/UD_Fourlang.json with interpretations: ['fourlang', 'ud']\n",
      "WARNING:root:updated cache in cache/UD_Fourlang.json\n",
      "WARNING:root:loaded cache from cache/UD_Fourlang.json with interpretations: ['fourlang', 'ud']\n",
      "WARNING:root:updated cache in cache/UD_Fourlang.json\n"
     ]
    },
    {
     "name": "stdout",
     "output_type": "stream",
     "text": [
      "True found..\n"
     ]
    },
    {
     "name": "stderr",
     "output_type": "stream",
     "text": [
      "WARNING:root:loaded cache from cache/UD_Fourlang.json with interpretations: ['fourlang', 'ud']\n",
      "WARNING:root:updated cache in cache/UD_Fourlang.json\n",
      "WARNING:root:loaded cache from cache/UD_Fourlang.json with interpretations: ['fourlang', 'ud']\n",
      "WARNING:root:updated cache in cache/UD_Fourlang.json\n"
     ]
    },
    {
     "name": "stdout",
     "output_type": "stream",
     "text": [
      "True found..\n"
     ]
    },
    {
     "name": "stderr",
     "output_type": "stream",
     "text": [
      "WARNING:root:loaded cache from cache/UD_Fourlang.json with interpretations: ['fourlang', 'ud']\n",
      "WARNING:root:updated cache in cache/UD_Fourlang.json\n",
      "WARNING:root:loaded cache from cache/UD_Fourlang.json with interpretations: ['fourlang', 'ud']\n",
      "WARNING:root:updated cache in cache/UD_Fourlang.json\n",
      "WARNING:root:loaded cache from cache/UD_Fourlang.json with interpretations: ['fourlang', 'ud']\n",
      "WARNING:root:updated cache in cache/UD_Fourlang.json\n"
     ]
    },
    {
     "name": "stdout",
     "output_type": "stream",
     "text": [
      "True found..\n",
      "True found..\n"
     ]
    },
    {
     "name": "stderr",
     "output_type": "stream",
     "text": [
      "WARNING:root:loaded cache from cache/UD_Fourlang.json with interpretations: ['fourlang', 'ud']\n",
      "WARNING:root:updated cache in cache/UD_Fourlang.json\n",
      "WARNING:root:loaded cache from cache/UD_Fourlang.json with interpretations: ['fourlang', 'ud']\n",
      "WARNING:root:updated cache in cache/UD_Fourlang.json\n"
     ]
    },
    {
     "name": "stdout",
     "output_type": "stream",
     "text": [
      "True found..\n"
     ]
    },
    {
     "name": "stderr",
     "output_type": "stream",
     "text": [
      "WARNING:root:loaded cache from cache/UD_Fourlang.json with interpretations: ['fourlang', 'ud']\n",
      "WARNING:root:updated cache in cache/UD_Fourlang.json\n",
      "WARNING:root:loaded cache from cache/UD_Fourlang.json with interpretations: ['fourlang', 'ud']\n",
      "WARNING:root:updated cache in cache/UD_Fourlang.json\n"
     ]
    },
    {
     "name": "stdout",
     "output_type": "stream",
     "text": [
      "True found..\n",
      "True found..\n",
      "True found..\n",
      "True found..\n",
      "True found..\n",
      "True found..\n",
      "True found..\n",
      "True found..\n",
      "True found..\n"
     ]
    },
    {
     "name": "stderr",
     "output_type": "stream",
     "text": [
      "WARNING:root:loaded cache from cache/UD_Fourlang.json with interpretations: ['fourlang', 'ud']\n",
      "WARNING:root:updated cache in cache/UD_Fourlang.json\n",
      "WARNING:root:loaded cache from cache/UD_Fourlang.json with interpretations: ['fourlang', 'ud']\n",
      "WARNING:root:updated cache in cache/UD_Fourlang.json\n",
      "WARNING:root:alto error\n",
      "WARNING:root:loaded cache from cache/UD_Fourlang.json with interpretations: ['fourlang', 'ud']\n",
      "WARNING:root:updated cache in cache/UD_Fourlang.json\n"
     ]
    },
    {
     "name": "stdout",
     "output_type": "stream",
     "text": [
      "True found..\n"
     ]
    },
    {
     "name": "stderr",
     "output_type": "stream",
     "text": [
      "WARNING:root:loaded cache from cache/UD_Fourlang.json with interpretations: ['fourlang', 'ud']\n",
      "WARNING:root:updated cache in cache/UD_Fourlang.json\n",
      "WARNING:root:loaded cache from cache/UD_Fourlang.json with interpretations: ['fourlang', 'ud']\n",
      "WARNING:root:updated cache in cache/UD_Fourlang.json\n",
      "WARNING:root:alto error\n",
      "WARNING:root:loaded cache from cache/UD_Fourlang.json with interpretations: ['fourlang', 'ud']\n",
      "WARNING:root:updated cache in cache/UD_Fourlang.json\n"
     ]
    },
    {
     "name": "stdout",
     "output_type": "stream",
     "text": [
      "True found..\n"
     ]
    },
    {
     "name": "stderr",
     "output_type": "stream",
     "text": [
      "WARNING:root:loaded cache from cache/UD_Fourlang.json with interpretations: ['fourlang', 'ud']\n",
      "WARNING:root:updated cache in cache/UD_Fourlang.json\n"
     ]
    },
    {
     "name": "stdout",
     "output_type": "stream",
     "text": [
      "True found..\n"
     ]
    },
    {
     "name": "stderr",
     "output_type": "stream",
     "text": [
      "WARNING:root:loaded cache from cache/UD_Fourlang.json with interpretations: ['fourlang', 'ud']\n",
      "WARNING:root:updated cache in cache/UD_Fourlang.json\n",
      "WARNING:root:alto error\n",
      "WARNING:root:loaded cache from cache/UD_Fourlang.json with interpretations: ['fourlang', 'ud']\n",
      "WARNING:root:updated cache in cache/UD_Fourlang.json\n",
      "WARNING:root:loaded cache from cache/UD_Fourlang.json with interpretations: ['fourlang', 'ud']\n",
      "WARNING:root:updated cache in cache/UD_Fourlang.json\n",
      "WARNING:root:alto error\n",
      "WARNING:root:loaded cache from cache/UD_Fourlang.json with interpretations: ['fourlang', 'ud']\n",
      "WARNING:root:updated cache in cache/UD_Fourlang.json\n",
      "WARNING:root:alto error\n",
      "WARNING:root:loaded cache from cache/UD_Fourlang.json with interpretations: ['fourlang', 'ud']\n",
      "WARNING:root:updated cache in cache/UD_Fourlang.json\n",
      "WARNING:root:alto error\n",
      "WARNING:root:loaded cache from cache/UD_Fourlang.json with interpretations: ['fourlang', 'ud']\n",
      "WARNING:root:updated cache in cache/UD_Fourlang.json\n",
      "WARNING:root:loaded cache from cache/UD_Fourlang.json with interpretations: ['fourlang', 'ud']\n",
      "WARNING:root:updated cache in cache/UD_Fourlang.json\n",
      "WARNING:root:loaded cache from cache/UD_Fourlang.json with interpretations: ['fourlang', 'ud']\n",
      "WARNING:root:updated cache in cache/UD_Fourlang.json\n"
     ]
    },
    {
     "name": "stdout",
     "output_type": "stream",
     "text": [
      "[['Carthage is contend in Spain', 'Carthage is remaining in Spain'], ['Carthage is c in Spain', 'Carthage is remaining in Spain']]\n",
      "Carthage is fighting in Spain\n",
      "reduced: tensor([2, 2])\n",
      "True found..\n"
     ]
    },
    {
     "name": "stderr",
     "output_type": "stream",
     "text": [
      "WARNING:root:loaded cache from cache/UD_Fourlang.json with interpretations: ['fourlang', 'ud']\n",
      "WARNING:root:updated cache in cache/UD_Fourlang.json\n"
     ]
    },
    {
     "name": "stdout",
     "output_type": "stream",
     "text": [
      "True found..\n",
      "True found..\n"
     ]
    },
    {
     "name": "stderr",
     "output_type": "stream",
     "text": [
      "WARNING:root:loaded cache from cache/UD_Fourlang.json with interpretations: ['fourlang', 'ud']\n",
      "WARNING:root:updated cache in cache/UD_Fourlang.json\n"
     ]
    },
    {
     "name": "stdout",
     "output_type": "stream",
     "text": [
      "True found..\n"
     ]
    },
    {
     "name": "stderr",
     "output_type": "stream",
     "text": [
      "WARNING:root:loaded cache from cache/UD_Fourlang.json with interpretations: ['fourlang', 'ud']\n",
      "WARNING:root:updated cache in cache/UD_Fourlang.json\n",
      "WARNING:root:alto error\n",
      "WARNING:root:loaded cache from cache/UD_Fourlang.json with interpretations: ['fourlang', 'ud']\n",
      "WARNING:root:updated cache in cache/UD_Fourlang.json\n",
      "WARNING:root:loaded cache from cache/UD_Fourlang.json with interpretations: ['fourlang', 'ud']\n",
      "WARNING:root:updated cache in cache/UD_Fourlang.json\n",
      "WARNING:root:loaded cache from cache/UD_Fourlang.json with interpretations: ['fourlang', 'ud']\n",
      "WARNING:root:updated cache in cache/UD_Fourlang.json\n"
     ]
    },
    {
     "name": "stdout",
     "output_type": "stream",
     "text": [
      "True found..\n",
      "True found..\n",
      "True found..\n",
      "True found..\n",
      "True found..\n"
     ]
    },
    {
     "name": "stderr",
     "output_type": "stream",
     "text": [
      "WARNING:root:loaded cache from cache/UD_Fourlang.json with interpretations: ['fourlang', 'ud']\n",
      "WARNING:root:updated cache in cache/UD_Fourlang.json\n",
      "WARNING:root:loaded cache from cache/UD_Fourlang.json with interpretations: ['fourlang', 'ud']\n",
      "WARNING:root:updated cache in cache/UD_Fourlang.json\n"
     ]
    },
    {
     "name": "stdout",
     "output_type": "stream",
     "text": [
      "True found..\n",
      "True found..\n",
      "True found..\n"
     ]
    },
    {
     "name": "stderr",
     "output_type": "stream",
     "text": [
      "WARNING:root:loaded cache from cache/UD_Fourlang.json with interpretations: ['fourlang', 'ud']\n",
      "WARNING:root:updated cache in cache/UD_Fourlang.json\n",
      "WARNING:root:loaded cache from cache/UD_Fourlang.json with interpretations: ['fourlang', 'ud']\n",
      "WARNING:root:updated cache in cache/UD_Fourlang.json\n"
     ]
    },
    {
     "name": "stdout",
     "output_type": "stream",
     "text": [
      "True found..\n"
     ]
    },
    {
     "name": "stderr",
     "output_type": "stream",
     "text": [
      "WARNING:root:loaded cache from cache/UD_Fourlang.json with interpretations: ['fourlang', 'ud']\n",
      "WARNING:root:updated cache in cache/UD_Fourlang.json\n",
      "WARNING:root:loaded cache from cache/UD_Fourlang.json with interpretations: ['fourlang', 'ud']\n",
      "WARNING:root:updated cache in cache/UD_Fourlang.json\n",
      "WARNING:root:loaded cache from cache/UD_Fourlang.json with interpretations: ['fourlang', 'ud']\n",
      "WARNING:root:updated cache in cache/UD_Fourlang.json\n"
     ]
    },
    {
     "name": "stdout",
     "output_type": "stream",
     "text": [
      "True found..\n",
      "True found..\n",
      "True found..\n",
      "True found..\n",
      "True found..\n"
     ]
    },
    {
     "name": "stderr",
     "output_type": "stream",
     "text": [
      "WARNING:root:loaded cache from cache/UD_Fourlang.json with interpretations: ['fourlang', 'ud']\n",
      "WARNING:root:updated cache in cache/UD_Fourlang.json\n",
      "WARNING:root:loaded cache from cache/UD_Fourlang.json with interpretations: ['fourlang', 'ud']\n",
      "WARNING:root:updated cache in cache/UD_Fourlang.json\n",
      "WARNING:root:loaded cache from cache/UD_Fourlang.json with interpretations: ['fourlang', 'ud']\n",
      "WARNING:root:updated cache in cache/UD_Fourlang.json\n"
     ]
    },
    {
     "name": "stdout",
     "output_type": "stream",
     "text": [
      "True found..\n",
      "True found..\n"
     ]
    },
    {
     "name": "stderr",
     "output_type": "stream",
     "text": [
      "WARNING:root:loaded cache from cache/UD_Fourlang.json with interpretations: ['fourlang', 'ud']\n",
      "WARNING:root:updated cache in cache/UD_Fourlang.json\n"
     ]
    },
    {
     "name": "stdout",
     "output_type": "stream",
     "text": [
      "True found..\n"
     ]
    },
    {
     "name": "stderr",
     "output_type": "stream",
     "text": [
      "WARNING:root:loaded cache from cache/UD_Fourlang.json with interpretations: ['fourlang', 'ud']\n",
      "WARNING:root:updated cache in cache/UD_Fourlang.json\n",
      "WARNING:root:loaded cache from cache/UD_Fourlang.json with interpretations: ['fourlang', 'ud']\n",
      "WARNING:root:updated cache in cache/UD_Fourlang.json\n",
      "WARNING:root:alto error\n",
      "WARNING:root:loaded cache from cache/UD_Fourlang.json with interpretations: ['fourlang', 'ud']\n",
      "WARNING:root:updated cache in cache/UD_Fourlang.json\n",
      "WARNING:root:loaded cache from cache/UD_Fourlang.json with interpretations: ['fourlang', 'ud']\n",
      "WARNING:root:updated cache in cache/UD_Fourlang.json\n"
     ]
    },
    {
     "name": "stdout",
     "output_type": "stream",
     "text": [
      "True found..\n",
      "True found..\n"
     ]
    },
    {
     "name": "stderr",
     "output_type": "stream",
     "text": [
      "WARNING:root:loaded cache from cache/UD_Fourlang.json with interpretations: ['fourlang', 'ud']\n",
      "WARNING:root:updated cache in cache/UD_Fourlang.json\n",
      "WARNING:root:loaded cache from cache/UD_Fourlang.json with interpretations: ['fourlang', 'ud']\n",
      "WARNING:root:updated cache in cache/UD_Fourlang.json\n",
      "WARNING:root:loaded cache from cache/UD_Fourlang.json with interpretations: ['fourlang', 'ud']\n",
      "WARNING:root:updated cache in cache/UD_Fourlang.json\n"
     ]
    },
    {
     "name": "stdout",
     "output_type": "stream",
     "text": [
      "True found..\n",
      "True found..\n",
      "True found..\n",
      "True found..\n",
      "True found..\n"
     ]
    },
    {
     "name": "stderr",
     "output_type": "stream",
     "text": [
      "WARNING:root:loaded cache from cache/UD_Fourlang.json with interpretations: ['fourlang', 'ud']\n",
      "WARNING:root:updated cache in cache/UD_Fourlang.json\n"
     ]
    },
    {
     "name": "stdout",
     "output_type": "stream",
     "text": [
      "True found..\n"
     ]
    },
    {
     "name": "stderr",
     "output_type": "stream",
     "text": [
      "WARNING:root:loaded cache from cache/UD_Fourlang.json with interpretations: ['fourlang', 'ud']\n",
      "WARNING:root:updated cache in cache/UD_Fourlang.json\n",
      "WARNING:root:alto error\n",
      "WARNING:root:loaded cache from cache/UD_Fourlang.json with interpretations: ['fourlang', 'ud']\n",
      "WARNING:root:updated cache in cache/UD_Fourlang.json\n",
      "WARNING:root:alto error\n",
      "WARNING:root:loaded cache from cache/UD_Fourlang.json with interpretations: ['fourlang', 'ud']\n",
      "WARNING:root:updated cache in cache/UD_Fourlang.json\n",
      "WARNING:root:loaded cache from cache/UD_Fourlang.json with interpretations: ['fourlang', 'ud']\n",
      "WARNING:root:updated cache in cache/UD_Fourlang.json\n",
      "WARNING:root:loaded cache from cache/UD_Fourlang.json with interpretations: ['fourlang', 'ud']\n",
      "WARNING:root:updated cache in cache/UD_Fourlang.json\n"
     ]
    },
    {
     "name": "stdout",
     "output_type": "stream",
     "text": [
      "True found..\n",
      "True found..\n",
      "True found..\n",
      "True found..\n"
     ]
    },
    {
     "name": "stderr",
     "output_type": "stream",
     "text": [
      "WARNING:root:loaded cache from cache/UD_Fourlang.json with interpretations: ['fourlang', 'ud']\n",
      "WARNING:root:updated cache in cache/UD_Fourlang.json\n",
      "WARNING:root:alto error\n",
      "WARNING:root:loaded cache from cache/UD_Fourlang.json with interpretations: ['fourlang', 'ud']\n",
      "WARNING:root:updated cache in cache/UD_Fourlang.json\n",
      "WARNING:root:alto error\n",
      "WARNING:root:loaded cache from cache/UD_Fourlang.json with interpretations: ['fourlang', 'ud']\n",
      "WARNING:root:updated cache in cache/UD_Fourlang.json\n"
     ]
    },
    {
     "name": "stdout",
     "output_type": "stream",
     "text": [
      "True found..\n"
     ]
    },
    {
     "name": "stderr",
     "output_type": "stream",
     "text": [
      "WARNING:root:loaded cache from cache/UD_Fourlang.json with interpretations: ['fourlang', 'ud']\n",
      "WARNING:root:updated cache in cache/UD_Fourlang.json\n",
      "WARNING:root:loaded cache from cache/UD_Fourlang.json with interpretations: ['fourlang', 'ud']\n",
      "WARNING:root:updated cache in cache/UD_Fourlang.json\n",
      "WARNING:root:loaded cache from cache/UD_Fourlang.json with interpretations: ['fourlang', 'ud']\n",
      "WARNING:root:updated cache in cache/UD_Fourlang.json\n"
     ]
    },
    {
     "name": "stdout",
     "output_type": "stream",
     "text": [
      "True found..\n",
      "True found..\n"
     ]
    },
    {
     "name": "stderr",
     "output_type": "stream",
     "text": [
      "WARNING:root:loaded cache from cache/UD_Fourlang.json with interpretations: ['fourlang', 'ud']\n",
      "WARNING:root:updated cache in cache/UD_Fourlang.json\n",
      "WARNING:root:loaded cache from cache/UD_Fourlang.json with interpretations: ['fourlang', 'ud']\n",
      "WARNING:root:updated cache in cache/UD_Fourlang.json\n"
     ]
    },
    {
     "name": "stdout",
     "output_type": "stream",
     "text": [
      "True found..\n",
      "True found..\n",
      "True found..\n",
      "True found..\n"
     ]
    },
    {
     "name": "stderr",
     "output_type": "stream",
     "text": [
      "WARNING:root:loaded cache from cache/UD_Fourlang.json with interpretations: ['fourlang', 'ud']\n",
      "WARNING:root:updated cache in cache/UD_Fourlang.json\n"
     ]
    },
    {
     "name": "stdout",
     "output_type": "stream",
     "text": [
      "True found..\n",
      "True found..\n"
     ]
    },
    {
     "name": "stderr",
     "output_type": "stream",
     "text": [
      "WARNING:root:loaded cache from cache/UD_Fourlang.json with interpretations: ['fourlang', 'ud']\n",
      "WARNING:root:updated cache in cache/UD_Fourlang.json\n",
      "WARNING:root:loaded cache from cache/UD_Fourlang.json with interpretations: ['fourlang', 'ud']\n",
      "WARNING:root:updated cache in cache/UD_Fourlang.json\n",
      "WARNING:root:loaded cache from cache/UD_Fourlang.json with interpretations: ['fourlang', 'ud']\n",
      "WARNING:root:updated cache in cache/UD_Fourlang.json\n"
     ]
    },
    {
     "name": "stdout",
     "output_type": "stream",
     "text": [
      "True found..\n"
     ]
    },
    {
     "name": "stderr",
     "output_type": "stream",
     "text": [
      "WARNING:root:loaded cache from cache/UD_Fourlang.json with interpretations: ['fourlang', 'ud']\n",
      "WARNING:root:updated cache in cache/UD_Fourlang.json\n",
      "WARNING:root:loaded cache from cache/UD_Fourlang.json with interpretations: ['fourlang', 'ud']\n",
      "WARNING:root:updated cache in cache/UD_Fourlang.json\n",
      "WARNING:root:loaded cache from cache/UD_Fourlang.json with interpretations: ['fourlang', 'ud']\n",
      "WARNING:root:updated cache in cache/UD_Fourlang.json\n"
     ]
    },
    {
     "name": "stdout",
     "output_type": "stream",
     "text": [
      "True found..\n",
      "True found..\n",
      "True found..\n",
      "True found..\n"
     ]
    },
    {
     "name": "stderr",
     "output_type": "stream",
     "text": [
      "WARNING:root:loaded cache from cache/UD_Fourlang.json with interpretations: ['fourlang', 'ud']\n",
      "WARNING:root:updated cache in cache/UD_Fourlang.json\n"
     ]
    },
    {
     "name": "stdout",
     "output_type": "stream",
     "text": [
      "True found..\n"
     ]
    },
    {
     "name": "stderr",
     "output_type": "stream",
     "text": [
      "WARNING:root:loaded cache from cache/UD_Fourlang.json with interpretations: ['fourlang', 'ud']\n",
      "WARNING:root:updated cache in cache/UD_Fourlang.json\n",
      "WARNING:root:loaded cache from cache/UD_Fourlang.json with interpretations: ['fourlang', 'ud']\n",
      "WARNING:root:updated cache in cache/UD_Fourlang.json\n"
     ]
    },
    {
     "name": "stdout",
     "output_type": "stream",
     "text": [
      "True found..\n"
     ]
    },
    {
     "name": "stderr",
     "output_type": "stream",
     "text": [
      "WARNING:root:loaded cache from cache/UD_Fourlang.json with interpretations: ['fourlang', 'ud']\n",
      "WARNING:root:updated cache in cache/UD_Fourlang.json\n"
     ]
    },
    {
     "name": "stdout",
     "output_type": "stream",
     "text": [
      "True found..\n",
      "True found..\n",
      "True found..\n",
      "True found..\n",
      "True found..\n"
     ]
    },
    {
     "name": "stderr",
     "output_type": "stream",
     "text": [
      "WARNING:root:loaded cache from cache/UD_Fourlang.json with interpretations: ['fourlang', 'ud']\n",
      "WARNING:root:updated cache in cache/UD_Fourlang.json\n"
     ]
    },
    {
     "name": "stdout",
     "output_type": "stream",
     "text": [
      "True found..\n"
     ]
    },
    {
     "name": "stderr",
     "output_type": "stream",
     "text": [
      "WARNING:root:loaded cache from cache/UD_Fourlang.json with interpretations: ['fourlang', 'ud']\n",
      "WARNING:root:updated cache in cache/UD_Fourlang.json\n",
      "WARNING:root:alto error\n",
      "WARNING:root:loaded cache from cache/UD_Fourlang.json with interpretations: ['fourlang', 'ud']\n",
      "WARNING:root:updated cache in cache/UD_Fourlang.json\n",
      "WARNING:root:alto error\n",
      "WARNING:root:loaded cache from cache/UD_Fourlang.json with interpretations: ['fourlang', 'ud']\n",
      "WARNING:root:updated cache in cache/UD_Fourlang.json\n",
      "WARNING:root:alto error\n",
      "WARNING:root:loaded cache from cache/UD_Fourlang.json with interpretations: ['fourlang', 'ud']\n",
      "WARNING:root:updated cache in cache/UD_Fourlang.json\n",
      "WARNING:root:alto error\n",
      "WARNING:root:loaded cache from cache/UD_Fourlang.json with interpretations: ['fourlang', 'ud']\n",
      "WARNING:root:updated cache in cache/UD_Fourlang.json\n",
      "WARNING:root:alto error\n",
      "WARNING:root:loaded cache from cache/UD_Fourlang.json with interpretations: ['fourlang', 'ud']\n",
      "WARNING:root:updated cache in cache/UD_Fourlang.json\n",
      "WARNING:root:alto error\n",
      "WARNING:root:loaded cache from cache/UD_Fourlang.json with interpretations: ['fourlang', 'ud']\n",
      "WARNING:root:updated cache in cache/UD_Fourlang.json\n",
      "WARNING:root:alto error\n",
      "WARNING:root:loaded cache from cache/UD_Fourlang.json with interpretations: ['fourlang', 'ud']\n",
      "WARNING:root:updated cache in cache/UD_Fourlang.json\n",
      "WARNING:root:loaded cache from cache/UD_Fourlang.json with interpretations: ['fourlang', 'ud']\n",
      "WARNING:root:updated cache in cache/UD_Fourlang.json\n",
      "WARNING:root:loaded cache from cache/UD_Fourlang.json with interpretations: ['fourlang', 'ud']\n",
      "WARNING:root:updated cache in cache/UD_Fourlang.json\n"
     ]
    },
    {
     "name": "stdout",
     "output_type": "stream",
     "text": [
      "True found..\n",
      "True found..\n"
     ]
    },
    {
     "name": "stderr",
     "output_type": "stream",
     "text": [
      "WARNING:root:loaded cache from cache/UD_Fourlang.json with interpretations: ['fourlang', 'ud']\n",
      "WARNING:root:updated cache in cache/UD_Fourlang.json\n"
     ]
    },
    {
     "name": "stdout",
     "output_type": "stream",
     "text": [
      "True found..\n"
     ]
    },
    {
     "name": "stderr",
     "output_type": "stream",
     "text": [
      "WARNING:root:loaded cache from cache/UD_Fourlang.json with interpretations: ['fourlang', 'ud']\n",
      "WARNING:root:updated cache in cache/UD_Fourlang.json\n"
     ]
    },
    {
     "name": "stdout",
     "output_type": "stream",
     "text": [
      "True found..\n",
      "True found..\n",
      "True found..\n"
     ]
    },
    {
     "name": "stderr",
     "output_type": "stream",
     "text": [
      "WARNING:root:loaded cache from cache/UD_Fourlang.json with interpretations: ['fourlang', 'ud']\n",
      "WARNING:root:updated cache in cache/UD_Fourlang.json\n",
      "WARNING:root:loaded cache from cache/UD_Fourlang.json with interpretations: ['fourlang', 'ud']\n",
      "WARNING:root:updated cache in cache/UD_Fourlang.json\n"
     ]
    },
    {
     "name": "stdout",
     "output_type": "stream",
     "text": [
      "True found..\n"
     ]
    },
    {
     "name": "stderr",
     "output_type": "stream",
     "text": [
      "WARNING:root:loaded cache from cache/UD_Fourlang.json with interpretations: ['fourlang', 'ud']\n",
      "WARNING:root:updated cache in cache/UD_Fourlang.json\n",
      "WARNING:root:loaded cache from cache/UD_Fourlang.json with interpretations: ['fourlang', 'ud']\n",
      "WARNING:root:updated cache in cache/UD_Fourlang.json\n",
      "WARNING:root:loaded cache from cache/UD_Fourlang.json with interpretations: ['fourlang', 'ud']\n",
      "WARNING:root:updated cache in cache/UD_Fourlang.json\n",
      "WARNING:root:loaded cache from cache/UD_Fourlang.json with interpretations: ['fourlang', 'ud']\n",
      "WARNING:root:updated cache in cache/UD_Fourlang.json\n",
      "WARNING:root:loaded cache from cache/UD_Fourlang.json with interpretations: ['fourlang', 'ud']\n",
      "WARNING:root:updated cache in cache/UD_Fourlang.json\n"
     ]
    },
    {
     "name": "stdout",
     "output_type": "stream",
     "text": [
      "True found..\n",
      "True found..\n",
      "True found..\n",
      "True found..\n",
      "True found..\n",
      "True found..\n",
      "True found..\n",
      "True found..\n",
      "True found..\n",
      "True found..\n",
      "True found..\n",
      "True found..\n"
     ]
    },
    {
     "name": "stderr",
     "output_type": "stream",
     "text": [
      "WARNING:root:loaded cache from cache/UD_Fourlang.json with interpretations: ['fourlang', 'ud']\n",
      "WARNING:root:updated cache in cache/UD_Fourlang.json\n",
      "WARNING:root:loaded cache from cache/UD_Fourlang.json with interpretations: ['fourlang', 'ud']\n",
      "WARNING:root:updated cache in cache/UD_Fourlang.json\n"
     ]
    },
    {
     "name": "stdout",
     "output_type": "stream",
     "text": [
      "True found..\n",
      "True found..\n"
     ]
    },
    {
     "name": "stderr",
     "output_type": "stream",
     "text": [
      "WARNING:root:loaded cache from cache/UD_Fourlang.json with interpretations: ['fourlang', 'ud']\n",
      "WARNING:root:updated cache in cache/UD_Fourlang.json\n",
      "WARNING:root:loaded cache from cache/UD_Fourlang.json with interpretations: ['fourlang', 'ud']\n",
      "WARNING:root:updated cache in cache/UD_Fourlang.json\n"
     ]
    },
    {
     "name": "stdout",
     "output_type": "stream",
     "text": [
      "True found..\n"
     ]
    },
    {
     "name": "stderr",
     "output_type": "stream",
     "text": [
      "WARNING:root:loaded cache from cache/UD_Fourlang.json with interpretations: ['fourlang', 'ud']\n",
      "WARNING:root:updated cache in cache/UD_Fourlang.json\n",
      "WARNING:root:loaded cache from cache/UD_Fourlang.json with interpretations: ['fourlang', 'ud']\n",
      "WARNING:root:updated cache in cache/UD_Fourlang.json\n",
      "WARNING:root:loaded cache from cache/UD_Fourlang.json with interpretations: ['fourlang', 'ud']\n",
      "WARNING:root:updated cache in cache/UD_Fourlang.json\n",
      "WARNING:root:loaded cache from cache/UD_Fourlang.json with interpretations: ['fourlang', 'ud']\n",
      "WARNING:root:updated cache in cache/UD_Fourlang.json\n"
     ]
    },
    {
     "name": "stdout",
     "output_type": "stream",
     "text": [
      "True found..\n"
     ]
    },
    {
     "name": "stderr",
     "output_type": "stream",
     "text": [
      "WARNING:root:loaded cache from cache/UD_Fourlang.json with interpretations: ['fourlang', 'ud']\n",
      "WARNING:root:updated cache in cache/UD_Fourlang.json\n",
      "WARNING:root:loaded cache from cache/UD_Fourlang.json with interpretations: ['fourlang', 'ud']\n",
      "WARNING:root:updated cache in cache/UD_Fourlang.json\n",
      "WARNING:root:loaded cache from cache/UD_Fourlang.json with interpretations: ['fourlang', 'ud']\n",
      "WARNING:root:updated cache in cache/UD_Fourlang.json\n",
      "WARNING:root:loaded cache from cache/UD_Fourlang.json with interpretations: ['fourlang', 'ud']\n",
      "WARNING:root:updated cache in cache/UD_Fourlang.json\n"
     ]
    },
    {
     "name": "stdout",
     "output_type": "stream",
     "text": [
      "True found..\n",
      "True found..\n",
      "True found..\n",
      "True found..\n",
      "True found..\n",
      "True found..\n",
      "True found..\n",
      "True found..\n"
     ]
    },
    {
     "name": "stderr",
     "output_type": "stream",
     "text": [
      "WARNING:root:loaded cache from cache/UD_Fourlang.json with interpretations: ['fourlang', 'ud']\n",
      "WARNING:root:updated cache in cache/UD_Fourlang.json\n",
      "WARNING:root:loaded cache from cache/UD_Fourlang.json with interpretations: ['fourlang', 'ud']\n",
      "WARNING:root:updated cache in cache/UD_Fourlang.json\n"
     ]
    },
    {
     "name": "stdout",
     "output_type": "stream",
     "text": [
      "True found..\n"
     ]
    },
    {
     "name": "stderr",
     "output_type": "stream",
     "text": [
      "WARNING:root:loaded cache from cache/UD_Fourlang.json with interpretations: ['fourlang', 'ud']\n",
      "WARNING:root:updated cache in cache/UD_Fourlang.json\n",
      "WARNING:root:loaded cache from cache/UD_Fourlang.json with interpretations: ['fourlang', 'ud']\n",
      "WARNING:root:updated cache in cache/UD_Fourlang.json\n",
      "WARNING:root:loaded cache from cache/UD_Fourlang.json with interpretations: ['fourlang', 'ud']\n",
      "WARNING:root:updated cache in cache/UD_Fourlang.json\n"
     ]
    },
    {
     "name": "stdout",
     "output_type": "stream",
     "text": [
      "True found..\n",
      "True found..\n",
      "True found..\n",
      "True found..\n",
      "True found..\n",
      "True found..\n",
      "True found..\n",
      "True found..\n"
     ]
    },
    {
     "name": "stderr",
     "output_type": "stream",
     "text": [
      "WARNING:root:loaded cache from cache/UD_Fourlang.json with interpretations: ['fourlang', 'ud']\n",
      "WARNING:root:updated cache in cache/UD_Fourlang.json\n"
     ]
    },
    {
     "name": "stdout",
     "output_type": "stream",
     "text": [
      "True found..\n",
      "True found..\n"
     ]
    },
    {
     "name": "stderr",
     "output_type": "stream",
     "text": [
      "WARNING:root:loaded cache from cache/UD_Fourlang.json with interpretations: ['fourlang', 'ud']\n",
      "WARNING:root:updated cache in cache/UD_Fourlang.json\n"
     ]
    },
    {
     "name": "stdout",
     "output_type": "stream",
     "text": [
      "True found..\n",
      "True found..\n",
      "True found..\n",
      "True found..\n"
     ]
    },
    {
     "name": "stderr",
     "output_type": "stream",
     "text": [
      "WARNING:root:loaded cache from cache/UD_Fourlang.json with interpretations: ['fourlang', 'ud']\n",
      "WARNING:root:updated cache in cache/UD_Fourlang.json\n",
      "WARNING:root:loaded cache from cache/UD_Fourlang.json with interpretations: ['fourlang', 'ud']\n",
      "WARNING:root:updated cache in cache/UD_Fourlang.json\n",
      "WARNING:root:alto error\n",
      "WARNING:root:loaded cache from cache/UD_Fourlang.json with interpretations: ['fourlang', 'ud']\n",
      "WARNING:root:updated cache in cache/UD_Fourlang.json\n",
      "WARNING:root:loaded cache from cache/UD_Fourlang.json with interpretations: ['fourlang', 'ud']\n",
      "WARNING:root:updated cache in cache/UD_Fourlang.json\n",
      "WARNING:root:alto error\n",
      "WARNING:root:loaded cache from cache/UD_Fourlang.json with interpretations: ['fourlang', 'ud']\n",
      "WARNING:root:updated cache in cache/UD_Fourlang.json\n",
      "WARNING:root:alto error\n",
      "WARNING:root:loaded cache from cache/UD_Fourlang.json with interpretations: ['fourlang', 'ud']\n",
      "WARNING:root:updated cache in cache/UD_Fourlang.json\n",
      "WARNING:root:alto error\n",
      "WARNING:root:loaded cache from cache/UD_Fourlang.json with interpretations: ['fourlang', 'ud']\n",
      "WARNING:root:updated cache in cache/UD_Fourlang.json\n",
      "WARNING:root:loaded cache from cache/UD_Fourlang.json with interpretations: ['fourlang', 'ud']\n",
      "WARNING:root:updated cache in cache/UD_Fourlang.json\n"
     ]
    },
    {
     "name": "stdout",
     "output_type": "stream",
     "text": [
      "True found..\n",
      "True found..\n",
      "True found..\n"
     ]
    },
    {
     "name": "stderr",
     "output_type": "stream",
     "text": [
      "WARNING:root:loaded cache from cache/UD_Fourlang.json with interpretations: ['fourlang', 'ud']\n",
      "WARNING:root:updated cache in cache/UD_Fourlang.json\n",
      "WARNING:root:loaded cache from cache/UD_Fourlang.json with interpretations: ['fourlang', 'ud']\n",
      "WARNING:root:updated cache in cache/UD_Fourlang.json\n"
     ]
    },
    {
     "name": "stdout",
     "output_type": "stream",
     "text": [
      "True found..\n",
      "True found..\n",
      "True found..\n",
      "True found..\n"
     ]
    },
    {
     "name": "stderr",
     "output_type": "stream",
     "text": [
      "WARNING:root:loaded cache from cache/UD_Fourlang.json with interpretations: ['fourlang', 'ud']\n",
      "WARNING:root:updated cache in cache/UD_Fourlang.json\n",
      "WARNING:root:loaded cache from cache/UD_Fourlang.json with interpretations: ['fourlang', 'ud']\n",
      "WARNING:root:updated cache in cache/UD_Fourlang.json\n"
     ]
    },
    {
     "name": "stdout",
     "output_type": "stream",
     "text": [
      "True found..\n",
      "True found..\n"
     ]
    },
    {
     "name": "stderr",
     "output_type": "stream",
     "text": [
      "WARNING:root:loaded cache from cache/UD_Fourlang.json with interpretations: ['fourlang', 'ud']\n",
      "WARNING:root:updated cache in cache/UD_Fourlang.json\n"
     ]
    },
    {
     "name": "stdout",
     "output_type": "stream",
     "text": [
      "[[\"New York City is Western Australia's bigger\", 'New York City is heart of Western Australia'], [\"New York City is Western Australia's center\", 'New York City is heart of Western Australia'], [\"New York City is Western Australia's settlement\", 'New York City is heart of Western Australia'], [\"New York City is Western Australia's large\", 'New York City is heart of Western Australia'], [\"New York City is Western Australia's colloquial\", 'New York City is heart of Western Australia']]\n",
      "New York City is Western Australia's city\n",
      "reduced: tensor([1, 2, 2, 1, 1])\n"
     ]
    },
    {
     "name": "stderr",
     "output_type": "stream",
     "text": [
      "WARNING:root:alto error\n",
      "WARNING:root:loaded cache from cache/UD_Fourlang.json with interpretations: ['fourlang', 'ud']\n",
      "WARNING:root:updated cache in cache/UD_Fourlang.json\n",
      "WARNING:root:alto error\n",
      "WARNING:root:loaded cache from cache/UD_Fourlang.json with interpretations: ['fourlang', 'ud']\n",
      "WARNING:root:updated cache in cache/UD_Fourlang.json\n"
     ]
    },
    {
     "name": "stdout",
     "output_type": "stream",
     "text": [
      "True found..\n"
     ]
    },
    {
     "name": "stderr",
     "output_type": "stream",
     "text": [
      "WARNING:root:loaded cache from cache/UD_Fourlang.json with interpretations: ['fourlang', 'ud']\n",
      "WARNING:root:updated cache in cache/UD_Fourlang.json\n",
      "WARNING:root:loaded cache from cache/UD_Fourlang.json with interpretations: ['fourlang', 'ud']\n",
      "WARNING:root:updated cache in cache/UD_Fourlang.json\n",
      "WARNING:root:loaded cache from cache/UD_Fourlang.json with interpretations: ['fourlang', 'ud']\n",
      "WARNING:root:updated cache in cache/UD_Fourlang.json\n",
      "WARNING:root:loaded cache from cache/UD_Fourlang.json with interpretations: ['fourlang', 'ud']\n",
      "WARNING:root:updated cache in cache/UD_Fourlang.json\n"
     ]
    },
    {
     "name": "stdout",
     "output_type": "stream",
     "text": [
      "True found..\n"
     ]
    },
    {
     "name": "stderr",
     "output_type": "stream",
     "text": [
      "WARNING:root:loaded cache from cache/UD_Fourlang.json with interpretations: ['fourlang', 'ud']\n",
      "WARNING:root:updated cache in cache/UD_Fourlang.json\n",
      "WARNING:root:loaded cache from cache/UD_Fourlang.json with interpretations: ['fourlang', 'ud']\n",
      "WARNING:root:updated cache in cache/UD_Fourlang.json\n",
      "WARNING:root:alto error\n",
      "WARNING:root:loaded cache from cache/UD_Fourlang.json with interpretations: ['fourlang', 'ud']\n",
      "WARNING:root:updated cache in cache/UD_Fourlang.json\n",
      "WARNING:root:alto error\n",
      "WARNING:root:loaded cache from cache/UD_Fourlang.json with interpretations: ['fourlang', 'ud']\n",
      "WARNING:root:updated cache in cache/UD_Fourlang.json\n",
      "WARNING:root:loaded cache from cache/UD_Fourlang.json with interpretations: ['fourlang', 'ud']\n",
      "WARNING:root:updated cache in cache/UD_Fourlang.json\n"
     ]
    },
    {
     "name": "stdout",
     "output_type": "stream",
     "text": [
      "True found..\n",
      "True found..\n",
      "True found..\n",
      "True found..\n",
      "True found..\n"
     ]
    },
    {
     "name": "stderr",
     "output_type": "stream",
     "text": [
      "WARNING:root:loaded cache from cache/UD_Fourlang.json with interpretations: ['fourlang', 'ud']\n",
      "WARNING:root:updated cache in cache/UD_Fourlang.json\n",
      "WARNING:root:loaded cache from cache/UD_Fourlang.json with interpretations: ['fourlang', 'ud']\n",
      "WARNING:root:updated cache in cache/UD_Fourlang.json\n",
      "WARNING:root:loaded cache from cache/UD_Fourlang.json with interpretations: ['fourlang', 'ud']\n",
      "WARNING:root:updated cache in cache/UD_Fourlang.json\n",
      "WARNING:root:alto error\n",
      "WARNING:root:loaded cache from cache/UD_Fourlang.json with interpretations: ['fourlang', 'ud']\n",
      "WARNING:root:updated cache in cache/UD_Fourlang.json\n",
      "WARNING:root:loaded cache from cache/UD_Fourlang.json with interpretations: ['fourlang', 'ud']\n",
      "WARNING:root:updated cache in cache/UD_Fourlang.json\n"
     ]
    },
    {
     "name": "stdout",
     "output_type": "stream",
     "text": [
      "True found..\n"
     ]
    },
    {
     "name": "stderr",
     "output_type": "stream",
     "text": [
      "WARNING:root:alto error\n",
      "WARNING:root:loaded cache from cache/UD_Fourlang.json with interpretations: ['fourlang', 'ud']\n",
      "WARNING:root:updated cache in cache/UD_Fourlang.json\n"
     ]
    },
    {
     "name": "stdout",
     "output_type": "stream",
     "text": [
      "True found..\n"
     ]
    },
    {
     "name": "stderr",
     "output_type": "stream",
     "text": [
      "WARNING:root:loaded cache from cache/UD_Fourlang.json with interpretations: ['fourlang', 'ud']\n",
      "WARNING:root:updated cache in cache/UD_Fourlang.json\n",
      "WARNING:root:loaded cache from cache/UD_Fourlang.json with interpretations: ['fourlang', 'ud']\n",
      "WARNING:root:updated cache in cache/UD_Fourlang.json\n",
      "WARNING:root:loaded cache from cache/UD_Fourlang.json with interpretations: ['fourlang', 'ud']\n",
      "WARNING:root:updated cache in cache/UD_Fourlang.json\n"
     ]
    },
    {
     "name": "stdout",
     "output_type": "stream",
     "text": [
      "True found..\n",
      "True found..\n",
      "True found..\n"
     ]
    },
    {
     "name": "stderr",
     "output_type": "stream",
     "text": [
      "WARNING:root:loaded cache from cache/UD_Fourlang.json with interpretations: ['fourlang', 'ud']\n",
      "WARNING:root:updated cache in cache/UD_Fourlang.json\n",
      "WARNING:root:loaded cache from cache/UD_Fourlang.json with interpretations: ['fourlang', 'ud']\n",
      "WARNING:root:updated cache in cache/UD_Fourlang.json\n",
      "WARNING:root:loaded cache from cache/UD_Fourlang.json with interpretations: ['fourlang', 'ud']\n",
      "WARNING:root:updated cache in cache/UD_Fourlang.json\n",
      "WARNING:root:loaded cache from cache/UD_Fourlang.json with interpretations: ['fourlang', 'ud']\n",
      "WARNING:root:updated cache in cache/UD_Fourlang.json\n",
      "WARNING:root:loaded cache from cache/UD_Fourlang.json with interpretations: ['fourlang', 'ud']\n",
      "WARNING:root:updated cache in cache/UD_Fourlang.json\n",
      "WARNING:root:loaded cache from cache/UD_Fourlang.json with interpretations: ['fourlang', 'ud']\n",
      "WARNING:root:updated cache in cache/UD_Fourlang.json\n",
      "WARNING:root:loaded cache from cache/UD_Fourlang.json with interpretations: ['fourlang', 'ud']\n",
      "WARNING:root:updated cache in cache/UD_Fourlang.json\n"
     ]
    },
    {
     "name": "stdout",
     "output_type": "stream",
     "text": [
      "True found..\n",
      "True found..\n"
     ]
    },
    {
     "name": "stderr",
     "output_type": "stream",
     "text": [
      "WARNING:root:loaded cache from cache/UD_Fourlang.json with interpretations: ['fourlang', 'ud']\n",
      "WARNING:root:updated cache in cache/UD_Fourlang.json\n",
      "WARNING:root:loaded cache from cache/UD_Fourlang.json with interpretations: ['fourlang', 'ud']\n",
      "WARNING:root:updated cache in cache/UD_Fourlang.json\n",
      "WARNING:root:alto error\n",
      "WARNING:root:loaded cache from cache/UD_Fourlang.json with interpretations: ['fourlang', 'ud']\n",
      "WARNING:root:updated cache in cache/UD_Fourlang.json\n",
      "WARNING:root:loaded cache from cache/UD_Fourlang.json with interpretations: ['fourlang', 'ud']\n",
      "WARNING:root:updated cache in cache/UD_Fourlang.json\n",
      "WARNING:root:loaded cache from cache/UD_Fourlang.json with interpretations: ['fourlang', 'ud']\n",
      "WARNING:root:updated cache in cache/UD_Fourlang.json\n"
     ]
    },
    {
     "name": "stdout",
     "output_type": "stream",
     "text": [
      "True found..\n"
     ]
    },
    {
     "name": "stderr",
     "output_type": "stream",
     "text": [
      "WARNING:root:loaded cache from cache/UD_Fourlang.json with interpretations: ['fourlang', 'ud']\n",
      "WARNING:root:updated cache in cache/UD_Fourlang.json\n",
      "WARNING:root:loaded cache from cache/UD_Fourlang.json with interpretations: ['fourlang', 'ud']\n",
      "WARNING:root:updated cache in cache/UD_Fourlang.json\n"
     ]
    },
    {
     "name": "stdout",
     "output_type": "stream",
     "text": [
      "True found..\n",
      "True found..\n",
      "True found..\n",
      "True found..\n",
      "True found..\n",
      "True found..\n"
     ]
    },
    {
     "name": "stderr",
     "output_type": "stream",
     "text": [
      "WARNING:root:loaded cache from cache/UD_Fourlang.json with interpretations: ['fourlang', 'ud']\n",
      "WARNING:root:updated cache in cache/UD_Fourlang.json\n",
      "WARNING:root:loaded cache from cache/UD_Fourlang.json with interpretations: ['fourlang', 'ud']\n",
      "WARNING:root:updated cache in cache/UD_Fourlang.json\n",
      "WARNING:root:loaded cache from cache/UD_Fourlang.json with interpretations: ['fourlang', 'ud']\n",
      "WARNING:root:updated cache in cache/UD_Fourlang.json\n"
     ]
    },
    {
     "name": "stdout",
     "output_type": "stream",
     "text": [
      "True found..\n",
      "True found..\n",
      "True found..\n",
      "True found..\n",
      "True found..\n"
     ]
    },
    {
     "name": "stderr",
     "output_type": "stream",
     "text": [
      "WARNING:root:loaded cache from cache/UD_Fourlang.json with interpretations: ['fourlang', 'ud']\n",
      "WARNING:root:updated cache in cache/UD_Fourlang.json\n",
      "WARNING:root:alto error\n",
      "WARNING:root:loaded cache from cache/UD_Fourlang.json with interpretations: ['fourlang', 'ud']\n",
      "WARNING:root:updated cache in cache/UD_Fourlang.json\n",
      "WARNING:root:alto error\n",
      "WARNING:root:loaded cache from cache/UD_Fourlang.json with interpretations: ['fourlang', 'ud']\n",
      "WARNING:root:updated cache in cache/UD_Fourlang.json\n",
      "WARNING:root:loaded cache from cache/UD_Fourlang.json with interpretations: ['fourlang', 'ud']\n",
      "WARNING:root:updated cache in cache/UD_Fourlang.json\n"
     ]
    },
    {
     "name": "stdout",
     "output_type": "stream",
     "text": [
      "True found..\n",
      "True found..\n",
      "True found..\n"
     ]
    },
    {
     "name": "stderr",
     "output_type": "stream",
     "text": [
      "WARNING:root:loaded cache from cache/UD_Fourlang.json with interpretations: ['fourlang', 'ud']\n",
      "WARNING:root:updated cache in cache/UD_Fourlang.json\n",
      "WARNING:root:loaded cache from cache/UD_Fourlang.json with interpretations: ['fourlang', 'ud']\n",
      "WARNING:root:updated cache in cache/UD_Fourlang.json\n",
      "WARNING:root:loaded cache from cache/UD_Fourlang.json with interpretations: ['fourlang', 'ud']\n",
      "WARNING:root:updated cache in cache/UD_Fourlang.json\n"
     ]
    },
    {
     "name": "stdout",
     "output_type": "stream",
     "text": [
      "True found..\n",
      "True found..\n",
      "[['Winston Churchill is use Vladimir Putin', 'Winston Churchill is meeting with Vladimir Putin'], ['Winston Churchill is male Vladimir Putin', 'Winston Churchill is meeting with Vladimir Putin'], ['Winston Churchill is device Vladimir Putin', 'Winston Churchill is meeting with Vladimir Putin'], ['Winston Churchill is derive Vladimir Putin', 'Winston Churchill is meeting with Vladimir Putin']]\n",
      "Winston Churchill is pressing Vladimir Putin\n",
      "reduced: tensor([2, 1, 2, 2])\n",
      "True found..\n"
     ]
    },
    {
     "name": "stderr",
     "output_type": "stream",
     "text": [
      "WARNING:root:loaded cache from cache/UD_Fourlang.json with interpretations: ['fourlang', 'ud']\n",
      "WARNING:root:updated cache in cache/UD_Fourlang.json\n",
      "WARNING:root:loaded cache from cache/UD_Fourlang.json with interpretations: ['fourlang', 'ud']\n",
      "WARNING:root:updated cache in cache/UD_Fourlang.json\n"
     ]
    },
    {
     "name": "stdout",
     "output_type": "stream",
     "text": [
      "True found..\n",
      "True found..\n",
      "True found..\n"
     ]
    },
    {
     "name": "stderr",
     "output_type": "stream",
     "text": [
      "WARNING:root:loaded cache from cache/UD_Fourlang.json with interpretations: ['fourlang', 'ud']\n",
      "WARNING:root:updated cache in cache/UD_Fourlang.json\n"
     ]
    },
    {
     "name": "stdout",
     "output_type": "stream",
     "text": [
      "[['John McCain is conversation in England', 'John McCain is arriving in England'], ['John McCain is biblical in England', 'John McCain is arriving in England']]\n",
      "John McCain is calling in England\n",
      "reduced: tensor([2, 2])\n"
     ]
    },
    {
     "name": "stderr",
     "output_type": "stream",
     "text": [
      "WARNING:root:loaded cache from cache/UD_Fourlang.json with interpretations: ['fourlang', 'ud']\n",
      "WARNING:root:updated cache in cache/UD_Fourlang.json\n"
     ]
    },
    {
     "name": "stdout",
     "output_type": "stream",
     "text": [
      "True found..\n"
     ]
    },
    {
     "name": "stderr",
     "output_type": "stream",
     "text": [
      "WARNING:root:loaded cache from cache/UD_Fourlang.json with interpretations: ['fourlang', 'ud']\n",
      "WARNING:root:updated cache in cache/UD_Fourlang.json\n",
      "WARNING:root:alto error\n",
      "WARNING:root:loaded cache from cache/UD_Fourlang.json with interpretations: ['fourlang', 'ud']\n",
      "WARNING:root:updated cache in cache/UD_Fourlang.json\n",
      "WARNING:root:loaded cache from cache/UD_Fourlang.json with interpretations: ['fourlang', 'ud']\n",
      "WARNING:root:updated cache in cache/UD_Fourlang.json\n"
     ]
    },
    {
     "name": "stdout",
     "output_type": "stream",
     "text": [
      "True found..\n",
      "True found..\n",
      "True found..\n",
      "True found..\n"
     ]
    },
    {
     "name": "stderr",
     "output_type": "stream",
     "text": [
      "WARNING:root:loaded cache from cache/UD_Fourlang.json with interpretations: ['fourlang', 'ud']\n",
      "WARNING:root:updated cache in cache/UD_Fourlang.json\n",
      "WARNING:root:loaded cache from cache/UD_Fourlang.json with interpretations: ['fourlang', 'ud']\n",
      "WARNING:root:updated cache in cache/UD_Fourlang.json\n",
      "WARNING:root:loaded cache from cache/UD_Fourlang.json with interpretations: ['fourlang', 'ud']\n",
      "WARNING:root:updated cache in cache/UD_Fourlang.json\n",
      "WARNING:root:alto error\n",
      "WARNING:root:loaded cache from cache/UD_Fourlang.json with interpretations: ['fourlang', 'ud']\n",
      "WARNING:root:updated cache in cache/UD_Fourlang.json\n"
     ]
    },
    {
     "name": "stdout",
     "output_type": "stream",
     "text": [
      "True found..\n",
      "True found..\n",
      "True found..\n"
     ]
    },
    {
     "name": "stderr",
     "output_type": "stream",
     "text": [
      "WARNING:root:loaded cache from cache/UD_Fourlang.json with interpretations: ['fourlang', 'ud']\n",
      "WARNING:root:updated cache in cache/UD_Fourlang.json\n"
     ]
    },
    {
     "name": "stdout",
     "output_type": "stream",
     "text": [
      "[['Democratic Party is party to United Kingdom', 'Democratic Party is supporting United Kingdom'], ['Democratic Party is have to United Kingdom', 'Democratic Party is supporting United Kingdom'], ['Democratic Party is legal to United Kingdom', 'Democratic Party is supporting United Kingdom']]\n",
      "Democratic Party is similar to United Kingdom\n",
      "reduced: tensor([2, 2, 2])\n",
      "True found..\n"
     ]
    },
    {
     "name": "stderr",
     "output_type": "stream",
     "text": [
      "WARNING:root:loaded cache from cache/UD_Fourlang.json with interpretations: ['fourlang', 'ud']\n",
      "WARNING:root:updated cache in cache/UD_Fourlang.json\n"
     ]
    },
    {
     "name": "stdout",
     "output_type": "stream",
     "text": [
      "True found..\n",
      "True found..\n",
      "True found..\n"
     ]
    },
    {
     "name": "stderr",
     "output_type": "stream",
     "text": [
      "WARNING:root:loaded cache from cache/UD_Fourlang.json with interpretations: ['fourlang', 'ud']\n",
      "WARNING:root:updated cache in cache/UD_Fourlang.json\n"
     ]
    },
    {
     "name": "stdout",
     "output_type": "stream",
     "text": [
      "[['Soviet Union is hostile of Russia', 'Soviet Union is having relation with Russia'], ['Soviet Union is q159a of Russia', 'Soviet Union is having relation with Russia'], ['Soviet Union is arrangement of Russia', 'Soviet Union is having relation with Russia'], ['Soviet Union is country of Russia', 'Soviet Union is having relation with Russia'], ['Soviet Union is X0 of Russia', 'Soviet Union is having relation with Russia'], ['Soviet Union is X2 of Russia', 'Soviet Union is having relation with Russia'], ['Soviet Union is X10 of Russia', 'Soviet Union is having relation with Russia']]\n",
      "Soviet Union is enemy of Russia\n",
      "reduced: tensor([0, 2, 2, 2, 2, 2, 2])\n",
      "True found..\n",
      "True found..\n"
     ]
    },
    {
     "name": "stderr",
     "output_type": "stream",
     "text": [
      "WARNING:root:loaded cache from cache/UD_Fourlang.json with interpretations: ['fourlang', 'ud']\n",
      "WARNING:root:updated cache in cache/UD_Fourlang.json\n",
      "WARNING:root:alto error\n",
      "WARNING:root:loaded cache from cache/UD_Fourlang.json with interpretations: ['fourlang', 'ud']\n",
      "WARNING:root:updated cache in cache/UD_Fourlang.json\n",
      "WARNING:root:loaded cache from cache/UD_Fourlang.json with interpretations: ['fourlang', 'ud']\n",
      "WARNING:root:updated cache in cache/UD_Fourlang.json\n"
     ]
    },
    {
     "name": "stdout",
     "output_type": "stream",
     "text": [
      "True found..\n",
      "True found..\n",
      "True found..\n",
      "True found..\n",
      "True found..\n",
      "True found..\n"
     ]
    },
    {
     "name": "stderr",
     "output_type": "stream",
     "text": [
      "WARNING:root:loaded cache from cache/UD_Fourlang.json with interpretations: ['fourlang', 'ud']\n",
      "WARNING:root:updated cache in cache/UD_Fourlang.json\n",
      "WARNING:root:loaded cache from cache/UD_Fourlang.json with interpretations: ['fourlang', 'ud']\n",
      "WARNING:root:updated cache in cache/UD_Fourlang.json\n",
      "WARNING:root:loaded cache from cache/UD_Fourlang.json with interpretations: ['fourlang', 'ud']\n",
      "WARNING:root:updated cache in cache/UD_Fourlang.json\n"
     ]
    },
    {
     "name": "stdout",
     "output_type": "stream",
     "text": [
      "[['Rick Santorum is element in Iowa', 'Rick Santorum is coming in Iowa'], ['Rick Santorum is back in Iowa', 'Rick Santorum is coming in Iowa'], ['Rick Santorum is pliable in Iowa', 'Rick Santorum is coming in Iowa'], ['Rick Santorum is heavy in Iowa', 'Rick Santorum is coming in Iowa']]\n",
      "Rick Santorum is leading in Iowa\n",
      "reduced: tensor([2, 2, 2, 2])\n",
      "True found..\n",
      "True found..\n"
     ]
    },
    {
     "name": "stderr",
     "output_type": "stream",
     "text": [
      "WARNING:root:loaded cache from cache/UD_Fourlang.json with interpretations: ['fourlang', 'ud']\n",
      "WARNING:root:updated cache in cache/UD_Fourlang.json\n"
     ]
    },
    {
     "name": "stdout",
     "output_type": "stream",
     "text": [
      "True found..\n"
     ]
    },
    {
     "name": "stderr",
     "output_type": "stream",
     "text": [
      "WARNING:root:loaded cache from cache/UD_Fourlang.json with interpretations: ['fourlang', 'ud']\n",
      "WARNING:root:updated cache in cache/UD_Fourlang.json\n",
      "WARNING:root:loaded cache from cache/UD_Fourlang.json with interpretations: ['fourlang', 'ud']\n",
      "WARNING:root:updated cache in cache/UD_Fourlang.json\n",
      "WARNING:root:loaded cache from cache/UD_Fourlang.json with interpretations: ['fourlang', 'ud']\n",
      "WARNING:root:updated cache in cache/UD_Fourlang.json\n"
     ]
    },
    {
     "name": "stdout",
     "output_type": "stream",
     "text": [
      "True found..\n",
      "True found..\n",
      "True found..\n"
     ]
    },
    {
     "name": "stderr",
     "output_type": "stream",
     "text": [
      "WARNING:root:loaded cache from cache/UD_Fourlang.json with interpretations: ['fourlang', 'ud']\n",
      "WARNING:root:updated cache in cache/UD_Fourlang.json\n",
      "WARNING:root:alto error\n",
      "WARNING:root:loaded cache from cache/UD_Fourlang.json with interpretations: ['fourlang', 'ud']\n",
      "WARNING:root:updated cache in cache/UD_Fourlang.json\n",
      "WARNING:root:alto error\n",
      "WARNING:root:loaded cache from cache/UD_Fourlang.json with interpretations: ['fourlang', 'ud']\n",
      "WARNING:root:updated cache in cache/UD_Fourlang.json\n"
     ]
    },
    {
     "name": "stdout",
     "output_type": "stream",
     "text": [
      "[['Fred Thompson is loud in Iowa', 'Fred Thompson is winning in Iowa'], ['Fred Thompson is derogatory in Iowa', 'Fred Thompson is winning in Iowa'], ['Fred Thompson is communicate in Iowa', 'Fred Thompson is winning in Iowa'], ['Fred Thompson is out in Iowa', 'Fred Thompson is winning in Iowa'], ['Fred Thompson is say in Iowa', 'Fred Thompson is winning in Iowa']]\n",
      "Fred Thompson is speaking in Iowa\n",
      "reduced: tensor([1, 0, 2, 0, 1])\n",
      "True found..\n",
      "True found..\n"
     ]
    },
    {
     "name": "stderr",
     "output_type": "stream",
     "text": [
      "WARNING:root:loaded cache from cache/UD_Fourlang.json with interpretations: ['fourlang', 'ud']\n",
      "WARNING:root:updated cache in cache/UD_Fourlang.json\n",
      "WARNING:root:alto error\n",
      "WARNING:root:loaded cache from cache/UD_Fourlang.json with interpretations: ['fourlang', 'ud']\n",
      "WARNING:root:updated cache in cache/UD_Fourlang.json\n",
      "WARNING:root:alto error\n",
      "WARNING:root:loaded cache from cache/UD_Fourlang.json with interpretations: ['fourlang', 'ud']\n",
      "WARNING:root:updated cache in cache/UD_Fourlang.json\n",
      "WARNING:root:alto error\n",
      "WARNING:root:loaded cache from cache/UD_Fourlang.json with interpretations: ['fourlang', 'ud']\n",
      "WARNING:root:updated cache in cache/UD_Fourlang.json\n",
      "WARNING:root:alto error\n",
      "WARNING:root:loaded cache from cache/UD_Fourlang.json with interpretations: ['fourlang', 'ud']\n",
      "WARNING:root:updated cache in cache/UD_Fourlang.json\n",
      "WARNING:root:alto error\n",
      "WARNING:root:loaded cache from cache/UD_Fourlang.json with interpretations: ['fourlang', 'ud']\n",
      "WARNING:root:updated cache in cache/UD_Fourlang.json\n",
      "WARNING:root:loaded cache from cache/UD_Fourlang.json with interpretations: ['fourlang', 'ud']\n",
      "WARNING:root:updated cache in cache/UD_Fourlang.json\n"
     ]
    },
    {
     "name": "stdout",
     "output_type": "stream",
     "text": [
      "True found..\n",
      "True found..\n"
     ]
    },
    {
     "name": "stderr",
     "output_type": "stream",
     "text": [
      "WARNING:root:loaded cache from cache/UD_Fourlang.json with interpretations: ['fourlang', 'ud']\n",
      "WARNING:root:updated cache in cache/UD_Fourlang.json\n",
      "WARNING:root:loaded cache from cache/UD_Fourlang.json with interpretations: ['fourlang', 'ud']\n",
      "WARNING:root:updated cache in cache/UD_Fourlang.json\n",
      "WARNING:root:alto error\n",
      "WARNING:root:loaded cache from cache/UD_Fourlang.json with interpretations: ['fourlang', 'ud']\n",
      "WARNING:root:updated cache in cache/UD_Fourlang.json\n"
     ]
    },
    {
     "name": "stdout",
     "output_type": "stream",
     "text": [
      "[['Rick Santorum is stream George W. Bush', 'Rick Santorum is urging George W. Bush'], ['Rick Santorum is back George W. Bush', 'Rick Santorum is urging George W. Bush'], ['Rick Santorum is forcible George W. Bush', 'Rick Santorum is urging George W. Bush']]\n",
      "Rick Santorum is blasting George W. Bush\n",
      "reduced: tensor([2, 2, 2])\n",
      "True found..\n",
      "True found..\n",
      "True found..\n",
      "True found..\n",
      "True found..\n",
      "True found..\n"
     ]
    },
    {
     "name": "stderr",
     "output_type": "stream",
     "text": [
      "WARNING:root:loaded cache from cache/UD_Fourlang.json with interpretations: ['fourlang', 'ud']\n",
      "WARNING:root:updated cache in cache/UD_Fourlang.json\n",
      "WARNING:root:loaded cache from cache/UD_Fourlang.json with interpretations: ['fourlang', 'ud']\n",
      "WARNING:root:updated cache in cache/UD_Fourlang.json\n",
      "WARNING:root:loaded cache from cache/UD_Fourlang.json with interpretations: ['fourlang', 'ud']\n",
      "WARNING:root:updated cache in cache/UD_Fourlang.json\n"
     ]
    },
    {
     "name": "stdout",
     "output_type": "stream",
     "text": [
      "True found..\n",
      "True found..\n",
      "True found..\n",
      "True found..\n",
      "True found..\n"
     ]
    },
    {
     "name": "stderr",
     "output_type": "stream",
     "text": [
      "WARNING:root:loaded cache from cache/UD_Fourlang.json with interpretations: ['fourlang', 'ud']\n",
      "WARNING:root:updated cache in cache/UD_Fourlang.json\n"
     ]
    },
    {
     "name": "stdout",
     "output_type": "stream",
     "text": [
      "True found..\n"
     ]
    },
    {
     "name": "stderr",
     "output_type": "stream",
     "text": [
      "WARNING:root:loaded cache from cache/UD_Fourlang.json with interpretations: ['fourlang', 'ud']\n",
      "WARNING:root:updated cache in cache/UD_Fourlang.json\n",
      "WARNING:root:loaded cache from cache/UD_Fourlang.json with interpretations: ['fourlang', 'ud']\n",
      "WARNING:root:updated cache in cache/UD_Fourlang.json\n"
     ]
    },
    {
     "name": "stdout",
     "output_type": "stream",
     "text": [
      "[['Turkey is figure into Mexico', 'Turkey is seeking in Mexico'], ['Turkey is country into Mexico', 'Turkey is seeking in Mexico'], ['Turkey is consist into Mexico', 'Turkey is seeking in Mexico'], ['Turkey is geometrical into Mexico', 'Turkey is seeking in Mexico'], ['Turkey is intersection into Mexico', 'Turkey is seeking in Mexico']]\n",
      "Turkey is crossing into Mexico\n",
      "reduced: tensor([2, 2, 2, 1, 2])\n"
     ]
    },
    {
     "name": "stderr",
     "output_type": "stream",
     "text": [
      "WARNING:root:loaded cache from cache/UD_Fourlang.json with interpretations: ['fourlang', 'ud']\n",
      "WARNING:root:updated cache in cache/UD_Fourlang.json\n"
     ]
    },
    {
     "name": "stdout",
     "output_type": "stream",
     "text": [
      "True found..\n"
     ]
    },
    {
     "name": "stderr",
     "output_type": "stream",
     "text": [
      "WARNING:root:loaded cache from cache/UD_Fourlang.json with interpretations: ['fourlang', 'ud']\n",
      "WARNING:root:updated cache in cache/UD_Fourlang.json\n",
      "WARNING:root:loaded cache from cache/UD_Fourlang.json with interpretations: ['fourlang', 'ud']\n",
      "WARNING:root:updated cache in cache/UD_Fourlang.json\n"
     ]
    },
    {
     "name": "stdout",
     "output_type": "stream",
     "text": [
      "True found..\n",
      "True found..\n",
      "True found..\n",
      "True found..\n",
      "True found..\n",
      "True found..\n"
     ]
    },
    {
     "name": "stderr",
     "output_type": "stream",
     "text": [
      "WARNING:root:loaded cache from cache/UD_Fourlang.json with interpretations: ['fourlang', 'ud']\n",
      "WARNING:root:updated cache in cache/UD_Fourlang.json\n"
     ]
    },
    {
     "name": "stdout",
     "output_type": "stream",
     "text": [
      "True found..\n",
      "True found..\n"
     ]
    },
    {
     "name": "stderr",
     "output_type": "stream",
     "text": [
      "WARNING:root:loaded cache from cache/UD_Fourlang.json with interpretations: ['fourlang', 'ud']\n",
      "WARNING:root:updated cache in cache/UD_Fourlang.json\n",
      "WARNING:root:loaded cache from cache/UD_Fourlang.json with interpretations: ['fourlang', 'ud']\n",
      "WARNING:root:updated cache in cache/UD_Fourlang.json\n",
      "WARNING:root:loaded cache from cache/UD_Fourlang.json with interpretations: ['fourlang', 'ud']\n",
      "WARNING:root:updated cache in cache/UD_Fourlang.json\n",
      "WARNING:root:loaded cache from cache/UD_Fourlang.json with interpretations: ['fourlang', 'ud']\n",
      "WARNING:root:updated cache in cache/UD_Fourlang.json\n"
     ]
    },
    {
     "name": "stdout",
     "output_type": "stream",
     "text": [
      "True found..\n",
      "True found..\n",
      "True found..\n",
      "True found..\n",
      "True found..\n",
      "True found..\n",
      "True found..\n"
     ]
    },
    {
     "name": "stderr",
     "output_type": "stream",
     "text": [
      "WARNING:root:loaded cache from cache/UD_Fourlang.json with interpretations: ['fourlang', 'ud']\n",
      "WARNING:root:updated cache in cache/UD_Fourlang.json\n",
      "WARNING:root:loaded cache from cache/UD_Fourlang.json with interpretations: ['fourlang', 'ud']\n",
      "WARNING:root:updated cache in cache/UD_Fourlang.json\n",
      "WARNING:root:loaded cache from cache/UD_Fourlang.json with interpretations: ['fourlang', 'ud']\n",
      "WARNING:root:updated cache in cache/UD_Fourlang.json\n",
      "WARNING:root:loaded cache from cache/UD_Fourlang.json with interpretations: ['fourlang', 'ud']\n",
      "WARNING:root:updated cache in cache/UD_Fourlang.json\n",
      "WARNING:root:loaded cache from cache/UD_Fourlang.json with interpretations: ['fourlang', 'ud']\n",
      "WARNING:root:updated cache in cache/UD_Fourlang.json\n",
      "WARNING:root:loaded cache from cache/UD_Fourlang.json with interpretations: ['fourlang', 'ud']\n",
      "WARNING:root:updated cache in cache/UD_Fourlang.json\n",
      "WARNING:root:loaded cache from cache/UD_Fourlang.json with interpretations: ['fourlang', 'ud']\n",
      "WARNING:root:updated cache in cache/UD_Fourlang.json\n"
     ]
    },
    {
     "name": "stdout",
     "output_type": "stream",
     "text": [
      "True found..\n",
      "True found..\n",
      "True found..\n",
      "True found..\n",
      "True found..\n",
      "True found..\n"
     ]
    },
    {
     "name": "stderr",
     "output_type": "stream",
     "text": [
      "WARNING:root:loaded cache from cache/UD_Fourlang.json with interpretations: ['fourlang', 'ud']\n",
      "WARNING:root:updated cache in cache/UD_Fourlang.json\n",
      "WARNING:root:loaded cache from cache/UD_Fourlang.json with interpretations: ['fourlang', 'ud']\n",
      "WARNING:root:updated cache in cache/UD_Fourlang.json\n"
     ]
    },
    {
     "name": "stdout",
     "output_type": "stream",
     "text": [
      "True found..\n",
      "True found..\n"
     ]
    },
    {
     "name": "stderr",
     "output_type": "stream",
     "text": [
      "WARNING:root:loaded cache from cache/UD_Fourlang.json with interpretations: ['fourlang', 'ud']\n",
      "WARNING:root:updated cache in cache/UD_Fourlang.json\n"
     ]
    },
    {
     "name": "stdout",
     "output_type": "stream",
     "text": [
      "True found..\n",
      "[['Winston Churchill is use Vladimir Putin', 'Winston Churchill is supporting Vladimir Putin'], ['Winston Churchill is male Vladimir Putin', 'Winston Churchill is supporting Vladimir Putin'], ['Winston Churchill is device Vladimir Putin', 'Winston Churchill is supporting Vladimir Putin'], ['Winston Churchill is derive Vladimir Putin', 'Winston Churchill is supporting Vladimir Putin']]\n",
      "Winston Churchill is pressing Vladimir Putin\n",
      "reduced: tensor([2, 1, 2, 2])\n",
      "True found..\n",
      "True found..\n",
      "True found..\n",
      "True found..\n",
      "True found..\n",
      "True found..\n",
      "True found..\n"
     ]
    },
    {
     "name": "stderr",
     "output_type": "stream",
     "text": [
      "WARNING:root:loaded cache from cache/UD_Fourlang.json with interpretations: ['fourlang', 'ud']\n",
      "WARNING:root:updated cache in cache/UD_Fourlang.json\n",
      "WARNING:root:loaded cache from cache/UD_Fourlang.json with interpretations: ['fourlang', 'ud']\n",
      "WARNING:root:updated cache in cache/UD_Fourlang.json\n",
      "WARNING:root:loaded cache from cache/UD_Fourlang.json with interpretations: ['fourlang', 'ud']\n",
      "WARNING:root:updated cache in cache/UD_Fourlang.json\n"
     ]
    },
    {
     "name": "stdout",
     "output_type": "stream",
     "text": [
      "True found..\n"
     ]
    },
    {
     "name": "stderr",
     "output_type": "stream",
     "text": [
      "WARNING:root:loaded cache from cache/UD_Fourlang.json with interpretations: ['fourlang', 'ud']\n",
      "WARNING:root:updated cache in cache/UD_Fourlang.json\n"
     ]
    },
    {
     "name": "stdout",
     "output_type": "stream",
     "text": [
      "True found..\n",
      "True found..\n",
      "True found..\n",
      "True found..\n"
     ]
    },
    {
     "name": "stderr",
     "output_type": "stream",
     "text": [
      "WARNING:root:loaded cache from cache/UD_Fourlang.json with interpretations: ['fourlang', 'ud']\n",
      "WARNING:root:updated cache in cache/UD_Fourlang.json\n",
      "WARNING:root:alto error\n",
      "WARNING:root:loaded cache from cache/UD_Fourlang.json with interpretations: ['fourlang', 'ud']\n",
      "WARNING:root:updated cache in cache/UD_Fourlang.json\n"
     ]
    },
    {
     "name": "stdout",
     "output_type": "stream",
     "text": [
      "True found..\n",
      "True found..\n"
     ]
    },
    {
     "name": "stderr",
     "output_type": "stream",
     "text": [
      "WARNING:root:loaded cache from cache/UD_Fourlang.json with interpretations: ['fourlang', 'ud']\n",
      "WARNING:root:updated cache in cache/UD_Fourlang.json\n",
      "WARNING:root:alto error\n",
      "WARNING:root:loaded cache from cache/UD_Fourlang.json with interpretations: ['fourlang', 'ud']\n",
      "WARNING:root:updated cache in cache/UD_Fourlang.json\n",
      "WARNING:root:loaded cache from cache/UD_Fourlang.json with interpretations: ['fourlang', 'ud']\n",
      "WARNING:root:updated cache in cache/UD_Fourlang.json\n"
     ]
    },
    {
     "name": "stdout",
     "output_type": "stream",
     "text": [
      "[['Mikhail Gorbachev is place a president of Harvard University', 'Mikhail Gorbachev is President of Harvard University'], ['Mikhail Gorbachev is hand a president of Harvard University', 'Mikhail Gorbachev is President of Harvard University']]\n",
      "Mikhail Gorbachev is resigning a president of Harvard University\n",
      "reduced: tensor([2, 2])\n",
      "True found..\n"
     ]
    },
    {
     "name": "stderr",
     "output_type": "stream",
     "text": [
      "WARNING:root:loaded cache from cache/UD_Fourlang.json with interpretations: ['fourlang', 'ud']\n",
      "WARNING:root:updated cache in cache/UD_Fourlang.json\n",
      "WARNING:root:alto error\n",
      "WARNING:root:loaded cache from cache/UD_Fourlang.json with interpretations: ['fourlang', 'ud']\n",
      "WARNING:root:updated cache in cache/UD_Fourlang.json\n",
      "WARNING:root:loaded cache from cache/UD_Fourlang.json with interpretations: ['fourlang', 'ud']\n",
      "WARNING:root:updated cache in cache/UD_Fourlang.json\n",
      "WARNING:root:alto error\n",
      "WARNING:root:loaded cache from cache/UD_Fourlang.json with interpretations: ['fourlang', 'ud']\n",
      "WARNING:root:updated cache in cache/UD_Fourlang.json\n",
      "WARNING:root:alto error\n",
      "WARNING:root:loaded cache from cache/UD_Fourlang.json with interpretations: ['fourlang', 'ud']\n",
      "WARNING:root:updated cache in cache/UD_Fourlang.json\n",
      "WARNING:root:loaded cache from cache/UD_Fourlang.json with interpretations: ['fourlang', 'ud']\n",
      "WARNING:root:updated cache in cache/UD_Fourlang.json\n",
      "WARNING:root:alto error\n",
      "WARNING:root:loaded cache from cache/UD_Fourlang.json with interpretations: ['fourlang', 'ud']\n",
      "WARNING:root:updated cache in cache/UD_Fourlang.json\n",
      "WARNING:root:alto error\n",
      "WARNING:root:loaded cache from cache/UD_Fourlang.json with interpretations: ['fourlang', 'ud']\n",
      "WARNING:root:updated cache in cache/UD_Fourlang.json\n"
     ]
    },
    {
     "name": "stdout",
     "output_type": "stream",
     "text": [
      "True found..\n",
      "True found..\n",
      "True found..\n",
      "True found..\n",
      "True found..\n",
      "True found..\n"
     ]
    },
    {
     "name": "stderr",
     "output_type": "stream",
     "text": [
      "WARNING:root:loaded cache from cache/UD_Fourlang.json with interpretations: ['fourlang', 'ud']\n",
      "WARNING:root:updated cache in cache/UD_Fourlang.json\n",
      "WARNING:root:loaded cache from cache/UD_Fourlang.json with interpretations: ['fourlang', 'ud']\n",
      "WARNING:root:updated cache in cache/UD_Fourlang.json\n",
      "WARNING:root:loaded cache from cache/UD_Fourlang.json with interpretations: ['fourlang', 'ud']\n",
      "WARNING:root:updated cache in cache/UD_Fourlang.json\n",
      "WARNING:root:loaded cache from cache/UD_Fourlang.json with interpretations: ['fourlang', 'ud']\n",
      "WARNING:root:updated cache in cache/UD_Fourlang.json\n",
      "WARNING:root:loaded cache from cache/UD_Fourlang.json with interpretations: ['fourlang', 'ud']\n",
      "WARNING:root:updated cache in cache/UD_Fourlang.json\n"
     ]
    },
    {
     "name": "stdout",
     "output_type": "stream",
     "text": [
      "True found..\n",
      "True found..\n",
      "True found..\n",
      "True found..\n",
      "True found..\n",
      "True found..\n",
      "True found..\n",
      "True found..\n",
      "True found..\n"
     ]
    },
    {
     "name": "stderr",
     "output_type": "stream",
     "text": [
      "WARNING:root:loaded cache from cache/UD_Fourlang.json with interpretations: ['fourlang', 'ud']\n",
      "WARNING:root:updated cache in cache/UD_Fourlang.json\n"
     ]
    },
    {
     "name": "stdout",
     "output_type": "stream",
     "text": [
      "True found..\n",
      "True found..\n"
     ]
    },
    {
     "name": "stderr",
     "output_type": "stream",
     "text": [
      "WARNING:root:loaded cache from cache/UD_Fourlang.json with interpretations: ['fourlang', 'ud']\n",
      "WARNING:root:updated cache in cache/UD_Fourlang.json\n"
     ]
    },
    {
     "name": "stdout",
     "output_type": "stream",
     "text": [
      "True found..\n",
      "True found..\n",
      "True found..\n"
     ]
    },
    {
     "name": "stderr",
     "output_type": "stream",
     "text": [
      "WARNING:root:loaded cache from cache/UD_Fourlang.json with interpretations: ['fourlang', 'ud']\n",
      "WARNING:root:updated cache in cache/UD_Fourlang.json\n",
      "WARNING:root:loaded cache from cache/UD_Fourlang.json with interpretations: ['fourlang', 'ud']\n",
      "WARNING:root:updated cache in cache/UD_Fourlang.json\n"
     ]
    },
    {
     "name": "stdout",
     "output_type": "stream",
     "text": [
      "True found..\n",
      "True found..\n",
      "True found..\n"
     ]
    },
    {
     "name": "stderr",
     "output_type": "stream",
     "text": [
      "WARNING:root:loaded cache from cache/UD_Fourlang.json with interpretations: ['fourlang', 'ud']\n",
      "WARNING:root:updated cache in cache/UD_Fourlang.json\n",
      "WARNING:root:loaded cache from cache/UD_Fourlang.json with interpretations: ['fourlang', 'ud']\n",
      "WARNING:root:updated cache in cache/UD_Fourlang.json\n"
     ]
    },
    {
     "name": "stdout",
     "output_type": "stream",
     "text": [
      "True found..\n"
     ]
    },
    {
     "name": "stderr",
     "output_type": "stream",
     "text": [
      "WARNING:root:loaded cache from cache/UD_Fourlang.json with interpretations: ['fourlang', 'ud']\n",
      "WARNING:root:updated cache in cache/UD_Fourlang.json\n",
      "WARNING:root:loaded cache from cache/UD_Fourlang.json with interpretations: ['fourlang', 'ud']\n",
      "WARNING:root:updated cache in cache/UD_Fourlang.json\n",
      "WARNING:root:loaded cache from cache/UD_Fourlang.json with interpretations: ['fourlang', 'ud']\n",
      "WARNING:root:updated cache in cache/UD_Fourlang.json\n",
      "WARNING:root:loaded cache from cache/UD_Fourlang.json with interpretations: ['fourlang', 'ud']\n",
      "WARNING:root:updated cache in cache/UD_Fourlang.json\n"
     ]
    },
    {
     "name": "stdout",
     "output_type": "stream",
     "text": [
      "True found..\n"
     ]
    },
    {
     "name": "stderr",
     "output_type": "stream",
     "text": [
      "WARNING:root:loaded cache from cache/UD_Fourlang.json with interpretations: ['fourlang', 'ud']\n",
      "WARNING:root:updated cache in cache/UD_Fourlang.json\n"
     ]
    },
    {
     "name": "stdout",
     "output_type": "stream",
     "text": [
      "True found..\n"
     ]
    },
    {
     "name": "stderr",
     "output_type": "stream",
     "text": [
      "WARNING:root:loaded cache from cache/UD_Fourlang.json with interpretations: ['fourlang', 'ud']\n",
      "WARNING:root:updated cache in cache/UD_Fourlang.json\n",
      "WARNING:root:loaded cache from cache/UD_Fourlang.json with interpretations: ['fourlang', 'ud']\n",
      "WARNING:root:updated cache in cache/UD_Fourlang.json\n"
     ]
    },
    {
     "name": "stdout",
     "output_type": "stream",
     "text": [
      "True found..\n",
      "True found..\n",
      "True found..\n",
      "True found..\n",
      "True found..\n"
     ]
    },
    {
     "name": "stderr",
     "output_type": "stream",
     "text": [
      "WARNING:root:loaded cache from cache/UD_Fourlang.json with interpretations: ['fourlang', 'ud']\n",
      "WARNING:root:updated cache in cache/UD_Fourlang.json\n",
      "WARNING:root:alto error\n",
      "WARNING:root:loaded cache from cache/UD_Fourlang.json with interpretations: ['fourlang', 'ud']\n",
      "WARNING:root:updated cache in cache/UD_Fourlang.json\n",
      "WARNING:root:alto error\n",
      "WARNING:root:loaded cache from cache/UD_Fourlang.json with interpretations: ['fourlang', 'ud']\n",
      "WARNING:root:updated cache in cache/UD_Fourlang.json\n",
      "WARNING:root:loaded cache from cache/UD_Fourlang.json with interpretations: ['fourlang', 'ud']\n",
      "WARNING:root:updated cache in cache/UD_Fourlang.json\n",
      "WARNING:root:loaded cache from cache/UD_Fourlang.json with interpretations: ['fourlang', 'ud']\n",
      "WARNING:root:updated cache in cache/UD_Fourlang.json\n"
     ]
    },
    {
     "name": "stdout",
     "output_type": "stream",
     "text": [
      "True found..\n",
      "True found..\n",
      "True found..\n",
      "True found..\n",
      "True found..\n",
      "True found..\n"
     ]
    },
    {
     "name": "stderr",
     "output_type": "stream",
     "text": [
      "WARNING:root:loaded cache from cache/UD_Fourlang.json with interpretations: ['fourlang', 'ud']\n",
      "WARNING:root:updated cache in cache/UD_Fourlang.json\n",
      "WARNING:root:alto error\n",
      "WARNING:root:loaded cache from cache/UD_Fourlang.json with interpretations: ['fourlang', 'ud']\n",
      "WARNING:root:updated cache in cache/UD_Fourlang.json\n",
      "WARNING:root:loaded cache from cache/UD_Fourlang.json with interpretations: ['fourlang', 'ud']\n",
      "WARNING:root:updated cache in cache/UD_Fourlang.json\n",
      "WARNING:root:loaded cache from cache/UD_Fourlang.json with interpretations: ['fourlang', 'ud']\n",
      "WARNING:root:updated cache in cache/UD_Fourlang.json\n"
     ]
    },
    {
     "name": "stdout",
     "output_type": "stream",
     "text": [
      "True found..\n",
      "True found..\n",
      "True found..\n"
     ]
    },
    {
     "name": "stderr",
     "output_type": "stream",
     "text": [
      "WARNING:root:loaded cache from cache/UD_Fourlang.json with interpretations: ['fourlang', 'ud']\n",
      "WARNING:root:updated cache in cache/UD_Fourlang.json\n",
      "WARNING:root:loaded cache from cache/UD_Fourlang.json with interpretations: ['fourlang', 'ud']\n",
      "WARNING:root:updated cache in cache/UD_Fourlang.json\n"
     ]
    },
    {
     "name": "stdout",
     "output_type": "stream",
     "text": [
      "True found..\n",
      "True found..\n",
      "True found..\n",
      "True found..\n"
     ]
    },
    {
     "name": "stderr",
     "output_type": "stream",
     "text": [
      "WARNING:root:loaded cache from cache/UD_Fourlang.json with interpretations: ['fourlang', 'ud']\n",
      "WARNING:root:updated cache in cache/UD_Fourlang.json\n",
      "WARNING:root:loaded cache from cache/UD_Fourlang.json with interpretations: ['fourlang', 'ud']\n",
      "WARNING:root:updated cache in cache/UD_Fourlang.json\n",
      "WARNING:root:loaded cache from cache/UD_Fourlang.json with interpretations: ['fourlang', 'ud']\n",
      "WARNING:root:updated cache in cache/UD_Fourlang.json\n",
      "WARNING:root:loaded cache from cache/UD_Fourlang.json with interpretations: ['fourlang', 'ud']\n",
      "WARNING:root:updated cache in cache/UD_Fourlang.json\n",
      "WARNING:root:alto error\n",
      "WARNING:root:loaded cache from cache/UD_Fourlang.json with interpretations: ['fourlang', 'ud']\n",
      "WARNING:root:updated cache in cache/UD_Fourlang.json\n",
      "WARNING:root:alto error\n",
      "WARNING:root:loaded cache from cache/UD_Fourlang.json with interpretations: ['fourlang', 'ud']\n",
      "WARNING:root:updated cache in cache/UD_Fourlang.json\n"
     ]
    },
    {
     "name": "stdout",
     "output_type": "stream",
     "text": [
      "True found..\n"
     ]
    },
    {
     "name": "stderr",
     "output_type": "stream",
     "text": [
      "WARNING:root:loaded cache from cache/UD_Fourlang.json with interpretations: ['fourlang', 'ud']\n",
      "WARNING:root:updated cache in cache/UD_Fourlang.json\n",
      "WARNING:root:loaded cache from cache/UD_Fourlang.json with interpretations: ['fourlang', 'ud']\n",
      "WARNING:root:updated cache in cache/UD_Fourlang.json\n"
     ]
    },
    {
     "name": "stdout",
     "output_type": "stream",
     "text": [
      "True found..\n",
      "True found..\n",
      "True found..\n"
     ]
    },
    {
     "name": "stderr",
     "output_type": "stream",
     "text": [
      "WARNING:root:loaded cache from cache/UD_Fourlang.json with interpretations: ['fourlang', 'ud']\n",
      "WARNING:root:updated cache in cache/UD_Fourlang.json\n",
      "WARNING:root:alto error\n",
      "WARNING:root:loaded cache from cache/UD_Fourlang.json with interpretations: ['fourlang', 'ud']\n",
      "WARNING:root:updated cache in cache/UD_Fourlang.json\n",
      "WARNING:root:loaded cache from cache/UD_Fourlang.json with interpretations: ['fourlang', 'ud']\n",
      "WARNING:root:updated cache in cache/UD_Fourlang.json\n",
      "WARNING:root:alto error\n",
      "WARNING:root:loaded cache from cache/UD_Fourlang.json with interpretations: ['fourlang', 'ud']\n",
      "WARNING:root:updated cache in cache/UD_Fourlang.json\n",
      "WARNING:root:alto error\n",
      "WARNING:root:loaded cache from cache/UD_Fourlang.json with interpretations: ['fourlang', 'ud']\n",
      "WARNING:root:updated cache in cache/UD_Fourlang.json\n",
      "WARNING:root:loaded cache from cache/UD_Fourlang.json with interpretations: ['fourlang', 'ud']\n",
      "WARNING:root:updated cache in cache/UD_Fourlang.json\n",
      "WARNING:root:loaded cache from cache/UD_Fourlang.json with interpretations: ['fourlang', 'ud']\n",
      "WARNING:root:updated cache in cache/UD_Fourlang.json\n",
      "WARNING:root:alto error\n",
      "WARNING:root:loaded cache from cache/UD_Fourlang.json with interpretations: ['fourlang', 'ud']\n",
      "WARNING:root:updated cache in cache/UD_Fourlang.json\n"
     ]
    },
    {
     "name": "stdout",
     "output_type": "stream",
     "text": [
      "True found..\n"
     ]
    },
    {
     "name": "stderr",
     "output_type": "stream",
     "text": [
      "WARNING:root:loaded cache from cache/UD_Fourlang.json with interpretations: ['fourlang', 'ud']\n",
      "WARNING:root:updated cache in cache/UD_Fourlang.json\n"
     ]
    },
    {
     "name": "stdout",
     "output_type": "stream",
     "text": [
      "True found..\n",
      "True found..\n"
     ]
    },
    {
     "name": "stderr",
     "output_type": "stream",
     "text": [
      "WARNING:root:loaded cache from cache/UD_Fourlang.json with interpretations: ['fourlang', 'ud']\n",
      "WARNING:root:updated cache in cache/UD_Fourlang.json\n"
     ]
    },
    {
     "name": "stdout",
     "output_type": "stream",
     "text": [
      "True found..\n"
     ]
    },
    {
     "name": "stderr",
     "output_type": "stream",
     "text": [
      "WARNING:root:loaded cache from cache/UD_Fourlang.json with interpretations: ['fourlang', 'ud']\n",
      "WARNING:root:updated cache in cache/UD_Fourlang.json\n",
      "WARNING:root:alto error\n",
      "WARNING:root:loaded cache from cache/UD_Fourlang.json with interpretations: ['fourlang', 'ud']\n",
      "WARNING:root:updated cache in cache/UD_Fourlang.json\n",
      "WARNING:root:loaded cache from cache/UD_Fourlang.json with interpretations: ['fourlang', 'ud']\n",
      "WARNING:root:updated cache in cache/UD_Fourlang.json\n",
      "WARNING:root:loaded cache from cache/UD_Fourlang.json with interpretations: ['fourlang', 'ud']\n",
      "WARNING:root:updated cache in cache/UD_Fourlang.json\n",
      "WARNING:root:loaded cache from cache/UD_Fourlang.json with interpretations: ['fourlang', 'ud']\n",
      "WARNING:root:updated cache in cache/UD_Fourlang.json\n"
     ]
    },
    {
     "name": "stdout",
     "output_type": "stream",
     "text": [
      "True found..\n",
      "True found..\n"
     ]
    },
    {
     "name": "stderr",
     "output_type": "stream",
     "text": [
      "WARNING:root:loaded cache from cache/UD_Fourlang.json with interpretations: ['fourlang', 'ud']\n",
      "WARNING:root:updated cache in cache/UD_Fourlang.json\n",
      "WARNING:root:loaded cache from cache/UD_Fourlang.json with interpretations: ['fourlang', 'ud']\n",
      "WARNING:root:updated cache in cache/UD_Fourlang.json\n"
     ]
    },
    {
     "name": "stdout",
     "output_type": "stream",
     "text": [
      "True found..\n",
      "True found..\n",
      "True found..\n",
      "True found..\n"
     ]
    },
    {
     "name": "stderr",
     "output_type": "stream",
     "text": [
      "WARNING:root:loaded cache from cache/UD_Fourlang.json with interpretations: ['fourlang', 'ud']\n",
      "WARNING:root:updated cache in cache/UD_Fourlang.json\n"
     ]
    },
    {
     "name": "stdout",
     "output_type": "stream",
     "text": [
      "True found..\n",
      "True found..\n"
     ]
    },
    {
     "name": "stderr",
     "output_type": "stream",
     "text": [
      "WARNING:root:loaded cache from cache/UD_Fourlang.json with interpretations: ['fourlang', 'ud']\n",
      "WARNING:root:updated cache in cache/UD_Fourlang.json\n",
      "WARNING:root:loaded cache from cache/UD_Fourlang.json with interpretations: ['fourlang', 'ud']\n",
      "WARNING:root:updated cache in cache/UD_Fourlang.json\n"
     ]
    },
    {
     "name": "stdout",
     "output_type": "stream",
     "text": [
      "True found..\n",
      "True found..\n",
      "True found..\n"
     ]
    },
    {
     "name": "stderr",
     "output_type": "stream",
     "text": [
      "WARNING:root:loaded cache from cache/UD_Fourlang.json with interpretations: ['fourlang', 'ud']\n",
      "WARNING:root:updated cache in cache/UD_Fourlang.json\n"
     ]
    },
    {
     "name": "stdout",
     "output_type": "stream",
     "text": [
      "True found..\n",
      "True found..\n",
      "True found..\n",
      "True found..\n"
     ]
    },
    {
     "name": "stderr",
     "output_type": "stream",
     "text": [
      "WARNING:root:loaded cache from cache/UD_Fourlang.json with interpretations: ['fourlang', 'ud']\n",
      "WARNING:root:updated cache in cache/UD_Fourlang.json\n"
     ]
    },
    {
     "name": "stdout",
     "output_type": "stream",
     "text": [
      "True found..\n",
      "True found..\n"
     ]
    },
    {
     "name": "stderr",
     "output_type": "stream",
     "text": [
      "WARNING:root:loaded cache from cache/UD_Fourlang.json with interpretations: ['fourlang', 'ud']\n",
      "WARNING:root:updated cache in cache/UD_Fourlang.json\n",
      "WARNING:root:loaded cache from cache/UD_Fourlang.json with interpretations: ['fourlang', 'ud']\n",
      "WARNING:root:updated cache in cache/UD_Fourlang.json\n"
     ]
    },
    {
     "name": "stdout",
     "output_type": "stream",
     "text": [
      "True found..\n"
     ]
    },
    {
     "name": "stderr",
     "output_type": "stream",
     "text": [
      "WARNING:root:loaded cache from cache/UD_Fourlang.json with interpretations: ['fourlang', 'ud']\n",
      "WARNING:root:updated cache in cache/UD_Fourlang.json\n",
      "WARNING:root:loaded cache from cache/UD_Fourlang.json with interpretations: ['fourlang', 'ud']\n",
      "WARNING:root:updated cache in cache/UD_Fourlang.json\n"
     ]
    },
    {
     "name": "stdout",
     "output_type": "stream",
     "text": [
      "True found..\n"
     ]
    },
    {
     "name": "stderr",
     "output_type": "stream",
     "text": [
      "WARNING:root:loaded cache from cache/UD_Fourlang.json with interpretations: ['fourlang', 'ud']\n",
      "WARNING:root:updated cache in cache/UD_Fourlang.json\n"
     ]
    },
    {
     "name": "stdout",
     "output_type": "stream",
     "text": [
      "True found..\n",
      "True found..\n",
      "True found..\n"
     ]
    },
    {
     "name": "stderr",
     "output_type": "stream",
     "text": [
      "WARNING:root:loaded cache from cache/UD_Fourlang.json with interpretations: ['fourlang', 'ud']\n",
      "WARNING:root:updated cache in cache/UD_Fourlang.json\n"
     ]
    },
    {
     "name": "stdout",
     "output_type": "stream",
     "text": [
      "True found..\n",
      "True found..\n"
     ]
    },
    {
     "name": "stderr",
     "output_type": "stream",
     "text": [
      "WARNING:root:loaded cache from cache/UD_Fourlang.json with interpretations: ['fourlang', 'ud']\n",
      "WARNING:root:updated cache in cache/UD_Fourlang.json\n",
      "WARNING:root:alto error\n",
      "WARNING:root:loaded cache from cache/UD_Fourlang.json with interpretations: ['fourlang', 'ud']\n",
      "WARNING:root:updated cache in cache/UD_Fourlang.json\n",
      "WARNING:root:loaded cache from cache/UD_Fourlang.json with interpretations: ['fourlang', 'ud']\n",
      "WARNING:root:updated cache in cache/UD_Fourlang.json\n",
      "WARNING:root:alto error\n",
      "WARNING:root:loaded cache from cache/UD_Fourlang.json with interpretations: ['fourlang', 'ud']\n",
      "WARNING:root:updated cache in cache/UD_Fourlang.json\n",
      "WARNING:root:loaded cache from cache/UD_Fourlang.json with interpretations: ['fourlang', 'ud']\n",
      "WARNING:root:updated cache in cache/UD_Fourlang.json\n"
     ]
    },
    {
     "name": "stdout",
     "output_type": "stream",
     "text": [
      "True found..\n",
      "True found..\n",
      "True found..\n",
      "True found..\n",
      "True found..\n",
      "True found..\n",
      "True found..\n",
      "True found..\n",
      "True found..\n",
      "True found..\n"
     ]
    },
    {
     "name": "stderr",
     "output_type": "stream",
     "text": [
      "WARNING:root:loaded cache from cache/UD_Fourlang.json with interpretations: ['fourlang', 'ud']\n",
      "WARNING:root:updated cache in cache/UD_Fourlang.json\n"
     ]
    },
    {
     "name": "stdout",
     "output_type": "stream",
     "text": [
      "True found..\n"
     ]
    },
    {
     "name": "stderr",
     "output_type": "stream",
     "text": [
      "WARNING:root:loaded cache from cache/UD_Fourlang.json with interpretations: ['fourlang', 'ud']\n",
      "WARNING:root:updated cache in cache/UD_Fourlang.json\n"
     ]
    },
    {
     "name": "stdout",
     "output_type": "stream",
     "text": [
      "True found..\n",
      "True found..\n",
      "True found..\n"
     ]
    },
    {
     "name": "stderr",
     "output_type": "stream",
     "text": [
      "WARNING:root:alto error\n",
      "WARNING:root:loaded cache from cache/UD_Fourlang.json with interpretations: ['fourlang', 'ud']\n",
      "WARNING:root:updated cache in cache/UD_Fourlang.json\n"
     ]
    },
    {
     "name": "stdout",
     "output_type": "stream",
     "text": [
      "True found..\n",
      "True found..\n",
      "True found..\n"
     ]
    },
    {
     "name": "stderr",
     "output_type": "stream",
     "text": [
      "WARNING:root:loaded cache from cache/UD_Fourlang.json with interpretations: ['fourlang', 'ud']\n",
      "WARNING:root:updated cache in cache/UD_Fourlang.json\n",
      "WARNING:root:loaded cache from cache/UD_Fourlang.json with interpretations: ['fourlang', 'ud']\n",
      "WARNING:root:updated cache in cache/UD_Fourlang.json\n"
     ]
    },
    {
     "name": "stdout",
     "output_type": "stream",
     "text": [
      "[['Google is employment on Android', 'Google is releasing for Android'], ['Google is trademark on Android', 'Google is releasing for Android']]\n",
      "Google is working on Android\n",
      "reduced: tensor([2, 2])\n",
      "True found..\n",
      "True found..\n",
      "True found..\n",
      "True found..\n",
      "True found..\n",
      "True found..\n",
      "True found..\n",
      "True found..\n",
      "True found..\n",
      "True found..\n",
      "True found..\n",
      "True found..\n",
      "True found..\n"
     ]
    },
    {
     "name": "stderr",
     "output_type": "stream",
     "text": [
      "WARNING:root:loaded cache from cache/UD_Fourlang.json with interpretations: ['fourlang', 'ud']\n",
      "WARNING:root:updated cache in cache/UD_Fourlang.json\n",
      "WARNING:root:loaded cache from cache/UD_Fourlang.json with interpretations: ['fourlang', 'ud']\n",
      "WARNING:root:updated cache in cache/UD_Fourlang.json\n",
      "WARNING:root:loaded cache from cache/UD_Fourlang.json with interpretations: ['fourlang', 'ud']\n",
      "WARNING:root:updated cache in cache/UD_Fourlang.json\n",
      "WARNING:root:loaded cache from cache/UD_Fourlang.json with interpretations: ['fourlang', 'ud']\n",
      "WARNING:root:updated cache in cache/UD_Fourlang.json\n",
      "WARNING:root:loaded cache from cache/UD_Fourlang.json with interpretations: ['fourlang', 'ud']\n",
      "WARNING:root:updated cache in cache/UD_Fourlang.json\n"
     ]
    },
    {
     "name": "stdout",
     "output_type": "stream",
     "text": [
      "True found..\n"
     ]
    },
    {
     "name": "stderr",
     "output_type": "stream",
     "text": [
      "WARNING:root:loaded cache from cache/UD_Fourlang.json with interpretations: ['fourlang', 'ud']\n",
      "WARNING:root:updated cache in cache/UD_Fourlang.json\n"
     ]
    },
    {
     "name": "stdout",
     "output_type": "stream",
     "text": [
      "True found..\n",
      "True found..\n"
     ]
    },
    {
     "name": "stderr",
     "output_type": "stream",
     "text": [
      "WARNING:root:loaded cache from cache/UD_Fourlang.json with interpretations: ['fourlang', 'ud']\n",
      "WARNING:root:updated cache in cache/UD_Fourlang.json\n",
      "WARNING:root:loaded cache from cache/UD_Fourlang.json with interpretations: ['fourlang', 'ud']\n",
      "WARNING:root:updated cache in cache/UD_Fourlang.json\n",
      "WARNING:root:alto error\n",
      "WARNING:root:loaded cache from cache/UD_Fourlang.json with interpretations: ['fourlang', 'ud']\n",
      "WARNING:root:updated cache in cache/UD_Fourlang.json\n",
      "WARNING:root:alto error\n",
      "WARNING:root:loaded cache from cache/UD_Fourlang.json with interpretations: ['fourlang', 'ud']\n",
      "WARNING:root:updated cache in cache/UD_Fourlang.json\n"
     ]
    },
    {
     "name": "stdout",
     "output_type": "stream",
     "text": [
      "True found..\n",
      "True found..\n"
     ]
    },
    {
     "name": "stderr",
     "output_type": "stream",
     "text": [
      "WARNING:root:loaded cache from cache/UD_Fourlang.json with interpretations: ['fourlang', 'ud']\n",
      "WARNING:root:updated cache in cache/UD_Fourlang.json\n"
     ]
    },
    {
     "name": "stdout",
     "output_type": "stream",
     "text": [
      "True found..\n",
      "True found..\n",
      "True found..\n",
      "True found..\n"
     ]
    },
    {
     "name": "stderr",
     "output_type": "stream",
     "text": [
      "WARNING:root:loaded cache from cache/UD_Fourlang.json with interpretations: ['fourlang', 'ud']\n",
      "WARNING:root:updated cache in cache/UD_Fourlang.json\n"
     ]
    },
    {
     "name": "stdout",
     "output_type": "stream",
     "text": [
      "True found..\n",
      "True found..\n",
      "True found..\n",
      "True found..\n",
      "True found..\n"
     ]
    },
    {
     "name": "stderr",
     "output_type": "stream",
     "text": [
      "WARNING:root:loaded cache from cache/UD_Fourlang.json with interpretations: ['fourlang', 'ud']\n",
      "WARNING:root:updated cache in cache/UD_Fourlang.json\n",
      "WARNING:root:loaded cache from cache/UD_Fourlang.json with interpretations: ['fourlang', 'ud']\n",
      "WARNING:root:updated cache in cache/UD_Fourlang.json\n"
     ]
    },
    {
     "name": "stdout",
     "output_type": "stream",
     "text": [
      "True found..\n",
      "True found..\n"
     ]
    },
    {
     "name": "stderr",
     "output_type": "stream",
     "text": [
      "WARNING:root:loaded cache from cache/UD_Fourlang.json with interpretations: ['fourlang', 'ud']\n",
      "WARNING:root:updated cache in cache/UD_Fourlang.json\n",
      "WARNING:root:loaded cache from cache/UD_Fourlang.json with interpretations: ['fourlang', 'ud']\n",
      "WARNING:root:updated cache in cache/UD_Fourlang.json\n",
      "WARNING:root:loaded cache from cache/UD_Fourlang.json with interpretations: ['fourlang', 'ud']\n",
      "WARNING:root:updated cache in cache/UD_Fourlang.json\n",
      "WARNING:root:loaded cache from cache/UD_Fourlang.json with interpretations: ['fourlang', 'ud']\n",
      "WARNING:root:updated cache in cache/UD_Fourlang.json\n",
      "WARNING:root:loaded cache from cache/UD_Fourlang.json with interpretations: ['fourlang', 'ud']\n",
      "WARNING:root:updated cache in cache/UD_Fourlang.json\n",
      "WARNING:root:loaded cache from cache/UD_Fourlang.json with interpretations: ['fourlang', 'ud']\n",
      "WARNING:root:updated cache in cache/UD_Fourlang.json\n"
     ]
    },
    {
     "name": "stdout",
     "output_type": "stream",
     "text": [
      "True found..\n",
      "True found..\n",
      "True found..\n",
      "True found..\n",
      "True found..\n",
      "True found..\n"
     ]
    },
    {
     "name": "stderr",
     "output_type": "stream",
     "text": [
      "WARNING:root:loaded cache from cache/UD_Fourlang.json with interpretations: ['fourlang', 'ud']\n",
      "WARNING:root:updated cache in cache/UD_Fourlang.json\n",
      "WARNING:root:loaded cache from cache/UD_Fourlang.json with interpretations: ['fourlang', 'ud']\n",
      "WARNING:root:updated cache in cache/UD_Fourlang.json\n",
      "WARNING:root:loaded cache from cache/UD_Fourlang.json with interpretations: ['fourlang', 'ud']\n",
      "WARNING:root:updated cache in cache/UD_Fourlang.json\n",
      "WARNING:root:loaded cache from cache/UD_Fourlang.json with interpretations: ['fourlang', 'ud']\n",
      "WARNING:root:updated cache in cache/UD_Fourlang.json\n"
     ]
    },
    {
     "name": "stdout",
     "output_type": "stream",
     "text": [
      "True found..\n",
      "True found..\n",
      "True found..\n",
      "True found..\n",
      "True found..\n",
      "True found..\n",
      "True found..\n",
      "True found..\n",
      "True found..\n",
      "True found..\n",
      "True found..\n",
      "True found..\n",
      "True found..\n"
     ]
    },
    {
     "name": "stderr",
     "output_type": "stream",
     "text": [
      "WARNING:root:alto error\n",
      "WARNING:root:loaded cache from cache/UD_Fourlang.json with interpretations: ['fourlang', 'ud']\n",
      "WARNING:root:updated cache in cache/UD_Fourlang.json\n"
     ]
    },
    {
     "name": "stdout",
     "output_type": "stream",
     "text": [
      "True found..\n"
     ]
    },
    {
     "name": "stderr",
     "output_type": "stream",
     "text": [
      "WARNING:root:loaded cache from cache/UD_Fourlang.json with interpretations: ['fourlang', 'ud']\n",
      "WARNING:root:updated cache in cache/UD_Fourlang.json\n"
     ]
    },
    {
     "name": "stdout",
     "output_type": "stream",
     "text": [
      "True found..\n"
     ]
    },
    {
     "name": "stderr",
     "output_type": "stream",
     "text": [
      "WARNING:root:loaded cache from cache/UD_Fourlang.json with interpretations: ['fourlang', 'ud']\n",
      "WARNING:root:updated cache in cache/UD_Fourlang.json\n",
      "WARNING:root:loaded cache from cache/UD_Fourlang.json with interpretations: ['fourlang', 'ud']\n",
      "WARNING:root:updated cache in cache/UD_Fourlang.json\n",
      "WARNING:root:loaded cache from cache/UD_Fourlang.json with interpretations: ['fourlang', 'ud']\n",
      "WARNING:root:updated cache in cache/UD_Fourlang.json\n",
      "WARNING:root:loaded cache from cache/UD_Fourlang.json with interpretations: ['fourlang', 'ud']\n",
      "WARNING:root:updated cache in cache/UD_Fourlang.json\n",
      "WARNING:root:loaded cache from cache/UD_Fourlang.json with interpretations: ['fourlang', 'ud']\n",
      "WARNING:root:updated cache in cache/UD_Fourlang.json\n"
     ]
    },
    {
     "name": "stdout",
     "output_type": "stream",
     "text": [
      "True found..\n",
      "True found..\n",
      "True found..\n",
      "True found..\n",
      "[['Joseph Stalin is cause Russia', 'Joseph Stalin is leading Russia'], ['Joseph Stalin is son Russia', 'Joseph Stalin is leading Russia'], ['Joseph Stalin is Jacob Russia', 'Joseph Stalin is leading Russia'], ['Joseph Stalin is wife Russia', 'Joseph Stalin is leading Russia'], ['Joseph Stalin is Rachel Russia', 'Joseph Stalin is leading Russia']]\n",
      "Joseph Stalin is destroying Russia\n",
      "reduced: tensor([2, 2, 2, 0, 2])\n",
      "True found..\n",
      "True found..\n",
      "True found..\n",
      "True found..\n",
      "True found..\n"
     ]
    },
    {
     "name": "stderr",
     "output_type": "stream",
     "text": [
      "WARNING:root:loaded cache from cache/UD_Fourlang.json with interpretations: ['fourlang', 'ud']\n",
      "WARNING:root:updated cache in cache/UD_Fourlang.json\n"
     ]
    },
    {
     "name": "stdout",
     "output_type": "stream",
     "text": [
      "[['Osama bin Laden is put in Iraq', 'Osama bin Laden is going into Iraq'], ['Osama bin Laden is extinguish in Iraq', 'Osama bin Laden is going into Iraq']]\n",
      "Osama bin Laden is killing in Iraq\n",
      "reduced: tensor([2, 0])\n",
      "True found..\n"
     ]
    },
    {
     "name": "stderr",
     "output_type": "stream",
     "text": [
      "WARNING:root:loaded cache from cache/UD_Fourlang.json with interpretations: ['fourlang', 'ud']\n",
      "WARNING:root:updated cache in cache/UD_Fourlang.json\n",
      "WARNING:root:loaded cache from cache/UD_Fourlang.json with interpretations: ['fourlang', 'ud']\n",
      "WARNING:root:updated cache in cache/UD_Fourlang.json\n",
      "WARNING:root:alto error\n",
      "WARNING:root:loaded cache from cache/UD_Fourlang.json with interpretations: ['fourlang', 'ud']\n",
      "WARNING:root:updated cache in cache/UD_Fourlang.json\n"
     ]
    },
    {
     "name": "stdout",
     "output_type": "stream",
     "text": [
      "True found..\n",
      "True found..\n",
      "True found..\n"
     ]
    },
    {
     "name": "stderr",
     "output_type": "stream",
     "text": [
      "WARNING:root:loaded cache from cache/UD_Fourlang.json with interpretations: ['fourlang', 'ud']\n",
      "WARNING:root:updated cache in cache/UD_Fourlang.json\n"
     ]
    },
    {
     "name": "stdout",
     "output_type": "stream",
     "text": [
      "True found..\n"
     ]
    },
    {
     "name": "stderr",
     "output_type": "stream",
     "text": [
      "WARNING:root:loaded cache from cache/UD_Fourlang.json with interpretations: ['fourlang', 'ud']\n",
      "WARNING:root:updated cache in cache/UD_Fourlang.json\n",
      "WARNING:root:loaded cache from cache/UD_Fourlang.json with interpretations: ['fourlang', 'ud']\n",
      "WARNING:root:updated cache in cache/UD_Fourlang.json\n",
      "WARNING:root:loaded cache from cache/UD_Fourlang.json with interpretations: ['fourlang', 'ud']\n",
      "WARNING:root:updated cache in cache/UD_Fourlang.json\n"
     ]
    },
    {
     "name": "stdout",
     "output_type": "stream",
     "text": [
      "True found..\n"
     ]
    },
    {
     "name": "stderr",
     "output_type": "stream",
     "text": [
      "WARNING:root:loaded cache from cache/UD_Fourlang.json with interpretations: ['fourlang', 'ud']\n",
      "WARNING:root:updated cache in cache/UD_Fourlang.json\n"
     ]
    },
    {
     "name": "stdout",
     "output_type": "stream",
     "text": [
      "[[\"New York City is Western Australia's bigger\", 'New York City is centre of Western Australia'], [\"New York City is Western Australia's center\", 'New York City is centre of Western Australia'], [\"New York City is Western Australia's settlement\", 'New York City is centre of Western Australia'], [\"New York City is Western Australia's large\", 'New York City is centre of Western Australia'], [\"New York City is Western Australia's colloquial\", 'New York City is centre of Western Australia']]\n",
      "New York City is Western Australia's city\n",
      "reduced: tensor([1, 2, 2, 1, 1])\n",
      "True found..\n",
      "True found..\n",
      "True found..\n",
      "True found..\n",
      "True found..\n"
     ]
    },
    {
     "name": "stderr",
     "output_type": "stream",
     "text": [
      "WARNING:root:alto error\n",
      "WARNING:root:loaded cache from cache/UD_Fourlang.json with interpretations: ['fourlang', 'ud']\n",
      "WARNING:root:updated cache in cache/UD_Fourlang.json\n",
      "WARNING:root:loaded cache from cache/UD_Fourlang.json with interpretations: ['fourlang', 'ud']\n",
      "WARNING:root:updated cache in cache/UD_Fourlang.json\n"
     ]
    },
    {
     "name": "stdout",
     "output_type": "stream",
     "text": [
      "True found..\n"
     ]
    },
    {
     "name": "stderr",
     "output_type": "stream",
     "text": [
      "WARNING:root:loaded cache from cache/UD_Fourlang.json with interpretations: ['fourlang', 'ud']\n",
      "WARNING:root:updated cache in cache/UD_Fourlang.json\n"
     ]
    },
    {
     "name": "stdout",
     "output_type": "stream",
     "text": [
      "True found..\n"
     ]
    },
    {
     "name": "stderr",
     "output_type": "stream",
     "text": [
      "WARNING:root:loaded cache from cache/UD_Fourlang.json with interpretations: ['fourlang', 'ud']\n",
      "WARNING:root:updated cache in cache/UD_Fourlang.json\n",
      "WARNING:root:loaded cache from cache/UD_Fourlang.json with interpretations: ['fourlang', 'ud']\n",
      "WARNING:root:updated cache in cache/UD_Fourlang.json\n"
     ]
    },
    {
     "name": "stdout",
     "output_type": "stream",
     "text": [
      "True found..\n",
      "True found..\n",
      "True found..\n"
     ]
    },
    {
     "name": "stderr",
     "output_type": "stream",
     "text": [
      "WARNING:root:loaded cache from cache/UD_Fourlang.json with interpretations: ['fourlang', 'ud']\n",
      "WARNING:root:updated cache in cache/UD_Fourlang.json\n"
     ]
    },
    {
     "name": "stdout",
     "output_type": "stream",
     "text": [
      "True found..\n",
      "True found..\n",
      "True found..\n",
      "True found..\n",
      "True found..\n",
      "True found..\n",
      "True found..\n",
      "True found..\n",
      "True found..\n",
      "True found..\n",
      "True found..\n",
      "True found..\n"
     ]
    },
    {
     "name": "stderr",
     "output_type": "stream",
     "text": [
      "WARNING:root:loaded cache from cache/UD_Fourlang.json with interpretations: ['fourlang', 'ud']\n",
      "WARNING:root:updated cache in cache/UD_Fourlang.json\n"
     ]
    },
    {
     "name": "stdout",
     "output_type": "stream",
     "text": [
      "True found..\n"
     ]
    },
    {
     "name": "stderr",
     "output_type": "stream",
     "text": [
      "WARNING:root:loaded cache from cache/UD_Fourlang.json with interpretations: ['fourlang', 'ud']\n",
      "WARNING:root:updated cache in cache/UD_Fourlang.json\n",
      "WARNING:root:loaded cache from cache/UD_Fourlang.json with interpretations: ['fourlang', 'ud']\n",
      "WARNING:root:updated cache in cache/UD_Fourlang.json\n",
      "WARNING:root:loaded cache from cache/UD_Fourlang.json with interpretations: ['fourlang', 'ud']\n",
      "WARNING:root:updated cache in cache/UD_Fourlang.json\n"
     ]
    },
    {
     "name": "stdout",
     "output_type": "stream",
     "text": [
      "True found..\n",
      "True found..\n",
      "True found..\n",
      "True found..\n"
     ]
    },
    {
     "name": "stderr",
     "output_type": "stream",
     "text": [
      "WARNING:root:loaded cache from cache/UD_Fourlang.json with interpretations: ['fourlang', 'ud']\n",
      "WARNING:root:updated cache in cache/UD_Fourlang.json\n",
      "WARNING:root:loaded cache from cache/UD_Fourlang.json with interpretations: ['fourlang', 'ud']\n",
      "WARNING:root:updated cache in cache/UD_Fourlang.json\n"
     ]
    },
    {
     "name": "stdout",
     "output_type": "stream",
     "text": [
      "True found..\n",
      "True found..\n",
      "True found..\n",
      "True found..\n",
      "True found..\n",
      "True found..\n"
     ]
    },
    {
     "name": "stderr",
     "output_type": "stream",
     "text": [
      "WARNING:root:loaded cache from cache/UD_Fourlang.json with interpretations: ['fourlang', 'ud']\n",
      "WARNING:root:updated cache in cache/UD_Fourlang.json\n"
     ]
    },
    {
     "name": "stdout",
     "output_type": "stream",
     "text": [
      "[['Canada is have to Australia', 'Canada is joining with Australia'], ['Canada is informal to Australia', 'Canada is joining with Australia']]\n",
      "Canada is similar to Australia\n",
      "reduced: tensor([2, 2])\n"
     ]
    },
    {
     "name": "stderr",
     "output_type": "stream",
     "text": [
      "WARNING:root:loaded cache from cache/UD_Fourlang.json with interpretations: ['fourlang', 'ud']\n",
      "WARNING:root:updated cache in cache/UD_Fourlang.json\n"
     ]
    },
    {
     "name": "stdout",
     "output_type": "stream",
     "text": [
      "True found..\n",
      "True found..\n",
      "True found..\n",
      "True found..\n",
      "True found..\n",
      "True found..\n",
      "True found..\n"
     ]
    },
    {
     "name": "stderr",
     "output_type": "stream",
     "text": [
      "WARNING:root:loaded cache from cache/UD_Fourlang.json with interpretations: ['fourlang', 'ud']\n",
      "WARNING:root:updated cache in cache/UD_Fourlang.json\n"
     ]
    },
    {
     "name": "stdout",
     "output_type": "stream",
     "text": [
      "True found..\n",
      "True found..\n",
      "True found..\n",
      "True found..\n"
     ]
    },
    {
     "name": "stderr",
     "output_type": "stream",
     "text": [
      "WARNING:root:loaded cache from cache/UD_Fourlang.json with interpretations: ['fourlang', 'ud']\n",
      "WARNING:root:updated cache in cache/UD_Fourlang.json\n"
     ]
    },
    {
     "name": "stdout",
     "output_type": "stream",
     "text": [
      "True found..\n"
     ]
    },
    {
     "name": "stderr",
     "output_type": "stream",
     "text": [
      "WARNING:root:loaded cache from cache/UD_Fourlang.json with interpretations: ['fourlang', 'ud']\n",
      "WARNING:root:updated cache in cache/UD_Fourlang.json\n",
      "WARNING:root:alto error\n",
      "WARNING:root:loaded cache from cache/UD_Fourlang.json with interpretations: ['fourlang', 'ud']\n",
      "WARNING:root:updated cache in cache/UD_Fourlang.json\n",
      "WARNING:root:loaded cache from cache/UD_Fourlang.json with interpretations: ['fourlang', 'ud']\n",
      "WARNING:root:updated cache in cache/UD_Fourlang.json\n"
     ]
    },
    {
     "name": "stdout",
     "output_type": "stream",
     "text": [
      "[['India is acquire on United States of America', 'India is accusing United States of America'], ['India is letter on United States of America', 'India is accusing United States of America'], ['India is alphabet on United States of America', 'India is accusing United States of America'], ['India is I on United States of America', 'India is accusing United States of America']]\n",
      "India is gaining on United States of America\n",
      "reduced: tensor([2, 2, 2, 2])\n",
      "True found..\n"
     ]
    },
    {
     "name": "stderr",
     "output_type": "stream",
     "text": [
      "WARNING:root:loaded cache from cache/UD_Fourlang.json with interpretations: ['fourlang', 'ud']\n",
      "WARNING:root:updated cache in cache/UD_Fourlang.json\n",
      "WARNING:root:loaded cache from cache/UD_Fourlang.json with interpretations: ['fourlang', 'ud']\n",
      "WARNING:root:updated cache in cache/UD_Fourlang.json\n",
      "WARNING:root:loaded cache from cache/UD_Fourlang.json with interpretations: ['fourlang', 'ud']\n",
      "WARNING:root:updated cache in cache/UD_Fourlang.json\n",
      "WARNING:root:loaded cache from cache/UD_Fourlang.json with interpretations: ['fourlang', 'ud']\n",
      "WARNING:root:updated cache in cache/UD_Fourlang.json\n"
     ]
    },
    {
     "name": "stdout",
     "output_type": "stream",
     "text": [
      "True found..\n"
     ]
    },
    {
     "name": "stderr",
     "output_type": "stream",
     "text": [
      "WARNING:root:loaded cache from cache/UD_Fourlang.json with interpretations: ['fourlang', 'ud']\n",
      "WARNING:root:updated cache in cache/UD_Fourlang.json\n"
     ]
    },
    {
     "name": "stdout",
     "output_type": "stream",
     "text": [
      "True found..\n"
     ]
    },
    {
     "name": "stderr",
     "output_type": "stream",
     "text": [
      "WARNING:root:loaded cache from cache/UD_Fourlang.json with interpretations: ['fourlang', 'ud']\n",
      "WARNING:root:updated cache in cache/UD_Fourlang.json\n",
      "WARNING:root:loaded cache from cache/UD_Fourlang.json with interpretations: ['fourlang', 'ud']\n",
      "WARNING:root:updated cache in cache/UD_Fourlang.json\n"
     ]
    },
    {
     "name": "stdout",
     "output_type": "stream",
     "text": [
      "True found..\n"
     ]
    },
    {
     "name": "stderr",
     "output_type": "stream",
     "text": [
      "WARNING:root:loaded cache from cache/UD_Fourlang.json with interpretations: ['fourlang', 'ud']\n",
      "WARNING:root:updated cache in cache/UD_Fourlang.json\n"
     ]
    },
    {
     "name": "stdout",
     "output_type": "stream",
     "text": [
      "True found..\n",
      "True found..\n",
      "True found..\n"
     ]
    },
    {
     "name": "stderr",
     "output_type": "stream",
     "text": [
      "WARNING:root:loaded cache from cache/UD_Fourlang.json with interpretations: ['fourlang', 'ud']\n",
      "WARNING:root:updated cache in cache/UD_Fourlang.json\n"
     ]
    },
    {
     "name": "stdout",
     "output_type": "stream",
     "text": [
      "True found..\n",
      "True found..\n",
      "True found..\n",
      "True found..\n",
      "True found..\n"
     ]
    },
    {
     "name": "stderr",
     "output_type": "stream",
     "text": [
      "WARNING:root:loaded cache from cache/UD_Fourlang.json with interpretations: ['fourlang', 'ud']\n",
      "WARNING:root:updated cache in cache/UD_Fourlang.json\n"
     ]
    },
    {
     "name": "stdout",
     "output_type": "stream",
     "text": [
      "True found..\n",
      "True found..\n",
      "True found..\n"
     ]
    },
    {
     "name": "stderr",
     "output_type": "stream",
     "text": [
      "WARNING:root:loaded cache from cache/UD_Fourlang.json with interpretations: ['fourlang', 'ud']\n",
      "WARNING:root:updated cache in cache/UD_Fourlang.json\n"
     ]
    },
    {
     "name": "stdout",
     "output_type": "stream",
     "text": [
      "True found..\n",
      "True found..\n",
      "True found..\n",
      "True found..\n",
      "True found..\n"
     ]
    },
    {
     "name": "stderr",
     "output_type": "stream",
     "text": [
      "WARNING:root:loaded cache from cache/UD_Fourlang.json with interpretations: ['fourlang', 'ud']\n",
      "WARNING:root:updated cache in cache/UD_Fourlang.json\n",
      "WARNING:root:loaded cache from cache/UD_Fourlang.json with interpretations: ['fourlang', 'ud']\n",
      "WARNING:root:updated cache in cache/UD_Fourlang.json\n",
      "WARNING:root:alto error\n",
      "WARNING:root:loaded cache from cache/UD_Fourlang.json with interpretations: ['fourlang', 'ud']\n",
      "WARNING:root:updated cache in cache/UD_Fourlang.json\n",
      "WARNING:root:loaded cache from cache/UD_Fourlang.json with interpretations: ['fourlang', 'ud']\n",
      "WARNING:root:updated cache in cache/UD_Fourlang.json\n",
      "WARNING:root:loaded cache from cache/UD_Fourlang.json with interpretations: ['fourlang', 'ud']\n",
      "WARNING:root:updated cache in cache/UD_Fourlang.json\n"
     ]
    },
    {
     "name": "stdout",
     "output_type": "stream",
     "text": [
      "True found..\n",
      "True found..\n",
      "True found..\n"
     ]
    },
    {
     "name": "stderr",
     "output_type": "stream",
     "text": [
      "WARNING:root:loaded cache from cache/UD_Fourlang.json with interpretations: ['fourlang', 'ud']\n",
      "WARNING:root:updated cache in cache/UD_Fourlang.json\n",
      "WARNING:root:loaded cache from cache/UD_Fourlang.json with interpretations: ['fourlang', 'ud']\n",
      "WARNING:root:updated cache in cache/UD_Fourlang.json\n"
     ]
    },
    {
     "name": "stdout",
     "output_type": "stream",
     "text": [
      "True found..\n"
     ]
    },
    {
     "name": "stderr",
     "output_type": "stream",
     "text": [
      "WARNING:root:loaded cache from cache/UD_Fourlang.json with interpretations: ['fourlang', 'ud']\n",
      "WARNING:root:updated cache in cache/UD_Fourlang.json\n",
      "WARNING:root:loaded cache from cache/UD_Fourlang.json with interpretations: ['fourlang', 'ud']\n",
      "WARNING:root:updated cache in cache/UD_Fourlang.json\n"
     ]
    },
    {
     "name": "stdout",
     "output_type": "stream",
     "text": [
      "True found..\n"
     ]
    },
    {
     "name": "stderr",
     "output_type": "stream",
     "text": [
      "WARNING:root:loaded cache from cache/UD_Fourlang.json with interpretations: ['fourlang', 'ud']\n",
      "WARNING:root:updated cache in cache/UD_Fourlang.json\n",
      "WARNING:root:alto error\n",
      "WARNING:root:loaded cache from cache/UD_Fourlang.json with interpretations: ['fourlang', 'ud']\n",
      "WARNING:root:updated cache in cache/UD_Fourlang.json\n",
      "WARNING:root:loaded cache from cache/UD_Fourlang.json with interpretations: ['fourlang', 'ud']\n",
      "WARNING:root:updated cache in cache/UD_Fourlang.json\n",
      "WARNING:root:loaded cache from cache/UD_Fourlang.json with interpretations: ['fourlang', 'ud']\n",
      "WARNING:root:updated cache in cache/UD_Fourlang.json\n"
     ]
    },
    {
     "name": "stdout",
     "output_type": "stream",
     "text": [
      "True found..\n",
      "True found..\n",
      "True found..\n",
      "True found..\n"
     ]
    },
    {
     "name": "stderr",
     "output_type": "stream",
     "text": [
      "WARNING:root:loaded cache from cache/UD_Fourlang.json with interpretations: ['fourlang', 'ud']\n",
      "WARNING:root:updated cache in cache/UD_Fourlang.json\n"
     ]
    },
    {
     "name": "stdout",
     "output_type": "stream",
     "text": [
      "True found..\n",
      "True found..\n"
     ]
    },
    {
     "name": "stderr",
     "output_type": "stream",
     "text": [
      "WARNING:root:loaded cache from cache/UD_Fourlang.json with interpretations: ['fourlang', 'ud']\n",
      "WARNING:root:updated cache in cache/UD_Fourlang.json\n",
      "WARNING:root:alto error\n",
      "WARNING:root:loaded cache from cache/UD_Fourlang.json with interpretations: ['fourlang', 'ud']\n",
      "WARNING:root:updated cache in cache/UD_Fourlang.json\n",
      "WARNING:root:alto error\n",
      "WARNING:root:loaded cache from cache/UD_Fourlang.json with interpretations: ['fourlang', 'ud']\n",
      "WARNING:root:updated cache in cache/UD_Fourlang.json\n",
      "WARNING:root:alto error\n",
      "WARNING:root:loaded cache from cache/UD_Fourlang.json with interpretations: ['fourlang', 'ud']\n",
      "WARNING:root:updated cache in cache/UD_Fourlang.json\n"
     ]
    },
    {
     "name": "stdout",
     "output_type": "stream",
     "text": [
      "True found..\n",
      "[['Russia is make to invade Iraq', 'Russia is attacking Iraq'], ['Russia is q159a to invade Iraq', 'Russia is attacking Iraq'], ['Russia is use to invade Iraq', 'Russia is attacking Iraq'], ['Russia is country to invade Iraq', 'Russia is attacking Iraq']]\n",
      "Russia is threatening to invade Iraq\n",
      "reduced: tensor([2, 2, 2, 2])\n"
     ]
    },
    {
     "name": "stderr",
     "output_type": "stream",
     "text": [
      "WARNING:root:loaded cache from cache/UD_Fourlang.json with interpretations: ['fourlang', 'ud']\n",
      "WARNING:root:updated cache in cache/UD_Fourlang.json\n"
     ]
    },
    {
     "name": "stdout",
     "output_type": "stream",
     "text": [
      "True found..\n",
      "True found..\n",
      "True found..\n",
      "True found..\n",
      "True found..\n",
      "True found..\n",
      "True found..\n",
      "True found..\n",
      "True found..\n",
      "True found..\n"
     ]
    },
    {
     "name": "stderr",
     "output_type": "stream",
     "text": [
      "WARNING:root:loaded cache from cache/UD_Fourlang.json with interpretations: ['fourlang', 'ud']\n",
      "WARNING:root:updated cache in cache/UD_Fourlang.json\n"
     ]
    },
    {
     "name": "stdout",
     "output_type": "stream",
     "text": [
      "True found..\n"
     ]
    },
    {
     "name": "stderr",
     "output_type": "stream",
     "text": [
      "WARNING:root:loaded cache from cache/UD_Fourlang.json with interpretations: ['fourlang', 'ud']\n",
      "WARNING:root:updated cache in cache/UD_Fourlang.json\n"
     ]
    },
    {
     "name": "stdout",
     "output_type": "stream",
     "text": [
      "True found..\n"
     ]
    },
    {
     "name": "stderr",
     "output_type": "stream",
     "text": [
      "WARNING:root:loaded cache from cache/UD_Fourlang.json with interpretations: ['fourlang', 'ud']\n",
      "WARNING:root:updated cache in cache/UD_Fourlang.json\n",
      "WARNING:root:loaded cache from cache/UD_Fourlang.json with interpretations: ['fourlang', 'ud']\n",
      "WARNING:root:updated cache in cache/UD_Fourlang.json\n",
      "WARNING:root:loaded cache from cache/UD_Fourlang.json with interpretations: ['fourlang', 'ud']\n",
      "WARNING:root:updated cache in cache/UD_Fourlang.json\n",
      "WARNING:root:loaded cache from cache/UD_Fourlang.json with interpretations: ['fourlang', 'ud']\n",
      "WARNING:root:updated cache in cache/UD_Fourlang.json\n"
     ]
    },
    {
     "name": "stdout",
     "output_type": "stream",
     "text": [
      "True found..\n",
      "True found..\n",
      "True found..\n",
      "True found..\n",
      "True found..\n",
      "True found..\n"
     ]
    },
    {
     "name": "stderr",
     "output_type": "stream",
     "text": [
      "WARNING:root:loaded cache from cache/UD_Fourlang.json with interpretations: ['fourlang', 'ud']\n",
      "WARNING:root:updated cache in cache/UD_Fourlang.json\n",
      "WARNING:root:alto error\n",
      "WARNING:root:loaded cache from cache/UD_Fourlang.json with interpretations: ['fourlang', 'ud']\n",
      "WARNING:root:updated cache in cache/UD_Fourlang.json\n",
      "WARNING:root:loaded cache from cache/UD_Fourlang.json with interpretations: ['fourlang', 'ud']\n",
      "WARNING:root:updated cache in cache/UD_Fourlang.json\n"
     ]
    },
    {
     "name": "stdout",
     "output_type": "stream",
     "text": [
      "True found..\n",
      "True found..\n"
     ]
    },
    {
     "name": "stderr",
     "output_type": "stream",
     "text": [
      "WARNING:root:loaded cache from cache/UD_Fourlang.json with interpretations: ['fourlang', 'ud']\n",
      "WARNING:root:updated cache in cache/UD_Fourlang.json\n",
      "WARNING:root:loaded cache from cache/UD_Fourlang.json with interpretations: ['fourlang', 'ud']\n",
      "WARNING:root:updated cache in cache/UD_Fourlang.json\n"
     ]
    },
    {
     "name": "stdout",
     "output_type": "stream",
     "text": [
      "True found..\n",
      "True found..\n"
     ]
    },
    {
     "name": "stderr",
     "output_type": "stream",
     "text": [
      "WARNING:root:loaded cache from cache/UD_Fourlang.json with interpretations: ['fourlang', 'ud']\n",
      "WARNING:root:updated cache in cache/UD_Fourlang.json\n"
     ]
    },
    {
     "name": "stdout",
     "output_type": "stream",
     "text": [
      "True found..\n",
      "True found..\n",
      "True found..\n"
     ]
    },
    {
     "name": "stderr",
     "output_type": "stream",
     "text": [
      "WARNING:root:loaded cache from cache/UD_Fourlang.json with interpretations: ['fourlang', 'ud']\n",
      "WARNING:root:updated cache in cache/UD_Fourlang.json\n",
      "WARNING:root:loaded cache from cache/UD_Fourlang.json with interpretations: ['fourlang', 'ud']\n",
      "WARNING:root:updated cache in cache/UD_Fourlang.json\n",
      "WARNING:root:alto error\n",
      "WARNING:root:loaded cache from cache/UD_Fourlang.json with interpretations: ['fourlang', 'ud']\n",
      "WARNING:root:updated cache in cache/UD_Fourlang.json\n",
      "WARNING:root:alto error\n",
      "WARNING:root:loaded cache from cache/UD_Fourlang.json with interpretations: ['fourlang', 'ud']\n",
      "WARNING:root:updated cache in cache/UD_Fourlang.json\n",
      "WARNING:root:alto error\n",
      "WARNING:root:loaded cache from cache/UD_Fourlang.json with interpretations: ['fourlang', 'ud']\n",
      "WARNING:root:updated cache in cache/UD_Fourlang.json\n",
      "WARNING:root:alto error\n",
      "WARNING:root:loaded cache from cache/UD_Fourlang.json with interpretations: ['fourlang', 'ud']\n",
      "WARNING:root:updated cache in cache/UD_Fourlang.json\n",
      "WARNING:root:alto error\n",
      "WARNING:root:loaded cache from cache/UD_Fourlang.json with interpretations: ['fourlang', 'ud']\n",
      "WARNING:root:updated cache in cache/UD_Fourlang.json\n",
      "WARNING:root:loaded cache from cache/UD_Fourlang.json with interpretations: ['fourlang', 'ud']\n",
      "WARNING:root:updated cache in cache/UD_Fourlang.json\n"
     ]
    },
    {
     "name": "stdout",
     "output_type": "stream",
     "text": [
      "True found..\n",
      "True found..\n",
      "True found..\n"
     ]
    },
    {
     "name": "stderr",
     "output_type": "stream",
     "text": [
      "WARNING:root:loaded cache from cache/UD_Fourlang.json with interpretations: ['fourlang', 'ud']\n",
      "WARNING:root:updated cache in cache/UD_Fourlang.json\n",
      "WARNING:root:loaded cache from cache/UD_Fourlang.json with interpretations: ['fourlang', 'ud']\n",
      "WARNING:root:updated cache in cache/UD_Fourlang.json\n"
     ]
    },
    {
     "name": "stdout",
     "output_type": "stream",
     "text": [
      "True found..\n",
      "True found..\n",
      "True found..\n"
     ]
    },
    {
     "name": "stderr",
     "output_type": "stream",
     "text": [
      "WARNING:root:loaded cache from cache/UD_Fourlang.json with interpretations: ['fourlang', 'ud']\n",
      "WARNING:root:updated cache in cache/UD_Fourlang.json\n"
     ]
    },
    {
     "name": "stdout",
     "output_type": "stream",
     "text": [
      "True found..\n"
     ]
    },
    {
     "name": "stderr",
     "output_type": "stream",
     "text": [
      "WARNING:root:loaded cache from cache/UD_Fourlang.json with interpretations: ['fourlang', 'ud']\n",
      "WARNING:root:updated cache in cache/UD_Fourlang.json\n"
     ]
    },
    {
     "name": "stdout",
     "output_type": "stream",
     "text": [
      "True found..\n",
      "True found..\n",
      "True found..\n"
     ]
    },
    {
     "name": "stderr",
     "output_type": "stream",
     "text": [
      "WARNING:root:loaded cache from cache/UD_Fourlang.json with interpretations: ['fourlang', 'ud']\n",
      "WARNING:root:updated cache in cache/UD_Fourlang.json\n"
     ]
    },
    {
     "name": "stdout",
     "output_type": "stream",
     "text": [
      "True found..\n"
     ]
    },
    {
     "name": "stderr",
     "output_type": "stream",
     "text": [
      "WARNING:root:loaded cache from cache/UD_Fourlang.json with interpretations: ['fourlang', 'ud']\n",
      "WARNING:root:updated cache in cache/UD_Fourlang.json\n"
     ]
    },
    {
     "name": "stdout",
     "output_type": "stream",
     "text": [
      "True found..\n",
      "True found..\n",
      "True found..\n",
      "True found..\n",
      "True found..\n",
      "True found..\n",
      "True found..\n"
     ]
    },
    {
     "name": "stderr",
     "output_type": "stream",
     "text": [
      "WARNING:root:loaded cache from cache/UD_Fourlang.json with interpretations: ['fourlang', 'ud']\n",
      "WARNING:root:updated cache in cache/UD_Fourlang.json\n"
     ]
    },
    {
     "name": "stdout",
     "output_type": "stream",
     "text": [
      "[['India is use United States of America', 'India is from United States of America'], ['India is letter United States of America', 'India is from United States of America'], ['India is alphabet United States of America', 'India is from United States of America'], ['India is I United States of America', 'India is from United States of America']]\n",
      "India is fearing United States of America\n",
      "reduced: tensor([2, 2, 2, 2])\n",
      "True found..\n"
     ]
    },
    {
     "name": "stderr",
     "output_type": "stream",
     "text": [
      "WARNING:root:loaded cache from cache/UD_Fourlang.json with interpretations: ['fourlang', 'ud']\n",
      "WARNING:root:updated cache in cache/UD_Fourlang.json\n"
     ]
    },
    {
     "name": "stdout",
     "output_type": "stream",
     "text": [
      "True found..\n",
      "True found..\n"
     ]
    },
    {
     "name": "stderr",
     "output_type": "stream",
     "text": [
      "WARNING:root:loaded cache from cache/UD_Fourlang.json with interpretations: ['fourlang', 'ud']\n",
      "WARNING:root:updated cache in cache/UD_Fourlang.json\n"
     ]
    },
    {
     "name": "stdout",
     "output_type": "stream",
     "text": [
      "True found..\n"
     ]
    },
    {
     "name": "stderr",
     "output_type": "stream",
     "text": [
      "WARNING:root:loaded cache from cache/UD_Fourlang.json with interpretations: ['fourlang', 'ud']\n",
      "WARNING:root:updated cache in cache/UD_Fourlang.json\n"
     ]
    },
    {
     "name": "stdout",
     "output_type": "stream",
     "text": [
      "True found..\n",
      "True found..\n",
      "True found..\n",
      "True found..\n"
     ]
    },
    {
     "name": "stderr",
     "output_type": "stream",
     "text": [
      "WARNING:root:loaded cache from cache/UD_Fourlang.json with interpretations: ['fourlang', 'ud']\n",
      "WARNING:root:updated cache in cache/UD_Fourlang.json\n",
      "WARNING:root:loaded cache from cache/UD_Fourlang.json with interpretations: ['fourlang', 'ud']\n",
      "WARNING:root:updated cache in cache/UD_Fourlang.json\n"
     ]
    },
    {
     "name": "stdout",
     "output_type": "stream",
     "text": [
      "[['Joseph Stalin is cause Russia', 'Joseph Stalin is leading Russia'], ['Joseph Stalin is son Russia', 'Joseph Stalin is leading Russia'], ['Joseph Stalin is Jacob Russia', 'Joseph Stalin is leading Russia'], ['Joseph Stalin is wife Russia', 'Joseph Stalin is leading Russia'], ['Joseph Stalin is Rachel Russia', 'Joseph Stalin is leading Russia']]\n",
      "Joseph Stalin is destroying Russia\n",
      "reduced: tensor([2, 2, 2, 0, 2])\n",
      "True found..\n",
      "[['United States of America is use France', 'United States of America is backing France'], ['United States of America is State France', 'United States of America is backing France'], ['United States of America is Q30 France', 'United States of America is backing France'], ['United States of America is device France', 'United States of America is backing France']]\n",
      "United States of America is pressing France\n",
      "reduced: tensor([2, 2, 2, 2])\n",
      "True found..\n"
     ]
    },
    {
     "name": "stderr",
     "output_type": "stream",
     "text": [
      "WARNING:root:loaded cache from cache/UD_Fourlang.json with interpretations: ['fourlang', 'ud']\n",
      "WARNING:root:updated cache in cache/UD_Fourlang.json\n",
      "WARNING:root:loaded cache from cache/UD_Fourlang.json with interpretations: ['fourlang', 'ud']\n",
      "WARNING:root:updated cache in cache/UD_Fourlang.json\n"
     ]
    },
    {
     "name": "stdout",
     "output_type": "stream",
     "text": [
      "True found..\n",
      "True found..\n"
     ]
    },
    {
     "name": "stderr",
     "output_type": "stream",
     "text": [
      "WARNING:root:loaded cache from cache/UD_Fourlang.json with interpretations: ['fourlang', 'ud']\n",
      "WARNING:root:updated cache in cache/UD_Fourlang.json\n",
      "WARNING:root:loaded cache from cache/UD_Fourlang.json with interpretations: ['fourlang', 'ud']\n",
      "WARNING:root:updated cache in cache/UD_Fourlang.json\n"
     ]
    },
    {
     "name": "stdout",
     "output_type": "stream",
     "text": [
      "True found..\n",
      "[['Rick Santorum is element in Iowa', 'Rick Santorum is returning to Iowa'], ['Rick Santorum is back in Iowa', 'Rick Santorum is returning to Iowa'], ['Rick Santorum is pliable in Iowa', 'Rick Santorum is returning to Iowa'], ['Rick Santorum is heavy in Iowa', 'Rick Santorum is returning to Iowa']]\n",
      "Rick Santorum is leading in Iowa\n",
      "reduced: tensor([2, 2, 1, 1])\n"
     ]
    },
    {
     "name": "stderr",
     "output_type": "stream",
     "text": [
      "WARNING:root:loaded cache from cache/UD_Fourlang.json with interpretations: ['fourlang', 'ud']\n",
      "WARNING:root:updated cache in cache/UD_Fourlang.json\n",
      "WARNING:root:alto error\n",
      "WARNING:root:loaded cache from cache/UD_Fourlang.json with interpretations: ['fourlang', 'ud']\n",
      "WARNING:root:updated cache in cache/UD_Fourlang.json\n",
      "WARNING:root:alto error\n",
      "WARNING:root:loaded cache from cache/UD_Fourlang.json with interpretations: ['fourlang', 'ud']\n",
      "WARNING:root:updated cache in cache/UD_Fourlang.json\n",
      "WARNING:root:alto error\n",
      "WARNING:root:loaded cache from cache/UD_Fourlang.json with interpretations: ['fourlang', 'ud']\n",
      "WARNING:root:updated cache in cache/UD_Fourlang.json\n",
      "WARNING:root:loaded cache from cache/UD_Fourlang.json with interpretations: ['fourlang', 'ud']\n",
      "WARNING:root:updated cache in cache/UD_Fourlang.json\n",
      "WARNING:root:loaded cache from cache/UD_Fourlang.json with interpretations: ['fourlang', 'ud']\n",
      "WARNING:root:updated cache in cache/UD_Fourlang.json\n",
      "WARNING:root:alto error\n",
      "WARNING:root:loaded cache from cache/UD_Fourlang.json with interpretations: ['fourlang', 'ud']\n",
      "WARNING:root:updated cache in cache/UD_Fourlang.json\n",
      "WARNING:root:loaded cache from cache/UD_Fourlang.json with interpretations: ['fourlang', 'ud']\n",
      "WARNING:root:updated cache in cache/UD_Fourlang.json\n",
      "WARNING:root:loaded cache from cache/UD_Fourlang.json with interpretations: ['fourlang', 'ud']\n",
      "WARNING:root:updated cache in cache/UD_Fourlang.json\n",
      "WARNING:root:loaded cache from cache/UD_Fourlang.json with interpretations: ['fourlang', 'ud']\n",
      "WARNING:root:updated cache in cache/UD_Fourlang.json\n"
     ]
    },
    {
     "name": "stdout",
     "output_type": "stream",
     "text": [
      "True found..\n"
     ]
    },
    {
     "name": "stderr",
     "output_type": "stream",
     "text": [
      "WARNING:root:loaded cache from cache/UD_Fourlang.json with interpretations: ['fourlang', 'ud']\n",
      "WARNING:root:updated cache in cache/UD_Fourlang.json\n",
      "WARNING:root:loaded cache from cache/UD_Fourlang.json with interpretations: ['fourlang', 'ud']\n",
      "WARNING:root:updated cache in cache/UD_Fourlang.json\n"
     ]
    },
    {
     "name": "stdout",
     "output_type": "stream",
     "text": [
      "True found..\n",
      "True found..\n",
      "True found..\n"
     ]
    },
    {
     "name": "stderr",
     "output_type": "stream",
     "text": [
      "WARNING:root:loaded cache from cache/UD_Fourlang.json with interpretations: ['fourlang', 'ud']\n",
      "WARNING:root:updated cache in cache/UD_Fourlang.json\n",
      "WARNING:root:loaded cache from cache/UD_Fourlang.json with interpretations: ['fourlang', 'ud']\n",
      "WARNING:root:updated cache in cache/UD_Fourlang.json\n"
     ]
    },
    {
     "name": "stdout",
     "output_type": "stream",
     "text": [
      "True found..\n",
      "True found..\n"
     ]
    },
    {
     "name": "stderr",
     "output_type": "stream",
     "text": [
      "WARNING:root:loaded cache from cache/UD_Fourlang.json with interpretations: ['fourlang', 'ud']\n",
      "WARNING:root:updated cache in cache/UD_Fourlang.json\n"
     ]
    },
    {
     "name": "stdout",
     "output_type": "stream",
     "text": [
      "True found..\n"
     ]
    },
    {
     "name": "stderr",
     "output_type": "stream",
     "text": [
      "WARNING:root:loaded cache from cache/UD_Fourlang.json with interpretations: ['fourlang', 'ud']\n",
      "WARNING:root:updated cache in cache/UD_Fourlang.json\n",
      "WARNING:root:loaded cache from cache/UD_Fourlang.json with interpretations: ['fourlang', 'ud']\n",
      "WARNING:root:updated cache in cache/UD_Fourlang.json\n"
     ]
    },
    {
     "name": "stdout",
     "output_type": "stream",
     "text": [
      "True found..\n",
      "True found..\n",
      "True found..\n",
      "True found..\n",
      "True found..\n",
      "True found..\n"
     ]
    },
    {
     "name": "stderr",
     "output_type": "stream",
     "text": [
      "WARNING:root:loaded cache from cache/UD_Fourlang.json with interpretations: ['fourlang', 'ud']\n",
      "WARNING:root:updated cache in cache/UD_Fourlang.json\n",
      "WARNING:root:loaded cache from cache/UD_Fourlang.json with interpretations: ['fourlang', 'ud']\n",
      "WARNING:root:updated cache in cache/UD_Fourlang.json\n"
     ]
    },
    {
     "name": "stdout",
     "output_type": "stream",
     "text": [
      "True found..\n",
      "True found..\n",
      "True found..\n"
     ]
    },
    {
     "name": "stderr",
     "output_type": "stream",
     "text": [
      "WARNING:root:loaded cache from cache/UD_Fourlang.json with interpretations: ['fourlang', 'ud']\n",
      "WARNING:root:updated cache in cache/UD_Fourlang.json\n",
      "WARNING:root:loaded cache from cache/UD_Fourlang.json with interpretations: ['fourlang', 'ud']\n",
      "WARNING:root:updated cache in cache/UD_Fourlang.json\n"
     ]
    },
    {
     "name": "stdout",
     "output_type": "stream",
     "text": [
      "True found..\n",
      "True found..\n",
      "True found..\n",
      "True found..\n",
      "True found..\n",
      "True found..\n"
     ]
    },
    {
     "name": "stderr",
     "output_type": "stream",
     "text": [
      "WARNING:root:loaded cache from cache/UD_Fourlang.json with interpretations: ['fourlang', 'ud']\n",
      "WARNING:root:updated cache in cache/UD_Fourlang.json\n",
      "WARNING:root:alto error\n",
      "WARNING:root:loaded cache from cache/UD_Fourlang.json with interpretations: ['fourlang', 'ud']\n",
      "WARNING:root:updated cache in cache/UD_Fourlang.json\n",
      "WARNING:root:alto error\n",
      "WARNING:root:loaded cache from cache/UD_Fourlang.json with interpretations: ['fourlang', 'ud']\n",
      "WARNING:root:updated cache in cache/UD_Fourlang.json\n",
      "WARNING:root:alto error\n",
      "WARNING:root:loaded cache from cache/UD_Fourlang.json with interpretations: ['fourlang', 'ud']\n",
      "WARNING:root:updated cache in cache/UD_Fourlang.json\n",
      "WARNING:root:alto error\n",
      "WARNING:root:loaded cache from cache/UD_Fourlang.json with interpretations: ['fourlang', 'ud']\n",
      "WARNING:root:updated cache in cache/UD_Fourlang.json\n",
      "WARNING:root:alto error\n",
      "WARNING:root:loaded cache from cache/UD_Fourlang.json with interpretations: ['fourlang', 'ud']\n",
      "WARNING:root:updated cache in cache/UD_Fourlang.json\n",
      "WARNING:root:loaded cache from cache/UD_Fourlang.json with interpretations: ['fourlang', 'ud']\n",
      "WARNING:root:updated cache in cache/UD_Fourlang.json\n",
      "WARNING:root:loaded cache from cache/UD_Fourlang.json with interpretations: ['fourlang', 'ud']\n",
      "WARNING:root:updated cache in cache/UD_Fourlang.json\n",
      "WARNING:root:loaded cache from cache/UD_Fourlang.json with interpretations: ['fourlang', 'ud']\n",
      "WARNING:root:updated cache in cache/UD_Fourlang.json\n",
      "WARNING:root:loaded cache from cache/UD_Fourlang.json with interpretations: ['fourlang', 'ud']\n",
      "WARNING:root:updated cache in cache/UD_Fourlang.json\n"
     ]
    },
    {
     "name": "stdout",
     "output_type": "stream",
     "text": [
      "True found..\n"
     ]
    },
    {
     "name": "stderr",
     "output_type": "stream",
     "text": [
      "WARNING:root:loaded cache from cache/UD_Fourlang.json with interpretations: ['fourlang', 'ud']\n",
      "WARNING:root:updated cache in cache/UD_Fourlang.json\n",
      "WARNING:root:loaded cache from cache/UD_Fourlang.json with interpretations: ['fourlang', 'ud']\n",
      "WARNING:root:updated cache in cache/UD_Fourlang.json\n",
      "WARNING:root:alto error\n",
      "WARNING:root:loaded cache from cache/UD_Fourlang.json with interpretations: ['fourlang', 'ud']\n",
      "WARNING:root:updated cache in cache/UD_Fourlang.json\n"
     ]
    },
    {
     "name": "stdout",
     "output_type": "stream",
     "text": [
      "True found..\n",
      "True found..\n",
      "True found..\n",
      "True found..\n",
      "True found..\n",
      "True found..\n"
     ]
    },
    {
     "name": "stderr",
     "output_type": "stream",
     "text": [
      "WARNING:root:loaded cache from cache/UD_Fourlang.json with interpretations: ['fourlang', 'ud']\n",
      "WARNING:root:updated cache in cache/UD_Fourlang.json\n"
     ]
    },
    {
     "name": "stdout",
     "output_type": "stream",
     "text": [
      "True found..\n",
      "True found..\n"
     ]
    },
    {
     "name": "stderr",
     "output_type": "stream",
     "text": [
      "WARNING:root:alto error\n",
      "WARNING:root:loaded cache from cache/UD_Fourlang.json with interpretations: ['fourlang', 'ud']\n",
      "WARNING:root:updated cache in cache/UD_Fourlang.json\n",
      "WARNING:root:alto error\n",
      "WARNING:root:loaded cache from cache/UD_Fourlang.json with interpretations: ['fourlang', 'ud']\n",
      "WARNING:root:updated cache in cache/UD_Fourlang.json\n"
     ]
    },
    {
     "name": "stdout",
     "output_type": "stream",
     "text": [
      "True found..\n",
      "True found..\n",
      "True found..\n",
      "True found..\n",
      "True found..\n",
      "True found..\n",
      "True found..\n",
      "True found..\n"
     ]
    },
    {
     "name": "stderr",
     "output_type": "stream",
     "text": [
      "WARNING:root:loaded cache from cache/UD_Fourlang.json with interpretations: ['fourlang', 'ud']\n",
      "WARNING:root:updated cache in cache/UD_Fourlang.json\n",
      "WARNING:root:loaded cache from cache/UD_Fourlang.json with interpretations: ['fourlang', 'ud']\n",
      "WARNING:root:updated cache in cache/UD_Fourlang.json\n",
      "WARNING:root:loaded cache from cache/UD_Fourlang.json with interpretations: ['fourlang', 'ud']\n",
      "WARNING:root:updated cache in cache/UD_Fourlang.json\n"
     ]
    },
    {
     "name": "stdout",
     "output_type": "stream",
     "text": [
      "True found..\n",
      "True found..\n",
      "True found..\n",
      "True found..\n",
      "True found..\n",
      "True found..\n",
      "True found..\n",
      "True found..\n",
      "True found..\n",
      "[['Joseph Stalin is cause Russia', 'Joseph Stalin is ruling Russia'], ['Joseph Stalin is son Russia', 'Joseph Stalin is ruling Russia'], ['Joseph Stalin is Jacob Russia', 'Joseph Stalin is ruling Russia'], ['Joseph Stalin is wife Russia', 'Joseph Stalin is ruling Russia'], ['Joseph Stalin is Rachel Russia', 'Joseph Stalin is ruling Russia']]\n",
      "Joseph Stalin is destroying Russia\n",
      "reduced: tensor([2, 2, 2, 2, 2])\n",
      "True found..\n",
      "True found..\n"
     ]
    },
    {
     "name": "stderr",
     "output_type": "stream",
     "text": [
      "WARNING:root:loaded cache from cache/UD_Fourlang.json with interpretations: ['fourlang', 'ud']\n",
      "WARNING:root:updated cache in cache/UD_Fourlang.json\n",
      "WARNING:root:loaded cache from cache/UD_Fourlang.json with interpretations: ['fourlang', 'ud']\n",
      "WARNING:root:updated cache in cache/UD_Fourlang.json\n",
      "WARNING:root:loaded cache from cache/UD_Fourlang.json with interpretations: ['fourlang', 'ud']\n",
      "WARNING:root:updated cache in cache/UD_Fourlang.json\n",
      "WARNING:root:alto error\n",
      "WARNING:root:loaded cache from cache/UD_Fourlang.json with interpretations: ['fourlang', 'ud']\n",
      "WARNING:root:updated cache in cache/UD_Fourlang.json\n"
     ]
    },
    {
     "name": "stdout",
     "output_type": "stream",
     "text": [
      "True found..\n",
      "True found..\n",
      "True found..\n",
      "True found..\n",
      "True found..\n",
      "True found..\n"
     ]
    },
    {
     "name": "stderr",
     "output_type": "stream",
     "text": [
      "WARNING:root:loaded cache from cache/UD_Fourlang.json with interpretations: ['fourlang', 'ud']\n",
      "WARNING:root:updated cache in cache/UD_Fourlang.json\n"
     ]
    },
    {
     "name": "stdout",
     "output_type": "stream",
     "text": [
      "True found..\n",
      "True found..\n",
      "True found..\n"
     ]
    },
    {
     "name": "stderr",
     "output_type": "stream",
     "text": [
      "WARNING:root:loaded cache from cache/UD_Fourlang.json with interpretations: ['fourlang', 'ud']\n",
      "WARNING:root:updated cache in cache/UD_Fourlang.json\n",
      "WARNING:root:loaded cache from cache/UD_Fourlang.json with interpretations: ['fourlang', 'ud']\n",
      "WARNING:root:updated cache in cache/UD_Fourlang.json\n",
      "WARNING:root:loaded cache from cache/UD_Fourlang.json with interpretations: ['fourlang', 'ud']\n",
      "WARNING:root:updated cache in cache/UD_Fourlang.json\n"
     ]
    },
    {
     "name": "stdout",
     "output_type": "stream",
     "text": [
      "True found..\n",
      "True found..\n"
     ]
    },
    {
     "name": "stderr",
     "output_type": "stream",
     "text": [
      "WARNING:root:loaded cache from cache/UD_Fourlang.json with interpretations: ['fourlang', 'ud']\n",
      "WARNING:root:updated cache in cache/UD_Fourlang.json\n",
      "WARNING:root:loaded cache from cache/UD_Fourlang.json with interpretations: ['fourlang', 'ud']\n",
      "WARNING:root:updated cache in cache/UD_Fourlang.json\n",
      "WARNING:root:loaded cache from cache/UD_Fourlang.json with interpretations: ['fourlang', 'ud']\n",
      "WARNING:root:updated cache in cache/UD_Fourlang.json\n"
     ]
    },
    {
     "name": "stdout",
     "output_type": "stream",
     "text": [
      "True found..\n",
      "True found..\n",
      "True found..\n",
      "True found..\n",
      "[['Turkey is figure into Mexico', 'Turkey is sending into Mexico'], ['Turkey is country into Mexico', 'Turkey is sending into Mexico'], ['Turkey is consist into Mexico', 'Turkey is sending into Mexico'], ['Turkey is geometrical into Mexico', 'Turkey is sending into Mexico'], ['Turkey is intersection into Mexico', 'Turkey is sending into Mexico']]\n",
      "Turkey is crossing into Mexico\n",
      "reduced: tensor([2, 2, 2, 2, 2])\n",
      "True found..\n",
      "True found..\n"
     ]
    },
    {
     "name": "stderr",
     "output_type": "stream",
     "text": [
      "WARNING:root:loaded cache from cache/UD_Fourlang.json with interpretations: ['fourlang', 'ud']\n",
      "WARNING:root:updated cache in cache/UD_Fourlang.json\n",
      "WARNING:root:loaded cache from cache/UD_Fourlang.json with interpretations: ['fourlang', 'ud']\n",
      "WARNING:root:updated cache in cache/UD_Fourlang.json\n",
      "WARNING:root:loaded cache from cache/UD_Fourlang.json with interpretations: ['fourlang', 'ud']\n",
      "WARNING:root:updated cache in cache/UD_Fourlang.json\n"
     ]
    },
    {
     "name": "stdout",
     "output_type": "stream",
     "text": [
      "True found..\n",
      "True found..\n"
     ]
    },
    {
     "name": "stderr",
     "output_type": "stream",
     "text": [
      "WARNING:root:loaded cache from cache/UD_Fourlang.json with interpretations: ['fourlang', 'ud']\n",
      "WARNING:root:updated cache in cache/UD_Fourlang.json\n",
      "WARNING:root:alto error\n",
      "WARNING:root:loaded cache from cache/UD_Fourlang.json with interpretations: ['fourlang', 'ud']\n",
      "WARNING:root:updated cache in cache/UD_Fourlang.json\n",
      "WARNING:root:loaded cache from cache/UD_Fourlang.json with interpretations: ['fourlang', 'ud']\n",
      "WARNING:root:updated cache in cache/UD_Fourlang.json\n"
     ]
    },
    {
     "name": "stdout",
     "output_type": "stream",
     "text": [
      "True found..\n",
      "True found..\n",
      "True found..\n",
      "[['England national rugby union team is act against Denver England national rugby union teamroncos', 'England national rugby union team is losing to Denver England national rugby union teamroncos'], ['England national rugby union team is set against Denver England national rugby union teamroncos', 'England national rugby union team is losing to Denver England national rugby union teamroncos'], ['England national rugby union team is horse against Denver England national rugby union teamroncos', 'England national rugby union team is losing to Denver England national rugby union teamroncos'], ['England national rugby union team is animal against Denver England national rugby union teamroncos', 'England national rugby union team is losing to Denver England national rugby union teamroncos'], ['England national rugby union team is front against Denver England national rugby union teamroncos', 'England national rugby union team is losing to Denver England national rugby union teamroncos'], ['England national rugby union team is two against Denver England national rugby union teamroncos', 'England national rugby union team is losing to Denver England national rugby union teamroncos'], ['England national rugby union team is carriage against Denver England national rugby union teamroncos', 'England national rugby union team is losing to Denver England national rugby union teamroncos']]\n",
      "England national rugby union team is playing against Denver England national rugby union teamroncos\n",
      "reduced: tensor([1, 1, 2, 2, 0, 2, 2])\n",
      "True found..\n",
      "True found..\n",
      "True found..\n",
      "[['Germany is limb to Russia', 'Russia is looking to Germany'], ['Germany is geography to Russia', 'Russia is looking to Germany'], ['Germany is fore to Russia', 'Russia is looking to Germany'], ['Germany is q183 to Russia', 'Russia is looking to Germany']]\n",
      "Germany is handing to Russia\n",
      "reduced: tensor([2, 2, 2, 2])\n",
      "True found..\n",
      "True found..\n"
     ]
    },
    {
     "name": "stderr",
     "output_type": "stream",
     "text": [
      "WARNING:root:loaded cache from cache/UD_Fourlang.json with interpretations: ['fourlang', 'ud']\n",
      "WARNING:root:updated cache in cache/UD_Fourlang.json\n",
      "WARNING:root:loaded cache from cache/UD_Fourlang.json with interpretations: ['fourlang', 'ud']\n",
      "WARNING:root:updated cache in cache/UD_Fourlang.json\n",
      "WARNING:root:loaded cache from cache/UD_Fourlang.json with interpretations: ['fourlang', 'ud']\n",
      "WARNING:root:updated cache in cache/UD_Fourlang.json\n",
      "WARNING:root:loaded cache from cache/UD_Fourlang.json with interpretations: ['fourlang', 'ud']\n",
      "WARNING:root:updated cache in cache/UD_Fourlang.json\n",
      "WARNING:root:loaded cache from cache/UD_Fourlang.json with interpretations: ['fourlang', 'ud']\n",
      "WARNING:root:updated cache in cache/UD_Fourlang.json\n"
     ]
    },
    {
     "name": "stdout",
     "output_type": "stream",
     "text": [
      "True found..\n",
      "True found..\n"
     ]
    },
    {
     "name": "stderr",
     "output_type": "stream",
     "text": [
      "WARNING:root:loaded cache from cache/UD_Fourlang.json with interpretations: ['fourlang', 'ud']\n",
      "WARNING:root:updated cache in cache/UD_Fourlang.json\n",
      "WARNING:root:loaded cache from cache/UD_Fourlang.json with interpretations: ['fourlang', 'ud']\n",
      "WARNING:root:updated cache in cache/UD_Fourlang.json\n"
     ]
    },
    {
     "name": "stdout",
     "output_type": "stream",
     "text": [
      "True found..\n",
      "True found..\n",
      "True found..\n",
      "True found..\n"
     ]
    },
    {
     "name": "stderr",
     "output_type": "stream",
     "text": [
      "WARNING:root:loaded cache from cache/UD_Fourlang.json with interpretations: ['fourlang', 'ud']\n",
      "WARNING:root:updated cache in cache/UD_Fourlang.json\n",
      "WARNING:root:loaded cache from cache/UD_Fourlang.json with interpretations: ['fourlang', 'ud']\n",
      "WARNING:root:updated cache in cache/UD_Fourlang.json\n",
      "WARNING:root:loaded cache from cache/UD_Fourlang.json with interpretations: ['fourlang', 'ud']\n",
      "WARNING:root:updated cache in cache/UD_Fourlang.json\n",
      "WARNING:root:loaded cache from cache/UD_Fourlang.json with interpretations: ['fourlang', 'ud']\n",
      "WARNING:root:updated cache in cache/UD_Fourlang.json\n",
      "WARNING:root:loaded cache from cache/UD_Fourlang.json with interpretations: ['fourlang', 'ud']\n",
      "WARNING:root:updated cache in cache/UD_Fourlang.json\n",
      "WARNING:root:loaded cache from cache/UD_Fourlang.json with interpretations: ['fourlang', 'ud']\n",
      "WARNING:root:updated cache in cache/UD_Fourlang.json\n",
      "WARNING:root:loaded cache from cache/UD_Fourlang.json with interpretations: ['fourlang', 'ud']\n",
      "WARNING:root:updated cache in cache/UD_Fourlang.json\n",
      "WARNING:root:loaded cache from cache/UD_Fourlang.json with interpretations: ['fourlang', 'ud']\n",
      "WARNING:root:updated cache in cache/UD_Fourlang.json\n"
     ]
    },
    {
     "name": "stdout",
     "output_type": "stream",
     "text": [
      "True found..\n"
     ]
    },
    {
     "name": "stderr",
     "output_type": "stream",
     "text": [
      "WARNING:root:loaded cache from cache/UD_Fourlang.json with interpretations: ['fourlang', 'ud']\n",
      "WARNING:root:updated cache in cache/UD_Fourlang.json\n"
     ]
    },
    {
     "name": "stdout",
     "output_type": "stream",
     "text": [
      "True found..\n",
      "True found..\n"
     ]
    },
    {
     "name": "stderr",
     "output_type": "stream",
     "text": [
      "WARNING:root:loaded cache from cache/UD_Fourlang.json with interpretations: ['fourlang', 'ud']\n",
      "WARNING:root:updated cache in cache/UD_Fourlang.json\n"
     ]
    },
    {
     "name": "stdout",
     "output_type": "stream",
     "text": [
      "True found..\n",
      "True found..\n",
      "True found..\n",
      "True found..\n",
      "True found..\n"
     ]
    },
    {
     "name": "stderr",
     "output_type": "stream",
     "text": [
      "WARNING:root:loaded cache from cache/UD_Fourlang.json with interpretations: ['fourlang', 'ud']\n",
      "WARNING:root:updated cache in cache/UD_Fourlang.json\n"
     ]
    },
    {
     "name": "stdout",
     "output_type": "stream",
     "text": [
      "[['Ted Kennedy is take for John McCain', 'John McCain is picking Ted Kennedy'], ['Ted Kennedy is Edward for John McCain', 'John McCain is picking Ted Kennedy']]\n",
      "Ted Kennedy is campaigning for John McCain\n",
      "reduced: tensor([2, 2])\n"
     ]
    },
    {
     "name": "stderr",
     "output_type": "stream",
     "text": [
      "WARNING:root:loaded cache from cache/UD_Fourlang.json with interpretations: ['fourlang', 'ud']\n",
      "WARNING:root:updated cache in cache/UD_Fourlang.json\n",
      "WARNING:root:loaded cache from cache/UD_Fourlang.json with interpretations: ['fourlang', 'ud']\n",
      "WARNING:root:updated cache in cache/UD_Fourlang.json\n",
      "WARNING:root:loaded cache from cache/UD_Fourlang.json with interpretations: ['fourlang', 'ud']\n",
      "WARNING:root:updated cache in cache/UD_Fourlang.json\n",
      "WARNING:root:loaded cache from cache/UD_Fourlang.json with interpretations: ['fourlang', 'ud']\n",
      "WARNING:root:updated cache in cache/UD_Fourlang.json\n"
     ]
    },
    {
     "name": "stdout",
     "output_type": "stream",
     "text": [
      "True found..\n",
      "True found..\n"
     ]
    },
    {
     "name": "stderr",
     "output_type": "stream",
     "text": [
      "WARNING:root:loaded cache from cache/UD_Fourlang.json with interpretations: ['fourlang', 'ud']\n",
      "WARNING:root:updated cache in cache/UD_Fourlang.json\n"
     ]
    },
    {
     "name": "stdout",
     "output_type": "stream",
     "text": [
      "True found..\n",
      "True found..\n",
      "True found..\n"
     ]
    },
    {
     "name": "stderr",
     "output_type": "stream",
     "text": [
      "WARNING:root:alto error\n",
      "WARNING:root:loaded cache from cache/UD_Fourlang.json with interpretations: ['fourlang', 'ud']\n",
      "WARNING:root:updated cache in cache/UD_Fourlang.json\n",
      "WARNING:root:loaded cache from cache/UD_Fourlang.json with interpretations: ['fourlang', 'ud']\n",
      "WARNING:root:updated cache in cache/UD_Fourlang.json\n"
     ]
    },
    {
     "name": "stdout",
     "output_type": "stream",
     "text": [
      "True found..\n",
      "True found..\n",
      "True found..\n",
      "True found..\n",
      "True found..\n",
      "True found..\n"
     ]
    },
    {
     "name": "stderr",
     "output_type": "stream",
     "text": [
      "WARNING:root:loaded cache from cache/UD_Fourlang.json with interpretations: ['fourlang', 'ud']\n",
      "WARNING:root:updated cache in cache/UD_Fourlang.json\n"
     ]
    },
    {
     "name": "stdout",
     "output_type": "stream",
     "text": [
      "True found..\n"
     ]
    },
    {
     "name": "stderr",
     "output_type": "stream",
     "text": [
      "WARNING:root:loaded cache from cache/UD_Fourlang.json with interpretations: ['fourlang', 'ud']\n",
      "WARNING:root:updated cache in cache/UD_Fourlang.json\n"
     ]
    },
    {
     "name": "stdout",
     "output_type": "stream",
     "text": [
      "True found..\n"
     ]
    },
    {
     "name": "stderr",
     "output_type": "stream",
     "text": [
      "WARNING:root:loaded cache from cache/UD_Fourlang.json with interpretations: ['fourlang', 'ud']\n",
      "WARNING:root:updated cache in cache/UD_Fourlang.json\n",
      "WARNING:root:loaded cache from cache/UD_Fourlang.json with interpretations: ['fourlang', 'ud']\n",
      "WARNING:root:updated cache in cache/UD_Fourlang.json\n",
      "WARNING:root:loaded cache from cache/UD_Fourlang.json with interpretations: ['fourlang', 'ud']\n",
      "WARNING:root:updated cache in cache/UD_Fourlang.json\n"
     ]
    },
    {
     "name": "stdout",
     "output_type": "stream",
     "text": [
      "True found..\n",
      "True found..\n",
      "True found..\n"
     ]
    },
    {
     "name": "stderr",
     "output_type": "stream",
     "text": [
      "WARNING:root:loaded cache from cache/UD_Fourlang.json with interpretations: ['fourlang', 'ud']\n",
      "WARNING:root:updated cache in cache/UD_Fourlang.json\n",
      "WARNING:root:loaded cache from cache/UD_Fourlang.json with interpretations: ['fourlang', 'ud']\n",
      "WARNING:root:updated cache in cache/UD_Fourlang.json\n",
      "WARNING:root:loaded cache from cache/UD_Fourlang.json with interpretations: ['fourlang', 'ud']\n",
      "WARNING:root:updated cache in cache/UD_Fourlang.json\n",
      "WARNING:root:alto error\n",
      "WARNING:root:loaded cache from cache/UD_Fourlang.json with interpretations: ['fourlang', 'ud']\n",
      "WARNING:root:updated cache in cache/UD_Fourlang.json\n",
      "WARNING:root:alto error\n",
      "WARNING:root:loaded cache from cache/UD_Fourlang.json with interpretations: ['fourlang', 'ud']\n",
      "WARNING:root:updated cache in cache/UD_Fourlang.json\n"
     ]
    },
    {
     "name": "stdout",
     "output_type": "stream",
     "text": [
      "True found..\n",
      "True found..\n",
      "True found..\n",
      "True found..\n"
     ]
    },
    {
     "name": "stderr",
     "output_type": "stream",
     "text": [
      "WARNING:root:loaded cache from cache/UD_Fourlang.json with interpretations: ['fourlang', 'ud']\n",
      "WARNING:root:updated cache in cache/UD_Fourlang.json\n",
      "WARNING:root:loaded cache from cache/UD_Fourlang.json with interpretations: ['fourlang', 'ud']\n",
      "WARNING:root:updated cache in cache/UD_Fourlang.json\n",
      "WARNING:root:loaded cache from cache/UD_Fourlang.json with interpretations: ['fourlang', 'ud']\n",
      "WARNING:root:updated cache in cache/UD_Fourlang.json\n",
      "WARNING:root:loaded cache from cache/UD_Fourlang.json with interpretations: ['fourlang', 'ud']\n",
      "WARNING:root:updated cache in cache/UD_Fourlang.json\n",
      "WARNING:root:loaded cache from cache/UD_Fourlang.json with interpretations: ['fourlang', 'ud']\n",
      "WARNING:root:updated cache in cache/UD_Fourlang.json\n"
     ]
    },
    {
     "name": "stdout",
     "output_type": "stream",
     "text": [
      "True found..\n",
      "True found..\n",
      "True found..\n"
     ]
    },
    {
     "name": "stderr",
     "output_type": "stream",
     "text": [
      "WARNING:root:loaded cache from cache/UD_Fourlang.json with interpretations: ['fourlang', 'ud']\n",
      "WARNING:root:updated cache in cache/UD_Fourlang.json\n",
      "WARNING:root:loaded cache from cache/UD_Fourlang.json with interpretations: ['fourlang', 'ud']\n",
      "WARNING:root:updated cache in cache/UD_Fourlang.json\n",
      "WARNING:root:loaded cache from cache/UD_Fourlang.json with interpretations: ['fourlang', 'ud']\n",
      "WARNING:root:updated cache in cache/UD_Fourlang.json\n",
      "WARNING:root:loaded cache from cache/UD_Fourlang.json with interpretations: ['fourlang', 'ud']\n",
      "WARNING:root:updated cache in cache/UD_Fourlang.json\n",
      "WARNING:root:loaded cache from cache/UD_Fourlang.json with interpretations: ['fourlang', 'ud']\n",
      "WARNING:root:updated cache in cache/UD_Fourlang.json\n"
     ]
    },
    {
     "name": "stdout",
     "output_type": "stream",
     "text": [
      "True found..\n",
      "True found..\n",
      "True found..\n",
      "True found..\n",
      "True found..\n"
     ]
    },
    {
     "name": "stderr",
     "output_type": "stream",
     "text": [
      "WARNING:root:loaded cache from cache/UD_Fourlang.json with interpretations: ['fourlang', 'ud']\n",
      "WARNING:root:updated cache in cache/UD_Fourlang.json\n"
     ]
    },
    {
     "name": "stdout",
     "output_type": "stream",
     "text": [
      "True found..\n",
      "True found..\n"
     ]
    },
    {
     "name": "stderr",
     "output_type": "stream",
     "text": [
      "WARNING:root:loaded cache from cache/UD_Fourlang.json with interpretations: ['fourlang', 'ud']\n",
      "WARNING:root:updated cache in cache/UD_Fourlang.json\n",
      "WARNING:root:loaded cache from cache/UD_Fourlang.json with interpretations: ['fourlang', 'ud']\n",
      "WARNING:root:updated cache in cache/UD_Fourlang.json\n",
      "WARNING:root:alto error\n",
      "WARNING:root:loaded cache from cache/UD_Fourlang.json with interpretations: ['fourlang', 'ud']\n",
      "WARNING:root:updated cache in cache/UD_Fourlang.json\n",
      "WARNING:root:loaded cache from cache/UD_Fourlang.json with interpretations: ['fourlang', 'ud']\n",
      "WARNING:root:updated cache in cache/UD_Fourlang.json\n"
     ]
    },
    {
     "name": "stdout",
     "output_type": "stream",
     "text": [
      "True found..\n",
      "True found..\n",
      "True found..\n",
      "True found..\n",
      "True found..\n"
     ]
    },
    {
     "name": "stderr",
     "output_type": "stream",
     "text": [
      "WARNING:root:loaded cache from cache/UD_Fourlang.json with interpretations: ['fourlang', 'ud']\n",
      "WARNING:root:updated cache in cache/UD_Fourlang.json\n",
      "WARNING:root:loaded cache from cache/UD_Fourlang.json with interpretations: ['fourlang', 'ud']\n",
      "WARNING:root:updated cache in cache/UD_Fourlang.json\n",
      "WARNING:root:loaded cache from cache/UD_Fourlang.json with interpretations: ['fourlang', 'ud']\n",
      "WARNING:root:updated cache in cache/UD_Fourlang.json\n",
      "WARNING:root:loaded cache from cache/UD_Fourlang.json with interpretations: ['fourlang', 'ud']\n",
      "WARNING:root:updated cache in cache/UD_Fourlang.json\n",
      "WARNING:root:loaded cache from cache/UD_Fourlang.json with interpretations: ['fourlang', 'ud']\n",
      "WARNING:root:updated cache in cache/UD_Fourlang.json\n",
      "WARNING:root:loaded cache from cache/UD_Fourlang.json with interpretations: ['fourlang', 'ud']\n",
      "WARNING:root:updated cache in cache/UD_Fourlang.json\n",
      "WARNING:root:loaded cache from cache/UD_Fourlang.json with interpretations: ['fourlang', 'ud']\n",
      "WARNING:root:updated cache in cache/UD_Fourlang.json\n",
      "WARNING:root:alto error\n",
      "WARNING:root:loaded cache from cache/UD_Fourlang.json with interpretations: ['fourlang', 'ud']\n",
      "WARNING:root:updated cache in cache/UD_Fourlang.json\n",
      "WARNING:root:loaded cache from cache/UD_Fourlang.json with interpretations: ['fourlang', 'ud']\n",
      "WARNING:root:updated cache in cache/UD_Fourlang.json\n",
      "WARNING:root:alto error\n",
      "WARNING:root:loaded cache from cache/UD_Fourlang.json with interpretations: ['fourlang', 'ud']\n",
      "WARNING:root:updated cache in cache/UD_Fourlang.json\n"
     ]
    },
    {
     "name": "stdout",
     "output_type": "stream",
     "text": [
      "True found..\n"
     ]
    },
    {
     "name": "stderr",
     "output_type": "stream",
     "text": [
      "WARNING:root:loaded cache from cache/UD_Fourlang.json with interpretations: ['fourlang', 'ud']\n",
      "WARNING:root:updated cache in cache/UD_Fourlang.json\n",
      "WARNING:root:loaded cache from cache/UD_Fourlang.json with interpretations: ['fourlang', 'ud']\n",
      "WARNING:root:updated cache in cache/UD_Fourlang.json\n"
     ]
    },
    {
     "name": "stdout",
     "output_type": "stream",
     "text": [
      "True found..\n",
      "True found..\n",
      "True found..\n",
      "True found..\n",
      "True found..\n",
      "True found..\n",
      "True found..\n",
      "True found..\n",
      "True found..\n",
      "True found..\n",
      "True found..\n"
     ]
    },
    {
     "name": "stderr",
     "output_type": "stream",
     "text": [
      "WARNING:root:loaded cache from cache/UD_Fourlang.json with interpretations: ['fourlang', 'ud']\n",
      "WARNING:root:updated cache in cache/UD_Fourlang.json\n"
     ]
    },
    {
     "name": "stdout",
     "output_type": "stream",
     "text": [
      "True found..\n",
      "True found..\n",
      "True found..\n",
      "True found..\n"
     ]
    },
    {
     "name": "stderr",
     "output_type": "stream",
     "text": [
      "WARNING:root:loaded cache from cache/UD_Fourlang.json with interpretations: ['fourlang', 'ud']\n",
      "WARNING:root:updated cache in cache/UD_Fourlang.json\n",
      "WARNING:root:loaded cache from cache/UD_Fourlang.json with interpretations: ['fourlang', 'ud']\n",
      "WARNING:root:updated cache in cache/UD_Fourlang.json\n"
     ]
    },
    {
     "name": "stdout",
     "output_type": "stream",
     "text": [
      "True found..\n",
      "True found..\n",
      "True found..\n"
     ]
    },
    {
     "name": "stderr",
     "output_type": "stream",
     "text": [
      "WARNING:root:loaded cache from cache/UD_Fourlang.json with interpretations: ['fourlang', 'ud']\n",
      "WARNING:root:updated cache in cache/UD_Fourlang.json\n",
      "WARNING:root:loaded cache from cache/UD_Fourlang.json with interpretations: ['fourlang', 'ud']\n",
      "WARNING:root:updated cache in cache/UD_Fourlang.json\n",
      "WARNING:root:loaded cache from cache/UD_Fourlang.json with interpretations: ['fourlang', 'ud']\n",
      "WARNING:root:updated cache in cache/UD_Fourlang.json\n",
      "WARNING:root:loaded cache from cache/UD_Fourlang.json with interpretations: ['fourlang', 'ud']\n",
      "WARNING:root:updated cache in cache/UD_Fourlang.json\n"
     ]
    },
    {
     "name": "stdout",
     "output_type": "stream",
     "text": [
      "True found..\n",
      "True found..\n"
     ]
    },
    {
     "name": "stderr",
     "output_type": "stream",
     "text": [
      "WARNING:root:loaded cache from cache/UD_Fourlang.json with interpretations: ['fourlang', 'ud']\n",
      "WARNING:root:updated cache in cache/UD_Fourlang.json\n"
     ]
    },
    {
     "name": "stdout",
     "output_type": "stream",
     "text": [
      "True found..\n",
      "True found..\n"
     ]
    },
    {
     "name": "stderr",
     "output_type": "stream",
     "text": [
      "WARNING:root:loaded cache from cache/UD_Fourlang.json with interpretations: ['fourlang', 'ud']\n",
      "WARNING:root:updated cache in cache/UD_Fourlang.json\n"
     ]
    },
    {
     "name": "stdout",
     "output_type": "stream",
     "text": [
      "True found..\n",
      "True found..\n",
      "True found..\n",
      "True found..\n",
      "True found..\n",
      "True found..\n"
     ]
    },
    {
     "name": "stderr",
     "output_type": "stream",
     "text": [
      "WARNING:root:loaded cache from cache/UD_Fourlang.json with interpretations: ['fourlang', 'ud']\n",
      "WARNING:root:updated cache in cache/UD_Fourlang.json\n"
     ]
    },
    {
     "name": "stdout",
     "output_type": "stream",
     "text": [
      "[['Nokia is collision Apple Inc.', 'Apple Inc. is getting Nokia'], ['Nokia is c Apple Inc.', 'Apple Inc. is getting Nokia'], ['Nokia is crash Apple Inc.', 'Apple Inc. is getting Nokia'], ['Nokia is violent Apple Inc.', 'Apple Inc. is getting Nokia'], ['Nokia is destruction Apple Inc.', 'Apple Inc. is getting Nokia'], ['Nokia is Tampere Apple Inc.', 'Apple Inc. is getting Nokia']]\n",
      "Nokia is crushing Apple Inc.\n",
      "reduced: tensor([2, 2, 2, 0, 0, 2])\n",
      "True found..\n",
      "True found..\n",
      "True found..\n",
      "True found..\n"
     ]
    },
    {
     "name": "stderr",
     "output_type": "stream",
     "text": [
      "WARNING:root:loaded cache from cache/UD_Fourlang.json with interpretations: ['fourlang', 'ud']\n",
      "WARNING:root:updated cache in cache/UD_Fourlang.json\n"
     ]
    },
    {
     "name": "stdout",
     "output_type": "stream",
     "text": [
      "True found..\n",
      "True found..\n",
      "True found..\n",
      "True found..\n"
     ]
    },
    {
     "name": "stderr",
     "output_type": "stream",
     "text": [
      "WARNING:root:loaded cache from cache/UD_Fourlang.json with interpretations: ['fourlang', 'ud']\n",
      "WARNING:root:updated cache in cache/UD_Fourlang.json\n"
     ]
    },
    {
     "name": "stdout",
     "output_type": "stream",
     "text": [
      "True found..\n",
      "True found..\n",
      "True found..\n",
      "True found..\n"
     ]
    },
    {
     "name": "stderr",
     "output_type": "stream",
     "text": [
      "WARNING:root:loaded cache from cache/UD_Fourlang.json with interpretations: ['fourlang', 'ud']\n",
      "WARNING:root:updated cache in cache/UD_Fourlang.json\n"
     ]
    },
    {
     "name": "stdout",
     "output_type": "stream",
     "text": [
      "True found..\n"
     ]
    },
    {
     "name": "stderr",
     "output_type": "stream",
     "text": [
      "WARNING:root:loaded cache from cache/UD_Fourlang.json with interpretations: ['fourlang', 'ud']\n",
      "WARNING:root:updated cache in cache/UD_Fourlang.json\n"
     ]
    },
    {
     "name": "stdout",
     "output_type": "stream",
     "text": [
      "True found..\n",
      "True found..\n",
      "True found..\n"
     ]
    },
    {
     "name": "stderr",
     "output_type": "stream",
     "text": [
      "WARNING:root:alto error\n",
      "WARNING:root:loaded cache from cache/UD_Fourlang.json with interpretations: ['fourlang', 'ud']\n",
      "WARNING:root:updated cache in cache/UD_Fourlang.json\n",
      "WARNING:root:loaded cache from cache/UD_Fourlang.json with interpretations: ['fourlang', 'ud']\n",
      "WARNING:root:updated cache in cache/UD_Fourlang.json\n",
      "WARNING:root:loaded cache from cache/UD_Fourlang.json with interpretations: ['fourlang', 'ud']\n",
      "WARNING:root:updated cache in cache/UD_Fourlang.json\n",
      "WARNING:root:loaded cache from cache/UD_Fourlang.json with interpretations: ['fourlang', 'ud']\n",
      "WARNING:root:updated cache in cache/UD_Fourlang.json\n"
     ]
    },
    {
     "name": "stdout",
     "output_type": "stream",
     "text": [
      "True found..\n",
      "True found..\n",
      "True found..\n",
      "[['Mikhail Gorbachev is place a president of Harvard University', 'Mikhail Gorbachev is president of Harvard University'], ['Mikhail Gorbachev is hand a president of Harvard University', 'Mikhail Gorbachev is president of Harvard University']]\n",
      "Mikhail Gorbachev is resigning a president of Harvard University\n",
      "reduced: tensor([2, 2])\n",
      "True found..\n",
      "True found..\n",
      "True found..\n",
      "True found..\n",
      "[['Bill Clinton is take for John McCain', 'John McCain is wanting Bill Clinton'], ['Bill Clinton is nickname for John McCain', 'John McCain is wanting Bill Clinton'], ['Bill Clinton is slang for John McCain', 'John McCain is wanting Bill Clinton'], ['Bill Clinton is constabulary for John McCain', 'John McCain is wanting Bill Clinton'], ['Bill Clinton is british for John McCain', 'John McCain is wanting Bill Clinton']]\n",
      "Bill Clinton is campaigning for John McCain\n",
      "reduced: tensor([2, 1, 1, 2, 2])\n",
      "True found..\n",
      "True found..\n",
      "True found..\n",
      "True found..\n",
      "True found..\n",
      "True found..\n",
      "True found..\n"
     ]
    },
    {
     "name": "stderr",
     "output_type": "stream",
     "text": [
      "WARNING:root:loaded cache from cache/UD_Fourlang.json with interpretations: ['fourlang', 'ud']\n",
      "WARNING:root:updated cache in cache/UD_Fourlang.json\n"
     ]
    },
    {
     "name": "stdout",
     "output_type": "stream",
     "text": [
      "True found..\n"
     ]
    },
    {
     "name": "stderr",
     "output_type": "stream",
     "text": [
      "WARNING:root:loaded cache from cache/UD_Fourlang.json with interpretations: ['fourlang', 'ud']\n",
      "WARNING:root:updated cache in cache/UD_Fourlang.json\n"
     ]
    },
    {
     "name": "stdout",
     "output_type": "stream",
     "text": [
      "True found..\n"
     ]
    },
    {
     "name": "stderr",
     "output_type": "stream",
     "text": [
      "WARNING:root:loaded cache from cache/UD_Fourlang.json with interpretations: ['fourlang', 'ud']\n",
      "WARNING:root:updated cache in cache/UD_Fourlang.json\n",
      "WARNING:root:loaded cache from cache/UD_Fourlang.json with interpretations: ['fourlang', 'ud']\n",
      "WARNING:root:updated cache in cache/UD_Fourlang.json\n",
      "WARNING:root:loaded cache from cache/UD_Fourlang.json with interpretations: ['fourlang', 'ud']\n",
      "WARNING:root:updated cache in cache/UD_Fourlang.json\n",
      "WARNING:root:loaded cache from cache/UD_Fourlang.json with interpretations: ['fourlang', 'ud']\n",
      "WARNING:root:updated cache in cache/UD_Fourlang.json\n",
      "WARNING:root:loaded cache from cache/UD_Fourlang.json with interpretations: ['fourlang', 'ud']\n",
      "WARNING:root:updated cache in cache/UD_Fourlang.json\n"
     ]
    },
    {
     "name": "stdout",
     "output_type": "stream",
     "text": [
      "True found..\n",
      "True found..\n",
      "True found..\n",
      "True found..\n",
      "True found..\n"
     ]
    },
    {
     "name": "stderr",
     "output_type": "stream",
     "text": [
      "WARNING:root:loaded cache from cache/UD_Fourlang.json with interpretations: ['fourlang', 'ud']\n",
      "WARNING:root:updated cache in cache/UD_Fourlang.json\n",
      "WARNING:root:loaded cache from cache/UD_Fourlang.json with interpretations: ['fourlang', 'ud']\n",
      "WARNING:root:updated cache in cache/UD_Fourlang.json\n",
      "WARNING:root:alto error\n",
      "WARNING:root:loaded cache from cache/UD_Fourlang.json with interpretations: ['fourlang', 'ud']\n",
      "WARNING:root:updated cache in cache/UD_Fourlang.json\n",
      "WARNING:root:alto error\n",
      "WARNING:root:loaded cache from cache/UD_Fourlang.json with interpretations: ['fourlang', 'ud']\n",
      "WARNING:root:updated cache in cache/UD_Fourlang.json\n",
      "WARNING:root:loaded cache from cache/UD_Fourlang.json with interpretations: ['fourlang', 'ud']\n",
      "WARNING:root:updated cache in cache/UD_Fourlang.json\n"
     ]
    },
    {
     "name": "stdout",
     "output_type": "stream",
     "text": [
      "True found..\n",
      "True found..\n",
      "True found..\n",
      "True found..\n",
      "[['India is acquire on United States of America', 'India is siding with United States of America'], ['India is letter on United States of America', 'India is siding with United States of America'], ['India is alphabet on United States of America', 'India is siding with United States of America'], ['India is I on United States of America', 'India is siding with United States of America']]\n",
      "India is gaining on United States of America\n",
      "reduced: tensor([2, 2, 2, 2])\n",
      "True found..\n",
      "True found..\n",
      "True found..\n",
      "True found..\n",
      "True found..\n"
     ]
    },
    {
     "name": "stderr",
     "output_type": "stream",
     "text": [
      "WARNING:root:loaded cache from cache/UD_Fourlang.json with interpretations: ['fourlang', 'ud']\n",
      "WARNING:root:updated cache in cache/UD_Fourlang.json\n",
      "WARNING:root:alto error\n",
      "WARNING:root:loaded cache from cache/UD_Fourlang.json with interpretations: ['fourlang', 'ud']\n",
      "WARNING:root:updated cache in cache/UD_Fourlang.json\n",
      "WARNING:root:alto error\n",
      "WARNING:root:loaded cache from cache/UD_Fourlang.json with interpretations: ['fourlang', 'ud']\n",
      "WARNING:root:updated cache in cache/UD_Fourlang.json\n",
      "WARNING:root:alto error\n",
      "WARNING:root:loaded cache from cache/UD_Fourlang.json with interpretations: ['fourlang', 'ud']\n",
      "WARNING:root:updated cache in cache/UD_Fourlang.json\n",
      "WARNING:root:loaded cache from cache/UD_Fourlang.json with interpretations: ['fourlang', 'ud']\n",
      "WARNING:root:updated cache in cache/UD_Fourlang.json\n",
      "WARNING:root:loaded cache from cache/UD_Fourlang.json with interpretations: ['fourlang', 'ud']\n",
      "WARNING:root:updated cache in cache/UD_Fourlang.json\n",
      "WARNING:root:alto error\n",
      "WARNING:root:loaded cache from cache/UD_Fourlang.json with interpretations: ['fourlang', 'ud']\n",
      "WARNING:root:updated cache in cache/UD_Fourlang.json\n",
      "WARNING:root:alto error\n",
      "WARNING:root:loaded cache from cache/UD_Fourlang.json with interpretations: ['fourlang', 'ud']\n",
      "WARNING:root:updated cache in cache/UD_Fourlang.json\n",
      "WARNING:root:alto error\n",
      "WARNING:root:loaded cache from cache/UD_Fourlang.json with interpretations: ['fourlang', 'ud']\n",
      "WARNING:root:updated cache in cache/UD_Fourlang.json\n",
      "WARNING:root:alto error\n",
      "WARNING:root:loaded cache from cache/UD_Fourlang.json with interpretations: ['fourlang', 'ud']\n",
      "WARNING:root:updated cache in cache/UD_Fourlang.json\n",
      "WARNING:root:alto error\n",
      "WARNING:root:loaded cache from cache/UD_Fourlang.json with interpretations: ['fourlang', 'ud']\n",
      "WARNING:root:updated cache in cache/UD_Fourlang.json\n",
      "WARNING:root:loaded cache from cache/UD_Fourlang.json with interpretations: ['fourlang', 'ud']\n",
      "WARNING:root:updated cache in cache/UD_Fourlang.json\n"
     ]
    },
    {
     "name": "stdout",
     "output_type": "stream",
     "text": [
      "True found..\n",
      "True found..\n",
      "True found..\n"
     ]
    },
    {
     "name": "stderr",
     "output_type": "stream",
     "text": [
      "WARNING:root:alto error\n",
      "WARNING:root:loaded cache from cache/UD_Fourlang.json with interpretations: ['fourlang', 'ud']\n",
      "WARNING:root:updated cache in cache/UD_Fourlang.json\n"
     ]
    },
    {
     "name": "stdout",
     "output_type": "stream",
     "text": [
      "True found..\n"
     ]
    },
    {
     "name": "stderr",
     "output_type": "stream",
     "text": [
      "WARNING:root:loaded cache from cache/UD_Fourlang.json with interpretations: ['fourlang', 'ud']\n",
      "WARNING:root:updated cache in cache/UD_Fourlang.json\n"
     ]
    },
    {
     "name": "stdout",
     "output_type": "stream",
     "text": [
      "True found..\n",
      "True found..\n",
      "True found..\n",
      "True found..\n"
     ]
    },
    {
     "name": "stderr",
     "output_type": "stream",
     "text": [
      "WARNING:root:loaded cache from cache/UD_Fourlang.json with interpretations: ['fourlang', 'ud']\n",
      "WARNING:root:updated cache in cache/UD_Fourlang.json\n"
     ]
    },
    {
     "name": "stdout",
     "output_type": "stream",
     "text": [
      "True found..\n"
     ]
    },
    {
     "name": "stderr",
     "output_type": "stream",
     "text": [
      "WARNING:root:loaded cache from cache/UD_Fourlang.json with interpretations: ['fourlang', 'ud']\n",
      "WARNING:root:updated cache in cache/UD_Fourlang.json\n"
     ]
    },
    {
     "name": "stdout",
     "output_type": "stream",
     "text": [
      "True found..\n"
     ]
    },
    {
     "name": "stderr",
     "output_type": "stream",
     "text": [
      "WARNING:root:loaded cache from cache/UD_Fourlang.json with interpretations: ['fourlang', 'ud']\n",
      "WARNING:root:updated cache in cache/UD_Fourlang.json\n"
     ]
    },
    {
     "name": "stdout",
     "output_type": "stream",
     "text": [
      "True found..\n",
      "True found..\n",
      "True found..\n"
     ]
    },
    {
     "name": "stderr",
     "output_type": "stream",
     "text": [
      "WARNING:root:loaded cache from cache/UD_Fourlang.json with interpretations: ['fourlang', 'ud']\n",
      "WARNING:root:updated cache in cache/UD_Fourlang.json\n",
      "WARNING:root:loaded cache from cache/UD_Fourlang.json with interpretations: ['fourlang', 'ud']\n",
      "WARNING:root:updated cache in cache/UD_Fourlang.json\n",
      "WARNING:root:alto error\n",
      "WARNING:root:loaded cache from cache/UD_Fourlang.json with interpretations: ['fourlang', 'ud']\n",
      "WARNING:root:updated cache in cache/UD_Fourlang.json\n",
      "WARNING:root:loaded cache from cache/UD_Fourlang.json with interpretations: ['fourlang', 'ud']\n",
      "WARNING:root:updated cache in cache/UD_Fourlang.json\n"
     ]
    },
    {
     "name": "stdout",
     "output_type": "stream",
     "text": [
      "True found..\n",
      "True found..\n",
      "True found..\n"
     ]
    },
    {
     "name": "stderr",
     "output_type": "stream",
     "text": [
      "WARNING:root:loaded cache from cache/UD_Fourlang.json with interpretations: ['fourlang', 'ud']\n",
      "WARNING:root:updated cache in cache/UD_Fourlang.json\n"
     ]
    },
    {
     "name": "stdout",
     "output_type": "stream",
     "text": [
      "True found..\n",
      "True found..\n",
      "True found..\n",
      "True found..\n",
      "True found..\n",
      "True found..\n",
      "True found..\n",
      "True found..\n",
      "True found..\n"
     ]
    },
    {
     "name": "stderr",
     "output_type": "stream",
     "text": [
      "WARNING:root:loaded cache from cache/UD_Fourlang.json with interpretations: ['fourlang', 'ud']\n",
      "WARNING:root:updated cache in cache/UD_Fourlang.json\n",
      "WARNING:root:alto error\n",
      "WARNING:root:loaded cache from cache/UD_Fourlang.json with interpretations: ['fourlang', 'ud']\n",
      "WARNING:root:updated cache in cache/UD_Fourlang.json\n",
      "WARNING:root:alto error\n",
      "WARNING:root:loaded cache from cache/UD_Fourlang.json with interpretations: ['fourlang', 'ud']\n",
      "WARNING:root:updated cache in cache/UD_Fourlang.json\n",
      "WARNING:root:alto error\n",
      "WARNING:root:loaded cache from cache/UD_Fourlang.json with interpretations: ['fourlang', 'ud']\n",
      "WARNING:root:updated cache in cache/UD_Fourlang.json\n",
      "WARNING:root:loaded cache from cache/UD_Fourlang.json with interpretations: ['fourlang', 'ud']\n",
      "WARNING:root:updated cache in cache/UD_Fourlang.json\n",
      "WARNING:root:loaded cache from cache/UD_Fourlang.json with interpretations: ['fourlang', 'ud']\n",
      "WARNING:root:updated cache in cache/UD_Fourlang.json\n",
      "WARNING:root:loaded cache from cache/UD_Fourlang.json with interpretations: ['fourlang', 'ud']\n",
      "WARNING:root:updated cache in cache/UD_Fourlang.json\n"
     ]
    },
    {
     "name": "stdout",
     "output_type": "stream",
     "text": [
      "[['Ronald Reagan is remain in Washington, D.C.', 'Ronald Reagan is arriving in Washington, D.C.'], ['Ronald Reagan is borrow in Washington, D.C.', 'Ronald Reagan is arriving in Washington, D.C.'], ['Ronald Reagan is rest in Washington, D.C.', 'Ronald Reagan is arriving in Washington, D.C.'], ['Ronald Reagan is abide in Washington, D.C.', 'Ronald Reagan is arriving in Washington, D.C.'], ['Ronald Reagan is rest in Washington, D.C.', 'Ronald Reagan is arriving in Washington, D.C.'], ['Ronald Reagan is male in Washington, D.C.', 'Ronald Reagan is arriving in Washington, D.C.']]\n",
      "Ronald Reagan is sitting in Washington, D.C.\n",
      "reduced: tensor([0, 2, 0, 2, 0, 1])\n",
      "True found..\n"
     ]
    },
    {
     "name": "stderr",
     "output_type": "stream",
     "text": [
      "WARNING:root:loaded cache from cache/UD_Fourlang.json with interpretations: ['fourlang', 'ud']\n",
      "WARNING:root:updated cache in cache/UD_Fourlang.json\n"
     ]
    },
    {
     "name": "stdout",
     "output_type": "stream",
     "text": [
      "True found..\n",
      "True found..\n",
      "True found..\n"
     ]
    },
    {
     "name": "stderr",
     "output_type": "stream",
     "text": [
      "WARNING:root:loaded cache from cache/UD_Fourlang.json with interpretations: ['fourlang', 'ud']\n",
      "WARNING:root:updated cache in cache/UD_Fourlang.json\n",
      "WARNING:root:loaded cache from cache/UD_Fourlang.json with interpretations: ['fourlang', 'ud']\n",
      "WARNING:root:updated cache in cache/UD_Fourlang.json\n",
      "WARNING:root:loaded cache from cache/UD_Fourlang.json with interpretations: ['fourlang', 'ud']\n",
      "WARNING:root:updated cache in cache/UD_Fourlang.json\n",
      "WARNING:root:loaded cache from cache/UD_Fourlang.json with interpretations: ['fourlang', 'ud']\n",
      "WARNING:root:updated cache in cache/UD_Fourlang.json\n"
     ]
    },
    {
     "name": "stdout",
     "output_type": "stream",
     "text": [
      "[['India is perception United Nations', 'India is feeling about United Nations'], ['India is letter United Nations', 'India is feeling about United Nations'], ['India is visual United Nations', 'India is feeling about United Nations'], ['India is physical United Nations', 'India is feeling about United Nations'], ['India is alphabet United Nations', 'India is feeling about United Nations'], ['India is I United Nations', 'India is feeling about United Nations']]\n",
      "India is viewing United Nations\n",
      "reduced: tensor([2, 2, 2, 1, 2, 2])\n",
      "True found..\n",
      "True found..\n",
      "True found..\n",
      "True found..\n",
      "True found..\n"
     ]
    },
    {
     "name": "stderr",
     "output_type": "stream",
     "text": [
      "WARNING:root:loaded cache from cache/UD_Fourlang.json with interpretations: ['fourlang', 'ud']\n",
      "WARNING:root:updated cache in cache/UD_Fourlang.json\n",
      "WARNING:root:loaded cache from cache/UD_Fourlang.json with interpretations: ['fourlang', 'ud']\n",
      "WARNING:root:updated cache in cache/UD_Fourlang.json\n",
      "WARNING:root:alto error\n",
      "WARNING:root:loaded cache from cache/UD_Fourlang.json with interpretations: ['fourlang', 'ud']\n",
      "WARNING:root:updated cache in cache/UD_Fourlang.json\n",
      "WARNING:root:alto error\n",
      "WARNING:root:loaded cache from cache/UD_Fourlang.json with interpretations: ['fourlang', 'ud']\n",
      "WARNING:root:updated cache in cache/UD_Fourlang.json\n"
     ]
    },
    {
     "name": "stdout",
     "output_type": "stream",
     "text": [
      "True found..\n",
      "True found..\n",
      "True found..\n"
     ]
    },
    {
     "name": "stderr",
     "output_type": "stream",
     "text": [
      "WARNING:root:loaded cache from cache/UD_Fourlang.json with interpretations: ['fourlang', 'ud']\n",
      "WARNING:root:updated cache in cache/UD_Fourlang.json\n"
     ]
    },
    {
     "name": "stdout",
     "output_type": "stream",
     "text": [
      "True found..\n",
      "True found..\n",
      "True found..\n",
      "True found..\n",
      "True found..\n",
      "True found..\n",
      "True found..\n",
      "[['Cuba is being move by Japan', 'Japan is controlling Cuba']]\n",
      "Cuba is being invaded by Japan\n",
      "reduced: tensor([2])\n"
     ]
    },
    {
     "name": "stderr",
     "output_type": "stream",
     "text": [
      "WARNING:root:loaded cache from cache/UD_Fourlang.json with interpretations: ['fourlang', 'ud']\n",
      "WARNING:root:updated cache in cache/UD_Fourlang.json\n",
      "WARNING:root:loaded cache from cache/UD_Fourlang.json with interpretations: ['fourlang', 'ud']\n",
      "WARNING:root:updated cache in cache/UD_Fourlang.json\n",
      "WARNING:root:loaded cache from cache/UD_Fourlang.json with interpretations: ['fourlang', 'ud']\n",
      "WARNING:root:updated cache in cache/UD_Fourlang.json\n",
      "WARNING:root:loaded cache from cache/UD_Fourlang.json with interpretations: ['fourlang', 'ud']\n",
      "WARNING:root:updated cache in cache/UD_Fourlang.json\n"
     ]
    },
    {
     "name": "stdout",
     "output_type": "stream",
     "text": [
      "[[\"Shenzhen is indefinite of United Kingdom's city\", 'Shenzhen is centre in United Kingdom'], [\"Shenzhen is c of United Kingdom's city\", 'Shenzhen is centre in United Kingdom'], [\"Shenzhen is bigger of United Kingdom's city\", 'Shenzhen is centre in United Kingdom'], [\"Shenzhen is province of United Kingdom's city\", 'Shenzhen is centre in United Kingdom'], [\"Shenzhen is Guangdong of United Kingdom's city\", 'Shenzhen is centre in United Kingdom'], [\"Shenzhen is largest of United Kingdom's city\", 'Shenzhen is centre in United Kingdom'], [\"Shenzhen is third of United Kingdom's city\", 'Shenzhen is centre in United Kingdom'], [\"Shenzhen is settlement of United Kingdom's city\", 'Shenzhen is centre in United Kingdom'], [\"Shenzhen is large of United Kingdom's city\", 'Shenzhen is centre in United Kingdom']]\n",
      "Shenzhen is one of United Kingdom's city\n",
      "reduced: tensor([2, 2, 1, 2, 2, 2, 0, 2, 2])\n",
      "True found..\n",
      "True found..\n"
     ]
    },
    {
     "name": "stderr",
     "output_type": "stream",
     "text": [
      "WARNING:root:loaded cache from cache/UD_Fourlang.json with interpretations: ['fourlang', 'ud']\n",
      "WARNING:root:updated cache in cache/UD_Fourlang.json\n",
      "WARNING:root:loaded cache from cache/UD_Fourlang.json with interpretations: ['fourlang', 'ud']\n",
      "WARNING:root:updated cache in cache/UD_Fourlang.json\n"
     ]
    },
    {
     "name": "stdout",
     "output_type": "stream",
     "text": [
      "True found..\n",
      "True found..\n",
      "True found..\n",
      "True found..\n",
      "True found..\n",
      "True found..\n",
      "True found..\n",
      "True found..\n",
      "True found..\n"
     ]
    },
    {
     "name": "stderr",
     "output_type": "stream",
     "text": [
      "WARNING:root:loaded cache from cache/UD_Fourlang.json with interpretations: ['fourlang', 'ud']\n",
      "WARNING:root:updated cache in cache/UD_Fourlang.json\n",
      "WARNING:root:loaded cache from cache/UD_Fourlang.json with interpretations: ['fourlang', 'ud']\n",
      "WARNING:root:updated cache in cache/UD_Fourlang.json\n",
      "WARNING:root:loaded cache from cache/UD_Fourlang.json with interpretations: ['fourlang', 'ud']\n",
      "WARNING:root:updated cache in cache/UD_Fourlang.json\n",
      "WARNING:root:loaded cache from cache/UD_Fourlang.json with interpretations: ['fourlang', 'ud']\n",
      "WARNING:root:updated cache in cache/UD_Fourlang.json\n",
      "WARNING:root:loaded cache from cache/UD_Fourlang.json with interpretations: ['fourlang', 'ud']\n",
      "WARNING:root:updated cache in cache/UD_Fourlang.json\n"
     ]
    },
    {
     "name": "stdout",
     "output_type": "stream",
     "text": [
      "True found..\n",
      "True found..\n"
     ]
    },
    {
     "name": "stderr",
     "output_type": "stream",
     "text": [
      "WARNING:root:loaded cache from cache/UD_Fourlang.json with interpretations: ['fourlang', 'ud']\n",
      "WARNING:root:updated cache in cache/UD_Fourlang.json\n"
     ]
    },
    {
     "name": "stdout",
     "output_type": "stream",
     "text": [
      "True found..\n",
      "True found..\n",
      "True found..\n",
      "True found..\n"
     ]
    },
    {
     "name": "stderr",
     "output_type": "stream",
     "text": [
      "WARNING:root:loaded cache from cache/UD_Fourlang.json with interpretations: ['fourlang', 'ud']\n",
      "WARNING:root:updated cache in cache/UD_Fourlang.json\n"
     ]
    },
    {
     "name": "stdout",
     "output_type": "stream",
     "text": [
      "True found..\n"
     ]
    },
    {
     "name": "stderr",
     "output_type": "stream",
     "text": [
      "WARNING:root:loaded cache from cache/UD_Fourlang.json with interpretations: ['fourlang', 'ud']\n",
      "WARNING:root:updated cache in cache/UD_Fourlang.json\n",
      "WARNING:root:loaded cache from cache/UD_Fourlang.json with interpretations: ['fourlang', 'ud']\n",
      "WARNING:root:updated cache in cache/UD_Fourlang.json\n",
      "WARNING:root:loaded cache from cache/UD_Fourlang.json with interpretations: ['fourlang', 'ud']\n",
      "WARNING:root:updated cache in cache/UD_Fourlang.json\n"
     ]
    },
    {
     "name": "stdout",
     "output_type": "stream",
     "text": [
      "True found..\n"
     ]
    },
    {
     "name": "stderr",
     "output_type": "stream",
     "text": [
      "WARNING:root:loaded cache from cache/UD_Fourlang.json with interpretations: ['fourlang', 'ud']\n",
      "WARNING:root:updated cache in cache/UD_Fourlang.json\n"
     ]
    },
    {
     "name": "stdout",
     "output_type": "stream",
     "text": [
      "True found..\n",
      "True found..\n",
      "True found..\n",
      "True found..\n",
      "True found..\n",
      "True found..\n",
      "True found..\n",
      "True found..\n",
      "True found..\n"
     ]
    },
    {
     "name": "stderr",
     "output_type": "stream",
     "text": [
      "WARNING:root:loaded cache from cache/UD_Fourlang.json with interpretations: ['fourlang', 'ud']\n",
      "WARNING:root:updated cache in cache/UD_Fourlang.json\n"
     ]
    },
    {
     "name": "stdout",
     "output_type": "stream",
     "text": [
      "True found..\n",
      "True found..\n"
     ]
    },
    {
     "name": "stderr",
     "output_type": "stream",
     "text": [
      "WARNING:root:loaded cache from cache/UD_Fourlang.json with interpretations: ['fourlang', 'ud']\n",
      "WARNING:root:updated cache in cache/UD_Fourlang.json\n"
     ]
    },
    {
     "name": "stdout",
     "output_type": "stream",
     "text": [
      "True found..\n",
      "True found..\n"
     ]
    },
    {
     "name": "stderr",
     "output_type": "stream",
     "text": [
      "WARNING:root:loaded cache from cache/UD_Fourlang.json with interpretations: ['fourlang', 'ud']\n",
      "WARNING:root:updated cache in cache/UD_Fourlang.json\n"
     ]
    },
    {
     "name": "stdout",
     "output_type": "stream",
     "text": [
      "True found..\n"
     ]
    },
    {
     "name": "stderr",
     "output_type": "stream",
     "text": [
      "WARNING:root:loaded cache from cache/UD_Fourlang.json with interpretations: ['fourlang', 'ud']\n",
      "WARNING:root:updated cache in cache/UD_Fourlang.json\n",
      "WARNING:root:alto error\n",
      "WARNING:root:loaded cache from cache/UD_Fourlang.json with interpretations: ['fourlang', 'ud']\n",
      "WARNING:root:updated cache in cache/UD_Fourlang.json\n",
      "WARNING:root:alto error\n",
      "WARNING:root:loaded cache from cache/UD_Fourlang.json with interpretations: ['fourlang', 'ud']\n",
      "WARNING:root:updated cache in cache/UD_Fourlang.json\n",
      "WARNING:root:alto error\n",
      "WARNING:root:loaded cache from cache/UD_Fourlang.json with interpretations: ['fourlang', 'ud']\n",
      "WARNING:root:updated cache in cache/UD_Fourlang.json\n",
      "WARNING:root:alto error\n",
      "WARNING:root:loaded cache from cache/UD_Fourlang.json with interpretations: ['fourlang', 'ud']\n",
      "WARNING:root:updated cache in cache/UD_Fourlang.json\n",
      "WARNING:root:alto error\n",
      "WARNING:root:loaded cache from cache/UD_Fourlang.json with interpretations: ['fourlang', 'ud']\n",
      "WARNING:root:updated cache in cache/UD_Fourlang.json\n",
      "WARNING:root:alto error\n",
      "WARNING:root:loaded cache from cache/UD_Fourlang.json with interpretations: ['fourlang', 'ud']\n",
      "WARNING:root:updated cache in cache/UD_Fourlang.json\n",
      "WARNING:root:loaded cache from cache/UD_Fourlang.json with interpretations: ['fourlang', 'ud']\n",
      "WARNING:root:updated cache in cache/UD_Fourlang.json\n",
      "WARNING:root:loaded cache from cache/UD_Fourlang.json with interpretations: ['fourlang', 'ud']\n",
      "WARNING:root:updated cache in cache/UD_Fourlang.json\n",
      "WARNING:root:alto error\n",
      "WARNING:root:loaded cache from cache/UD_Fourlang.json with interpretations: ['fourlang', 'ud']\n",
      "WARNING:root:updated cache in cache/UD_Fourlang.json\n"
     ]
    },
    {
     "name": "stdout",
     "output_type": "stream",
     "text": [
      "[['San Antonio Spurs is act at TD San Antonio Spursank Garden', 'San Antonio Spurs is losing at TD San Antonio Spursank Garden'], ['San Antonio Spurs is group at TD San Antonio Spursank Garden', 'San Antonio Spurs is losing at TD San Antonio Spursank Garden'], ['San Antonio Spurs is ethnic at TD San Antonio Spursank Garden', 'San Antonio Spurs is losing at TD San Antonio Spursank Garden'], ['San Antonio Spurs is Africa at TD San Antonio Spursank Garden', 'San Antonio Spurs is losing at TD San Antonio Spursank Garden'], ['San Antonio Spurs is nonHYPHENbantu at TD San Antonio Spursank Garden', 'San Antonio Spurs is losing at TD San Antonio Spursank Garden'], ['San Antonio Spurs is forage at TD San Antonio Spursank Garden', 'San Antonio Spurs is losing at TD San Antonio Spursank Garden'], ['San Antonio Spurs is southwestern at TD San Antonio Spursank Garden', 'San Antonio Spurs is losing at TD San Antonio Spursank Garden']]\n",
      "San Antonio Spurs is playing at TD San Antonio Spursank Garden\n",
      "reduced: tensor([0, 2, 2, 2, 2, 0, 2])\n"
     ]
    },
    {
     "name": "stderr",
     "output_type": "stream",
     "text": [
      "WARNING:root:loaded cache from cache/UD_Fourlang.json with interpretations: ['fourlang', 'ud']\n",
      "WARNING:root:updated cache in cache/UD_Fourlang.json\n",
      "WARNING:root:loaded cache from cache/UD_Fourlang.json with interpretations: ['fourlang', 'ud']\n",
      "WARNING:root:updated cache in cache/UD_Fourlang.json\n",
      "WARNING:root:loaded cache from cache/UD_Fourlang.json with interpretations: ['fourlang', 'ud']\n",
      "WARNING:root:updated cache in cache/UD_Fourlang.json\n",
      "WARNING:root:loaded cache from cache/UD_Fourlang.json with interpretations: ['fourlang', 'ud']\n",
      "WARNING:root:updated cache in cache/UD_Fourlang.json\n",
      "WARNING:root:loaded cache from cache/UD_Fourlang.json with interpretations: ['fourlang', 'ud']\n",
      "WARNING:root:updated cache in cache/UD_Fourlang.json\n"
     ]
    },
    {
     "name": "stdout",
     "output_type": "stream",
     "text": [
      "True found..\n"
     ]
    },
    {
     "name": "stderr",
     "output_type": "stream",
     "text": [
      "WARNING:root:loaded cache from cache/UD_Fourlang.json with interpretations: ['fourlang', 'ud']\n",
      "WARNING:root:updated cache in cache/UD_Fourlang.json\n"
     ]
    },
    {
     "name": "stdout",
     "output_type": "stream",
     "text": [
      "True found..\n"
     ]
    },
    {
     "name": "stderr",
     "output_type": "stream",
     "text": [
      "WARNING:root:loaded cache from cache/UD_Fourlang.json with interpretations: ['fourlang', 'ud']\n",
      "WARNING:root:updated cache in cache/UD_Fourlang.json\n",
      "WARNING:root:loaded cache from cache/UD_Fourlang.json with interpretations: ['fourlang', 'ud']\n",
      "WARNING:root:updated cache in cache/UD_Fourlang.json\n",
      "WARNING:root:loaded cache from cache/UD_Fourlang.json with interpretations: ['fourlang', 'ud']\n",
      "WARNING:root:updated cache in cache/UD_Fourlang.json\n",
      "WARNING:root:loaded cache from cache/UD_Fourlang.json with interpretations: ['fourlang', 'ud']\n",
      "WARNING:root:updated cache in cache/UD_Fourlang.json\n"
     ]
    },
    {
     "name": "stdout",
     "output_type": "stream",
     "text": [
      "[['FOX is cross Futurama', 'Futurama is airing on FOX'], ['FOX is carnivore Futurama', 'Futurama is airing on FOX'], ['FOX is vulpe Futurama', 'Futurama is airing on FOX']]\n",
      "FOX is cancelling Futurama\n",
      "reduced: tensor([2, 2, 2])\n",
      "True found..\n",
      "True found..\n"
     ]
    },
    {
     "name": "stderr",
     "output_type": "stream",
     "text": [
      "WARNING:root:loaded cache from cache/UD_Fourlang.json with interpretations: ['fourlang', 'ud']\n",
      "WARNING:root:updated cache in cache/UD_Fourlang.json\n",
      "WARNING:root:loaded cache from cache/UD_Fourlang.json with interpretations: ['fourlang', 'ud']\n",
      "WARNING:root:updated cache in cache/UD_Fourlang.json\n"
     ]
    },
    {
     "name": "stdout",
     "output_type": "stream",
     "text": [
      "True found..\n",
      "True found..\n",
      "[['Google is move against AFC North', 'Google is losing to AFC North'], ['Google is trademark against AFC North', 'Google is losing to AFC North']]\n",
      "Google is going against AFC North\n",
      "reduced: tensor([0, 2])\n",
      "True found..\n",
      "True found..\n",
      "True found..\n",
      "True found..\n",
      "True found..\n"
     ]
    },
    {
     "ename": "KeyboardInterrupt",
     "evalue": "",
     "output_type": "error",
     "traceback": [
      "\u001b[0;31m---------------------------------------------------------------------------\u001b[0m",
      "\u001b[0;31mKeyboardInterrupt\u001b[0m                         Traceback (most recent call last)",
      "\u001b[0;32m<ipython-input-17-90523e33978e>\u001b[0m in \u001b[0;36m<module>\u001b[0;34m\u001b[0m\n\u001b[1;32m     11\u001b[0m \u001b[0;34m\u001b[0m\u001b[0m\n\u001b[1;32m     12\u001b[0m             \u001b[0mtext_to_process\u001b[0m \u001b[0;34m=\u001b[0m \u001b[0mdata\u001b[0m\u001b[0;34m.\u001b[0m\u001b[0miloc\u001b[0m\u001b[0;34m[\u001b[0m\u001b[0mi\u001b[0m\u001b[0;34m]\u001b[0m\u001b[0;34m[\u001b[0m\u001b[0;34m\"premise_text\"\u001b[0m\u001b[0;34m]\u001b[0m\u001b[0;34m\u001b[0m\u001b[0;34m\u001b[0m\u001b[0m\n\u001b[0;32m---> 13\u001b[0;31m             \u001b[0mgraph\u001b[0m \u001b[0;34m=\u001b[0m \u001b[0mtext_to_4lang\u001b[0m\u001b[0;34m.\u001b[0m\u001b[0mprocess_text\u001b[0m\u001b[0;34m(\u001b[0m\u001b[0mtext_to_process\u001b[0m\u001b[0;34m,\u001b[0m \u001b[0mmethod\u001b[0m\u001b[0;34m=\u001b[0m\u001b[0;34m\"expand\"\u001b[0m\u001b[0;34m,\u001b[0m \u001b[0mdepth\u001b[0m\u001b[0;34m=\u001b[0m\u001b[0;36m1\u001b[0m\u001b[0;34m,\u001b[0m \u001b[0mblacklist\u001b[0m\u001b[0;34m=\u001b[0m\u001b[0;34m[\u001b[0m\u001b[0;34m\"in\"\u001b[0m\u001b[0;34m,\u001b[0m \u001b[0;34m\"on\"\u001b[0m\u001b[0;34m,\u001b[0m \u001b[0;34m\"of\"\u001b[0m\u001b[0;34m]\u001b[0m\u001b[0;34m,\u001b[0m \u001b[0mfilt\u001b[0m\u001b[0;34m=\u001b[0m\u001b[0;32mFalse\u001b[0m\u001b[0;34m,\u001b[0m \u001b[0mblack_or_white\u001b[0m\u001b[0;34m=\u001b[0m\u001b[0;34m\"black\"\u001b[0m\u001b[0;34m,\u001b[0m \u001b[0mmulti_definition\u001b[0m\u001b[0;34m=\u001b[0m\u001b[0;32mFalse\u001b[0m\u001b[0;34m,\u001b[0m \u001b[0mapply_from_depth\u001b[0m\u001b[0;34m=\u001b[0m\u001b[0;36m2\u001b[0m\u001b[0;34m)\u001b[0m\u001b[0;34m\u001b[0m\u001b[0;34m\u001b[0m\u001b[0m\n\u001b[0m\u001b[1;32m     14\u001b[0m \u001b[0;34m\u001b[0m\u001b[0m\n\u001b[1;32m     15\u001b[0m             \u001b[0;32mif\u001b[0m \u001b[0mgraph\u001b[0m\u001b[0;34m.\u001b[0m\u001b[0mroot\u001b[0m\u001b[0;34m:\u001b[0m\u001b[0;34m\u001b[0m\u001b[0;34m\u001b[0m\u001b[0m\n",
      "\u001b[0;32m~/projects/wikt2def/fourlang/text_to_4lang.py\u001b[0m in \u001b[0;36mprocess_text\u001b[0;34m(self, text, method, depth, blacklist, filt, multi_definition, black_or_white, apply_from_depth, rarity)\u001b[0m\n\u001b[1;32m    123\u001b[0m             \u001b[0;32melse\u001b[0m\u001b[0;34m:\u001b[0m\u001b[0;34m\u001b[0m\u001b[0;34m\u001b[0m\u001b[0m\n\u001b[1;32m    124\u001b[0m                 self.lexicon.expand(graph, irtg_parser=self.process_text_with_IRTG,\n\u001b[0;32m--> 125\u001b[0;31m                                     depth=depth, blacklist=blacklist, filt=filt, black_or_white=black_or_white, apply_from_depth=apply_from_depth)\n\u001b[0m\u001b[1;32m    126\u001b[0m         \u001b[0;32melif\u001b[0m \u001b[0mmethod\u001b[0m \u001b[0;34m==\u001b[0m \u001b[0;34m\"substitute\"\u001b[0m\u001b[0;34m:\u001b[0m\u001b[0;34m\u001b[0m\u001b[0;34m\u001b[0m\u001b[0m\n\u001b[1;32m    127\u001b[0m             self.lexicon.substitute(\n",
      "\u001b[0;32m~/projects/wikt2def/fourlang/lexicon.py\u001b[0m in \u001b[0;36mexpand\u001b[0;34m(self, graph, irtg_parser, depth, blacklist, filt, black_or_white, apply_from_depth)\u001b[0m\n\u001b[1;32m    371\u001b[0m                         \u001b[0;32mfor\u001b[0m \u001b[0mdefinition\u001b[0m \u001b[0;32min\u001b[0m \u001b[0mself\u001b[0m\u001b[0;34m.\u001b[0m\u001b[0mlexicon_list\u001b[0m\u001b[0;34m[\u001b[0m\u001b[0mnode\u001b[0m\u001b[0;34m]\u001b[0m\u001b[0;34m:\u001b[0m\u001b[0;34m\u001b[0m\u001b[0;34m\u001b[0m\u001b[0m\n\u001b[1;32m    372\u001b[0m                             \u001b[0;32mif\u001b[0m \u001b[0mdefinition\u001b[0m\u001b[0;34m:\u001b[0m\u001b[0;34m\u001b[0m\u001b[0;34m\u001b[0m\u001b[0m\n\u001b[0;32m--> 373\u001b[0;31m                                 \u001b[0mdef_graph\u001b[0m \u001b[0;34m=\u001b[0m \u001b[0mirtg_parser\u001b[0m\u001b[0;34m(\u001b[0m\u001b[0mdefinition\u001b[0m\u001b[0;34m)\u001b[0m\u001b[0;34m\u001b[0m\u001b[0;34m\u001b[0m\u001b[0m\n\u001b[0m\u001b[1;32m    374\u001b[0m                                 \u001b[0;32mif\u001b[0m \u001b[0mlen\u001b[0m\u001b[0;34m(\u001b[0m\u001b[0mdef_graph\u001b[0m\u001b[0;34m.\u001b[0m\u001b[0mget_nodes\u001b[0m\u001b[0;34m(\u001b[0m\u001b[0;34m)\u001b[0m\u001b[0;34m)\u001b[0m \u001b[0;34m>\u001b[0m \u001b[0;36m0\u001b[0m\u001b[0;34m:\u001b[0m\u001b[0;34m\u001b[0m\u001b[0;34m\u001b[0m\u001b[0m\n\u001b[1;32m    375\u001b[0m                                     graph.merge_definition_graph(\n",
      "\u001b[0;32m~/projects/wikt2def/fourlang/text_to_4lang.py\u001b[0m in \u001b[0;36mprocess_text_with_IRTG\u001b[0;34m(self, text)\u001b[0m\n\u001b[1;32m     92\u001b[0m \u001b[0;34m\u001b[0m\u001b[0m\n\u001b[1;32m     93\u001b[0m     \u001b[0;32mdef\u001b[0m \u001b[0mprocess_text_with_IRTG\u001b[0m\u001b[0;34m(\u001b[0m\u001b[0mself\u001b[0m\u001b[0;34m,\u001b[0m \u001b[0mtext\u001b[0m\u001b[0;34m)\u001b[0m\u001b[0;34m:\u001b[0m\u001b[0;34m\u001b[0m\u001b[0;34m\u001b[0m\u001b[0m\n\u001b[0;32m---> 94\u001b[0;31m         \u001b[0mfl\u001b[0m \u001b[0;34m=\u001b[0m \u001b[0mself\u001b[0m\u001b[0;34m.\u001b[0m\u001b[0mparse_irtg\u001b[0m\u001b[0;34m(\u001b[0m\u001b[0mtext\u001b[0m\u001b[0;34m)\u001b[0m\u001b[0;34m\u001b[0m\u001b[0;34m\u001b[0m\u001b[0m\n\u001b[0m\u001b[1;32m     95\u001b[0m \u001b[0;34m\u001b[0m\u001b[0m\n\u001b[1;32m     96\u001b[0m         \u001b[0moutput\u001b[0m\u001b[0;34m,\u001b[0m \u001b[0mroot\u001b[0m \u001b[0;34m=\u001b[0m \u001b[0;32mNone\u001b[0m\u001b[0;34m,\u001b[0m \u001b[0;32mNone\u001b[0m\u001b[0;34m\u001b[0m\u001b[0;34m\u001b[0m\u001b[0m\n",
      "\u001b[0;32m~/projects/wikt2def/fourlang/text_to_4lang.py\u001b[0m in \u001b[0;36mparse_irtg\u001b[0;34m(self, text)\u001b[0m\n\u001b[1;32m     84\u001b[0m             \u001b[0;32mtry\u001b[0m\u001b[0;34m:\u001b[0m\u001b[0;34m\u001b[0m\u001b[0;34m\u001b[0m\u001b[0m\n\u001b[1;32m     85\u001b[0m                 \u001b[0msen\u001b[0m \u001b[0;34m=\u001b[0m \u001b[0mself\u001b[0m\u001b[0;34m.\u001b[0m\u001b[0mparser_wrapper\u001b[0m\u001b[0;34m.\u001b[0m\u001b[0mparse_text_for_irtg\u001b[0m\u001b[0;34m(\u001b[0m\u001b[0mtext\u001b[0m\u001b[0;34m)\u001b[0m\u001b[0;34m\u001b[0m\u001b[0;34m\u001b[0m\u001b[0m\n\u001b[0;32m---> 86\u001b[0;31m                 \u001b[0mfl\u001b[0m \u001b[0;34m=\u001b[0m \u001b[0mself\u001b[0m\u001b[0;34m.\u001b[0m\u001b[0mud_fl\u001b[0m\u001b[0;34m.\u001b[0m\u001b[0mparse\u001b[0m\u001b[0;34m(\u001b[0m\u001b[0msen\u001b[0m\u001b[0;34m,\u001b[0m \u001b[0;34m'ud'\u001b[0m\u001b[0;34m,\u001b[0m \u001b[0;34m'fourlang'\u001b[0m\u001b[0;34m,\u001b[0m \u001b[0;34m'amr-sgraph-src'\u001b[0m\u001b[0;34m)\u001b[0m\u001b[0;34m\u001b[0m\u001b[0;34m\u001b[0m\u001b[0m\n\u001b[0m\u001b[1;32m     87\u001b[0m                 \u001b[0mself\u001b[0m\u001b[0;34m.\u001b[0m\u001b[0mirtg_parse\u001b[0m\u001b[0;34m[\u001b[0m\u001b[0mtext\u001b[0m\u001b[0;34m]\u001b[0m \u001b[0;34m=\u001b[0m \u001b[0mfl\u001b[0m\u001b[0;34m\u001b[0m\u001b[0;34m\u001b[0m\u001b[0m\n\u001b[1;32m     88\u001b[0m             \u001b[0;32mexcept\u001b[0m \u001b[0mIndexError\u001b[0m \u001b[0;32mas\u001b[0m \u001b[0me\u001b[0m\u001b[0;34m:\u001b[0m\u001b[0;34m\u001b[0m\u001b[0;34m\u001b[0m\u001b[0m\n",
      "\u001b[0;32m~/projects/tuw-nlp/tuw_nlp/grammar/irtg.py\u001b[0m in \u001b[0;36mparse\u001b[0;34m(self, orig_input, input_int, output_int, output_codec, **kwargs)\u001b[0m\n\u001b[1;32m    107\u001b[0m         \u001b[0;32mif\u001b[0m \u001b[0mcached\u001b[0m \u001b[0;32mis\u001b[0m \u001b[0;32mNone\u001b[0m\u001b[0;34m:\u001b[0m\u001b[0;34m\u001b[0m\u001b[0;34m\u001b[0m\u001b[0m\n\u001b[1;32m    108\u001b[0m             output_obj = self._parse(\n\u001b[0;32m--> 109\u001b[0;31m                 input_obj, input_int, output_int, output_codec, **kwargs)\n\u001b[0m\u001b[1;32m    110\u001b[0m             self.cache.add(\n\u001b[1;32m    111\u001b[0m                 input_obj, input_int, output_int, output_codec, output_obj)\n",
      "\u001b[0;32m~/projects/tuw-nlp/tuw_nlp/grammar/irtg.py\u001b[0m in \u001b[0;36m_parse\u001b[0;34m(self, input_obj, input_int, output_int, output_codec, **kwargs)\u001b[0m\n\u001b[1;32m     91\u001b[0m     \u001b[0;32mdef\u001b[0m \u001b[0m_parse\u001b[0m\u001b[0;34m(\u001b[0m\u001b[0mself\u001b[0m\u001b[0;34m,\u001b[0m \u001b[0minput_obj\u001b[0m\u001b[0;34m,\u001b[0m \u001b[0minput_int\u001b[0m\u001b[0;34m,\u001b[0m \u001b[0moutput_int\u001b[0m\u001b[0;34m,\u001b[0m \u001b[0moutput_codec\u001b[0m\u001b[0;34m,\u001b[0m \u001b[0;34m**\u001b[0m\u001b[0mkwargs\u001b[0m\u001b[0;34m)\u001b[0m\u001b[0;34m:\u001b[0m\u001b[0;34m\u001b[0m\u001b[0;34m\u001b[0m\u001b[0m\n\u001b[1;32m     92\u001b[0m         output = self.run(\n\u001b[0;32m---> 93\u001b[0;31m             input_obj, input_int, output_int, output_codec)\n\u001b[0m\u001b[1;32m     94\u001b[0m         \u001b[0;32mreturn\u001b[0m \u001b[0mself\u001b[0m\u001b[0;34m.\u001b[0m\u001b[0mpostprocess_output\u001b[0m\u001b[0;34m(\u001b[0m\u001b[0moutput\u001b[0m\u001b[0;34m,\u001b[0m \u001b[0;34m**\u001b[0m\u001b[0mkwargs\u001b[0m\u001b[0;34m)\u001b[0m\u001b[0;34m\u001b[0m\u001b[0;34m\u001b[0m\u001b[0m\n\u001b[1;32m     95\u001b[0m \u001b[0;34m\u001b[0m\u001b[0m\n",
      "\u001b[0;32m~/projects/tuw-nlp/tuw_nlp/grammar/irtg.py\u001b[0m in \u001b[0;36mrun\u001b[0;34m(self, transformed_input, input_int, output_int, output_codec)\u001b[0m\n\u001b[1;32m    170\u001b[0m         success = run_alto(\n\u001b[1;32m    171\u001b[0m             \u001b[0minput_fn\u001b[0m\u001b[0;34m,\u001b[0m \u001b[0mgrammar_fn\u001b[0m\u001b[0;34m,\u001b[0m \u001b[0moutput_fn\u001b[0m\u001b[0;34m,\u001b[0m \u001b[0minput_int\u001b[0m\u001b[0;34m,\u001b[0m \u001b[0moutput_int\u001b[0m\u001b[0;34m,\u001b[0m\u001b[0;34m\u001b[0m\u001b[0;34m\u001b[0m\u001b[0m\n\u001b[0;32m--> 172\u001b[0;31m             output_codec)\n\u001b[0m\u001b[1;32m    173\u001b[0m         \u001b[0;32mif\u001b[0m \u001b[0msuccess\u001b[0m\u001b[0;34m:\u001b[0m\u001b[0;34m\u001b[0m\u001b[0;34m\u001b[0m\u001b[0m\n\u001b[1;32m    174\u001b[0m             \u001b[0moutputs\u001b[0m\u001b[0;34m,\u001b[0m \u001b[0m_\u001b[0m \u001b[0;34m=\u001b[0m \u001b[0mself\u001b[0m\u001b[0;34m.\u001b[0m\u001b[0mparse_output\u001b[0m\u001b[0;34m(\u001b[0m\u001b[0moutput_fn\u001b[0m\u001b[0;34m)\u001b[0m\u001b[0;34m\u001b[0m\u001b[0;34m\u001b[0m\u001b[0m\n",
      "\u001b[0;32m~/projects/tuw-nlp/tuw_nlp/grammar/alto.py\u001b[0m in \u001b[0;36mrun_alto\u001b[0;34m(input_fn, grammar_fn, output_fn, input_int, output_int, output_codec, timeout, memory)\u001b[0m\n\u001b[1;32m     32\u001b[0m         timeout=60, memory='32G')\n\u001b[1;32m     33\u001b[0m     \u001b[0mlogging\u001b[0m\u001b[0;34m.\u001b[0m\u001b[0minfo\u001b[0m\u001b[0;34m(\u001b[0m\u001b[0;34m\"running alto: {}\"\u001b[0m\u001b[0;34m.\u001b[0m\u001b[0mformat\u001b[0m\u001b[0;34m(\u001b[0m\u001b[0;34m\" \"\u001b[0m\u001b[0;34m.\u001b[0m\u001b[0mjoin\u001b[0m\u001b[0;34m(\u001b[0m\u001b[0mcommand\u001b[0m\u001b[0;34m)\u001b[0m\u001b[0;34m)\u001b[0m\u001b[0;34m)\u001b[0m\u001b[0;34m\u001b[0m\u001b[0;34m\u001b[0m\u001b[0m\n\u001b[0;32m---> 34\u001b[0;31m     \u001b[0mcproc\u001b[0m \u001b[0;34m=\u001b[0m \u001b[0msubprocess\u001b[0m\u001b[0;34m.\u001b[0m\u001b[0mrun\u001b[0m\u001b[0;34m(\u001b[0m\u001b[0mcommand\u001b[0m\u001b[0;34m)\u001b[0m\u001b[0;34m\u001b[0m\u001b[0;34m\u001b[0m\u001b[0m\n\u001b[0m\u001b[1;32m     35\u001b[0m     \u001b[0;32mif\u001b[0m \u001b[0mcproc\u001b[0m\u001b[0;34m.\u001b[0m\u001b[0mreturncode\u001b[0m \u001b[0;34m==\u001b[0m \u001b[0;36m124\u001b[0m\u001b[0;34m:\u001b[0m\u001b[0;34m\u001b[0m\u001b[0;34m\u001b[0m\u001b[0m\n\u001b[1;32m     36\u001b[0m         \u001b[0mlogging\u001b[0m\u001b[0;34m.\u001b[0m\u001b[0mwarning\u001b[0m\u001b[0;34m(\u001b[0m\u001b[0;34m'alto timeout'\u001b[0m\u001b[0;34m)\u001b[0m\u001b[0;34m\u001b[0m\u001b[0;34m\u001b[0m\u001b[0m\n",
      "\u001b[0;32m~/miniconda3/lib/python3.7/subprocess.py\u001b[0m in \u001b[0;36mrun\u001b[0;34m(input, capture_output, timeout, check, *popenargs, **kwargs)\u001b[0m\n\u001b[1;32m    470\u001b[0m         \u001b[0mkwargs\u001b[0m\u001b[0;34m[\u001b[0m\u001b[0;34m'stderr'\u001b[0m\u001b[0;34m]\u001b[0m \u001b[0;34m=\u001b[0m \u001b[0mPIPE\u001b[0m\u001b[0;34m\u001b[0m\u001b[0;34m\u001b[0m\u001b[0m\n\u001b[1;32m    471\u001b[0m \u001b[0;34m\u001b[0m\u001b[0m\n\u001b[0;32m--> 472\u001b[0;31m     \u001b[0;32mwith\u001b[0m \u001b[0mPopen\u001b[0m\u001b[0;34m(\u001b[0m\u001b[0;34m*\u001b[0m\u001b[0mpopenargs\u001b[0m\u001b[0;34m,\u001b[0m \u001b[0;34m**\u001b[0m\u001b[0mkwargs\u001b[0m\u001b[0;34m)\u001b[0m \u001b[0;32mas\u001b[0m \u001b[0mprocess\u001b[0m\u001b[0;34m:\u001b[0m\u001b[0;34m\u001b[0m\u001b[0;34m\u001b[0m\u001b[0m\n\u001b[0m\u001b[1;32m    473\u001b[0m         \u001b[0;32mtry\u001b[0m\u001b[0;34m:\u001b[0m\u001b[0;34m\u001b[0m\u001b[0;34m\u001b[0m\u001b[0m\n\u001b[1;32m    474\u001b[0m             \u001b[0mstdout\u001b[0m\u001b[0;34m,\u001b[0m \u001b[0mstderr\u001b[0m \u001b[0;34m=\u001b[0m \u001b[0mprocess\u001b[0m\u001b[0;34m.\u001b[0m\u001b[0mcommunicate\u001b[0m\u001b[0;34m(\u001b[0m\u001b[0minput\u001b[0m\u001b[0;34m,\u001b[0m \u001b[0mtimeout\u001b[0m\u001b[0;34m=\u001b[0m\u001b[0mtimeout\u001b[0m\u001b[0;34m)\u001b[0m\u001b[0;34m\u001b[0m\u001b[0;34m\u001b[0m\u001b[0m\n",
      "\u001b[0;32m~/miniconda3/lib/python3.7/subprocess.py\u001b[0m in \u001b[0;36m__init__\u001b[0;34m(self, args, bufsize, executable, stdin, stdout, stderr, preexec_fn, close_fds, shell, cwd, env, universal_newlines, startupinfo, creationflags, restore_signals, start_new_session, pass_fds, encoding, errors, text)\u001b[0m\n\u001b[1;32m    773\u001b[0m                                 \u001b[0mc2pread\u001b[0m\u001b[0;34m,\u001b[0m \u001b[0mc2pwrite\u001b[0m\u001b[0;34m,\u001b[0m\u001b[0;34m\u001b[0m\u001b[0;34m\u001b[0m\u001b[0m\n\u001b[1;32m    774\u001b[0m                                 \u001b[0merrread\u001b[0m\u001b[0;34m,\u001b[0m \u001b[0merrwrite\u001b[0m\u001b[0;34m,\u001b[0m\u001b[0;34m\u001b[0m\u001b[0;34m\u001b[0m\u001b[0m\n\u001b[0;32m--> 775\u001b[0;31m                                 restore_signals, start_new_session)\n\u001b[0m\u001b[1;32m    776\u001b[0m         \u001b[0;32mexcept\u001b[0m\u001b[0;34m:\u001b[0m\u001b[0;34m\u001b[0m\u001b[0;34m\u001b[0m\u001b[0m\n\u001b[1;32m    777\u001b[0m             \u001b[0;31m# Cleanup if the child failed starting.\u001b[0m\u001b[0;34m\u001b[0m\u001b[0;34m\u001b[0m\u001b[0;34m\u001b[0m\u001b[0m\n",
      "\u001b[0;32m~/miniconda3/lib/python3.7/subprocess.py\u001b[0m in \u001b[0;36m_execute_child\u001b[0;34m(self, args, executable, preexec_fn, close_fds, pass_fds, cwd, env, startupinfo, creationflags, shell, p2cread, p2cwrite, c2pread, c2pwrite, errread, errwrite, restore_signals, start_new_session)\u001b[0m\n\u001b[1;32m   1474\u001b[0m                 \u001b[0merrpipe_data\u001b[0m \u001b[0;34m=\u001b[0m \u001b[0mbytearray\u001b[0m\u001b[0;34m(\u001b[0m\u001b[0;34m)\u001b[0m\u001b[0;34m\u001b[0m\u001b[0;34m\u001b[0m\u001b[0m\n\u001b[1;32m   1475\u001b[0m                 \u001b[0;32mwhile\u001b[0m \u001b[0;32mTrue\u001b[0m\u001b[0;34m:\u001b[0m\u001b[0;34m\u001b[0m\u001b[0;34m\u001b[0m\u001b[0m\n\u001b[0;32m-> 1476\u001b[0;31m                     \u001b[0mpart\u001b[0m \u001b[0;34m=\u001b[0m \u001b[0mos\u001b[0m\u001b[0;34m.\u001b[0m\u001b[0mread\u001b[0m\u001b[0;34m(\u001b[0m\u001b[0merrpipe_read\u001b[0m\u001b[0;34m,\u001b[0m \u001b[0;36m50000\u001b[0m\u001b[0;34m)\u001b[0m\u001b[0;34m\u001b[0m\u001b[0;34m\u001b[0m\u001b[0m\n\u001b[0m\u001b[1;32m   1477\u001b[0m                     \u001b[0merrpipe_data\u001b[0m \u001b[0;34m+=\u001b[0m \u001b[0mpart\u001b[0m\u001b[0;34m\u001b[0m\u001b[0;34m\u001b[0m\u001b[0m\n\u001b[1;32m   1478\u001b[0m                     \u001b[0;32mif\u001b[0m \u001b[0;32mnot\u001b[0m \u001b[0mpart\u001b[0m \u001b[0;32mor\u001b[0m \u001b[0mlen\u001b[0m\u001b[0;34m(\u001b[0m\u001b[0merrpipe_data\u001b[0m\u001b[0;34m)\u001b[0m \u001b[0;34m>\u001b[0m \u001b[0;36m50000\u001b[0m\u001b[0;34m:\u001b[0m\u001b[0;34m\u001b[0m\u001b[0;34m\u001b[0m\u001b[0m\n",
      "\u001b[0;31mKeyboardInterrupt\u001b[0m: "
     ]
    }
   ],
   "source": [
    "preds = []\n",
    "\n",
    "with torch.no_grad():\n",
    "    for i, (prem, hyp) in enumerate(zip(premise_texts, hyp_texts)):\n",
    "        #print(i)\n",
    "        if guesses[i] == 2 and guesses_probs[i] >= 0.8:\n",
    "            print(\"True found..\")\n",
    "            preds.append(1)\n",
    "        else:\n",
    "            batches = []\n",
    "            \n",
    "            text_to_process = data.iloc[i][\"premise_text\"]\n",
    "            graph = text_to_4lang.process_text(text_to_process, method=\"expand\", depth=1, blacklist=[\"in\", \"on\", \"of\"], filt=False, black_or_white=\"black\", multi_definition=False, apply_from_depth=2)\n",
    "\n",
    "            if graph.root:\n",
    "                reducing_nodes = whitelisting(graph, graph.root)\n",
    "                graph_root = clear_node(graph.root)\n",
    "                for node in reducing_nodes:\n",
    "                    node = clear_node(node)\n",
    "                    if node != \"A\" and node != \"B\":\n",
    "                        \n",
    "                        prem_reduced = prem\n",
    "                        for word in prem_reduced.split():\n",
    "                            if word.startswith(graph_root) and (node not in prem_reduced.split()):\n",
    "                                prem_reduced = prem.replace(word, node)\n",
    "                                batches.append([prem_reduced, hyp])\n",
    "                label = 0\n",
    "                if batches:\n",
    "                    batch = collate_tokens(\n",
    "                        [roberta.encode(pair[0], pair[1]) for pair in batches], pad_idx=1\n",
    "                    )\n",
    "\n",
    "                    logprobs_batch = roberta.predict('mnli', batch)\n",
    "                    reduced_guesses = logprobs_batch.argmax(dim=1)\n",
    "                    reduced_guesses_probs = logprobs_batch.max(dim=1)\n",
    "                    reduced_guesses_probs = np.exp(reduced_guesses_probs[0].detach().numpy())\n",
    "\n",
    "                    for guess, prob in zip(reduced_guesses, reduced_guesses_probs):\n",
    "                        if guess == 2 and prob >= 0.95:\n",
    "                            label = 1\n",
    "                    \n",
    "                    if label == 1 and gold[i] == 0:\n",
    "                        print(batches)\n",
    "                        print(text_to_process)\n",
    "                        print(f\"reduced: {reduced_guesses}\")\n",
    "                preds.append(label)\n",
    "\n",
    "            else:\n",
    "                preds.append(0)\n"
   ]
  },
  {
   "cell_type": "markdown",
   "metadata": {},
   "source": [
    "## Semeval"
   ]
  },
  {
   "cell_type": "code",
   "execution_count": 215,
   "metadata": {},
   "outputs": [],
   "source": [
    "from scripts.parse_data import read\n",
    "import os\n",
    "import pandas as pd"
   ]
  },
  {
   "cell_type": "code",
   "execution_count": 216,
   "metadata": {},
   "outputs": [],
   "source": [
    "def read(lang1, lang2=None, graded=True):\n",
    "    filename = \"SemEval2020-Task2-Dev\"\n",
    "    language_name = \"\"\n",
    "    if lang2 is None:\n",
    "        filename = os.path.join(filename, \"monolingual\")\n",
    "        language_name = lang1\n",
    "    else:\n",
    "        filename = os.path.join(filename, \"cross-lingual\")\n",
    "        language_name = \"-\".join([lang1, lang2]) if lang1[0] < lang2[0] else \"-\".join([lang2, lang1])\n",
    "    grad_or_bin = \"graded\" if graded else \"binary\"\n",
    "    filename = os.path.join(filename, grad_or_bin, \".\".join([language_name, grad_or_bin, \"dev.data.txt\"]))\n",
    "    df = pd.read_csv(filename, delimiter=\" \", header=None, names=[\"premise\", \"hypothesis\", \"score\"])\n",
    "    # if lang2 is not None:\n",
    "    #     df.premise = df.premise.str.replace(lang1 + \"_\", \"\")\n",
    "    #     df.premise = df.premise.str.replace(lang2 + \"_\", \"\")\n",
    "    #     df.hypothesis = df.hypothesis.str.replace(lang1 + \"_\", \"\")\n",
    "    #     df.hypothesis = df.hypothesis.str.replace(lang2 + \"_\", \"\")\n",
    "    return df"
   ]
  },
  {
   "cell_type": "code",
   "execution_count": 217,
   "metadata": {},
   "outputs": [],
   "source": [
    "data_frame = read(\"en\", graded=False)"
   ]
  },
  {
   "cell_type": "code",
   "execution_count": 218,
   "metadata": {},
   "outputs": [
    {
     "data": {
      "text/html": [
       "<div>\n",
       "<style scoped>\n",
       "    .dataframe tbody tr th:only-of-type {\n",
       "        vertical-align: middle;\n",
       "    }\n",
       "\n",
       "    .dataframe tbody tr th {\n",
       "        vertical-align: top;\n",
       "    }\n",
       "\n",
       "    .dataframe thead th {\n",
       "        text-align: right;\n",
       "    }\n",
       "</style>\n",
       "<table border=\"1\" class=\"dataframe\">\n",
       "  <thead>\n",
       "    <tr style=\"text-align: right;\">\n",
       "      <th></th>\n",
       "      <th>premise</th>\n",
       "      <th>hypothesis</th>\n",
       "      <th>score</th>\n",
       "    </tr>\n",
       "  </thead>\n",
       "  <tbody>\n",
       "    <tr>\n",
       "      <th>0</th>\n",
       "      <td>custard</td>\n",
       "      <td>building</td>\n",
       "      <td>0</td>\n",
       "    </tr>\n",
       "    <tr>\n",
       "      <th>1</th>\n",
       "      <td>flashlight</td>\n",
       "      <td>agency</td>\n",
       "      <td>0</td>\n",
       "    </tr>\n",
       "    <tr>\n",
       "      <th>2</th>\n",
       "      <td>sandwich</td>\n",
       "      <td>food</td>\n",
       "      <td>1</td>\n",
       "    </tr>\n",
       "    <tr>\n",
       "      <th>3</th>\n",
       "      <td>enemy</td>\n",
       "      <td>friend</td>\n",
       "      <td>0</td>\n",
       "    </tr>\n",
       "    <tr>\n",
       "      <th>4</th>\n",
       "      <td>incense</td>\n",
       "      <td>aroma</td>\n",
       "      <td>1</td>\n",
       "    </tr>\n",
       "    <tr>\n",
       "      <th>...</th>\n",
       "      <td>...</td>\n",
       "      <td>...</td>\n",
       "      <td>...</td>\n",
       "    </tr>\n",
       "    <tr>\n",
       "      <th>311</th>\n",
       "      <td>selection</td>\n",
       "      <td>choice</td>\n",
       "      <td>1</td>\n",
       "    </tr>\n",
       "    <tr>\n",
       "      <th>312</th>\n",
       "      <td>material</td>\n",
       "      <td>rubber</td>\n",
       "      <td>0</td>\n",
       "    </tr>\n",
       "    <tr>\n",
       "      <th>313</th>\n",
       "      <td>beat</td>\n",
       "      <td>defeat</td>\n",
       "      <td>1</td>\n",
       "    </tr>\n",
       "    <tr>\n",
       "      <th>314</th>\n",
       "      <td>ape</td>\n",
       "      <td>beast</td>\n",
       "      <td>1</td>\n",
       "    </tr>\n",
       "    <tr>\n",
       "      <th>315</th>\n",
       "      <td>bunch</td>\n",
       "      <td>group</td>\n",
       "      <td>1</td>\n",
       "    </tr>\n",
       "  </tbody>\n",
       "</table>\n",
       "<p>316 rows × 3 columns</p>\n",
       "</div>"
      ],
      "text/plain": [
       "        premise hypothesis  score\n",
       "0       custard   building      0\n",
       "1    flashlight     agency      0\n",
       "2      sandwich       food      1\n",
       "3         enemy     friend      0\n",
       "4       incense      aroma      1\n",
       "..          ...        ...    ...\n",
       "311   selection     choice      1\n",
       "312    material     rubber      0\n",
       "313        beat     defeat      1\n",
       "314         ape      beast      1\n",
       "315       bunch      group      1\n",
       "\n",
       "[316 rows x 3 columns]"
      ]
     },
     "execution_count": 218,
     "metadata": {},
     "output_type": "execute_result"
    }
   ],
   "source": [
    "data_frame"
   ]
  },
  {
   "cell_type": "code",
   "execution_count": 219,
   "metadata": {},
   "outputs": [],
   "source": [
    "batch_of_pairs = []\n",
    "premise_texts = data_frame[\"premise\"].tolist()\n",
    "hyp_texts = data_frame[\"hypothesis\"].tolist()\n",
    "\n",
    "for i, text in enumerate(premise_texts):\n",
    "    batch_of_pairs.append([text, hyp_texts[i]])"
   ]
  },
  {
   "cell_type": "code",
   "execution_count": null,
   "metadata": {},
   "outputs": [],
   "source": [
    "with torch.no_grad():\n",
    "\n",
    "    batch = collate_tokens(\n",
    "        [roberta.encode(pair[0], pair[1]) for pair in batch_of_pairs], pad_idx=1\n",
    "    )\n",
    "\n",
    "    logprobs = roberta.predict('mnli', batch)\n",
    "    print(logprobs)\n",
    "    guesses = logprobs.max(dim=1)"
   ]
  },
  {
   "cell_type": "code",
   "execution_count": 221,
   "metadata": {},
   "outputs": [],
   "source": [
    "import numpy as np\n",
    "\n",
    "guesses_probs = logprobs.max(dim=1)\n",
    "guesses = logprobs.argmax(dim=1)"
   ]
  },
  {
   "cell_type": "code",
   "execution_count": 222,
   "metadata": {},
   "outputs": [],
   "source": [
    "guesses_probs = np.exp(guesses_probs[0].detach().numpy())"
   ]
  },
  {
   "cell_type": "code",
   "execution_count": 229,
   "metadata": {},
   "outputs": [],
   "source": [
    "preds = []\n",
    "\n",
    "for guess, prob in zip(guesses, guesses_probs):\n",
    "    if guess == 2:# and prob >= 0.8:\n",
    "        preds.append(1)\n",
    "    else:\n",
    "        preds.append(0)"
   ]
  },
  {
   "cell_type": "code",
   "execution_count": 230,
   "metadata": {},
   "outputs": [],
   "source": [
    "gold = data_frame.score.tolist()"
   ]
  },
  {
   "cell_type": "code",
   "execution_count": 231,
   "metadata": {},
   "outputs": [
    {
     "name": "stdout",
     "output_type": "stream",
     "text": [
      "Precision: 0.8325123152709359\n",
      "Recall: 0.949438202247191\n",
      "Fscore: 0.8871391076115485\n",
      "[138 178]\n"
     ]
    }
   ],
   "source": [
    "from sklearn.metrics import precision_recall_fscore_support as pr\n",
    "#bPrecis, bRecall, bFscore, bSupport = pr(data_frame.score.tolist(), [1 if i>=1.0 else 0 for i in guesses])\n",
    "bPrecis, bRecall, bFscore, bSupport = pr(gold, preds)\n",
    "\n",
    "print(\"Precision: \" +  str(bPrecis[1]))\n",
    "print(\"Recall: \" +  str(bRecall[1]))\n",
    "print(\"Fscore: \" +  str(bFscore[1]))\n",
    "print(bSupport)"
   ]
  },
  {
   "cell_type": "code",
   "execution_count": null,
   "metadata": {},
   "outputs": [],
   "source": []
  }
 ],
 "metadata": {
  "kernelspec": {
   "display_name": "Python 3",
   "language": "python",
   "name": "python3"
  },
  "language_info": {
   "codemirror_mode": {
    "name": "ipython",
    "version": 3
   },
   "file_extension": ".py",
   "mimetype": "text/x-python",
   "name": "python",
   "nbconvert_exporter": "python",
   "pygments_lexer": "ipython3",
   "version": "3.7.4"
  }
 },
 "nbformat": 4,
 "nbformat_minor": 4
}
