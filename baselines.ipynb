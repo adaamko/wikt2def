{
 "cells": [
  {
   "cell_type": "code",
   "execution_count": 1,
   "metadata": {},
   "outputs": [],
   "source": [
    "import re\n",
    "import networkx as nx\n",
    "from networkx.readwrite import json_graph\n",
    "from fourlang.text_to_4lang import TextTo4lang\n",
    "from graphviz import Source\n",
    "from scripts.parse_data import read\n",
    "from scripts.similarity import Similarity\n",
    "from tqdm import tqdm"
   ]
  },
  {
   "cell_type": "code",
   "execution_count": 2,
   "metadata": {},
   "outputs": [],
   "source": [
    "data_frame = read(\"en\", graded=False)\n",
    "similarity = Similarity()"
   ]
  },
  {
   "cell_type": "markdown",
   "metadata": {},
   "source": [
    "### Simple monolingual dictionary based baseline based on bag-of-words"
   ]
  },
  {
   "cell_type": "code",
   "execution_count": 12,
   "metadata": {},
   "outputs": [
    {
     "name": "stderr",
     "output_type": "stream",
     "text": [
      "\n",
      "  0%|          | 0/316 [00:00<?, ?it/s]\u001b[A\n",
      "  1%|          | 2/316 [00:00<00:16, 19.58it/s]\u001b[A\n",
      "  1%|▏         | 4/316 [00:00<00:16, 19.48it/s]\u001b[A\n",
      "  2%|▏         | 7/316 [00:00<00:14, 21.35it/s]\u001b[A\n",
      "  3%|▎         | 10/316 [00:00<00:13, 23.00it/s]\u001b[A\n",
      "  4%|▍         | 13/316 [00:00<00:13, 23.02it/s]\u001b[A\n",
      "  5%|▌         | 16/316 [00:00<00:12, 23.50it/s]\u001b[A\n",
      "  6%|▌         | 19/316 [00:00<00:12, 24.47it/s]\u001b[A\n",
      "  7%|▋         | 23/316 [00:00<00:11, 26.14it/s]\u001b[A\n",
      "  8%|▊         | 26/316 [00:01<00:10, 26.92it/s]\u001b[A\n",
      "  9%|▉         | 29/316 [00:01<00:12, 23.41it/s]\u001b[A\n",
      " 10%|█         | 32/316 [00:01<00:11, 24.55it/s]\u001b[A\n",
      " 11%|█         | 35/316 [00:01<00:11, 25.18it/s]\u001b[A\n",
      " 12%|█▏        | 38/316 [00:01<00:10, 25.96it/s]\u001b[A\n",
      " 13%|█▎        | 41/316 [00:01<00:10, 26.71it/s]\u001b[A\n",
      " 14%|█▍        | 44/316 [00:01<00:10, 26.10it/s]\u001b[A\n",
      " 15%|█▍        | 47/316 [00:01<00:10, 26.45it/s]\u001b[A\n",
      " 16%|█▌        | 50/316 [00:02<00:11, 23.62it/s]\u001b[A\n",
      " 17%|█▋        | 53/316 [00:02<00:11, 22.27it/s]\u001b[A\n",
      " 18%|█▊        | 56/316 [00:02<00:11, 22.28it/s]\u001b[A\n",
      " 19%|█▊        | 59/316 [00:02<00:11, 23.10it/s]\u001b[A\n",
      " 20%|█▉        | 62/316 [00:02<00:11, 22.36it/s]\u001b[A\n",
      " 21%|██        | 65/316 [00:02<00:12, 20.87it/s]\u001b[A\n",
      " 22%|██▏       | 68/316 [00:02<00:11, 22.07it/s]\u001b[A\n",
      " 22%|██▏       | 71/316 [00:02<00:11, 21.93it/s]\u001b[A\n",
      " 23%|██▎       | 74/316 [00:03<00:10, 23.33it/s]\u001b[A\n",
      " 25%|██▍       | 78/316 [00:03<00:09, 24.82it/s]\u001b[A\n",
      " 26%|██▌       | 81/316 [00:03<00:09, 24.11it/s]\u001b[A\n",
      " 27%|██▋       | 84/316 [00:03<00:10, 22.79it/s]\u001b[A\n",
      " 28%|██▊       | 87/316 [00:03<00:09, 23.14it/s]\u001b[A\n",
      " 28%|██▊       | 90/316 [00:03<00:09, 23.69it/s]\u001b[A\n",
      " 29%|██▉       | 93/316 [00:03<00:09, 24.70it/s]\u001b[A\n",
      " 30%|███       | 96/316 [00:03<00:09, 23.95it/s]\u001b[A\n",
      " 31%|███▏      | 99/316 [00:04<00:09, 24.09it/s]\u001b[A\n",
      " 33%|███▎      | 103/316 [00:04<00:08, 25.66it/s]\u001b[A\n",
      " 34%|███▎      | 106/316 [00:04<00:08, 25.36it/s]\u001b[A\n",
      " 34%|███▍      | 109/316 [00:04<00:08, 25.73it/s]\u001b[A\n",
      " 35%|███▌      | 112/316 [00:04<00:07, 25.83it/s]\u001b[A\n",
      " 36%|███▋      | 115/316 [00:04<00:07, 25.63it/s]\u001b[A\n",
      " 37%|███▋      | 118/316 [00:04<00:07, 25.30it/s]\u001b[A\n",
      " 38%|███▊      | 121/316 [00:04<00:07, 25.49it/s]\u001b[A\n",
      " 39%|███▉      | 124/316 [00:05<00:07, 26.03it/s]\u001b[A\n",
      " 40%|████      | 127/316 [00:05<00:07, 26.68it/s]\u001b[A\n",
      " 41%|████      | 130/316 [00:05<00:07, 25.88it/s]\u001b[A\n",
      " 42%|████▏     | 133/316 [00:05<00:06, 26.58it/s]\u001b[A\n",
      " 43%|████▎     | 136/316 [00:05<00:07, 25.21it/s]\u001b[A\n",
      " 44%|████▍     | 139/316 [00:05<00:06, 25.54it/s]\u001b[A\n",
      " 45%|████▍     | 142/316 [00:05<00:06, 26.49it/s]\u001b[A\n",
      " 46%|████▌     | 145/316 [00:05<00:06, 26.53it/s]\u001b[A\n",
      " 47%|████▋     | 148/316 [00:05<00:06, 26.26it/s]\u001b[A\n",
      " 48%|████▊     | 151/316 [00:06<00:06, 26.07it/s]\u001b[A\n",
      " 49%|████▊     | 154/316 [00:06<00:06, 26.74it/s]\u001b[A\n",
      " 50%|████▉     | 157/316 [00:06<00:05, 27.14it/s]\u001b[A\n",
      " 51%|█████     | 160/316 [00:06<00:05, 26.21it/s]\u001b[A\n",
      " 52%|█████▏    | 163/316 [00:06<00:06, 25.00it/s]\u001b[A\n",
      " 53%|█████▎    | 166/316 [00:06<00:05, 25.33it/s]\u001b[A\n",
      " 53%|█████▎    | 169/316 [00:06<00:06, 22.50it/s]\u001b[A\n",
      " 54%|█████▍    | 172/316 [00:06<00:06, 22.61it/s]\u001b[A\n",
      " 55%|█████▌    | 175/316 [00:07<00:05, 23.87it/s]\u001b[A\n",
      " 56%|█████▋    | 178/316 [00:07<00:06, 22.41it/s]\u001b[A\n",
      " 57%|█████▋    | 181/316 [00:07<00:06, 21.48it/s]\u001b[A\n",
      " 58%|█████▊    | 184/316 [00:07<00:05, 22.16it/s]\u001b[A\n",
      " 59%|█████▉    | 187/316 [00:07<00:05, 23.47it/s]\u001b[A\n",
      " 60%|██████    | 190/316 [00:07<00:05, 23.90it/s]\u001b[A\n",
      " 61%|██████    | 193/316 [00:07<00:04, 24.89it/s]\u001b[A\n",
      " 62%|██████▏   | 196/316 [00:07<00:04, 25.26it/s]\u001b[A\n",
      " 63%|██████▎   | 199/316 [00:08<00:05, 23.13it/s]\u001b[A\n",
      " 64%|██████▍   | 202/316 [00:08<00:04, 24.75it/s]\u001b[A\n",
      " 65%|██████▍   | 205/316 [00:08<00:04, 24.73it/s]\u001b[A\n",
      " 66%|██████▌   | 208/316 [00:08<00:04, 24.84it/s]\u001b[A\n",
      " 67%|██████▋   | 211/316 [00:08<00:04, 24.65it/s]\u001b[A\n",
      " 68%|██████▊   | 214/316 [00:08<00:04, 24.37it/s]\u001b[A\n",
      " 69%|██████▊   | 217/316 [00:08<00:04, 20.58it/s]\u001b[A\n",
      " 70%|██████▉   | 220/316 [00:09<00:04, 20.08it/s]\u001b[A\n",
      " 71%|███████   | 224/316 [00:09<00:04, 21.99it/s]\u001b[A\n",
      " 72%|███████▏  | 227/316 [00:09<00:03, 22.57it/s]\u001b[A\n",
      " 73%|███████▎  | 230/316 [00:09<00:03, 21.67it/s]\u001b[A\n",
      " 74%|███████▎  | 233/316 [00:09<00:03, 20.86it/s]\u001b[A\n",
      " 75%|███████▍  | 236/316 [00:09<00:03, 20.73it/s]\u001b[A\n",
      " 76%|███████▌  | 239/316 [00:09<00:03, 21.95it/s]\u001b[A\n",
      " 77%|███████▋  | 242/316 [00:10<00:03, 21.38it/s]\u001b[A\n",
      " 78%|███████▊  | 245/316 [00:10<00:03, 22.71it/s]\u001b[A\n",
      " 78%|███████▊  | 248/316 [00:10<00:02, 23.34it/s]\u001b[A\n",
      " 79%|███████▉  | 251/316 [00:10<00:02, 23.98it/s]\u001b[A\n",
      " 80%|████████  | 254/316 [00:10<00:02, 24.70it/s]\u001b[A\n",
      " 81%|████████▏ | 257/316 [00:10<00:02, 23.31it/s]\u001b[A\n",
      " 82%|████████▏ | 260/316 [00:10<00:02, 20.49it/s]\u001b[A\n",
      " 83%|████████▎ | 263/316 [00:10<00:02, 22.34it/s]\u001b[A\n",
      " 84%|████████▍ | 266/316 [00:11<00:02, 22.64it/s]\u001b[A\n",
      " 85%|████████▌ | 269/316 [00:11<00:02, 22.26it/s]\u001b[A\n",
      " 86%|████████▌ | 272/316 [00:11<00:01, 23.27it/s]\u001b[A\n",
      " 87%|████████▋ | 275/316 [00:11<00:01, 21.97it/s]\u001b[A\n",
      " 88%|████████▊ | 278/316 [00:11<00:01, 22.27it/s]\u001b[A\n",
      " 89%|████████▉ | 281/316 [00:11<00:01, 20.49it/s]\u001b[A\n",
      " 90%|████████▉ | 284/316 [00:11<00:01, 21.96it/s]\u001b[A\n",
      " 91%|█████████ | 287/316 [00:12<00:01, 21.92it/s]\u001b[A\n",
      " 92%|█████████▏| 290/316 [00:12<00:01, 21.18it/s]\u001b[A\n",
      " 93%|█████████▎| 293/316 [00:12<00:01, 20.71it/s]\u001b[A\n",
      " 94%|█████████▎| 296/316 [00:12<00:00, 20.28it/s]\u001b[A\n",
      " 95%|█████████▍| 299/316 [00:12<00:00, 19.08it/s]\u001b[A\n",
      " 95%|█████████▌| 301/316 [00:12<00:00, 17.76it/s]\u001b[A\n",
      " 96%|█████████▌| 303/316 [00:12<00:00, 17.84it/s]\u001b[A\n",
      " 97%|█████████▋| 305/316 [00:13<00:00, 17.09it/s]\u001b[A\n",
      " 97%|█████████▋| 308/316 [00:13<00:00, 17.94it/s]\u001b[A\n",
      " 98%|█████████▊| 310/316 [00:13<00:00, 18.40it/s]\u001b[A\n",
      " 99%|█████████▊| 312/316 [00:13<00:00, 17.50it/s]\u001b[A\n",
      " 99%|█████████▉| 314/316 [00:13<00:00, 17.70it/s]\u001b[A\n",
      "100%|██████████| 316/316 [00:13<00:00, 17.52it/s]\u001b[A"
     ]
    }
   ],
   "source": [
    "preds = []\n",
    "\n",
    "for i in tqdm(range(len(data_frame))):\n",
    "    index = i\n",
    "    premise = data_frame.premise[index]\n",
    "    hypothesis = data_frame.hypothesis[index]\n",
    "    score = data_frame.score[index]\n",
    "    premise_definition = text_to_4lang.get_definition(premise) #legyen-e expand\n",
    "    hypothesis_definition = text_to_4lang.get_definition(hypothesis)\n",
    "    if premise_definition is None:\n",
    "        premise_definition = premise\n",
    "    if hypothesis_definition is None:\n",
    "        hypothesis_definition = hypothesis\n",
    "        \n",
    "    pred = similarity.asim_jac_words(premise_definition, hypothesis_definition)\n",
    "    if pred > 0:\n",
    "        preds.append(1)\n",
    "    else:\n",
    "        preds.append(0)"
   ]
  },
  {
   "cell_type": "markdown",
   "metadata": {},
   "source": [
    "### Simple monolingual dictionary based baseline using 4lang expand"
   ]
  },
  {
   "cell_type": "code",
   "execution_count": 3,
   "metadata": {},
   "outputs": [],
   "source": [
    "text_to_4lang = TextTo4lang(lang=\"en\")"
   ]
  },
  {
   "cell_type": "code",
   "execution_count": 6,
   "metadata": {},
   "outputs": [
    {
     "name": "stderr",
     "output_type": "stream",
     "text": [
      "100%|██████████| 316/316 [06:55<00:00,  1.34s/it]\n"
     ]
    }
   ],
   "source": [
    "preds = []\n",
    "\n",
    "for i in tqdm(range(len(data_frame))):\n",
    "    index = i\n",
    "    premise = data_frame.premise[index]\n",
    "    hypothesis = data_frame.hypothesis[index]\n",
    "    score = data_frame.score[index]\n",
    "    graph_premise = text_to_4lang.process_text(premise, True) #legyen-e expand\n",
    "    graph_hypothesis = text_to_4lang.process_text(hypothesis, True)\n",
    "    dot_graph_premise = graph_premise.to_dot()\n",
    "    dot_graph_hypothesis = graph_hypothesis.to_dot()\n",
    "    pred = similarity.asim_jac_nodes(graph_premise, graph_hypothesis)\n",
    "    if pred > 0:\n",
    "        preds.append(1)\n",
    "    else:\n",
    "        preds.append(0)"
   ]
  },
  {
   "cell_type": "code",
   "execution_count": 7,
   "metadata": {},
   "outputs": [],
   "source": [
    "with open(\"result_binary\", \"w+\") as f:\n",
    "    for i,pred in enumerate(preds):\n",
    "        premise = data_frame.premise[i]\n",
    "        hypothesis = data_frame.hypothesis[i]\n",
    "        f.write(premise + \" \" + hypothesis + \" \" + str(pred) + \"\\n\")"
   ]
  },
  {
   "cell_type": "code",
   "execution_count": 37,
   "metadata": {},
   "outputs": [],
   "source": [
    "g = text_to_4lang.process_text(\"enemy\", expand=True)"
   ]
  },
  {
   "cell_type": "code",
   "execution_count": 38,
   "metadata": {},
   "outputs": [
    {
     "data": {
      "text/plain": [
       "['enemy', 'relate', 'of']"
      ]
     },
     "execution_count": 38,
     "metadata": {},
     "output_type": "execute_result"
    }
   ],
   "source": [
    "g.get_nodes()"
   ]
  },
  {
   "cell_type": "code",
   "execution_count": 8,
   "metadata": {},
   "outputs": [
    {
     "data": {
      "text/plain": [
       "'A mammal, Canis lupus familiaris, that has been domesticated for thousands of years, of highly variable appearance due to human breeding.'"
      ]
     },
     "execution_count": 8,
     "metadata": {},
     "output_type": "execute_result"
    }
   ],
   "source": [
    "text_to_4lang.get_definition(\"dog\")"
   ]
  },
  {
   "cell_type": "code",
   "execution_count": null,
   "metadata": {},
   "outputs": [],
   "source": []
  }
 ],
 "metadata": {
  "file_extension": ".py",
  "kernelspec": {
   "display_name": "Python 3.7.3 64-bit ('miniconda3': virtualenv)",
   "language": "python",
   "name": "python37364bitminiconda3virtualenvab74015d335246ebb0ec25060b01a03e"
  },
  "language_info": {
   "codemirror_mode": {
    "name": "ipython",
    "version": 3
   },
   "file_extension": ".py",
   "mimetype": "text/x-python",
   "name": "python",
   "nbconvert_exporter": "python",
   "pygments_lexer": "ipython3",
   "version": "3.7.3"
  },
  "mimetype": "text/x-python",
  "name": "python",
  "npconvert_exporter": "python",
  "pygments_lexer": "ipython3",
  "version": 3
 },
 "nbformat": 4,
 "nbformat_minor": 2
}
