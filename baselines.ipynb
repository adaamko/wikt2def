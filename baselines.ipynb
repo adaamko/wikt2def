{
 "cells": [
  {
   "cell_type": "code",
   "execution_count": 1,
   "metadata": {},
   "outputs": [],
   "source": [
    "import re\n",
    "import networkx as nx\n",
    "from networkx.readwrite import json_graph\n",
    "from fourlang.text_to_4lang import TextTo4lang\n",
    "from graphviz import Source\n",
    "from scripts.parse_data import read\n",
    "from scripts.similarity import Similarity\n",
    "from tqdm import tqdm"
   ]
  },
  {
   "cell_type": "code",
   "execution_count": 2,
   "metadata": {},
   "outputs": [],
   "source": [
    "data_frame = read(\"en\", graded=False)\n",
    "similarity = Similarity()"
   ]
  },
  {
   "cell_type": "markdown",
   "metadata": {},
   "source": [
    "### Simple monolingual dictionary based baseline based on bag-of-words"
   ]
  },
  {
   "cell_type": "code",
   "execution_count": null,
   "metadata": {},
   "outputs": [],
   "source": [
    "preds = []\n",
    "\n",
    "for i in tqdm(range(len(data_frame))):\n",
    "    index = i\n",
    "    premise = data_frame.premise[index]\n",
    "    hypothesis = data_frame.hypothesis[index]\n",
    "    score = data_frame.score[index]\n",
    "    premise_definition = text_to_4lang.get_definition(premise) #legyen-e expand\n",
    "    hypothesis_definition = text_to_4lang.get_definition(hypothesis)\n",
    "    \n",
    "    if pred > 0:\n",
    "        preds.append(1)\n",
    "    else:\n",
    "        preds.append(0)"
   ]
  },
  {
   "cell_type": "markdown",
   "metadata": {},
   "source": [
    "### Simple monolingual dictionary based baseline using 4lang expand"
   ]
  },
  {
   "cell_type": "code",
   "execution_count": 4,
   "metadata": {},
   "outputs": [],
   "source": [
    "text_to_4lang = TextTo4lang(lang=\"en\")"
   ]
  },
  {
   "cell_type": "code",
   "execution_count": 15,
   "metadata": {},
   "outputs": [
    {
     "name": "stderr",
     "output_type": "stream",
     "text": [
      "100%|██████████| 316/316 [04:55<00:00,  1.28it/s]\n"
     ]
    }
   ],
   "source": [
    "preds = []\n",
    "\n",
    "for i in tqdm(range(len(data_frame))):\n",
    "    index = i\n",
    "    premise = data_frame.premise[index]\n",
    "    hypothesis = data_frame.hypothesis[index]\n",
    "    score = data_frame.score[index]\n",
    "    graph_premise = text_to_4lang.process_text(premise, True) #legyen-e expand\n",
    "    graph_hypothesis = text_to_4lang.process_text(hypothesis, True)\n",
    "    dot_graph_premise = graph_premise.to_dot()\n",
    "    dot_graph_hypothesis = graph_hypothesis.to_dot()\n",
    "    pred = similarity.asim_jac_edges(graph_hypothesis, graph_premise)\n",
    "    if pred > 0:\n",
    "        preds.append(1)\n",
    "    else:\n",
    "        preds.append(0)"
   ]
  },
  {
   "cell_type": "code",
   "execution_count": 18,
   "metadata": {},
   "outputs": [],
   "source": [
    "with open(\"result_binary\", \"w+\") as f:\n",
    "    for i,pred in enumerate(preds):\n",
    "        premise = data_frame.premise[i]\n",
    "        hypothesis = data_frame.hypothesis[i]\n",
    "        f.write(premise + \" \" + hypothesis + \" \" + str(pred) + \"\\n\")"
   ]
  },
  {
   "cell_type": "code",
   "execution_count": 37,
   "metadata": {},
   "outputs": [],
   "source": [
    "g = text_to_4lang.process_text(\"enemy\", expand=True)"
   ]
  },
  {
   "cell_type": "code",
   "execution_count": 38,
   "metadata": {},
   "outputs": [
    {
     "data": {
      "text/plain": [
       "['enemy', 'relate', 'of']"
      ]
     },
     "execution_count": 38,
     "metadata": {},
     "output_type": "execute_result"
    }
   ],
   "source": [
    "g.get_nodes()"
   ]
  },
  {
   "cell_type": "code",
   "execution_count": 5,
   "metadata": {},
   "outputs": [
    {
     "data": {
      "text/plain": [
       "'(from \"dog and bone\") phone,Phone or mobile phone.'"
      ]
     },
     "execution_count": 5,
     "metadata": {},
     "output_type": "execute_result"
    }
   ],
   "source": [
    "text_to_4lang.get_definition(\"dog\")"
   ]
  },
  {
   "cell_type": "code",
   "execution_count": null,
   "metadata": {},
   "outputs": [],
   "source": []
  }
 ],
 "metadata": {
  "file_extension": ".py",
  "kernelspec": {
   "display_name": "Python 3.7.3 64-bit ('miniconda3': virtualenv)",
   "language": "python",
   "name": "python37364bitminiconda3virtualenvab74015d335246ebb0ec25060b01a03e"
  },
  "language_info": {
   "codemirror_mode": {
    "name": "ipython",
    "version": 3
   },
   "file_extension": ".py",
   "mimetype": "text/x-python",
   "name": "python",
   "nbconvert_exporter": "python",
   "pygments_lexer": "ipython3",
   "version": "3.7.3"
  },
  "mimetype": "text/x-python",
  "name": "python",
  "npconvert_exporter": "python",
  "pygments_lexer": "ipython3",
  "version": 3
 },
 "nbformat": 4,
 "nbformat_minor": 2
}
