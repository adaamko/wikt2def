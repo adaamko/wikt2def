{
 "cells": [
  {
   "cell_type": "code",
   "execution_count": 1,
   "metadata": {},
   "outputs": [],
   "source": [
    "import re\n",
    "import networkx as nx\n",
    "from networkx.readwrite import json_graph\n",
    "from fourlang.text_to_4lang import TextTo4lang\n",
    "from graphviz import Source\n",
    "from scripts.parse_data import read\n",
    "from scripts.similarity import Similarity\n",
    "from tqdm import tqdm"
   ]
  },
  {
   "cell_type": "code",
   "execution_count": 2,
   "metadata": {},
   "outputs": [],
   "source": [
    "data_frame = read(\"en\", \"de\", graded=False)\n",
    "similarity = Similarity()"
   ]
  },
  {
   "cell_type": "markdown",
   "metadata": {},
   "source": [
    "# CROSS LINGUAL"
   ]
  },
  {
   "cell_type": "code",
   "execution_count": 3,
   "metadata": {},
   "outputs": [],
   "source": [
    "similarity.init_cross_lingual_embeddings(\"de\", \"it\")\n",
    "text_to_4lang_de = TextTo4lang(lang=\"de\")\n",
    "text_to_4lang_it = TextTo4lang(lang=\"it\", port=5006)"
   ]
  },
  {
   "cell_type": "markdown",
   "metadata": {},
   "source": [
    "#### Simple cross lingual baseline using muse embeddings"
   ]
  },
  {
   "cell_type": "code",
   "execution_count": 9,
   "metadata": {},
   "outputs": [
    {
     "name": "stderr",
     "output_type": "stream",
     "text": [
      "100%|██████████| 446/446 [00:18<00:00, 24.49it/s]\n"
     ]
    }
   ],
   "source": [
    "preds = []\n",
    "\n",
    "for i in tqdm(range(len(data_frame))):\n",
    "    index = i\n",
    "    premise = data_frame.premise[index]\n",
    "    hypothesis = data_frame.hypothesis[index]\n",
    "    score = data_frame.score[index]\n",
    "    premise_src = True\n",
    "    if premise.startswith(\"de\"):\n",
    "        prem_word = premise.split(\"de_\")[1]\n",
    "        premise_definition = text_to_4lang_de.get_definition(prem_word)\n",
    "        hyp_word = hypothesis.split(\"it_\")[1]\n",
    "        hypothesis_definition = text_to_4lang_it.get_definition(hyp_word)\n",
    "    else:\n",
    "        prem_word = premise.split(\"it_\")[1]\n",
    "        premise_definition = text_to_4lang_it.get_definition(prem_word)\n",
    "        hyp_word = hypothesis.split(\"de_\")[1]\n",
    "        hypothesis_definition = text_to_4lang_de.get_definition(hyp_word)\n",
    "        premise_src = False\n",
    "        \n",
    "    if premise_definition is None:\n",
    "        premise_definition = prem_word\n",
    "    if hypothesis_definition is None:\n",
    "        hypothesis_definition = hyp_word\n",
    "        \n",
    "    pred = similarity.compute_min_distance_scores(premise_definition, hypothesis_definition, premise_src)\n",
    "    if pred > 0.2:\n",
    "        preds.append(1)\n",
    "    else:\n",
    "        preds.append(0)"
   ]
  },
  {
   "cell_type": "markdown",
   "metadata": {},
   "source": [
    "#### Simple 4lang based cross lingual using muse"
   ]
  },
  {
   "cell_type": "code",
   "execution_count": 11,
   "metadata": {},
   "outputs": [
    {
     "name": "stderr",
     "output_type": "stream",
     "text": [
      "  1%|          | 3/446 [00:03<07:01,  1.05it/s]WARNING:root:skipping dependency not in dep_to_4lang map: det:poss\n",
      "WARNING:root:skipping dependency not in dep_to_4lang map: expl:impers\n",
      "  1%|          | 4/446 [00:04<08:30,  1.16s/it]WARNING:root:skipping dependency not in dep_to_4lang map: obl:agent\n",
      "  2%|▏         | 7/446 [00:07<07:35,  1.04s/it]WARNING:root:skipping dependency not in dep_to_4lang map: det:poss\n",
      "  4%|▍         | 20/446 [00:21<06:49,  1.04it/s]WARNING:root:skipping dependency not in dep_to_4lang map: expl:pass\n",
      " 14%|█▍        | 62/446 [01:05<06:53,  1.08s/it]WARNING:root:skipping dependency not in dep_to_4lang map: flat:name\n",
      " 18%|█▊        | 82/446 [01:28<06:37,  1.09s/it]WARNING:root:skipping dependency not in dep_to_4lang map: flat:foreign\n",
      "100%|██████████| 446/446 [07:39<00:00,  1.21s/it]\n"
     ]
    }
   ],
   "source": [
    "preds = []\n",
    "\n",
    "for i in tqdm(range(len(data_frame))):\n",
    "    index = i\n",
    "    premise = data_frame.premise[index]\n",
    "    hypothesis = data_frame.hypothesis[index]\n",
    "    score = data_frame.score[index]\n",
    "    \n",
    "    premise_src = True\n",
    "    if premise.startswith(\"de\"):\n",
    "        prem_word = premise.split(\"de_\")[1]\n",
    "        graph_premise = text_to_4lang_de.process_text(prem_word, True)\n",
    "        hyp_word = hypothesis.split(\"it_\")[1]\n",
    "        graph_hypothesis = text_to_4lang_it.process_text(hyp_word, True)\n",
    "    else:\n",
    "        prem_word = premise.split(\"it_\")[1]\n",
    "        graph_premise = text_to_4lang_it.process_text(prem_word, True)\n",
    "        hyp_word = hypothesis.split(\"de_\")[1]\n",
    "        graph_hypothesis = text_to_4lang_de.process_text(hyp_word, True)\n",
    "        premise_src = False\n",
    "        \n",
    "    dot_graph_premise = graph_premise.to_dot()\n",
    "    dot_graph_hypothesis = graph_hypothesis.to_dot()\n",
    "    pred = similarity.muse_min_distance_4lang(graph_premise, graph_hypothesis, premise_src)\n",
    "    if pred > 0.2:\n",
    "        preds.append(1)\n",
    "    else:\n",
    "        preds.append(0)"
   ]
  },
  {
   "cell_type": "markdown",
   "metadata": {},
   "source": [
    "## DICTIONARY BASED "
   ]
  },
  {
   "cell_type": "code",
   "execution_count": 3,
   "metadata": {},
   "outputs": [],
   "source": [
    "similarity.init_dictionaries(\"en\", \"de\")\n",
    "text_to_4lang_en = TextTo4lang(lang=\"en\")\n",
    "text_to_4lang_de = TextTo4lang(lang=\"de\", port=5006)"
   ]
  },
  {
   "cell_type": "code",
   "execution_count": 4,
   "metadata": {},
   "outputs": [
    {
     "name": "stderr",
     "output_type": "stream",
     "text": [
      "100%|██████████| 418/418 [00:17<00:00, 23.39it/s]\n"
     ]
    }
   ],
   "source": [
    "preds = []\n",
    "\n",
    "for i in tqdm(range(len(data_frame))):\n",
    "    index = i\n",
    "    premise = data_frame.premise[index]\n",
    "    hypothesis = data_frame.hypothesis[index]\n",
    "    score = data_frame.score[index]\n",
    "    premise_src = True\n",
    "    if premise.startswith(\"en\"):\n",
    "        prem_word = premise.split(\"en_\")[1]\n",
    "        premise_definition = text_to_4lang_en.get_definition(prem_word)\n",
    "        hyp_word = hypothesis.split(\"de_\")[1]\n",
    "        hypothesis_definition = text_to_4lang_de.get_definition(hyp_word)\n",
    "    else:\n",
    "        prem_word = premise.split(\"de_\")[1]\n",
    "        premise_definition = text_to_4lang_de.get_definition(prem_word)\n",
    "        hyp_word = hypothesis.split(\"en_\")[1]\n",
    "        hypothesis_definition = text_to_4lang_en.get_definition(hyp_word)\n",
    "        premise_src = False\n",
    "        \n",
    "    if premise_definition is None:\n",
    "        premise_definition = prem_word\n",
    "    if hypothesis_definition is None:\n",
    "        hypothesis_definition = hyp_word\n",
    "        \n",
    "    pred = similarity.cross_lingual_dictionary_bag(premise_definition, hypothesis_definition, premise_src)\n",
    "    if pred > 0.0:\n",
    "        preds.append(1)\n",
    "    else:\n",
    "        preds.append(0)"
   ]
  },
  {
   "cell_type": "markdown",
   "metadata": {},
   "source": [
    "# MONOLINGUAL"
   ]
  },
  {
   "cell_type": "markdown",
   "metadata": {},
   "source": [
    "### Simple monolingual dictionary based baseline based on bag-of-words"
   ]
  },
  {
   "cell_type": "code",
   "execution_count": 5,
   "metadata": {},
   "outputs": [
    {
     "name": "stderr",
     "output_type": "stream",
     "text": [
      "100%|██████████| 316/316 [00:13<00:00, 23.04it/s]\n"
     ]
    }
   ],
   "source": [
    "preds = []\n",
    "\n",
    "for i in tqdm(range(len(data_frame))):\n",
    "    index = i\n",
    "    premise = data_frame.premise[index]\n",
    "    hypothesis = data_frame.hypothesis[index]\n",
    "    score = data_frame.score[index]\n",
    "    premise_definition = text_to_4lang.get_definition(premise) #legyen-e expand\n",
    "    hypothesis_definition = text_to_4lang.get_definition(hypothesis)\n",
    "    if premise_definition is None:\n",
    "        premise_definition = premise\n",
    "    if hypothesis_definition is None:\n",
    "        hypothesis_definition = hypothesis\n",
    "        \n",
    "    pred = similarity.asim_jac_words(premise_definition, hypothesis_definition)\n",
    "    if pred > 0:\n",
    "        preds.append(1)\n",
    "    else:\n",
    "        preds.append(0)"
   ]
  },
  {
   "cell_type": "markdown",
   "metadata": {},
   "source": [
    "### Simple monolingual dictionary based baseline using 4lang expand"
   ]
  },
  {
   "cell_type": "code",
   "execution_count": 6,
   "metadata": {},
   "outputs": [
    {
     "name": "stderr",
     "output_type": "stream",
     "text": [
      "100%|██████████| 316/316 [06:55<00:00,  1.34s/it]\n"
     ]
    }
   ],
   "source": [
    "preds = []\n",
    "\n",
    "for i in tqdm(range(len(data_frame))):\n",
    "    index = i\n",
    "    premise = data_frame.premise[index]\n",
    "    hypothesis = data_frame.hypothesis[index]\n",
    "    score = data_frame.score[index]\n",
    "    graph_premise = text_to_4lang.process_text(premise, True) #legyen-e expand\n",
    "    graph_hypothesis = text_to_4lang.process_text(hypothesis, True)\n",
    "    dot_graph_premise = graph_premise.to_dot()\n",
    "    dot_graph_hypothesis = graph_hypothesis.to_dot()\n",
    "    pred = similarity.asim_jac_nodes(graph_premise, graph_hypothesis)\n",
    "    if pred > 0:\n",
    "        preds.append(1)\n",
    "    else:\n",
    "        preds.append(0)"
   ]
  },
  {
   "cell_type": "code",
   "execution_count": 5,
   "metadata": {},
   "outputs": [],
   "source": [
    "with open(\"cross_result_binary_bag\", \"w+\") as f:\n",
    "    for i,pred in enumerate(preds):\n",
    "        premise = data_frame.premise[i]\n",
    "        hypothesis = data_frame.hypothesis[i]\n",
    "        f.write(premise + \" \" + hypothesis + \" \" + str(pred) + \"\\n\")"
   ]
  },
  {
   "cell_type": "code",
   "execution_count": 27,
   "metadata": {},
   "outputs": [],
   "source": [
    "g = text_to_4lang.process_text(\"husband\", expand=True)"
   ]
  },
  {
   "cell_type": "code",
   "execution_count": 28,
   "metadata": {},
   "outputs": [
    {
     "data": {
      "text/plain": [
       "['husband', 'master', 'house', 'householder', 'head', 'family']"
      ]
     },
     "execution_count": 28,
     "metadata": {},
     "output_type": "execute_result"
    }
   ],
   "source": [
    "g.get_nodes()"
   ]
  },
  {
   "cell_type": "code",
   "execution_count": 22,
   "metadata": {},
   "outputs": [
    {
     "data": {
      "text/plain": [
       "['illness', 'instance', 'disease', 'health', 'poor']"
      ]
     },
     "execution_count": 22,
     "metadata": {},
     "output_type": "execute_result"
    }
   ],
   "source": [
    "g = text_to_4lang.process_text(\"illness\", expand=True)\n",
    "g.get_nodes()"
   ]
  },
  {
   "cell_type": "code",
   "execution_count": 5,
   "metadata": {},
   "outputs": [
    {
     "name": "stdout",
     "output_type": "stream",
     "text": [
      "{'person', '.', 'thing', 'number', 'relation'}\n",
      "{'.', 'walk', 'proceed', ';'}\n"
     ]
    },
    {
     "data": {
      "text/plain": [
       "0.2"
      ]
     },
     "execution_count": 5,
     "metadata": {},
     "output_type": "execute_result"
    }
   ],
   "source": [
    "similarity.asim_jac_words(text_to_4lang.get_definition(\"gang\"), text_to_4lang.get_definition(\"group\"))"
   ]
  }
 ],
 "metadata": {
  "file_extension": ".py",
  "kernelspec": {
   "display_name": "Python 3.7.3 64-bit ('miniconda3': virtualenv)",
   "language": "python",
   "name": "python37364bitminiconda3virtualenvab74015d335246ebb0ec25060b01a03e"
  },
  "language_info": {
   "codemirror_mode": {
    "name": "ipython",
    "version": 3
   },
   "file_extension": ".py",
   "mimetype": "text/x-python",
   "name": "python",
   "nbconvert_exporter": "python",
   "pygments_lexer": "ipython3",
   "version": "3.7.3"
  },
  "mimetype": "text/x-python",
  "name": "python",
  "npconvert_exporter": "python",
  "pygments_lexer": "ipython3",
  "version": 3
 },
 "nbformat": 4,
 "nbformat_minor": 2
}
