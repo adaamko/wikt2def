{
 "cells": [
  {
   "cell_type": "markdown",
   "metadata": {},
   "source": [
    "Zunächst müssen einige Module importiert werden, die wir nutzen wollen"
   ]
  },
  {
   "cell_type": "code",
   "execution_count": null,
   "metadata": {},
   "outputs": [],
   "source": [
    "from xml.etree import ElementTree as ET\n",
    "import random\n",
    "from random import *\n"
   ]
  },
  {
   "cell_type": "markdown",
   "metadata": {},
   "source": [
    "Jetzt machen wir die OdeNet-XML-Datei auf, parsen das XML und öffnen eine Datei, in die die Ausgabe geschrieben wird."
   ]
  },
  {
   "cell_type": "code",
   "execution_count": null,
   "metadata": {},
   "outputs": [],
   "source": [
    "de_wn = open(r\"deWordNet.xml\",\"r\",encoding=\"utf-8\")\n",
    "\n",
    "out_lex = open(\"out_lex.txt\",\"w\",encoding=\"utf-8\")\n",
    "\n",
    "tree = ET.parse(de_wn)\n",
    "\n",
    "root = tree.getroot()\n",
    "\n",
    "lexicon = root.find('Lexicon')\n"
   ]
  },
  {
   "cell_type": "markdown",
   "metadata": {},
   "source": [
    "Mit check_word_lemma greift man auf Lexikon-Einträge zu, bekommt die Lexikon-ID für ein Wort, den Lemma-Wert, POS und die IDs der Synsets, in denen das Wort enthalten ist."
   ]
  },
  {
   "cell_type": "code",
   "execution_count": null,
   "metadata": {},
   "outputs": [],
   "source": [
    "def check_word_lemma(word_to_check):    \n",
    "    for lexentry in lexicon.iter('LexicalEntry'):\n",
    "        lemma = lexentry.find('Lemma')\n",
    "        lemma_value = lemma.attrib['writtenForm']\n",
    "        lemma_id = lexentry.attrib['id']\n",
    "        if lemma_value == word_to_check:\n",
    "            pos = lemma.attrib['partOfSpeech']\n",
    "            senses = []\n",
    "            for sense in lexentry.iter('Sense'):\n",
    "                sense_id = sense.attrib['id']\n",
    "                synset_id = sense.attrib['synset']\n",
    "#                senserelation_type = lexentry.find('SenseRelation').attrib['relType']\n",
    "#                senserelation_target = lexentry.find('SenseRelation').attrib['target']\n",
    "                senses.append([sense_id,synset_id])\n",
    "#            print(\"LEMMA: \" + lemma_value + \"\\nPOS: \" + pos + \"\\nSENSE ID: \" + sense_id)\n",
    "            return(lemma_id, lemma_value, pos, senses)"
   ]
  },
  {
   "cell_type": "code",
   "execution_count": null,
   "metadata": {},
   "outputs": [],
   "source": [
    "check_word_lemma(\"Weihnachten\")"
   ]
  },
  {
   "cell_type": "markdown",
   "metadata": {},
   "source": [
    "Hier bekommt man die Lexikon-IDs für eine Liste von Wörtern."
   ]
  },
  {
   "cell_type": "code",
   "execution_count": null,
   "metadata": {},
   "outputs": [],
   "source": [
    "def words2ids(wordlist):\n",
    "    word_id_list = []\n",
    "    for word in wordlist:\n",
    "        try:\n",
    "            lemma_id, lemma, pos, senses = check_word_lemma(word)\n",
    "            word_id_list.append(lemma_id)\n",
    "        except:\n",
    "            print(word + \" NOT IN ODENET\")\n",
    "    return(word_id_list)"
   ]
  },
  {
   "cell_type": "code",
   "execution_count": null,
   "metadata": {},
   "outputs": [],
   "source": [
    "words2ids(['Frühling','Sommer','Herbst','Winter'])"
   ]
  },
  {
   "cell_type": "markdown",
   "metadata": {},
   "source": [
    "Mit check_word_id bekommt man für eine Lexikon-ID Lemma, POS, Synsets und Relationen"
   ]
  },
  {
   "cell_type": "code",
   "execution_count": null,
   "metadata": {},
   "outputs": [],
   "source": [
    "def check_word_id(id):    \n",
    "    for lexentry in lexicon.iter('LexicalEntry'):\n",
    "        if lexentry.attrib['id'] == id:\n",
    "            lemma = lexentry.find('Lemma')\n",
    "            lemma_value = lemma.attrib['writtenForm']\n",
    "            pos = lemma.attrib['partOfSpeech']\n",
    "            senses = []\n",
    "            for sense in lexentry.iter('Sense'):\n",
    "                sense_id = sense.attrib['id']\n",
    "                synset_id = sense.attrib['synset']\n",
    "#                senserelation_type = lexentry.find('SenseRelation').attrib['relType']\n",
    "#                senserelation_target = lexentry.find('SenseRelation').attrib['target']\n",
    "                senses.append(synset_id)\n",
    "                relations = []\n",
    "                if sense.find('SenseRelation') != None:\n",
    "                    for relation in sense.iter('SenseRelation'):\n",
    "                        reltype = relation.attrib['relType']\n",
    "                        reltarget = relation.attrib['target']\n",
    "                        relations.append((reltype,reltarget))\n",
    "    return(lemma_value, pos, senses,relations)"
   ]
  },
  {
   "cell_type": "code",
   "execution_count": null,
   "metadata": {},
   "outputs": [],
   "source": [
    "check_word_id('w14145')"
   ]
  },
  {
   "cell_type": "markdown",
   "metadata": {},
   "source": [
    "Mit words_in_synset bekommt man die Wörter, die in einem Synset sind."
   ]
  },
  {
   "cell_type": "code",
   "execution_count": null,
   "metadata": {},
   "outputs": [],
   "source": [
    "def words_in_synset(id):\n",
    "    words = []\n",
    "    for lexentry in lexicon.iter('LexicalEntry'):\n",
    "        for sense in lexentry.iter('Sense'):\n",
    "            if sense.attrib['synset'] == id:\n",
    "                lemma = lexentry.find('Lemma').attrib['writtenForm']\n",
    "                words.append(lemma)\n",
    "    return(words)"
   ]
  },
  {
   "cell_type": "code",
   "execution_count": null,
   "metadata": {},
   "outputs": [],
   "source": [
    "words_in_synset('odenet-2754-n')"
   ]
  },
  {
   "cell_type": "markdown",
   "metadata": {},
   "source": [
    "Mit check_synset bekommt man alle Informationen zu einem Synset."
   ]
  },
  {
   "cell_type": "code",
   "execution_count": null,
   "metadata": {},
   "outputs": [],
   "source": [
    "def check_synset(id):\n",
    "    words = words_in_synset(id)\n",
    "    for synset in lexicon.iter('Synset'):\n",
    "        if id == synset.attrib['id']:\n",
    "            ili = synset.attrib['ili']\n",
    "            try:\n",
    "                en_definition = synset.attrib[\"{http://purl.org/dc/elements/1.1/}description\"]\n",
    "            except KeyError:\n",
    "                en_definition = []\n",
    "            if synset.find('Definition') != None:\n",
    "                de_definition = synset.find('Definition').text.strip()\n",
    "            else:\n",
    "                de_definition = []\n",
    "            relations = []\n",
    "            for relation in synset.iter('SynsetRelation'):\n",
    "                reltype = relation.attrib['relType']\n",
    "                reltarget = relation.attrib['target']\n",
    "                relations.append((reltype,reltarget))\n",
    "            return(ili,en_definition,de_definition, relations, words)"
   ]
  },
  {
   "cell_type": "code",
   "execution_count": null,
   "metadata": {},
   "outputs": [],
   "source": [
    "check_synset(\"odenet-25555-a\")"
   ]
  },
  {
   "cell_type": "code",
   "execution_count": null,
   "metadata": {},
   "outputs": [],
   "source": [
    "def hypernyms_word(word):\n",
    "    lemma_id, lemma, pos, senses = check_word_lemma(word)\n",
    "    hyp_list = []\n",
    "    for sense in senses:\n",
    "        (ili,definition,de_definition, relations, words) = check_synset(sense[1])\n",
    "        for relation in relations:\n",
    "            if relation[0] == \"hypernym\":\n",
    "                hypernym_synset = relation[1]\n",
    "                hypernym_words = words_in_synset(relation[1])\n",
    "#            else:\n",
    "#                hypernym_synset = []\n",
    "#                hypernym_words = []               \n",
    "                hyp_list.append((sense[0],hypernym_synset,hypernym_words))\n",
    "    return(hyp_list)\n",
    "\n",
    "def hyponyms_word(word):\n",
    "    lemma_id, lemma, pos, senses = check_word_lemma(word)\n",
    "    hyp_list = []\n",
    "    for sense in senses:\n",
    "        (ili,definition,de_definition, relations, words) = check_synset(sense[1])\n",
    "        for relation in relations:\n",
    "            if relation[0] == \"hyponym\":\n",
    "                hyponym_synset = relation[1]\n",
    "                hyponym_words = words_in_synset(relation[1])\n",
    " #           else:\n",
    " #               hyponym_synset = []\n",
    " #               hyponym_words = []               \n",
    "                hyp_list.append((sense[0],hyponym_synset,hyponym_words))\n",
    "    return(hyp_list)\n",
    "\n",
    "def meronyms_word(word):\n",
    "    lemma_id, lemma, pos, senses = check_word_lemma(word)\n",
    "    mero_list = []\n",
    "    for sense in senses:\n",
    "        (ili,definition,de_definition, relations, words) = check_synset(sense[1])\n",
    "        for relation in relations:\n",
    "            if relation[0] == \"mero_part\":\n",
    "                meronym_synset = relation[1]\n",
    "                meronym_words = words_in_synset(relation[1])\n",
    "                mero_list.append((sense[0],meronym_synset,meronym_words))\n",
    "    return(mero_list)\n",
    "\n",
    "def holonyms_word(word):\n",
    "    lemma_id, lemma, pos, senses = check_word_lemma(word)\n",
    "    holo_list = []\n",
    "    for sense in senses:\n",
    "        (ili,definition,de_definition, relations, words) = check_synset(sense[1])\n",
    "        for relation in relations:\n",
    "            if relation[0] == \"holo_part\":\n",
    "                holo_synset = relation[1]\n",
    "                holo_words = words_in_synset(relation[1])\n",
    "                holo_list.append((sense[0],holo_synset,holo_words))\n",
    "    return(holo_list)\n",
    "\n",
    "def antonyms_word(word):\n",
    "    lemma_id, lemma, pos, senses = check_word_lemma(word)\n",
    "    anto_list = []\n",
    "    for sense in senses:\n",
    "        (ili,definition,de_definition, relations, words) = check_synset(sense[1])\n",
    "        for relation in relations:\n",
    "            if relation[0] == \"antonym\":\n",
    "                antonym_synset = relation[1]\n",
    "                antonym_words = words_in_synset(relation[1])\n",
    "                anto_list.append((sense[0],antonym_synset,antonym_words))\n",
    "    return(anto_list)"
   ]
  },
  {
   "cell_type": "code",
   "execution_count": null,
   "metadata": {},
   "outputs": [],
   "source": [
    "hypernyms_word(\"Barsch\")"
   ]
  },
  {
   "cell_type": "code",
   "execution_count": null,
   "metadata": {},
   "outputs": [],
   "source": [
    "meronyms_word(\"Morgenland\")"
   ]
  },
  {
   "cell_type": "code",
   "execution_count": null,
   "metadata": {
    "scrolled": true
   },
   "outputs": [],
   "source": [
    "myword = \"übertragen\"\n",
    "(lemma_id, lemma_value, pos, senses) = check_word_lemma(myword)\n",
    "print (lemma_value + \" \" + pos + \" \")\n",
    "for sense in senses:\n",
    "    print(\"SENSE: \" + str(sense[1]) + \"  \" + str(check_synset(sense[1])) + \"\\n\")\n",
    "print(\"HYPERNYMS: \" + str(hypernyms_word(myword)))\n",
    "print(\"HYPONYMS: \" + str(hyponyms_word(myword)))\n",
    "print(\"MERONYMS: \" + str(meronyms_word(myword)))\n",
    "print(\"HOLONYMS: \" + str(holonyms_word(myword)))\n",
    "print(\"ANTONYMS: \" + str(antonyms_word(myword)))\n"
   ]
  },
  {
   "cell_type": "code",
   "execution_count": null,
   "metadata": {},
   "outputs": [],
   "source": [
    "import re\n",
    "import networkx as nx\n",
    "from networkx.readwrite import json_graph\n",
    "from fourlang.text_to_4lang import TextTo4lang\n",
    "from fourlang.lexicon import Lexicon\n",
    "from graphviz import Source\n",
    "from scripts.parse_data import read\n",
    "from scripts.check_output import compare_graphs\n",
    "from tqdm import tqdm"
   ]
  },
  {
   "cell_type": "code",
   "execution_count": null,
   "metadata": {},
   "outputs": [],
   "source": [
    "data_frame = read(\"de\", graded=False)\n",
    "data_frame"
   ]
  },
  {
   "cell_type": "code",
   "execution_count": null,
   "metadata": {},
   "outputs": [],
   "source": [
    "\"\"\"\n",
    "for i in check_word_lemma(\"Papier\")[3]:\n",
    "    print(check_synset(i[1]))\n",
    "\"\"\"\n",
    "premise = \"jazz\"\n",
    "hyper_premise_names_all = []\n",
    "prems = []\n",
    "try:\n",
    "    prems = hypernyms_word(premise)\n",
    "except:\n",
    "    try:\n",
    "        prems = hypernyms_word(premise.capitalize())\n",
    "    except:\n",
    "        print(premise)\n",
    "        not_found += 1\n",
    "        prems = []\n",
    "\n",
    "if prems:\n",
    "    for prem in prems:\n",
    "        hyper_premise_names_all += prem[2]\n",
    "\n",
    "hyper_premise_lower = [i.lower() for i in hyper_premise_names_all]\n",
    "print(hyper_premise_lower)"
   ]
  },
  {
   "cell_type": "code",
   "execution_count": null,
   "metadata": {},
   "outputs": [],
   "source": [
    "preds_de = []\n",
    "not_found = 0\n",
    "for j in tqdm(range(len(data_frame))):\n",
    "    index = j\n",
    "    premise = data_frame.premise[index]\n",
    "    hypothesis = data_frame.hypothesis[index]\n",
    "    score = data_frame.score[index]\n",
    "    \n",
    "    hyper_premise_names_all = []\n",
    "    prems = []\n",
    "    try:\n",
    "        prems = hypernyms_word(premise)\n",
    "    except:\n",
    "        try:\n",
    "            prems = hypernyms_word(premise.capitalize())\n",
    "        except:\n",
    "            not_found += 1\n",
    "            prems = []\n",
    "    \n",
    "    if prems:\n",
    "        for prem in prems:\n",
    "            hyper_premise_names_all += prem[2]\n",
    "    \n",
    "    hyper_premise_lower = [i.lower() for i in hyper_premise_names_all]\n",
    "    \n",
    "    if (hypothesis in set(hyper_premise_lower)):\n",
    "        preds_de.append(1)\n",
    "    else:\n",
    "        preds_de.append(0)"
   ]
  },
  {
   "cell_type": "code",
   "execution_count": null,
   "metadata": {},
   "outputs": [],
   "source": [
    "with open(\"result_binary\", \"w+\") as f:\n",
    "    for i,pred in enumerate(preds):\n",
    "        premise = data_frame.premise[i]\n",
    "        hypothesis = data_frame.hypothesis[i]\n",
    "        f.write(premise + \" \" + hypothesis + \" \" + str(pred) + \"\\n\")"
   ]
  },
  {
   "cell_type": "code",
   "execution_count": null,
   "metadata": {},
   "outputs": [],
   "source": [
    "preds = []\n",
    "for ind in fourlang_votes:\n",
    "    preds.append(ind)"
   ]
  },
  {
   "cell_type": "code",
   "execution_count": null,
   "metadata": {},
   "outputs": [],
   "source": [
    "import os\n",
    "from collections import defaultdict\n",
    "from nltk.corpus import wordnet as wn\n",
    "\n",
    "dictionary = defaultdict(list)\n",
    "with open(\"dictionaries/de_to_en\", \"r+\") as f:\n",
    "    for line in f:\n",
    "        line = line.strip().split(\"\\t\")\n",
    "        dictionary[line[1].lower()].append(line[3].lower())"
   ]
  },
  {
   "cell_type": "code",
   "execution_count": null,
   "metadata": {},
   "outputs": [],
   "source": [
    "preds = []\n",
    "not_found = 0\n",
    "for j in tqdm(range(len(data_frame))):\n",
    "    index = j\n",
    "    premise = data_frame.premise[index]\n",
    "    hypothesis = data_frame.hypothesis[index]\n",
    "    score = data_frame.score[index]\n",
    "    \n",
    "    hyp_syn_names_all = []\n",
    "    hyper_premise_names_all = []\n",
    "    \n",
    "    premises = []\n",
    "    hypothesises = []\n",
    "    \n",
    "    if premise in dictionary:\n",
    "        premise = dictionary[premise]\n",
    "        premises += premise\n",
    "    if hypothesis in dictionary:\n",
    "        hypothesis = dictionary[hypothesis]\n",
    "        hypothesises += hypothesis\n",
    "    \n",
    "    for premise in premises:\n",
    "    \n",
    "        premise_syns = wn.synsets(premise)\n",
    "        \"\"\"\n",
    "        if len(premise_syns) > 0 and len(hyp_syns) > 0:\n",
    "            en_premise = premise_syns[0].lemmas()[0].name()\n",
    "            en_hyp = hyp_syns[0].lemmas()[0].name()\n",
    "            fourlang_score = get_4lang_score(en_premise, en_hyp)\n",
    "        else:\n",
    "            fourlang_score = 0\n",
    "        \"\"\"\n",
    "\n",
    "\n",
    "        for premise_syn in premise_syns:\n",
    "\n",
    "            hyperpremise = set([i for i in premise_syn.closure(lambda s:s.hypernyms())])\n",
    "\n",
    "            hyper_premise_lemmas = []\n",
    "            for i in hyperpremise:\n",
    "                lemmas = i.lemmas()\n",
    "                for lemm in lemmas:\n",
    "                    hyper_premise_lemmas.append(lemm)\n",
    "\n",
    "            hyper_premise_names = set([i.name() for i in hyper_premise_lemmas])\n",
    "            hyper_premise_names_all += list(hyper_premise_names)\n",
    "\n",
    "    for hypothesis in hypothesises:\n",
    "        hyp_syns = wn.synsets(hypothesis)\n",
    "        for hyp_syn in hyp_syns:\n",
    "            hyp_syn_lemmas = hyp_syn.lemmas()\n",
    "            hyp_syn_names = set([i.name() for i in hyp_syn_lemmas])\n",
    "\n",
    "            hyp_syn_names_all += list(hyp_syn_names)\n",
    "        \n",
    "    if (set(hyp_syn_names_all) & set(hyper_premise_names_all)) or preds_de[index] == 1 or fourlang_votes[index] == '1':\n",
    "        preds.append(1)\n",
    "    else:\n",
    "        preds.append(0)"
   ]
  },
  {
   "cell_type": "code",
   "execution_count": null,
   "metadata": {},
   "outputs": [],
   "source": []
  }
 ],
 "metadata": {
  "kernelspec": {
   "display_name": "Python 3",
   "language": "python",
   "name": "python3"
  },
  "language_info": {
   "codemirror_mode": {
    "name": "ipython",
    "version": 3
   },
   "file_extension": ".py",
   "mimetype": "text/x-python",
   "name": "python",
   "nbconvert_exporter": "python",
   "pygments_lexer": "ipython3",
   "version": "3.5.2"
  }
 },
 "nbformat": 4,
 "nbformat_minor": 2
}
