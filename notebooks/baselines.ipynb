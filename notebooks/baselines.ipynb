{
 "cells": [
  {
   "cell_type": "code",
   "execution_count": null,
   "metadata": {},
   "outputs": [],
   "source": [
    "import re\n",
    "import networkx as nx\n",
    "from networkx.readwrite import json_graph\n",
    "from fourlang.text_to_4lang import TextTo4lang\n",
    "from graphviz import Source\n",
    "from scripts.parse_data import read\n",
    "from scripts.similarity import Similarity\n",
    "from tqdm import tqdm"
   ]
  },
  {
   "cell_type": "code",
   "execution_count": null,
   "metadata": {},
   "outputs": [],
   "source": [
    "data_frame = read(\"en\", graded=True)\n",
    "similarity = Similarity()"
   ]
  },
  {
   "cell_type": "markdown",
   "metadata": {},
   "source": [
    "# CROSS LINGUAL"
   ]
  },
  {
   "cell_type": "code",
   "execution_count": null,
   "metadata": {},
   "outputs": [],
   "source": [
    "similarity.init_cross_lingual_embeddings(\"de\", \"it\")\n",
    "text_to_4lang_de = TextTo4lang(lang=\"de\")\n",
    "text_to_4lang_it = TextTo4lang(lang=\"it\", port=5006)"
   ]
  },
  {
   "cell_type": "markdown",
   "metadata": {},
   "source": [
    "#### Simple cross lingual baseline using muse embeddings"
   ]
  },
  {
   "cell_type": "code",
   "execution_count": null,
   "metadata": {},
   "outputs": [],
   "source": [
    "preds = []\n",
    "\n",
    "for i in tqdm(range(len(data_frame))):\n",
    "    index = i\n",
    "    premise = data_frame.premise[index]\n",
    "    hypothesis = data_frame.hypothesis[index]\n",
    "    score = data_frame.score[index]\n",
    "    premise_src = True\n",
    "    if premise.startswith(\"de\"):\n",
    "        prem_word = premise.split(\"de_\")[1]\n",
    "        premise_definition = text_to_4lang_de.get_definition(prem_word)\n",
    "        hyp_word = hypothesis.split(\"it_\")[1]\n",
    "        hypothesis_definition = text_to_4lang_it.get_definition(hyp_word)\n",
    "    else:\n",
    "        prem_word = premise.split(\"it_\")[1]\n",
    "        premise_definition = text_to_4lang_it.get_definition(prem_word)\n",
    "        hyp_word = hypothesis.split(\"de_\")[1]\n",
    "        hypothesis_definition = text_to_4lang_de.get_definition(hyp_word)\n",
    "        premise_src = False\n",
    "        \n",
    "    if premise_definition is None:\n",
    "        premise_definition = prem_word\n",
    "    if hypothesis_definition is None:\n",
    "        hypothesis_definition = hyp_word\n",
    "        \n",
    "    pred = similarity.compute_min_distance_scores(premise_definition, hypothesis_definition, premise_src)\n",
    "    if pred > 0.2:\n",
    "        preds.append(1)\n",
    "    else:\n",
    "        preds.append(0)"
   ]
  },
  {
   "cell_type": "markdown",
   "metadata": {},
   "source": [
    "#### Simple 4lang based cross lingual using muse"
   ]
  },
  {
   "cell_type": "code",
   "execution_count": null,
   "metadata": {},
   "outputs": [],
   "source": [
    "preds = []\n",
    "\n",
    "for i in tqdm(range(len(data_frame))):\n",
    "    index = i\n",
    "    premise = data_frame.premise[index]\n",
    "    hypothesis = data_frame.hypothesis[index]\n",
    "    score = data_frame.score[index]\n",
    "    \n",
    "    premise_src = True\n",
    "    if premise.startswith(\"de\"):\n",
    "        prem_word = premise.split(\"de_\")[1]\n",
    "        graph_premise = text_to_4lang_de.process_text(prem_word, True)\n",
    "        hyp_word = hypothesis.split(\"it_\")[1]\n",
    "        graph_hypothesis = text_to_4lang_it.process_text(hyp_word, True)\n",
    "    else:\n",
    "        prem_word = premise.split(\"it_\")[1]\n",
    "        graph_premise = text_to_4lang_it.process_text(prem_word, True)\n",
    "        hyp_word = hypothesis.split(\"de_\")[1]\n",
    "        graph_hypothesis = text_to_4lang_de.process_text(hyp_word, True)\n",
    "        premise_src = False\n",
    "        \n",
    "    dot_graph_premise = graph_premise.to_dot()\n",
    "    dot_graph_hypothesis = graph_hypothesis.to_dot()\n",
    "    pred = similarity.muse_min_distance_4lang(graph_premise, graph_hypothesis, premise_src)\n",
    "    if pred > 0.2:\n",
    "        preds.append(1)\n",
    "    else:\n",
    "        preds.append(0)"
   ]
  },
  {
   "cell_type": "markdown",
   "metadata": {},
   "source": [
    "## DICTIONARY BASED "
   ]
  },
  {
   "cell_type": "code",
   "execution_count": null,
   "metadata": {},
   "outputs": [],
   "source": [
    "text_to_4lang_en = TextTo4lang(lang=\"en\")\n",
    "text_to_4lang_de = TextTo4lang(lang=\"de\", port=5006)"
   ]
  },
  {
   "cell_type": "code",
   "execution_count": null,
   "metadata": {},
   "outputs": [],
   "source": [
    "preds = []\n",
    "\n",
    "for i in tqdm(range(len(data_frame))):\n",
    "    index = i\n",
    "    premise = data_frame.premise[index]\n",
    "    hypothesis = data_frame.hypothesis[index]\n",
    "    score = data_frame.score[index]\n",
    "    premise_src = True\n",
    "    if premise.startswith(\"en\"):\n",
    "        prem_word = premise.split(\"en_\")[1]\n",
    "        premise_definition = text_to_4lang_en.get_definition(prem_word)\n",
    "        hyp_word = hypothesis.split(\"de_\")[1]\n",
    "        hypothesis_definition = text_to_4lang_de.get_definition(hyp_word)\n",
    "    else:\n",
    "        prem_word = premise.split(\"de_\")[1]\n",
    "        premise_definition = text_to_4lang_de.get_definition(prem_word)\n",
    "        hyp_word = hypothesis.split(\"en_\")[1]\n",
    "        hypothesis_definition = text_to_4lang_en.get_definition(hyp_word)\n",
    "        premise_src = False\n",
    "        \n",
    "    if premise_definition is None:\n",
    "        premise_definition = prem_word\n",
    "    if hypothesis_definition is None:\n",
    "        hypothesis_definition = hyp_word\n",
    "        \n",
    "    pred = similarity.cross_lingual_dictionary_bag(premise_definition, hypothesis_definition, premise_src)\n",
    "    if pred > 0.0:\n",
    "        preds.append(1)\n",
    "    else:\n",
    "        preds.append(0)"
   ]
  },
  {
   "cell_type": "markdown",
   "metadata": {},
   "source": [
    "# MONOLINGUAL"
   ]
  },
  {
   "cell_type": "markdown",
   "metadata": {},
   "source": [
    "### Simple monolingual dictionary based baseline based on bag-of-words"
   ]
  },
  {
   "cell_type": "code",
   "execution_count": null,
   "metadata": {},
   "outputs": [],
   "source": [
    "preds = []\n",
    "\n",
    "for i in tqdm(range(len(data_frame))):\n",
    "    index = i\n",
    "    premise = data_frame.premise[index]\n",
    "    hypothesis = data_frame.hypothesis[index]\n",
    "    score = data_frame.score[index]\n",
    "    premise_definition = text_to_4lang.get_definition(premise) #legyen-e expand\n",
    "    hypothesis_definition = text_to_4lang.get_definition(hypothesis)\n",
    "    if premise_definition is None:\n",
    "        premise_definition = premise\n",
    "    if hypothesis_definition is None:\n",
    "        hypothesis_definition = hypothesis\n",
    "        \n",
    "    pred = similarity.asim_jac_words(premise_definition, hypothesis_definition)\n",
    "    if pred > 0:\n",
    "        preds.append(1)\n",
    "    else:\n",
    "        preds.append(0)"
   ]
  },
  {
   "cell_type": "markdown",
   "metadata": {},
   "source": [
    "### Simple monolingual dictionary based baseline using 4lang expand"
   ]
  },
  {
   "cell_type": "code",
   "execution_count": null,
   "metadata": {},
   "outputs": [],
   "source": [
    "def asim_jac_nodes(graph_premise, graph_hypothesis):\n",
    "    prem = set(graph_premise.get_nodes())\n",
    "    hyp = set(graph_hypothesis.get_nodes())\n",
    "    sim = hyp & prem\n",
    "    if not sim or len(hyp) == 0:\n",
    "        return 0\n",
    "    else:\n",
    "        return float(len(sim)) / len(hyp)"
   ]
  },
  {
   "cell_type": "code",
   "execution_count": null,
   "metadata": {},
   "outputs": [],
   "source": [
    "text_to_4lang_en = TextTo4lang(lang=\"en\")\n",
    "premise = text_to_4lang_en.process_text(\"shelf\", True, 2)\n",
    "hyp = text_to_4lang_en.process_text(\"closet\",True, 1)"
   ]
  },
  {
   "cell_type": "code",
   "execution_count": null,
   "metadata": {},
   "outputs": [],
   "source": [
    "dot_graph_premise = premise.to_dot()\n",
    "Source(dot_graph_premise)"
   ]
  },
  {
   "cell_type": "code",
   "execution_count": null,
   "metadata": {},
   "outputs": [],
   "source": [
    "Source(dot_graph_premise)"
   ]
  },
  {
   "cell_type": "code",
   "execution_count": null,
   "metadata": {},
   "outputs": [],
   "source": [
    "asim_jac_nodes(premise, hyp)"
   ]
  },
  {
   "cell_type": "code",
   "execution_count": null,
   "metadata": {},
   "outputs": [],
   "source": [
    "premise.filter_graph(\"part\")\n",
    "asim_jac_nodes(premise, hyp)"
   ]
  },
  {
   "cell_type": "code",
   "execution_count": null,
   "metadata": {},
   "outputs": [],
   "source": [
    "text_to_4lang_en.get_definition(\"bread\")"
   ]
  },
  {
   "cell_type": "code",
   "execution_count": null,
   "metadata": {},
   "outputs": [],
   "source": [
    "text_to_4lang_en.parser_wrapper.load_from_dict()"
   ]
  },
  {
   "cell_type": "code",
   "execution_count": null,
   "metadata": {},
   "outputs": [],
   "source": [
    "preds = []\n",
    "\n",
    "for i in tqdm(range(len(data_frame))):\n",
    "    preds.append(1)"
   ]
  },
  {
   "cell_type": "code",
   "execution_count": null,
   "metadata": {},
   "outputs": [],
   "source": [
    "preds = []\n",
    "preds_graded = []\n",
    "for i in tqdm(range(len(data_frame))):\n",
    "    index = i\n",
    "    premise = data_frame.premise[index]\n",
    "    hypothesis = data_frame.hypothesis[index]\n",
    "    score = data_frame.score[index]\n",
    "    graph_premise = text_to_4lang_en.process_text(premise, True, 3, [\"in\", \"of\", \"on\"]) #legyen-e expand\n",
    "    graph_hypothesis = text_to_4lang_en.process_text(hypothesis, True, 1, [\"in\", \"of\", \"on\"])\n",
    "    graph_premise.filter_graph(\"part\")\n",
    "    graph_premise.filter_graph(\"on\")\n",
    "    graph_premise.filter_graph(\"use\")\n",
    "    pred = asim_jac_nodes(graph_premise, graph_hypothesis)\n",
    "    preds_graded.append(pred)\n",
    "    if pred == 1.0:\n",
    "        preds.append(1.00)\n",
    "    else:\n",
    "        preds.append(0.00)"
   ]
  },
  {
   "cell_type": "code",
   "execution_count": null,
   "metadata": {},
   "outputs": [],
   "source": [
    "with open(\"result_graded_en\", \"w+\") as f:\n",
    "    for i,pred in enumerate(preds):\n",
    "        premise = data_frame.premise[i]\n",
    "        hypothesis = data_frame.hypothesis[i]\n",
    "        f.write(premise + \" \" + hypothesis + \" \" + str(pred) + \"\\n\")"
   ]
  },
  {
   "cell_type": "code",
   "execution_count": null,
   "metadata": {},
   "outputs": [],
   "source": [
    "g = text_to_4lang.process_text(\"husband\", expand=True)"
   ]
  },
  {
   "cell_type": "code",
   "execution_count": null,
   "metadata": {},
   "outputs": [],
   "source": [
    "import json\n",
    "text_to_4lang_en.parser_wrapper.save_dict()"
   ]
  },
  {
   "cell_type": "code",
   "execution_count": null,
   "metadata": {},
   "outputs": [],
   "source": [
    "g = text_to_4lang.process_text(\"illness\", expand=True)\n",
    "g.get_nodes()"
   ]
  },
  {
   "cell_type": "code",
   "execution_count": null,
   "metadata": {},
   "outputs": [],
   "source": [
    "for i in tqdm(range(len(data_frame))):\n",
    "    index = i\n",
    "    premise = data_frame.premise[index]\n",
    "    hypothesis = data_frame.hypothesis[index]\n",
    "    score = data_frame.score[index]\n",
    "    if score == 0 and preds[index] == 1:\n",
    "        print(\"premise: \" + premise + \" \" + \"hyp: \" + hypothesis)"
   ]
  },
  {
   "cell_type": "code",
   "execution_count": null,
   "metadata": {},
   "outputs": [],
   "source": [
    "import json\n",
    "with open('exp.json', 'w') as fp:\n",
    "    json.dump(text_to_4lang_en.lexicon.expanded, fp)"
   ]
  },
  {
   "cell_type": "code",
   "execution_count": null,
   "metadata": {},
   "outputs": [],
   "source": []
  }
 ],
 "metadata": {
  "file_extension": ".py",
  "kernelspec": {
   "display_name": "Python 3.7.3 64-bit ('miniconda3': virtualenv)",
   "language": "python",
   "name": "python37364bitminiconda3virtualenvab74015d335246ebb0ec25060b01a03e"
  },
  "language_info": {
   "codemirror_mode": {
    "name": "ipython",
    "version": 3
   },
   "file_extension": ".py",
   "mimetype": "text/x-python",
   "name": "python",
   "nbconvert_exporter": "python",
   "pygments_lexer": "ipython3",
   "version": "3.7.3"
  },
  "mimetype": "text/x-python",
  "name": "python",
  "npconvert_exporter": "python",
  "pygments_lexer": "ipython3",
  "version": 3
 },
 "nbformat": 4,
 "nbformat_minor": 2
}
