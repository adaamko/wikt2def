{
 "cells": [
  {
   "cell_type": "code",
   "execution_count": null,
   "metadata": {},
   "outputs": [],
   "source": [
    "import re\n",
    "import networkx as nx\n",
    "from networkx.readwrite import json_graph\n",
    "from fourlang.text_to_4lang import TextTo4lang\n",
    "from fourlang.lexicon import Lexicon\n",
    "from graphviz import Source\n",
    "from scripts.parse_data import read\n",
    "from tqdm import tqdm"
   ]
  },
  {
   "cell_type": "code",
   "execution_count": null,
   "metadata": {},
   "outputs": [],
   "source": [
    "data_frame = read(\"de\", graded=False)\n",
    "data_frame"
   ]
  },
  {
   "cell_type": "code",
   "execution_count": null,
   "metadata": {},
   "outputs": [],
   "source": [
    "text_to_4lang_en = TextTo4lang(lang=\"en\")"
   ]
  },
  {
   "cell_type": "code",
   "execution_count": null,
   "metadata": {},
   "outputs": [],
   "source": [
    "fourlang_votes = []\n",
    "with open(\"en_result.txt\", \"r+\") as f:\n",
    "    for line in f:\n",
    "        line = line.split()\n",
    "        fourlang_votes.append(line[2])"
   ]
  },
  {
   "cell_type": "code",
   "execution_count": null,
   "metadata": {},
   "outputs": [],
   "source": [
    "from nltk.corpus import wordnet as wn"
   ]
  },
  {
   "cell_type": "code",
   "execution_count": null,
   "metadata": {},
   "outputs": [],
   "source": [
    "text_to_4lang_en = TextTo4lang(lang=\"en\")\n",
    "text_to_4lang_de = TextTo4lang(lang=\"de\", port=5006)\n",
    "text_to_4lang_it = TextTo4lang(lang=\"it\", port=5007)"
   ]
  },
  {
   "cell_type": "code",
   "execution_count": null,
   "metadata": {
    "scrolled": false
   },
   "outputs": [],
   "source": [
    "graph_premise = text_to_4lang_en.process_text(data_frame.iloc[154].premise, method=\"expand\", depth=3, blacklist=[\"in\", \"of\", \"on\"]) #legyen-e expand\n",
    "graph_hypothesis = text_to_4lang_en.process_text(data_frame.iloc[154].hypothesis, method=\"expand\", depth=1, blacklist=[\"in\", \"of\", \"on\"])\n",
    "dot_graph_premise = graph_premise.to_dot()\n",
    "Source(dot_graph_premise)"
   ]
  },
  {
   "cell_type": "code",
   "execution_count": null,
   "metadata": {},
   "outputs": [],
   "source": [
    "print(asim_jac_nodes_hyp(graph_premise, data_frame.iloc[154].hypothesis))"
   ]
  },
  {
   "cell_type": "code",
   "execution_count": null,
   "metadata": {},
   "outputs": [],
   "source": [
    "from networkx import algorithms\n",
    "def asim_jac_nodes_hyp(graph_premise, hypothesis):\n",
    "    if hypothesis in graph_premise.get_nodes():\n",
    "        root_id = [node for node in graph_premise.G.nodes() if clear_node(node) == hypothesis][0]\n",
    "        graph_premise_only_zero = copy.deepcopy(graph_premise)\n",
    "\n",
    "        delete_list = []\n",
    "\n",
    "        for edge in graph_premise_only_zero.G.adj.items():\n",
    "            for output_node in edge[1].items():\n",
    "                inner_delete_list = []\n",
    "                for edge_type in output_node[1].items():\n",
    "                    if edge_type[1][\"color\"]:\n",
    "                        inner_delete_list.append(edge_type[0])\n",
    "                for inner_del in inner_delete_list:\n",
    "                    del output_node[1]._atlas[inner_del]\n",
    "                if len(output_node[1]) < 1:\n",
    "                    delete_list.append(output_node[0])\n",
    "            for to_del in delete_list:\n",
    "                if to_del in edge[1]._atlas:\n",
    "                    print(to_del)\n",
    "                    del edge[1]._atlas[to_del]\n",
    "        if algorithms.has_path(graph_premise_only_zero.G, graph_premise.root, root_id):\n",
    "            return 1.0\n",
    "        else:\n",
    "            return 0"
   ]
  },
  {
   "cell_type": "code",
   "execution_count": null,
   "metadata": {},
   "outputs": [],
   "source": [
    "def asim_jac_nodes(graph_premise, graph_hypothesis):\n",
    "    prem = set(graph_premise.get_nodes())\n",
    "    hyp = set(graph_hypothesis.get_nodes())\n",
    "    prem = set([i.lower() for i in prem])\n",
    "    hyp = set([i.lower() for i in hyp])\n",
    "    sim = hyp & prem\n",
    "    if not sim or len(hyp) == 0:\n",
    "        return 0\n",
    "    else:\n",
    "        return float(len(sim)) / len(hyp)"
   ]
  },
  {
   "cell_type": "code",
   "execution_count": null,
   "metadata": {},
   "outputs": [],
   "source": [
    "import re\n",
    "import copy\n",
    "def clear_node(node):\n",
    "    \"\"\"\n",
    "    Clears the node from the 4lang id parts\n",
    "    :param node: the text to clear\n",
    "    :return: the cleared text\n",
    "    \"\"\"\n",
    "    return re.sub(r'_[0-9][0-9]*', '', node)"
   ]
  },
  {
   "cell_type": "code",
   "execution_count": null,
   "metadata": {},
   "outputs": [],
   "source": [
    "text_to_4lang_de.parser_wrapper.load_from_dict()"
   ]
  },
  {
   "cell_type": "code",
   "execution_count": null,
   "metadata": {},
   "outputs": [],
   "source": [
    "text_to_4lang_de.get_definition(\"Dach\")"
   ]
  },
  {
   "cell_type": "code",
   "execution_count": null,
   "metadata": {},
   "outputs": [],
   "source": [
    "graph_hypothesis = text_to_4lang_de.process_text(\"dachgeschoss\", True, 2, [], True)\n",
    "dot_graph_premise = graph_hypothesis.to_dot()\n",
    "Source(dot_graph_premise)"
   ]
  },
  {
   "cell_type": "code",
   "execution_count": null,
   "metadata": {},
   "outputs": [],
   "source": [
    "graph_hypothesis = text_to_4lang_de.process_text(\"dachgeschoss\", True, 1, [], False)"
   ]
  },
  {
   "cell_type": "code",
   "execution_count": null,
   "metadata": {},
   "outputs": [],
   "source": [
    "text_to_4lang_de.parser_wrapper.parse[\"Arbeitslosigkeit\"]"
   ]
  },
  {
   "cell_type": "code",
   "execution_count": null,
   "metadata": {},
   "outputs": [],
   "source": [
    "preds = []\n",
    "preds_graded = []\n",
    "for i in tqdm(range(len(data_frame))):\n",
    "    index = i\n",
    "    premise = data_frame.premise[index]\n",
    "    hypothesis = data_frame.hypothesis[index]\n",
    "    score = data_frame.score[index]\n",
    "    graph_premise = text_to_4lang_en.process_text(premise, method=\"expand\", depth=3, blacklist=[\"in\", \"of\", \"on\"]) #legyen-e expand\n",
    "    graph_hypothesis = text_to_4lang_en.process_text(hypothesis, method=\"expand\", depth=1, blacklist=[\"in\", \"of\", \"on\"])\n",
    "    graph_premise.filter_graph(\"part\")\n",
    "    #graph_premise.filter_graph(\"on\")\n",
    "    #graph_premise.filter_graph(\"use\")\n",
    "    #pred = asim_jac_nodes_hyp(graph_premise, hypothesis)\n",
    "    pred = asim_jac_nodes(graph_premise, graph_hypothesis)\n",
    "    if pred == 1.0:\n",
    "        preds.append(1)\n",
    "    else:\n",
    "        preds.append(0)"
   ]
  },
  {
   "cell_type": "code",
   "execution_count": null,
   "metadata": {},
   "outputs": [],
   "source": [
    "for i, pred in enumerate(preds_0):\n",
    "    if preds[i] != pred:\n",
    "        print(str(i) + \" \" + str(pred) + \" \" + str(preds[i]))"
   ]
  },
  {
   "cell_type": "code",
   "execution_count": null,
   "metadata": {},
   "outputs": [],
   "source": [
    "preds = []\n",
    "preds_graded = []\n",
    "for i in tqdm(range(len(data_frame))):\n",
    "    index = i\n",
    "    premise = data_frame.premise[index]\n",
    "    hypothesis = data_frame.hypothesis[index]\n",
    "    score = data_frame.score[index]\n",
    "    graph_premise = text_to_4lang_de.process_text(premise, method=\"expand\", depth=3, blacklist=[\"in\", \"auf\"]) #legyen-e expand\n",
    "    graph_hypothesis = text_to_4lang_de.process_text(hypothesis, method=\"expand\", depth=1, )\n",
    "    pred = asim_jac_nodes(graph_premise, graph_hypothesis)\n",
    "    preds_graded.append(pred)\n",
    "    if pred == 1.0:\n",
    "        preds.append(1)\n",
    "        if score == 0:\n",
    "            print(premise + \"\\t\" + hypothesis)\n",
    "    else:\n",
    "        preds.append(0)"
   ]
  },
  {
   "cell_type": "code",
   "execution_count": null,
   "metadata": {},
   "outputs": [],
   "source": [
    "preds = []\n",
    "preds_graded = []\n",
    "for i in tqdm(range(len(data_frame))):\n",
    "    index = i\n",
    "    premise = data_frame.premise[index]\n",
    "    hypothesis = data_frame.hypothesis[index]\n",
    "    premise = re.sub(\"_\", \" \", premise)\n",
    "    hypothesis = re.sub(\"_\", \" \", hypothesis)\n",
    "    score = data_frame.score[index]\n",
    "    graph_premise = text_to_4lang_it.process_text(premise, method=\"expand\", depth=3, blacklist=[\"di\", \"su\", \"il\"]) #legyen-e expand\n",
    "    graph_hypothesis = text_to_4lang_it.process_text(hypothesis,method=\"expand\", depth=1)\n",
    "    pred = asim_jac_nodes(graph_premise, graph_hypothesis)\n",
    "    preds_graded.append(pred)\n",
    "    if pred == 1.0:\n",
    "        preds.append(1)\n",
    "    else:\n",
    "        preds.append(0)"
   ]
  },
  {
   "cell_type": "code",
   "execution_count": null,
   "metadata": {},
   "outputs": [],
   "source": [
    "def get_4lang_score(premise, hypothesis):\n",
    "    graph_premise = text_to_4lang_en.process_text(premise, True, 3) #legyen-e expand\n",
    "    graph_hypothesis = text_to_4lang_en.process_text(hypothesis, True, 1)\n",
    "    graph_premise.filter_graph(\"part\")\n",
    "    graph_premise.filter_graph(\"on\")\n",
    "    graph_premise.filter_graph(\"use\")\n",
    "    pred = asim_jac_nodes(graph_premise, graph_hypothesis)\n",
    "    return pred"
   ]
  },
  {
   "cell_type": "code",
   "execution_count": null,
   "metadata": {},
   "outputs": [],
   "source": [
    "preds = []\n",
    "for j in tqdm(range(len(data_frame))):\n",
    "    index = j\n",
    "    premise = data_frame.premise[index]\n",
    "    hypothesis = data_frame.hypothesis[index]\n",
    "    score = data_frame.score[index]\n",
    "    \n",
    "    hyp_syn_names_all = []\n",
    "    hyper_premise_names_all = []\n",
    "    \n",
    "    premise_syns = wn.synsets(premise, lang=\"ita\")\n",
    "    hyp_syns = wn.synsets(hypothesis, lang=\"ita\")\n",
    "    \"\"\"\n",
    "    if len(premise_syns) > 0 and len(hyp_syns) > 0:\n",
    "        en_premise = premise_syns[0].lemmas()[0].name()\n",
    "        en_hyp = hyp_syns[0].lemmas()[0].name()\n",
    "        fourlang_score = get_4lang_score(en_premise, en_hyp)\n",
    "    else:\n",
    "        fourlang_score = 0\n",
    "    \"\"\"\n",
    "    \n",
    "    \n",
    "    for premise_syn in premise_syns:\n",
    "\n",
    "        hyperpremise = set([i for i in premise_syn.closure(lambda s:s.hypernyms())])\n",
    "\n",
    "        hyper_premise_lemmas = []\n",
    "        for i in hyperpremise:\n",
    "            lemmas = i.lemmas()\n",
    "            for lemm in lemmas:\n",
    "                hyper_premise_lemmas.append(lemm)\n",
    "\n",
    "        hyper_premise_names = set([i.name() for i in hyper_premise_lemmas])\n",
    "        hyper_premise_names_all += list(hyper_premise_names)\n",
    "        \n",
    "    for hyp_syn in hyp_syns:\n",
    "        hyp_syn_lemmas = hyp_syn.lemmas()\n",
    "        hyp_syn_names = set([i.name() for i in hyp_syn_lemmas])\n",
    "        \n",
    "        hyp_syn_names_all += list(hyp_syn_names)\n",
    "    \n",
    "    if (set(hyp_syn_names_all) & set(hyper_premise_names_all)) or fourlang_votes[index] == 1:\n",
    "        preds.append(1)\n",
    "    else:\n",
    "        if score == 1:\n",
    "            print(premise + \"\\t\" + hypothesis)\n",
    "        preds.append(0)"
   ]
  },
  {
   "cell_type": "code",
   "execution_count": null,
   "metadata": {},
   "outputs": [],
   "source": [
    "with open(\"result_graded\", \"w+\") as f:\n",
    "    for i,pred in enumerate(preds):\n",
    "        premise = data_frame.premise[i]\n",
    "        hypothesis = data_frame.hypothesis[i]\n",
    "        f.write(premise + \" \" + hypothesis + \" \" + str(pred) + \"\\n\")"
   ]
  },
  {
   "cell_type": "code",
   "execution_count": null,
   "metadata": {},
   "outputs": [],
   "source": [
    "older_preds = preds"
   ]
  },
  {
   "cell_type": "code",
   "execution_count": null,
   "metadata": {},
   "outputs": [],
   "source": [
    "premise_syns = wn.synsets(\"servierer\", lang='eng')\n",
    "print(premise_syns)"
   ]
  },
  {
   "cell_type": "code",
   "execution_count": null,
   "metadata": {},
   "outputs": [],
   "source": [
    "import numpy as np\n",
    "from sklearn.metrics import precision_recall_fscore_support\n",
    "precision_recall_fscore_support(data_frame.score.tolist(), preds)"
   ]
  },
  {
   "cell_type": "code",
   "execution_count": null,
   "metadata": {},
   "outputs": [],
   "source": [
    "for i, pred in enumerate(preds):\n",
    "    if pred == 1 and data_frame.iloc[i].score == 1:\n",
    "        print(data_frame.iloc[i].premise + \"\\t\" + data_frame.iloc[i].hypothesis)"
   ]
  },
  {
   "cell_type": "code",
   "execution_count": null,
   "metadata": {},
   "outputs": [],
   "source": [
    "for i, premise in enumerate(data_frame.premise):\n",
    "    defin = text_to_4lang_en.get_definition(premise)\n",
    "    if defin and \"use\" in defin:\n",
    "        print(premise + \"\\t\" + data_frame.iloc[i].hypothesis)"
   ]
  },
  {
   "cell_type": "code",
   "execution_count": null,
   "metadata": {},
   "outputs": [],
   "source": [
    "text_to_4lang_en.get_definition(\"beef\")"
   ]
  },
  {
   "cell_type": "code",
   "execution_count": null,
   "metadata": {},
   "outputs": [],
   "source": [
    "for i, pred in enumerate(preds):\n",
    "    if preds[i] == 1:\n",
    "        if pred != data_frame.score.tolist()[i]:\n",
    "            print(pred)\n",
    "            print(i)"
   ]
  },
  {
   "cell_type": "code",
   "execution_count": null,
   "metadata": {},
   "outputs": [],
   "source": [
    "data_frame.iloc[405]"
   ]
  },
  {
   "cell_type": "code",
   "execution_count": null,
   "metadata": {},
   "outputs": [],
   "source": [
    "preds.count(1)"
   ]
  },
  {
   "cell_type": "code",
   "execution_count": null,
   "metadata": {},
   "outputs": [],
   "source": [
    "data_frame"
   ]
  },
  {
   "cell_type": "code",
   "execution_count": null,
   "metadata": {},
   "outputs": [],
   "source": [
    "fourlang_votes = preds"
   ]
  },
  {
   "cell_type": "code",
   "execution_count": null,
   "metadata": {},
   "outputs": [],
   "source": [
    "data_frame"
   ]
  },
  {
   "cell_type": "code",
   "execution_count": null,
   "metadata": {},
   "outputs": [],
   "source": []
  }
 ],
 "metadata": {
  "kernelspec": {
   "display_name": "Python 3.7.3 64-bit ('base': conda)",
   "language": "python",
   "name": "python37364bitbaseconda27c4385cd81d42338dc23456e05b5ed4"
  },
  "language_info": {
   "codemirror_mode": {
    "name": "ipython",
    "version": 3
   },
   "file_extension": ".py",
   "mimetype": "text/x-python",
   "name": "python",
   "nbconvert_exporter": "python",
   "pygments_lexer": "ipython3",
   "version": "3.7.3"
  }
 },
 "nbformat": 4,
 "nbformat_minor": 2
}
