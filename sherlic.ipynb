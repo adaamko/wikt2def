{
 "cells": [
  {
   "cell_type": "code",
   "execution_count": 1,
   "metadata": {},
   "outputs": [],
   "source": [
    "from fourlang.text_to_4lang import TextTo4lang\n",
    "from fourlang.lexicon import Lexicon\n",
    "from graphviz import Source\n",
    "from scripts.parse_data import read_sherliic, build_graph\n",
    "from scripts.similarity import Similarity\n",
    "\n",
    "from tqdm import tqdm\n",
    "preds = []\n",
    "text_to_4lang = TextTo4lang(lang=\"en\")\n",
    "data = read_sherliic(\"data/dev.csv\", ud_path=\"data/relation_index.tsv\", keep_context=True)\n",
    "data_frame = build_graph(data)\n",
    "\n",
    "lexicon = Lexicon(lang=\"en\")\n",
    "\n",
    "similarity = Similarity(with_embedding=False)"
   ]
  },
  {
   "cell_type": "code",
   "execution_count": 2,
   "metadata": {},
   "outputs": [],
   "source": [
    "data['premise_text'] = data[\"prem_argleft\"] + \" \" + data[\"premise\"] + \" \" + data[\"prem_argright\"]"
   ]
  },
  {
   "cell_type": "code",
   "execution_count": 3,
   "metadata": {},
   "outputs": [],
   "source": [
    "data['hyp_text'] = data[\"hypo_argleft\"] + \" \" + data[\"hypothesis\"] + \" \" + data[\"hypo_argright\"]"
   ]
  },
  {
   "cell_type": "code",
   "execution_count": 4,
   "metadata": {},
   "outputs": [
    {
     "data": {
      "text/html": [
       "<div>\n",
       "<style scoped>\n",
       "    .dataframe tbody tr th:only-of-type {\n",
       "        vertical-align: middle;\n",
       "    }\n",
       "\n",
       "    .dataframe tbody tr th {\n",
       "        vertical-align: top;\n",
       "    }\n",
       "\n",
       "    .dataframe thead th {\n",
       "        text-align: right;\n",
       "    }\n",
       "</style>\n",
       "<table border=\"1\" class=\"dataframe\">\n",
       "  <thead>\n",
       "    <tr style=\"text-align: right;\">\n",
       "      <th></th>\n",
       "      <th>premise</th>\n",
       "      <th>hypothesis</th>\n",
       "      <th>score</th>\n",
       "    </tr>\n",
       "  </thead>\n",
       "  <tbody>\n",
       "    <tr>\n",
       "      <th>0</th>\n",
       "      <td>[[[nsubj, ['nation', '1'], ['A', '0']], [prep,...</td>\n",
       "      <td>[[[nsubj, ['country', '1'], ['A', '0']], [prep...</td>\n",
       "      <td>1</td>\n",
       "    </tr>\n",
       "    <tr>\n",
       "      <th>1</th>\n",
       "      <td>[[[dobj, ['hate', '1'], ['B', '0']], [nsubj, [...</td>\n",
       "      <td>[[[pobj, ['with', '1'], ['B', '0']], [prep, ['...</td>\n",
       "      <td>0</td>\n",
       "    </tr>\n",
       "    <tr>\n",
       "      <th>2</th>\n",
       "      <td>[[[dobj, ['call', '1'], ['B', '0']], [nsubj, [...</td>\n",
       "      <td>[[[dobj, ['urge', '1'], ['B', '0']], [nsubj, [...</td>\n",
       "      <td>0</td>\n",
       "    </tr>\n",
       "    <tr>\n",
       "      <th>3</th>\n",
       "      <td>[[[dobj, ['displace', '1'], ['B', '0']], [nsub...</td>\n",
       "      <td>[[[nsubj, ['compete', '1'], ['A', '0']], [prep...</td>\n",
       "      <td>0</td>\n",
       "    </tr>\n",
       "    <tr>\n",
       "      <th>4</th>\n",
       "      <td>[[[nsubj, ['decide', '1'], ['A', '0']], [xcomp...</td>\n",
       "      <td>[[[nsubj, ['bomb', '1'], ['A', '0']], [dobj, [...</td>\n",
       "      <td>0</td>\n",
       "    </tr>\n",
       "    <tr>\n",
       "      <th>...</th>\n",
       "      <td>...</td>\n",
       "      <td>...</td>\n",
       "      <td>...</td>\n",
       "    </tr>\n",
       "    <tr>\n",
       "      <th>991</th>\n",
       "      <td>[[[pobj, ['by', '1'], ['B', '0']], [prep, ['in...</td>\n",
       "      <td>[[[nsubj, ['conquer', '1'], ['A', '0']], [dobj...</td>\n",
       "      <td>1</td>\n",
       "    </tr>\n",
       "    <tr>\n",
       "      <th>992</th>\n",
       "      <td>[[[nsubj, ['commit', '1'], ['A', '0']], [prep,...</td>\n",
       "      <td>[[[nsubj, ['use', '1'], ['A', '0']], [prep, ['...</td>\n",
       "      <td>0</td>\n",
       "    </tr>\n",
       "    <tr>\n",
       "      <th>993</th>\n",
       "      <td>[[[pobj, ['in', '1'], ['B', '0']], [prep, ['co...</td>\n",
       "      <td>[[[rcmod, ['B', '0'], ['have', '1']], [nsubj, ...</td>\n",
       "      <td>0</td>\n",
       "    </tr>\n",
       "    <tr>\n",
       "      <th>994</th>\n",
       "      <td>[[[dobj, ['stop', '1'], ['B', '0']], [nsubj, [...</td>\n",
       "      <td>[[[dobj, ['force', '1'], ['B', '0']], [nsubj, ...</td>\n",
       "      <td>1</td>\n",
       "    </tr>\n",
       "    <tr>\n",
       "      <th>995</th>\n",
       "      <td>[[[pobj, ['with', '1'], ['B', '0']], [prep, ['...</td>\n",
       "      <td>[[[nsubj, ['fight', '1'], ['A', '0']], [dobj, ...</td>\n",
       "      <td>0</td>\n",
       "    </tr>\n",
       "  </tbody>\n",
       "</table>\n",
       "<p>996 rows × 3 columns</p>\n",
       "</div>"
      ],
      "text/plain": [
       "                                               premise  \\\n",
       "0    [[[nsubj, ['nation', '1'], ['A', '0']], [prep,...   \n",
       "1    [[[dobj, ['hate', '1'], ['B', '0']], [nsubj, [...   \n",
       "2    [[[dobj, ['call', '1'], ['B', '0']], [nsubj, [...   \n",
       "3    [[[dobj, ['displace', '1'], ['B', '0']], [nsub...   \n",
       "4    [[[nsubj, ['decide', '1'], ['A', '0']], [xcomp...   \n",
       "..                                                 ...   \n",
       "991  [[[pobj, ['by', '1'], ['B', '0']], [prep, ['in...   \n",
       "992  [[[nsubj, ['commit', '1'], ['A', '0']], [prep,...   \n",
       "993  [[[pobj, ['in', '1'], ['B', '0']], [prep, ['co...   \n",
       "994  [[[dobj, ['stop', '1'], ['B', '0']], [nsubj, [...   \n",
       "995  [[[pobj, ['with', '1'], ['B', '0']], [prep, ['...   \n",
       "\n",
       "                                            hypothesis score  \n",
       "0    [[[nsubj, ['country', '1'], ['A', '0']], [prep...     1  \n",
       "1    [[[pobj, ['with', '1'], ['B', '0']], [prep, ['...     0  \n",
       "2    [[[dobj, ['urge', '1'], ['B', '0']], [nsubj, [...     0  \n",
       "3    [[[nsubj, ['compete', '1'], ['A', '0']], [prep...     0  \n",
       "4    [[[nsubj, ['bomb', '1'], ['A', '0']], [dobj, [...     0  \n",
       "..                                                 ...   ...  \n",
       "991  [[[nsubj, ['conquer', '1'], ['A', '0']], [dobj...     1  \n",
       "992  [[[nsubj, ['use', '1'], ['A', '0']], [prep, ['...     0  \n",
       "993  [[[rcmod, ['B', '0'], ['have', '1']], [nsubj, ...     0  \n",
       "994  [[[dobj, ['force', '1'], ['B', '0']], [nsubj, ...     1  \n",
       "995  [[[nsubj, ['fight', '1'], ['A', '0']], [dobj, ...     0  \n",
       "\n",
       "[996 rows x 3 columns]"
      ]
     },
     "execution_count": 4,
     "metadata": {},
     "output_type": "execute_result"
    }
   ],
   "source": [
    "data_frame"
   ]
  },
  {
   "cell_type": "code",
   "execution_count": 108,
   "metadata": {},
   "outputs": [
    {
     "data": {
      "image/svg+xml": [
       "<?xml version=\"1.0\" encoding=\"UTF-8\" standalone=\"no\"?>\n",
       "<!DOCTYPE svg PUBLIC \"-//W3C//DTD SVG 1.1//EN\"\n",
       " \"http://www.w3.org/Graphics/SVG/1.1/DTD/svg11.dtd\">\n",
       "<!-- Generated by graphviz version 2.38.0 (20140413.2041)\n",
       " -->\n",
       "<!-- Title: finite_state_machine Pages: 1 -->\n",
       "<svg width=\"89pt\" height=\"89pt\"\n",
       " viewBox=\"0.00 0.00 91.19 91.19\" xmlns=\"http://www.w3.org/2000/svg\" xmlns:xlink=\"http://www.w3.org/1999/xlink\">\n",
       "<g id=\"graph0\" class=\"graph\" transform=\"scale(0.972222 0.972222) rotate(0) translate(4 87.1926)\">\n",
       "<title>finite_state_machine</title>\n",
       "<polygon fill=\"white\" stroke=\"none\" points=\"-4,4 -4,-87.1926 87.1926,-87.1926 87.1926,4 -4,4\"/>\n",
       "<!-- establish_139757543365208 -->\n",
       "<g id=\"node1\" class=\"node\"><title>establish_139757543365208</title>\n",
       "<ellipse fill=\"none\" stroke=\"black\" cx=\"41.5963\" cy=\"-41.5963\" rx=\"41.6928\" ry=\"41.6928\"/>\n",
       "<text text-anchor=\"middle\" x=\"41.5963\" y=\"-37.8963\" font-family=\"Times,serif\" font-size=\"14.00\">establish</text>\n",
       "</g>\n",
       "</g>\n",
       "</svg>\n"
      ],
      "text/plain": [
       "<graphviz.files.Source at 0x7f1bd6bd0278>"
      ]
     },
     "execution_count": 108,
     "metadata": {},
     "output_type": "execute_result"
    }
   ],
   "source": [
    "premise = text_to_4lang.process_text(\"To establish or apply by authority\", method=\"expand\", depth=0)\n",
    "dot_graph_premise = premise.to_dot()\n",
    "Source(dot_graph_premise)"
   ]
  },
  {
   "cell_type": "code",
   "execution_count": 6,
   "metadata": {},
   "outputs": [
    {
     "data": {
      "image/svg+xml": [
       "<?xml version=\"1.0\" encoding=\"UTF-8\" standalone=\"no\"?>\n",
       "<!DOCTYPE svg PUBLIC \"-//W3C//DTD SVG 1.1//EN\"\n",
       " \"http://www.w3.org/Graphics/SVG/1.1/DTD/svg11.dtd\">\n",
       "<!-- Generated by graphviz version 2.38.0 (20140413.2041)\n",
       " -->\n",
       "<!-- Title: finite_state_machine Pages: 1 -->\n",
       "<svg width=\"123pt\" height=\"367pt\"\n",
       " viewBox=\"0.00 0.00 126.50 377.68\" xmlns=\"http://www.w3.org/2000/svg\" xmlns:xlink=\"http://www.w3.org/1999/xlink\">\n",
       "<g id=\"graph0\" class=\"graph\" transform=\"scale(0.972222 0.972222) rotate(0) translate(4 373.684)\">\n",
       "<title>finite_state_machine</title>\n",
       "<polygon fill=\"white\" stroke=\"none\" points=\"-4,4 -4,-373.684 122.497,-373.684 122.497,4 -4,4\"/>\n",
       "<!-- A_139974461150376 -->\n",
       "<g id=\"node1\" class=\"node\"><title>A_139974461150376</title>\n",
       "<ellipse fill=\"none\" stroke=\"black\" cx=\"33\" cy=\"-351.684\" rx=\"18\" ry=\"18\"/>\n",
       "<text text-anchor=\"middle\" x=\"33\" y=\"-347.984\" font-family=\"Times,serif\" font-size=\"14.00\">A</text>\n",
       "</g>\n",
       "<!-- hate_139974461701928 -->\n",
       "<g id=\"node3\" class=\"node\"><title>hate_139974461701928</title>\n",
       "<ellipse fill=\"lightgrey\" stroke=\"black\" cx=\"33\" cy=\"-257.336\" rx=\"25.1964\" ry=\"25.1964\"/>\n",
       "<text text-anchor=\"middle\" x=\"33\" y=\"-253.636\" font-family=\"Times,serif\" font-size=\"14.00\">hate</text>\n",
       "</g>\n",
       "<!-- A_139974461150376&#45;&gt;hate_139974461701928 -->\n",
       "<g id=\"edge1\" class=\"edge\"><title>A_139974461150376&#45;&gt;hate_139974461701928</title>\n",
       "<path fill=\"none\" stroke=\"black\" d=\"M26.3664,-334.942C24.201,-329.016 22.0772,-322.147 21,-315.684 19.6596,-307.642 20.335,-299.013 21.8954,-290.954\"/>\n",
       "<polygon fill=\"black\" stroke=\"black\" points=\"25.3207,-291.679 24.2599,-281.138 18.5154,-290.04 25.3207,-291.679\"/>\n",
       "<text text-anchor=\"middle\" x=\"24.5\" y=\"-304.484\" font-family=\"Times,serif\" font-size=\"14.00\">0</text>\n",
       "</g>\n",
       "<!-- B_139974461700192 -->\n",
       "<g id=\"node2\" class=\"node\"><title>B_139974461700192</title>\n",
       "<ellipse fill=\"none\" stroke=\"black\" cx=\"18\" cy=\"-148.491\" rx=\"18\" ry=\"18\"/>\n",
       "<text text-anchor=\"middle\" x=\"18\" y=\"-144.791\" font-family=\"Times,serif\" font-size=\"14.00\">B</text>\n",
       "</g>\n",
       "<!-- hate_139974461701928&#45;&gt;A_139974461150376 -->\n",
       "<g id=\"edge2\" class=\"edge\"><title>hate_139974461701928&#45;&gt;A_139974461150376</title>\n",
       "<path fill=\"none\" stroke=\"black\" d=\"M33,-282.947C33,-295.356 33,-310.443 33,-323.227\"/>\n",
       "<polygon fill=\"black\" stroke=\"black\" points=\"29.5001,-323.314 33,-333.314 36.5001,-323.314 29.5001,-323.314\"/>\n",
       "<text text-anchor=\"middle\" x=\"36.5\" y=\"-304.484\" font-family=\"Times,serif\" font-size=\"14.00\">1</text>\n",
       "</g>\n",
       "<!-- hate_139974461701928&#45;&gt;B_139974461700192 -->\n",
       "<g id=\"edge3\" class=\"edge\"><title>hate_139974461701928&#45;&gt;B_139974461700192</title>\n",
       "<path fill=\"none\" stroke=\"black\" d=\"M29.5963,-232.091C27.277,-215.572 24.2039,-193.682 21.804,-176.587\"/>\n",
       "<polygon fill=\"black\" stroke=\"black\" points=\"25.2659,-176.07 20.4095,-166.654 18.3338,-177.044 25.2659,-176.07\"/>\n",
       "<text text-anchor=\"middle\" x=\"30.5\" y=\"-202.788\" font-family=\"Times,serif\" font-size=\"14.00\">2</text>\n",
       "</g>\n",
       "<!-- object_139974461150656 -->\n",
       "<g id=\"node5\" class=\"node\"><title>object_139974461150656</title>\n",
       "<ellipse fill=\"none\" stroke=\"black\" cx=\"86\" cy=\"-148.491\" rx=\"32.4942\" ry=\"32.4942\"/>\n",
       "<text text-anchor=\"middle\" x=\"86\" y=\"-144.791\" font-family=\"Times,serif\" font-size=\"14.00\">object</text>\n",
       "</g>\n",
       "<!-- hate_139974461701928&#45;&gt;object_139974461150656 -->\n",
       "<g id=\"edge4\" class=\"edge\"><title>hate_139974461701928&#45;&gt;object_139974461150656</title>\n",
       "<path fill=\"none\" stroke=\"black\" d=\"M43.9816,-234.198C50.7237,-220.606 59.5348,-202.844 67.3462,-187.096\"/>\n",
       "<polygon fill=\"black\" stroke=\"black\" points=\"70.4984,-188.618 71.8068,-178.104 64.2275,-185.507 70.4984,-188.618\"/>\n",
       "<text text-anchor=\"middle\" x=\"65.5\" y=\"-202.788\" font-family=\"Times,serif\" font-size=\"14.00\">0</text>\n",
       "</g>\n",
       "<!-- hatred_139974461152560 -->\n",
       "<g id=\"node4\" class=\"node\"><title>hatred_139974461152560</title>\n",
       "<ellipse fill=\"none\" stroke=\"black\" cx=\"86\" cy=\"-32.4971\" rx=\"32.4942\" ry=\"32.4942\"/>\n",
       "<text text-anchor=\"middle\" x=\"86\" y=\"-28.7971\" font-family=\"Times,serif\" font-size=\"14.00\">hatred</text>\n",
       "</g>\n",
       "<!-- object_139974461150656&#45;&gt;hatred_139974461152560 -->\n",
       "<g id=\"edge5\" class=\"edge\"><title>object_139974461150656&#45;&gt;hatred_139974461152560</title>\n",
       "<path fill=\"none\" stroke=\"black\" d=\"M86,-115.738C86,-103.262 86,-88.7639 86,-75.4466\"/>\n",
       "<polygon fill=\"black\" stroke=\"black\" points=\"89.5001,-75.0805 86,-65.0806 82.5001,-75.0806 89.5001,-75.0805\"/>\n",
       "<text text-anchor=\"middle\" x=\"89.5\" y=\"-86.7942\" font-family=\"Times,serif\" font-size=\"14.00\">0</text>\n",
       "</g>\n",
       "</g>\n",
       "</svg>\n"
      ],
      "text/plain": [
       "<graphviz.files.Source at 0x7f4e59f4a7b8>"
      ]
     },
     "execution_count": 6,
     "metadata": {},
     "output_type": "execute_result"
    }
   ],
   "source": [
    "premise = text_to_4lang.process_deps(data_frame.iloc[1][\"premise\"], method=\"expand\", depth=1)\n",
    "dot_graph_premise = premise.to_dot()\n",
    "Source(dot_graph_premise)"
   ]
  },
  {
   "cell_type": "code",
   "execution_count": 28,
   "metadata": {},
   "outputs": [
    {
     "name": "stderr",
     "output_type": "stream",
     "text": [
      "100%|██████████| 996/996 [04:48<00:00,  3.13it/s]\n"
     ]
    }
   ],
   "source": [
    "preds = []\n",
    "for i in tqdm(range(len(data))):\n",
    "    index = i\n",
    "    premise = data[\"premise_text\"][index]\n",
    "    hypothesis = data[\"hyp_text\"][index]\n",
    "    score = data.score[index]\n",
    "    graph_premise = text_to_4lang.process_text(premise, method=\"expand\", depth=2, blacklist=[\"in\", \"on\", \"of\", ])\n",
    "    graph_hypothesis = text_to_4lang.process_text(hypothesis, method=\"expand\", depth=1)\n",
    "    pred = similarity.asim_jac_nodes(graph_premise, graph_hypothesis)\n",
    "    if pred > 0.5:\n",
    "        preds.append(1)\n",
    "    else:\n",
    "        preds.append(0)"
   ]
  },
  {
   "cell_type": "code",
   "execution_count": 8,
   "metadata": {},
   "outputs": [],
   "source": [
    "def asim_jac_edges(graph_premise, graph_hypothesis):\n",
    "    \"\"\"\n",
    "    Asymmetric Jaccard similarity between the edges of the definition graphs\n",
    "    :param graph_premise: the definition graph of the premise\n",
    "    :param graph_hypothesis: the definition graph of the hypothesis\n",
    "    :return: the ratio of overlapping edges per the length of the hypothesis definition\n",
    "    \"\"\"\n",
    "    prem = set([(clear_node(s), clear_node(r), e['color'])\n",
    "                for (s, r, e) in graph_premise.G.edges(data=True)])\n",
    "    hyp = set([(clear_node(s), clear_node(r), e['color'])\n",
    "               for (s, r, e) in graph_hypothesis.G.edges(data=True)])\n",
    "    sim = hyp & prem\n",
    "    if not sim or len(hyp) == 0:\n",
    "        return 0\n",
    "    else:\n",
    "        return float(len(sim)) / len(hyp)"
   ]
  },
  {
   "cell_type": "code",
   "execution_count": 9,
   "metadata": {},
   "outputs": [],
   "source": [
    "import re\n",
    "def clear_node(node):\n",
    "    \"\"\"\n",
    "    Clears the node from the 4lang id parts\n",
    "    :param node: the text to clear\n",
    "    :return: the cleared text\n",
    "    \"\"\"\n",
    "    return re.sub(r'_[0-9][0-9]*', '', node.lower())"
   ]
  },
  {
   "cell_type": "code",
   "execution_count": 57,
   "metadata": {},
   "outputs": [
    {
     "name": "stderr",
     "output_type": "stream",
     "text": [
      "100%|██████████| 996/996 [00:14<00:00, 74.44it/s]\n"
     ]
    }
   ],
   "source": [
    "preds = []\n",
    "for i in tqdm(range(len(data_frame))):\n",
    "    index = i\n",
    "    premise = data_frame[\"premise\"][index]\n",
    "    hypothesis = data_frame[\"hypothesis\"][index]\n",
    "    score = data.score[index]\n",
    "    graph_premise = text_to_4lang.process_deps(premise, method=\"substitute\", depth=4, blacklist=[\"in\", \"on\", \"of\"])\n",
    "    graph_hypothesis = text_to_4lang.process_deps(hypothesis, method=\"substitute\", depth=2)\n",
    "    pred = asim_jac_edges(graph_premise, graph_hypothesis)\n",
    "    if pred > 0.2:\n",
    "        preds.append(1)\n",
    "    else:\n",
    "        preds.append(0)"
   ]
  },
  {
   "cell_type": "code",
   "execution_count": 58,
   "metadata": {},
   "outputs": [
    {
     "name": "stdout",
     "output_type": "stream",
     "text": [
      "Precision: 0.6347826086956522\n",
      "Recall: 0.22054380664652568\n",
      "Fscore: 0.32735426008968616\n"
     ]
    }
   ],
   "source": [
    "from sklearn.metrics import precision_recall_fscore_support as pr\n",
    "bPrecis, bRecall, bFscore, bSupport = pr(data_frame.score.tolist(), preds)\n",
    "\n",
    "print(\"Precision: \" +  str(bPrecis[1]))\n",
    "print(\"Recall: \" +  str(bRecall[1]))\n",
    "print(\"Fscore: \" +  str(bFscore[1]))"
   ]
  },
  {
   "cell_type": "code",
   "execution_count": 12,
   "metadata": {},
   "outputs": [
    {
     "data": {
      "text/plain": [
       "'To establish or apply by authority.'"
      ]
     },
     "execution_count": 12,
     "metadata": {},
     "output_type": "execute_result"
    }
   ],
   "source": [
    "text_to_4lang.get_definition(\"impose\")"
   ]
  },
  {
   "cell_type": "code",
   "execution_count": null,
   "metadata": {},
   "outputs": [],
   "source": [
    "gold = data_frame.score.tolist()\n",
    "\n",
    "for i, score in enumerate(gold):\n",
    "    if preds[i] == 0 and score == 1:\n",
    "        print(i)"
   ]
  },
  {
   "cell_type": "code",
   "execution_count": 123,
   "metadata": {},
   "outputs": [
    {
     "data": {
      "text/plain": [
       "prem_argleft                                            A\n",
       "premise                                    is overtaking \n",
       "prem_argright                                           B\n",
       "hypo_argleft                                            B\n",
       "hypothesis                              is competing with\n",
       "hypo_argright                                           A\n",
       "score                                                   1\n",
       "premise_ud                      nsubj^-___overtake___dobj\n",
       "hypothesis_ud    pobj^-___with___prep^-___compete___nsubj\n",
       "premise_text                           A is overtaking  B\n",
       "hyp_text                            B is competing with A\n",
       "Name: 72, dtype: object"
      ]
     },
     "execution_count": 123,
     "metadata": {},
     "output_type": "execute_result"
    }
   ],
   "source": [
    "data.iloc[72]"
   ]
  },
  {
   "cell_type": "code",
   "execution_count": 25,
   "metadata": {},
   "outputs": [],
   "source": [
    "graph_premise = text_to_4lang.process_deps(data_frame.iloc[72].premise, method=\"substitute\", depth=1, blacklist=[\"in\", \"on\", \"of\"])\n",
    "graph_hypothesis = text_to_4lang.process_deps(data_frame.iloc[72].hypothesis, method=\"substitute\", depth=1)"
   ]
  },
  {
   "cell_type": "code",
   "execution_count": 26,
   "metadata": {},
   "outputs": [
    {
     "data": {
      "image/svg+xml": [
       "<?xml version=\"1.0\" encoding=\"UTF-8\" standalone=\"no\"?>\n",
       "<!DOCTYPE svg PUBLIC \"-//W3C//DTD SVG 1.1//EN\"\n",
       " \"http://www.w3.org/Graphics/SVG/1.1/DTD/svg11.dtd\">\n",
       "<!-- Generated by graphviz version 2.38.0 (20140413.2041)\n",
       " -->\n",
       "<!-- Title: finite_state_machine Pages: 1 -->\n",
       "<svg width=\"125pt\" height=\"588pt\"\n",
       " viewBox=\"0.00 0.00 128.45 604.47\" xmlns=\"http://www.w3.org/2000/svg\" xmlns:xlink=\"http://www.w3.org/1999/xlink\">\n",
       "<g id=\"graph0\" class=\"graph\" transform=\"scale(0.972222 0.972222) rotate(0) translate(4 600.473)\">\n",
       "<title>finite_state_machine</title>\n",
       "<polygon fill=\"white\" stroke=\"none\" points=\"-4,4 -4,-600.473 124.447,-600.473 124.447,4 -4,4\"/>\n",
       "<!-- A_139974461184320 -->\n",
       "<g id=\"node1\" class=\"node\"><title>A_139974461184320</title>\n",
       "<ellipse fill=\"none\" stroke=\"black\" cx=\"33\" cy=\"-578.473\" rx=\"18\" ry=\"18\"/>\n",
       "<text text-anchor=\"middle\" x=\"33\" y=\"-574.773\" font-family=\"Times,serif\" font-size=\"14.00\">A</text>\n",
       "</g>\n",
       "<!-- pass_139974381636800 -->\n",
       "<g id=\"node6\" class=\"node\"><title>pass_139974381636800</title>\n",
       "<ellipse fill=\"lightgrey\" stroke=\"black\" cx=\"33\" cy=\"-483.475\" rx=\"25.9954\" ry=\"25.9954\"/>\n",
       "<text text-anchor=\"middle\" x=\"33\" y=\"-479.775\" font-family=\"Times,serif\" font-size=\"14.00\">pass</text>\n",
       "</g>\n",
       "<!-- A_139974461184320&#45;&gt;pass_139974381636800 -->\n",
       "<g id=\"edge1\" class=\"edge\"><title>A_139974461184320&#45;&gt;pass_139974381636800</title>\n",
       "<path fill=\"none\" stroke=\"black\" d=\"M26.3664,-561.731C24.201,-555.805 22.0772,-548.936 21,-542.473 19.6688,-534.486 20.2922,-525.924 21.7935,-517.898\"/>\n",
       "<polygon fill=\"black\" stroke=\"black\" points=\"25.2156,-518.635 24.0838,-508.1 18.3993,-517.041 25.2156,-518.635\"/>\n",
       "<text text-anchor=\"middle\" x=\"24.5\" y=\"-531.273\" font-family=\"Times,serif\" font-size=\"14.00\">0</text>\n",
       "</g>\n",
       "<!-- B_139974374483448 -->\n",
       "<g id=\"node2\" class=\"node\"><title>B_139974374483448</title>\n",
       "<ellipse fill=\"none\" stroke=\"black\" cx=\"18\" cy=\"-373.98\" rx=\"18\" ry=\"18\"/>\n",
       "<text text-anchor=\"middle\" x=\"18\" y=\"-370.28\" font-family=\"Times,serif\" font-size=\"14.00\">B</text>\n",
       "</g>\n",
       "<!-- more_139974381028408 -->\n",
       "<g id=\"node3\" class=\"node\"><title>more_139974381028408</title>\n",
       "<ellipse fill=\"none\" stroke=\"black\" cx=\"86\" cy=\"-29.2474\" rx=\"29.4969\" ry=\"29.4969\"/>\n",
       "<text text-anchor=\"middle\" x=\"86\" y=\"-25.5474\" font-family=\"Times,serif\" font-size=\"14.00\">more</text>\n",
       "</g>\n",
       "<!-- move_139974381029248 -->\n",
       "<g id=\"node4\" class=\"node\"><title>move_139974381029248</title>\n",
       "<ellipse fill=\"none\" stroke=\"black\" cx=\"86\" cy=\"-259.936\" rx=\"30.5947\" ry=\"30.5947\"/>\n",
       "<text text-anchor=\"middle\" x=\"86\" y=\"-256.236\" font-family=\"Times,serif\" font-size=\"14.00\">move</text>\n",
       "</g>\n",
       "<!-- slowly_139974381030928 -->\n",
       "<g id=\"node7\" class=\"node\"><title>slowly_139974381030928</title>\n",
       "<ellipse fill=\"none\" stroke=\"black\" cx=\"86\" cy=\"-143.942\" rx=\"34.394\" ry=\"34.394\"/>\n",
       "<text text-anchor=\"middle\" x=\"86\" y=\"-140.242\" font-family=\"Times,serif\" font-size=\"14.00\">slowly</text>\n",
       "</g>\n",
       "<!-- move_139974381029248&#45;&gt;slowly_139974381030928 -->\n",
       "<g id=\"edge2\" class=\"edge\"><title>move_139974381029248&#45;&gt;slowly_139974381030928</title>\n",
       "<path fill=\"none\" stroke=\"black\" d=\"M86,-229.283C86,-216.877 86,-202.205 86,-188.607\"/>\n",
       "<polygon fill=\"black\" stroke=\"black\" points=\"89.5001,-188.472 86,-178.472 82.5001,-188.472 89.5001,-188.472\"/>\n",
       "<text text-anchor=\"middle\" x=\"89.5\" y=\"-200.189\" font-family=\"Times,serif\" font-size=\"14.00\">0</text>\n",
       "</g>\n",
       "<!-- object_139974381635176 -->\n",
       "<g id=\"node5\" class=\"node\"><title>object_139974381635176</title>\n",
       "<ellipse fill=\"none\" stroke=\"black\" cx=\"86\" cy=\"-373.98\" rx=\"32.4942\" ry=\"32.4942\"/>\n",
       "<text text-anchor=\"middle\" x=\"86\" y=\"-370.28\" font-family=\"Times,serif\" font-size=\"14.00\">object</text>\n",
       "</g>\n",
       "<!-- object_139974381635176&#45;&gt;move_139974381029248 -->\n",
       "<g id=\"edge3\" class=\"edge\"><title>object_139974381635176&#45;&gt;move_139974381029248</title>\n",
       "<path fill=\"none\" stroke=\"black\" d=\"M86,-341.472C86,-328.908 86,-314.295 86,-300.992\"/>\n",
       "<polygon fill=\"black\" stroke=\"black\" points=\"89.5001,-300.669 86,-290.669 82.5001,-300.669 89.5001,-300.669\"/>\n",
       "<text text-anchor=\"middle\" x=\"89.5\" y=\"-312.283\" font-family=\"Times,serif\" font-size=\"14.00\">0</text>\n",
       "</g>\n",
       "<!-- pass_139974381636800&#45;&gt;A_139974461184320 -->\n",
       "<g id=\"edge4\" class=\"edge\"><title>pass_139974381636800&#45;&gt;A_139974461184320</title>\n",
       "<path fill=\"none\" stroke=\"black\" d=\"M33,-509.489C33,-522.085 33,-537.378 33,-550.266\"/>\n",
       "<polygon fill=\"black\" stroke=\"black\" points=\"29.5001,-550.416 33,-560.416 36.5001,-550.416 29.5001,-550.416\"/>\n",
       "<text text-anchor=\"middle\" x=\"36.5\" y=\"-531.273\" font-family=\"Times,serif\" font-size=\"14.00\">1</text>\n",
       "</g>\n",
       "<!-- pass_139974381636800&#45;&gt;B_139974374483448 -->\n",
       "<g id=\"edge5\" class=\"edge\"><title>pass_139974381636800&#45;&gt;B_139974374483448</title>\n",
       "<path fill=\"none\" stroke=\"black\" d=\"M29.521,-457.544C27.1989,-440.902 24.1466,-419.029 21.7671,-401.977\"/>\n",
       "<polygon fill=\"black\" stroke=\"black\" points=\"25.2336,-401.493 20.3851,-392.073 18.3008,-402.46 25.2336,-401.493\"/>\n",
       "<text text-anchor=\"middle\" x=\"30.5\" y=\"-428.278\" font-family=\"Times,serif\" font-size=\"14.00\">2</text>\n",
       "</g>\n",
       "<!-- pass_139974381636800&#45;&gt;object_139974381635176 -->\n",
       "<g id=\"edge6\" class=\"edge\"><title>pass_139974381636800&#45;&gt;object_139974381635176</title>\n",
       "<path fill=\"none\" stroke=\"black\" d=\"M44.1105,-459.941C50.8601,-446.251 59.6479,-428.428 67.4305,-412.643\"/>\n",
       "<polygon fill=\"black\" stroke=\"black\" points=\"70.5906,-414.148 71.8737,-403.631 64.3122,-411.053 70.5906,-414.148\"/>\n",
       "<text text-anchor=\"middle\" x=\"65.5\" y=\"-428.278\" font-family=\"Times,serif\" font-size=\"14.00\">2</text>\n",
       "</g>\n",
       "<!-- slowly_139974381030928&#45;&gt;more_139974381028408 -->\n",
       "<g id=\"edge7\" class=\"edge\"><title>slowly_139974381030928&#45;&gt;more_139974381028408</title>\n",
       "<path fill=\"none\" stroke=\"black\" d=\"M86,-109.435C86,-96.7384 86,-82.1796 86,-69.0367\"/>\n",
       "<polygon fill=\"black\" stroke=\"black\" points=\"89.5001,-68.8625 86,-58.8625 82.5001,-68.8626 89.5001,-68.8625\"/>\n",
       "<text text-anchor=\"middle\" x=\"89.5\" y=\"-80.2948\" font-family=\"Times,serif\" font-size=\"14.00\">0</text>\n",
       "</g>\n",
       "</g>\n",
       "</svg>\n"
      ],
      "text/plain": [
       "<graphviz.files.Source at 0x7f4e5808d588>"
      ]
     },
     "execution_count": 26,
     "metadata": {},
     "output_type": "execute_result"
    }
   ],
   "source": [
    "dot_graph_premise = graph_premise.to_dot()\n",
    "Source(dot_graph_premise)"
   ]
  },
  {
   "cell_type": "code",
   "execution_count": 122,
   "metadata": {},
   "outputs": [
    {
     "data": {
      "image/svg+xml": [
       "<?xml version=\"1.0\" encoding=\"UTF-8\" standalone=\"no\"?>\n",
       "<!DOCTYPE svg PUBLIC \"-//W3C//DTD SVG 1.1//EN\"\n",
       " \"http://www.w3.org/Graphics/SVG/1.1/DTD/svg11.dtd\">\n",
       "<!-- Generated by graphviz version 2.38.0 (20140413.2041)\n",
       " -->\n",
       "<!-- Title: finite_state_machine Pages: 1 -->\n",
       "<svg width=\"314pt\" height=\"313pt\"\n",
       " viewBox=\"0.00 0.00 323.19 321.88\" xmlns=\"http://www.w3.org/2000/svg\" xmlns:xlink=\"http://www.w3.org/1999/xlink\">\n",
       "<g id=\"graph0\" class=\"graph\" transform=\"scale(0.972222 0.972222) rotate(0) translate(4 317.881)\">\n",
       "<title>finite_state_machine</title>\n",
       "<polygon fill=\"white\" stroke=\"none\" points=\"-4,4 -4,-317.881 319.194,-317.881 319.194,4 -4,4\"/>\n",
       "<!-- A_139757553838960 -->\n",
       "<g id=\"node1\" class=\"node\"><title>A_139757553838960</title>\n",
       "<ellipse fill=\"none\" stroke=\"black\" cx=\"49.9464\" cy=\"-279.434\" rx=\"18\" ry=\"18\"/>\n",
       "<text text-anchor=\"middle\" x=\"49.9464\" y=\"-275.734\" font-family=\"Times,serif\" font-size=\"14.00\">A</text>\n",
       "</g>\n",
       "<!-- compete_139757558455544 -->\n",
       "<g id=\"node5\" class=\"node\"><title>compete_139757558455544</title>\n",
       "<ellipse fill=\"lightgrey\" stroke=\"black\" cx=\"40.9464\" cy=\"-153.041\" rx=\"40.8928\" ry=\"40.8928\"/>\n",
       "<text text-anchor=\"middle\" x=\"40.9464\" y=\"-149.341\" font-family=\"Times,serif\" font-size=\"14.00\">compete</text>\n",
       "</g>\n",
       "<!-- A_139757553838960&#45;&gt;compete_139757558455544 -->\n",
       "<g id=\"edge1\" class=\"edge\"><title>A_139757553838960&#45;&gt;compete_139757558455544</title>\n",
       "<path fill=\"none\" stroke=\"black\" d=\"M45.8874,-261.87C43.6411,-251.844 41.0801,-238.761 39.9464,-226.987 39.2453,-219.707 38.9115,-211.999 38.8148,-204.427\"/>\n",
       "<polygon fill=\"black\" stroke=\"black\" points=\"42.3148,-204.239 38.8178,-194.238 35.3148,-204.237 42.3148,-204.239\"/>\n",
       "<text text-anchor=\"middle\" x=\"43.4464\" y=\"-215.787\" font-family=\"Times,serif\" font-size=\"14.00\">0</text>\n",
       "</g>\n",
       "<!-- B_139757558453528 -->\n",
       "<g id=\"node2\" class=\"node\"><title>B_139757558453528</title>\n",
       "<ellipse fill=\"none\" stroke=\"black\" cx=\"125.946\" cy=\"-153.041\" rx=\"18\" ry=\"18\"/>\n",
       "<text text-anchor=\"middle\" x=\"125.946\" y=\"-149.341\" font-family=\"Times,serif\" font-size=\"14.00\">B</text>\n",
       "</g>\n",
       "<!-- another_139757651396648 -->\n",
       "<g id=\"node3\" class=\"node\"><title>another_139757651396648</title>\n",
       "<ellipse fill=\"none\" stroke=\"black\" cx=\"201.946\" cy=\"-153.041\" rx=\"37.0935\" ry=\"37.0935\"/>\n",
       "<text text-anchor=\"middle\" x=\"201.946\" y=\"-149.341\" font-family=\"Times,serif\" font-size=\"14.00\">another</text>\n",
       "</g>\n",
       "<!-- battle_139757719533160 -->\n",
       "<g id=\"node4\" class=\"node\"><title>battle_139757719533160</title>\n",
       "<ellipse fill=\"none\" stroke=\"black\" cx=\"40.9464\" cy=\"-30.5473\" rx=\"30.5947\" ry=\"30.5947\"/>\n",
       "<text text-anchor=\"middle\" x=\"40.9464\" y=\"-26.8473\" font-family=\"Times,serif\" font-size=\"14.00\">battle</text>\n",
       "</g>\n",
       "<!-- compete_139757558455544&#45;&gt;A_139757553838960 -->\n",
       "<g id=\"edge2\" class=\"edge\"><title>compete_139757558455544&#45;&gt;A_139757553838960</title>\n",
       "<path fill=\"none\" stroke=\"black\" d=\"M43.8294,-193.889C45.1823,-212.588 46.7601,-234.396 47.9744,-251.179\"/>\n",
       "<polygon fill=\"black\" stroke=\"black\" points=\"44.5012,-251.677 48.7138,-261.399 51.483,-251.172 44.5012,-251.677\"/>\n",
       "<text text-anchor=\"middle\" x=\"50.4464\" y=\"-215.787\" font-family=\"Times,serif\" font-size=\"14.00\">1</text>\n",
       "</g>\n",
       "<!-- compete_139757558455544&#45;&gt;battle_139757719533160 -->\n",
       "<g id=\"edge3\" class=\"edge\"><title>compete_139757558455544&#45;&gt;battle_139757719533160</title>\n",
       "<path fill=\"none\" stroke=\"black\" d=\"M40.9464,-111.918C40.9464,-98.8456 40.9464,-84.3447 40.9464,-71.2993\"/>\n",
       "<polygon fill=\"black\" stroke=\"black\" points=\"44.4465,-71.2042 40.9464,-61.2042 37.4465,-71.2043 44.4465,-71.2042\"/>\n",
       "<text text-anchor=\"middle\" x=\"44.4464\" y=\"-82.8946\" font-family=\"Times,serif\" font-size=\"14.00\">0</text>\n",
       "</g>\n",
       "<!-- rivalry_139757651396424 -->\n",
       "<g id=\"node6\" class=\"node\"><title>rivalry_139757651396424</title>\n",
       "<ellipse fill=\"none\" stroke=\"black\" cx=\"231.946\" cy=\"-279.434\" rx=\"34.394\" ry=\"34.394\"/>\n",
       "<text text-anchor=\"middle\" x=\"231.946\" y=\"-275.734\" font-family=\"Times,serif\" font-size=\"14.00\">rivalry</text>\n",
       "</g>\n",
       "<!-- rivalry_139757651396424&#45;&gt;another_139757651396648 -->\n",
       "<g id=\"edge4\" class=\"edge\"><title>rivalry_139757651396424&#45;&gt;another_139757651396648</title>\n",
       "<path fill=\"none\" stroke=\"black\" d=\"M224.064,-245.751C220.618,-231.462 216.519,-214.466 212.792,-199.011\"/>\n",
       "<polygon fill=\"black\" stroke=\"black\" points=\"216.154,-198.022 210.407,-189.121 209.349,-199.663 216.154,-198.022\"/>\n",
       "<text text-anchor=\"middle\" x=\"222.446\" y=\"-215.787\" font-family=\"Times,serif\" font-size=\"14.00\">0</text>\n",
       "</g>\n",
       "<!-- thing_139757651396592 -->\n",
       "<g id=\"node8\" class=\"node\"><title>thing_139757651396592</title>\n",
       "<ellipse fill=\"none\" stroke=\"black\" cx=\"285.946\" cy=\"-153.041\" rx=\"28.6953\" ry=\"28.6953\"/>\n",
       "<text text-anchor=\"middle\" x=\"285.946\" y=\"-149.341\" font-family=\"Times,serif\" font-size=\"14.00\">thing</text>\n",
       "</g>\n",
       "<!-- rivalry_139757651396424&#45;&gt;thing_139757651396592 -->\n",
       "<g id=\"edge5\" class=\"edge\"><title>rivalry_139757651396424&#45;&gt;thing_139757651396592</title>\n",
       "<path fill=\"none\" stroke=\"black\" d=\"M245.434,-247.365C253.148,-229.594 262.846,-207.255 270.819,-188.889\"/>\n",
       "<polygon fill=\"black\" stroke=\"black\" points=\"274.04,-190.258 274.811,-179.692 267.619,-187.471 274.04,-190.258\"/>\n",
       "<text text-anchor=\"middle\" x=\"264.446\" y=\"-215.787\" font-family=\"Times,serif\" font-size=\"14.00\">0</text>\n",
       "</g>\n",
       "<!-- same_139757651396872 -->\n",
       "<g id=\"node7\" class=\"node\"><title>same_139757651396872</title>\n",
       "<ellipse fill=\"none\" stroke=\"black\" cx=\"285.946\" cy=\"-30.5473\" rx=\"29.4969\" ry=\"29.4969\"/>\n",
       "<text text-anchor=\"middle\" x=\"285.946\" y=\"-26.8473\" font-family=\"Times,serif\" font-size=\"14.00\">same</text>\n",
       "</g>\n",
       "<!-- thing_139757651396592&#45;&gt;same_139757651396872 -->\n",
       "<g id=\"edge6\" class=\"edge\"><title>thing_139757651396592&#45;&gt;same_139757651396872</title>\n",
       "<path fill=\"none\" stroke=\"black\" d=\"M285.946,-124.397C285.946,-108.251 285.946,-87.6332 285.946,-69.9298\"/>\n",
       "<polygon fill=\"black\" stroke=\"black\" points=\"289.446,-69.8988 285.946,-59.8988 282.446,-69.8989 289.446,-69.8988\"/>\n",
       "<text text-anchor=\"middle\" x=\"289.446\" y=\"-82.8946\" font-family=\"Times,serif\" font-size=\"14.00\">0</text>\n",
       "</g>\n",
       "<!-- with_139757558455376 -->\n",
       "<g id=\"node9\" class=\"node\"><title>with_139757558455376</title>\n",
       "<ellipse fill=\"none\" stroke=\"black\" cx=\"125.946\" cy=\"-279.434\" rx=\"26.7961\" ry=\"26.7961\"/>\n",
       "<text text-anchor=\"middle\" x=\"125.946\" y=\"-275.734\" font-family=\"Times,serif\" font-size=\"14.00\">with</text>\n",
       "</g>\n",
       "<!-- with_139757558455376&#45;&gt;B_139757558453528 -->\n",
       "<g id=\"edge7\" class=\"edge\"><title>with_139757558455376&#45;&gt;B_139757558453528</title>\n",
       "<path fill=\"none\" stroke=\"black\" d=\"M125.946,-252.66C125.946,-231.935 125.946,-202.879 125.946,-181.675\"/>\n",
       "<polygon fill=\"black\" stroke=\"black\" points=\"129.446,-181.388 125.946,-171.388 122.446,-181.388 129.446,-181.388\"/>\n",
       "<text text-anchor=\"middle\" x=\"129.446\" y=\"-215.787\" font-family=\"Times,serif\" font-size=\"14.00\">2</text>\n",
       "</g>\n",
       "</g>\n",
       "</svg>\n"
      ],
      "text/plain": [
       "<graphviz.files.Source at 0x7f1bd6ba1a90>"
      ]
     },
     "execution_count": 122,
     "metadata": {},
     "output_type": "execute_result"
    }
   ],
   "source": [
    "dot_graph_premise = graph_hypothesis.to_dot()\n",
    "Source(dot_graph_premise)"
   ]
  },
  {
   "cell_type": "code",
   "execution_count": 113,
   "metadata": {},
   "outputs": [
    {
     "data": {
      "text/plain": [
       "0.2"
      ]
     },
     "execution_count": 113,
     "metadata": {},
     "output_type": "execute_result"
    }
   ],
   "source": [
    "asim_jac_edges(graph_premise, graph_hypothesis)"
   ]
  },
  {
   "cell_type": "code",
   "execution_count": null,
   "metadata": {},
   "outputs": [],
   "source": []
  }
 ],
 "metadata": {
  "kernelspec": {
   "display_name": "Python 3.7.3 64-bit ('base': conda)",
   "language": "python",
   "name": "python37364bitbaseconda27c4385cd81d42338dc23456e05b5ed4"
  },
  "language_info": {
   "codemirror_mode": {
    "name": "ipython",
    "version": 3
   },
   "file_extension": ".py",
   "mimetype": "text/x-python",
   "name": "python",
   "nbconvert_exporter": "python",
   "pygments_lexer": "ipython3",
   "version": "3.7.3"
  }
 },
 "nbformat": 4,
 "nbformat_minor": 2
}
