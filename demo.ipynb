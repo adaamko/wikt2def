{
 "cells": [
  {
   "cell_type": "code",
   "execution_count": 1,
   "metadata": {},
   "outputs": [],
   "source": [
    "import re\n",
    "import networkx as nx\n",
    "from networkx.readwrite import json_graph\n",
    "from fourlang.text_to_4lang import TextTo4lang\n",
    "from fourlang.lexicon import Lexicon\n",
    "from graphviz import Source\n",
    "from scripts.parse_data import read"
   ]
  },
  {
   "cell_type": "code",
   "execution_count": 3,
   "metadata": {},
   "outputs": [],
   "source": [
    "data_frame = read(\"en\", graded=False)"
   ]
  },
  {
   "cell_type": "code",
   "execution_count": 4,
   "metadata": {},
   "outputs": [],
   "source": [
    "index = 2\n",
    "premise = data_frame.premise[index]\n",
    "hypothesis = data_frame.hypothesis[index]\n",
    "score = data_frame.score[index]"
   ]
  },
  {
   "cell_type": "code",
   "execution_count": 4,
   "metadata": {},
   "outputs": [],
   "source": [
    "text_to_4lang_en = TextTo4lang(lang=\"en\")"
   ]
  },
  {
   "cell_type": "code",
   "execution_count": 6,
   "metadata": {},
   "outputs": [],
   "source": [
    "def asim_jac_nodes(graph_premise, graph_hypothesis):\n",
    "    prem = set(graph_premise.get_nodes())\n",
    "    hyp = set(graph_hypothesis.get_nodes())\n",
    "    sim = hyp & prem\n",
    "    print(sim)\n",
    "    if not sim or len(hyp) == 0:\n",
    "        return 0\n",
    "    else:\n",
    "        return float(len(sim)) / len(hyp)"
   ]
  },
  {
   "cell_type": "code",
   "execution_count": 5,
   "metadata": {},
   "outputs": [],
   "source": [
    "text_to_4lang_en = TextTo4lang(lang=\"en\")\n",
    "premise = text_to_4lang_en.process_text(\"shelf\", True, 3)\n",
    "hyp = text_to_4lang_en.process_text(\"closet\",True, 1)"
   ]
  },
  {
   "cell_type": "code",
   "execution_count": null,
   "metadata": {},
   "outputs": [],
   "source": [
    "dot_graph_premise = premise.to_dot()\n",
    "Source(dot_graph_premise)"
   ]
  },
  {
   "cell_type": "code",
   "execution_count": null,
   "metadata": {},
   "outputs": [],
   "source": []
  }
 ],
 "metadata": {
  "kernelspec": {
   "display_name": "Python 3",
   "language": "python",
   "name": "python3"
  },
  "language_info": {
   "codemirror_mode": {
    "name": "ipython",
    "version": 3
   },
   "file_extension": ".py",
   "mimetype": "text/x-python",
   "name": "python",
   "nbconvert_exporter": "python",
   "pygments_lexer": "ipython3",
   "version": "3.5.2"
  }
 },
 "nbformat": 4,
 "nbformat_minor": 2
}
